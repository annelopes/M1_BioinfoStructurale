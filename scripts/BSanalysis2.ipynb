{
 "cells": [
  {
   "cell_type": "code",
   "execution_count": 3,
   "metadata": {
    "ExecuteTime": {
     "end_time": "2021-02-16T14:32:57.729152Z",
     "start_time": "2021-02-16T14:32:56.704242Z"
    }
   },
   "outputs": [],
   "source": [
    "import os, glob, sys, math, random\n",
    "import numpy as np\n",
    "import matplotlib.pyplot as plt\n",
    "from scipy.stats import kstest\n",
    "import StructureTools\n",
    "import CV\n",
    "import freesasa\n",
    "import joblib"
   ]
  },
  {
   "cell_type": "markdown",
   "metadata": {},
   "source": [
    "Ci-dessous l'analyse des complexes en termes de :\n",
    "\n",
    "1. Calculer SASA et rSASA pour identifier la surface (rSASA > .25) et l'interface (dSASA > 0)\n",
    "2. Calculer la CV des résidus à la surface et à l'interface\n",
    "3. Calculer la fréquence des 20 aa à la surface et à l'interface\n",
    "4. Calculer la taille de la surface et de l'interface par monomère (en termes de nombre de résidus et de SASA en $ Å^2$).\n",
    "\n",
    "Pour un aperçu des résultats, voir [Section 2](#Aperçu)."
   ]
  },
  {
   "cell_type": "markdown",
   "metadata": {
    "heading_collapsed": true
   },
   "source": [
    "# Analyse"
   ]
  },
  {
   "cell_type": "code",
   "execution_count": 4,
   "metadata": {
    "ExecuteTime": {
     "end_time": "2021-02-16T14:32:57.740526Z",
     "start_time": "2021-02-16T14:32:57.730840Z"
    },
    "hidden": true
   },
   "outputs": [
    {
     "name": "stdout",
     "output_type": "stream",
     "text": [
      "../structures/kihara/complexes/\n",
      "67 complexes to treat\n",
      "['t1F6M_AC_cplx.pdb', 't1GCQ_AC_cplx.pdb', 't1I4D_AD_cplx.pdb', 'p1AY7_AB_cplx.pdb', 'p1UUG_AB_cplx.pdb', 'p1EMV_AB_cplx.pdb', 'p2OUL_AB_cplx.pdb', 'p2OZA_AB_cplx.pdb', 't1LFD_AB_cplx.pdb', 'p2SNI_EI_cplx.pdb', 'p1EER_AB_cplx.pdb', 'p1BVN_PT_cplx.pdb', 'p1WDW_AB_cplx.pdb', 'p1GXD_AC_cplx.pdb', 'p2O3B_AB_cplx.pdb', 't1Z0K_AB_cplx.pdb', 't1A15_AB_cplx.pdb', 't1EWY_AC_cplx.pdb', 'p1OPH_AB_cplx.pdb', 'p1M10_AB_cplx.pdb', 'p1AVX_AB_cplx.pdb', 'p3SGB_EI_cplx.pdb', 't1FFW_AB_cplx.pdb', 'p1JTG_AB_cplx.pdb', 't1HE8_AB_cplx.pdb', 'p2BTF_AP_cplx.pdb', 'p1JIW_IP_cplx.pdb', 't2TGP_IZ_cplx.pdb', 'p1T6B_XY_cplx.pdb', 't1US7_BA_cplx.pdb', 't1S1Q_AB_cplx.pdb', 'p1DFJ_EI_cplx.pdb', 'p1BRS_AD_cplx.pdb', 'p1PXV_AC_cplx.pdb', 'p2J0T_AD_cplx.pdb', 'p1PPE_EI_cplx.pdb', 't1A78_AB_cplx.pdb', 't1QA9_AB_cplx.pdb', 't1J2J_AB_cplx.pdb', 't1WQ1_RG_cplx.pdb', 'p1ATN_DA_cplx.pdb', 'p1GPW_AB_cplx.pdb', 'p2GOX_AB_cplx.pdb', 't2FJU_AB_cplx.pdb', 'p1NB5_AI_cplx.pdb', 't2PCB_AB_cplx.pdb', 'p3BP8_AB_cplx.pdb', 'p1XU1_AB_cplx.pdb', 'p1CDT_AB_cplx.pdb', 't1AKJ_AD_cplx.pdb', 'p1HCF_AB_cplx.pdb', 'p1FLE_IE_cplx.pdb', 'p1IBR_AB_cplx.pdb', 'p2NYZ_AB_cplx.pdb', 'p2B42_BA_cplx.pdb', 'p1I2M_AB_cplx.pdb', 'p1F34_AB_cplx.pdb', 't2AQ3_AB_cplx.pdb', 't1ZM4_AB_cplx.pdb', 't2BTF_AP_cplx.pdb', 't1XQS_AC_cplx.pdb', 't1E96_AB_cplx.pdb', 'p1EAW_AB_cplx.pdb', 't1AK4_AD_cplx.pdb', 't2OOB_BA_cplx.pdb', 't1MQ8_AB_cplx.pdb', 'p1EZU_AB_cplx.pdb']\n",
      "../structures/kihara/monomers/\n",
      "134 monomers to treat\n",
      "['p2SNI_EI_r_inter.pdb', 'p1PXV_AC_r_inter.pdb', 'p1OPH_AB_r_inter.pdb', 't1ZM4_AB_l_inter.pdb', 't1E96_AB_r_inter.pdb', 't1FFW_AB_l_inter.pdb', 'p1GXD_AC_r_inter.pdb', 't1AK4_AD_r_inter.pdb', 'p1I2M_AB_l_inter.pdb', 't2AQ3_AB_l_inter.pdb', 't1GCQ_AC_r_inter.pdb', 'p3SGB_EI_l_inter.pdb', 'p1WDW_AB_l_inter.pdb', 'p2B42_BA_r_inter.pdb', 't1GCQ_AC_l_inter.pdb', 't2AQ3_AB_r_inter.pdb', 'p3SGB_EI_r_inter.pdb', 'p1WDW_AB_r_inter.pdb', 'p2B42_BA_l_inter.pdb', 'p2SNI_EI_l_inter.pdb', 'p1PXV_AC_l_inter.pdb', 'p1OPH_AB_l_inter.pdb', 't1ZM4_AB_r_inter.pdb', 't1FFW_AB_r_inter.pdb', 't1E96_AB_l_inter.pdb', 'p1GXD_AC_l_inter.pdb', 't1AK4_AD_l_inter.pdb', 'p1I2M_AB_r_inter.pdb', 'p1JIW_IP_l_inter.pdb', 'p1GPW_AB_l_inter.pdb', 'p1EAW_AB_l_inter.pdb', 'p1IBR_AB_r_inter.pdb', 't1XQS_AC_r_inter.pdb', 'p1EZU_AB_l_inter.pdb', 'p1ATN_DA_r_inter.pdb', 'p1BVN_PT_l_inter.pdb', 'p1NB5_AI_l_inter.pdb', 't2BTF_AP_r_inter.pdb', 'p3BP8_AB_r_inter.pdb', 't1US7_BA_l_inter.pdb', 'p1PPE_EI_l_inter.pdb', 'p1M10_AB_l_inter.pdb', 't1J2J_AB_r_inter.pdb', 't1A78_AB_l_inter.pdb', 't1A15_AB_r_inter.pdb', 'p1CDT_AB_l_inter.pdb', 'p1NB5_AI_r_inter.pdb', 'p3BP8_AB_l_inter.pdb', 't1US7_BA_r_inter.pdb', 't2BTF_AP_l_inter.pdb', 'p1PPE_EI_r_inter.pdb', 'p1M10_AB_r_inter.pdb', 't1A15_AB_l_inter.pdb', 't1A78_AB_r_inter.pdb', 't1J2J_AB_l_inter.pdb', 'p1CDT_AB_r_inter.pdb', 'p1EAW_AB_r_inter.pdb', 'p1JIW_IP_r_inter.pdb', 'p1GPW_AB_r_inter.pdb', 'p1IBR_AB_l_inter.pdb', 'p1EZU_AB_r_inter.pdb', 'p1ATN_DA_l_inter.pdb', 't1XQS_AC_l_inter.pdb', 'p1BVN_PT_r_inter.pdb', 'p2O3B_AB_r_inter.pdb', 't1LFD_AB_r_inter.pdb', 'p2NYZ_AB_l_inter.pdb', 'p1XU1_AB_l_inter.pdb', 'p1EER_AB_r_inter.pdb', 'p1T6B_XY_r_inter.pdb', 'p1UUG_AB_r_inter.pdb', 't1I4D_AD_l_inter.pdb', 'p2OZA_AB_l_inter.pdb', 't1AKJ_AD_r_inter.pdb', 'p1AVX_AB_r_inter.pdb', 't1Z0K_AB_r_inter.pdb', 'p2J0T_AD_r_inter.pdb', 't2FJU_AB_r_inter.pdb', 'p1AY7_AB_r_inter.pdb', 't1S1Q_AB_l_inter.pdb', 'p1HCF_AB_r_inter.pdb', 't1F6M_AC_r_inter.pdb', 'p1AVX_AB_l_inter.pdb', 'p2J0T_AD_l_inter.pdb', 't1Z0K_AB_l_inter.pdb', 't2FJU_AB_l_inter.pdb', 'p1AY7_AB_l_inter.pdb', 'p1HCF_AB_l_inter.pdb', 't1F6M_AC_l_inter.pdb', 't1S1Q_AB_r_inter.pdb', 'p2O3B_AB_l_inter.pdb', 'p2NYZ_AB_r_inter.pdb', 't1LFD_AB_l_inter.pdb', 'p1XU1_AB_r_inter.pdb', 'p1T6B_XY_l_inter.pdb', 'p1EER_AB_l_inter.pdb', 'p1UUG_AB_l_inter.pdb', 'p2OZA_AB_r_inter.pdb', 't1I4D_AD_r_inter.pdb', 't1AKJ_AD_l_inter.pdb', 'p2BTF_AP_l_inter.pdb', 'p1FLE_IE_r_inter.pdb', 'p1EMV_AB_l_inter.pdb', 'p2OUL_AB_r_inter.pdb', 'p1JTG_AB_l_inter.pdb', 't1MQ8_AB_l_inter.pdb', 't2PCB_AB_l_inter.pdb', 't1QA9_AB_l_inter.pdb', 't1HE8_AB_l_inter.pdb', 'p1F34_AB_l_inter.pdb', 'p1BRS_AD_r_inter.pdb', 't1EWY_AC_l_inter.pdb', 't2OOB_BA_l_inter.pdb', 't2TGP_IZ_l_inter.pdb', 't1WQ1_RG_r_inter.pdb', 'p2GOX_AB_l_inter.pdb', 'p1DFJ_EI_r_inter.pdb', 't1HE8_AB_r_inter.pdb', 'p1F34_AB_r_inter.pdb', 't2OOB_BA_r_inter.pdb', 'p1BRS_AD_l_inter.pdb', 't1EWY_AC_r_inter.pdb', 't2TGP_IZ_r_inter.pdb', 't1WQ1_RG_l_inter.pdb', 'p1DFJ_EI_l_inter.pdb', 'p2GOX_AB_r_inter.pdb', 'p1FLE_IE_l_inter.pdb', 'p2BTF_AP_r_inter.pdb', 'p2OUL_AB_l_inter.pdb', 'p1EMV_AB_r_inter.pdb', 't1QA9_AB_r_inter.pdb', 't2PCB_AB_r_inter.pdb', 'p1JTG_AB_r_inter.pdb', 't1MQ8_AB_r_inter.pdb']\n"
     ]
    }
   ],
   "source": [
    "####################\n",
    "# deal paths\n",
    "#-------------------\n",
    "treated_family = \"kihara\"\n",
    "\n",
    "cplxpath = \"../structures/%s/complexes/\"%(treated_family)\n",
    "monopath = \"../structures/%s/monomers/\"%(treated_family)\n",
    "print(cplxpath)\n",
    "print(\"%s complexes to treat\"%(len(os.listdir(cplxpath))))\n",
    "print(os.listdir(cplxpath))\n",
    "print(monopath)\n",
    "print(\"%s monomers to treat\"%(len(os.listdir(monopath))))\n",
    "print(os.listdir(monopath))"
   ]
  },
  {
   "cell_type": "code",
   "execution_count": 11,
   "metadata": {
    "ExecuteTime": {
     "end_time": "2021-02-01T22:35:57.638072Z",
     "start_time": "2021-02-01T22:35:57.632536Z"
    },
    "hidden": true
   },
   "outputs": [],
   "source": [
    "def multipleKStest(l1, l2):\n",
    "    pvalues = []\n",
    "    for i in range(1000) :\n",
    "        \n",
    "        pvalues.append(kstest(random.sample(l1, k = 200), random.sample(l2, k = 200)).pvalue)\n",
    "    \n",
    "    return sum(pvalues)/len(pvalues)"
   ]
  },
  {
   "cell_type": "code",
   "execution_count": 12,
   "metadata": {
    "ExecuteTime": {
     "end_time": "2021-02-01T22:35:58.149246Z",
     "start_time": "2021-02-01T22:35:58.144384Z"
    },
    "hidden": true
   },
   "outputs": [],
   "source": [
    "def writeDistribValues(listowrite, flagtowrite):\n",
    "    \"\"\"write the values in the list in a text file (1 col) -> output name is defined according to flagtowrite \"\"\"\n",
    "    fout = open(\"%s.txt\"%(flagtowrite),\"w\")\n",
    "    for val in listowrite:\n",
    "        fout.write(\"%s\\n\"%(val))\n",
    "        \n",
    "    fout.close()"
   ]
  },
  {
   "cell_type": "markdown",
   "metadata": {
    "heading_collapsed": true,
    "hidden": true
   },
   "source": [
    "## Calculate SASA and define surface/interface"
   ]
  },
  {
   "cell_type": "code",
   "execution_count": 13,
   "metadata": {
    "ExecuteTime": {
     "end_time": "2021-02-01T22:36:03.118476Z",
     "start_time": "2021-02-01T22:36:03.112936Z"
    },
    "hidden": true
   },
   "outputs": [],
   "source": [
    "############################################################################@\n",
    "#\n",
    "#           Identification of interface and surface residues\n",
    "#\n",
    "############################################################################@\n",
    "\n",
    "def assignChainsToLigAndRec(dASAcp, dASAlig, dASArec):\n",
    "    \"\"\"assign each chain of the complex to the lig or rec dict\"\"\"\n",
    "        \n",
    "    for chncp in dASAcp :\n",
    "        if chncp in dASAlig: # means the first chain is the ligand\n",
    "            first = \"lig\"\n",
    "            second = \"rec\"\n",
    "            return first, second\n",
    "        else:\n",
    "            first = \"rec\"\n",
    "            second = \"lig\"\n",
    "            return first, second\n",
    "                "
   ]
  },
  {
   "cell_type": "code",
   "execution_count": 14,
   "metadata": {
    "ExecuteTime": {
     "end_time": "2021-02-01T22:36:07.928565Z",
     "start_time": "2021-02-01T22:36:07.920447Z"
    },
    "hidden": true
   },
   "outputs": [],
   "source": [
    "def getSurfRes(dASAcp, dASAlig, dASArec):\n",
    "    \"\"\"extract surface residues through the comparison of their ASA in the monomer VS complex\"\"\"\n",
    "        \n",
    "    #init var\n",
    "    ligsurf = []\n",
    "    liginter = []\n",
    "    recsurf = []\n",
    "    recinter = []\n",
    "    flag = 0\n",
    "        \n",
    "    # assign each chain of the complex to the lig or rec dict\n",
    "    firstchain, secondchain = assignChainsToLigAndRec(dASAcp, dASAlig, dASArec)\n",
    "    print(\"firstchain %s secondchain %s \"%(firstchain, secondchain))     \n",
    "    monostatus = firstchain\n",
    "    \n",
    "    for chncp in dASAcp :\n",
    "        #print(\"curchain %s\"%(chncp))\n",
    "                            \n",
    "        for rescp in dASAcp[chncp] :\n",
    "                \n",
    "            if monostatus == \"lig\" : #means the current chain is the lig\n",
    "                        \n",
    "                dASA = dASAlig[chncp][str(rescp)].relativeTotal - dASAcp[chncp][str(rescp)].relativeTotal\n",
    "                    \n",
    "                if dASA > 0 : # means the ASA in the lig is greater than in the cplx form, so the res is buried in the interface\n",
    "                        \n",
    "                    liginter.append(rescp)\n",
    "                    ligsurf.append(rescp)\n",
    "                else:\n",
    "                    if dASAlig[chncp][str(rescp)].relativeTotal > 0.25 : # means the res is located on the lig surface\n",
    "                        ligsurf.append(rescp)\n",
    "            else :\n",
    "                #print(\"dASARec.keys() %s\"%(dASArec.keys()))\n",
    "                #print(\"rescp %s \"%(rescp))\n",
    "                #print(dASArec[\"A\"][\"5\"])\n",
    "                dASA = dASArec[chncp][str(rescp)].relativeTotal - dASAcp[chncp][str(rescp)].relativeTotal\n",
    "                    \n",
    "                if dASA > 0 : # means the ASA in the lig is greater than in the cplx form, so the res is buried in the interface\n",
    "                        \n",
    "                    recinter.append(rescp)\n",
    "                    recsurf.append(rescp)\n",
    "                else:\n",
    "                    if dASArec[chncp][str(rescp)].relativeTotal > 0.25 : # means the res is located on the lig surface\n",
    "                        recsurf.append(rescp)\n",
    "                    \n",
    "                    \n",
    "        # get status of second chain (contained in secondchain)          \n",
    "        monostatus = secondchain\n",
    "            \n",
    "    return recsurf, ligsurf, recinter, liginter\n"
   ]
  },
  {
   "cell_type": "code",
   "execution_count": 15,
   "metadata": {
    "ExecuteTime": {
     "end_time": "2021-02-01T22:36:35.480740Z",
     "start_time": "2021-02-01T22:36:18.226495Z"
    },
    "hidden": true,
    "scrolled": false
   },
   "outputs": [
    {
     "name": "stdout",
     "output_type": "stream",
     "text": [
      "dealing with t1F6M_AC \n",
      " t1F6M_AC_r_inter.pdb \\t1F6M_AC_l_inter.pdb\n",
      "firstchain lig secondchain rec \n",
      "dealing with t1GCQ_AC \n",
      " t1GCQ_AC_r_inter.pdb \\t1GCQ_AC_l_inter.pdb\n",
      "firstchain lig secondchain rec \n",
      "dealing with t1I4D_AD \n",
      " t1I4D_AD_r_inter.pdb \\t1I4D_AD_l_inter.pdb\n",
      "firstchain rec secondchain lig \n",
      "dealing with p1AY7_AB \n",
      " p1AY7_AB_r_inter.pdb \\p1AY7_AB_l_inter.pdb\n",
      "firstchain rec secondchain lig \n",
      "dealing with p1UUG_AB \n",
      " p1UUG_AB_r_inter.pdb \\p1UUG_AB_l_inter.pdb\n",
      "firstchain rec secondchain lig \n",
      "dealing with p1EMV_AB \n",
      " p1EMV_AB_r_inter.pdb \\p1EMV_AB_l_inter.pdb\n",
      "firstchain lig secondchain rec \n",
      "dealing with p2OUL_AB \n",
      " p2OUL_AB_r_inter.pdb \\p2OUL_AB_l_inter.pdb\n",
      "firstchain rec secondchain lig \n",
      "dealing with p2OZA_AB \n",
      " p2OZA_AB_r_inter.pdb \\p2OZA_AB_l_inter.pdb\n",
      "firstchain lig secondchain rec \n",
      "dealing with t1LFD_AB \n",
      " t1LFD_AB_r_inter.pdb \\t1LFD_AB_l_inter.pdb\n",
      "firstchain lig secondchain rec \n",
      "dealing with p2SNI_EI \n",
      " p2SNI_EI_r_inter.pdb \\p2SNI_EI_l_inter.pdb\n",
      "firstchain rec secondchain lig \n",
      "dealing with p1EER_AB \n",
      " p1EER_AB_r_inter.pdb \\p1EER_AB_l_inter.pdb\n",
      "firstchain rec secondchain lig \n",
      "dealing with p1BVN_PT \n",
      " p1BVN_PT_r_inter.pdb \\p1BVN_PT_l_inter.pdb\n",
      "firstchain lig secondchain rec \n",
      "dealing with p1WDW_AB \n",
      " p1WDW_AB_r_inter.pdb \\p1WDW_AB_l_inter.pdb\n",
      "firstchain lig secondchain rec \n",
      "dealing with p1GXD_AC \n",
      " p1GXD_AC_r_inter.pdb \\p1GXD_AC_l_inter.pdb\n",
      "firstchain rec secondchain lig \n",
      "dealing with p2O3B_AB \n",
      " p2O3B_AB_r_inter.pdb \\p2O3B_AB_l_inter.pdb\n",
      "firstchain rec secondchain lig \n",
      "dealing with t1Z0K_AB \n",
      " t1Z0K_AB_r_inter.pdb \\t1Z0K_AB_l_inter.pdb\n",
      "firstchain lig secondchain rec \n",
      "dealing with t1A15_AB \n",
      " t1A15_AB_r_inter.pdb \\t1A15_AB_l_inter.pdb\n",
      "firstchain lig secondchain rec \n",
      "dealing with t1EWY_AC \n",
      " t1EWY_AC_r_inter.pdb \\t1EWY_AC_l_inter.pdb\n",
      "firstchain rec secondchain lig \n",
      "dealing with p1OPH_AB \n",
      " p1OPH_AB_r_inter.pdb \\p1OPH_AB_l_inter.pdb\n",
      "firstchain rec secondchain lig \n",
      "dealing with p1M10_AB \n",
      " p1M10_AB_r_inter.pdb \\p1M10_AB_l_inter.pdb\n",
      "firstchain lig secondchain rec \n",
      "dealing with p1AVX_AB \n",
      " p1AVX_AB_r_inter.pdb \\p1AVX_AB_l_inter.pdb\n",
      "firstchain rec secondchain lig \n",
      "dealing with p3SGB_EI \n",
      " p3SGB_EI_r_inter.pdb \\p3SGB_EI_l_inter.pdb\n",
      "firstchain lig secondchain rec \n",
      "dealing with t1FFW_AB \n",
      " t1FFW_AB_r_inter.pdb \\t1FFW_AB_l_inter.pdb\n",
      "firstchain rec secondchain lig \n",
      "dealing with p1JTG_AB \n",
      " p1JTG_AB_r_inter.pdb \\p1JTG_AB_l_inter.pdb\n",
      "firstchain lig secondchain rec \n",
      "dealing with t1HE8_AB \n",
      " t1HE8_AB_r_inter.pdb \\t1HE8_AB_l_inter.pdb\n",
      "firstchain rec secondchain lig \n",
      "dealing with p2BTF_AP \n",
      " p2BTF_AP_r_inter.pdb \\p2BTF_AP_l_inter.pdb\n",
      "firstchain lig secondchain rec \n",
      "dealing with p1JIW_IP \n",
      " p1JIW_IP_r_inter.pdb \\p1JIW_IP_l_inter.pdb\n",
      "firstchain lig secondchain rec \n",
      "dealing with t2TGP_IZ \n",
      " t2TGP_IZ_r_inter.pdb \\t2TGP_IZ_l_inter.pdb\n",
      "firstchain rec secondchain lig \n",
      "dealing with p1T6B_XY \n",
      " p1T6B_XY_r_inter.pdb \\p1T6B_XY_l_inter.pdb\n",
      "firstchain rec secondchain lig \n",
      "dealing with t1US7_BA \n",
      " t1US7_BA_r_inter.pdb \\t1US7_BA_l_inter.pdb\n",
      "firstchain rec secondchain lig \n",
      "dealing with t1S1Q_AB \n",
      " t1S1Q_AB_r_inter.pdb \\t1S1Q_AB_l_inter.pdb\n",
      "firstchain rec secondchain lig \n",
      "dealing with p1DFJ_EI \n",
      " p1DFJ_EI_r_inter.pdb \\p1DFJ_EI_l_inter.pdb\n",
      "firstchain rec secondchain lig \n",
      "dealing with p1BRS_AD \n",
      " p1BRS_AD_r_inter.pdb \\p1BRS_AD_l_inter.pdb\n",
      "firstchain rec secondchain lig \n",
      "dealing with p1PXV_AC \n",
      " p1PXV_AC_r_inter.pdb \\p1PXV_AC_l_inter.pdb\n",
      "firstchain rec secondchain lig \n",
      "dealing with p2J0T_AD \n",
      " p2J0T_AD_r_inter.pdb \\p2J0T_AD_l_inter.pdb\n",
      "firstchain rec secondchain lig \n",
      "dealing with p1PPE_EI \n",
      " p1PPE_EI_r_inter.pdb \\p1PPE_EI_l_inter.pdb\n",
      "firstchain lig secondchain rec \n",
      "dealing with t1A78_AB \n",
      " t1A78_AB_r_inter.pdb \\t1A78_AB_l_inter.pdb\n",
      "firstchain rec secondchain lig \n",
      "dealing with t1QA9_AB \n",
      " t1QA9_AB_r_inter.pdb \\t1QA9_AB_l_inter.pdb\n",
      "firstchain rec secondchain lig \n",
      "dealing with t1J2J_AB \n",
      " t1J2J_AB_r_inter.pdb \\t1J2J_AB_l_inter.pdb\n",
      "firstchain lig secondchain rec \n",
      "dealing with t1WQ1_RG \n",
      " t1WQ1_RG_r_inter.pdb \\t1WQ1_RG_l_inter.pdb\n",
      "firstchain lig secondchain rec \n",
      "dealing with p1ATN_DA \n",
      " p1ATN_DA_r_inter.pdb \\p1ATN_DA_l_inter.pdb\n",
      "firstchain rec secondchain lig \n",
      "dealing with p1GPW_AB \n",
      " p1GPW_AB_r_inter.pdb \\p1GPW_AB_l_inter.pdb\n",
      "firstchain lig secondchain rec \n",
      "dealing with p2GOX_AB \n",
      " p2GOX_AB_r_inter.pdb \\p2GOX_AB_l_inter.pdb\n",
      "firstchain lig secondchain rec \n",
      "dealing with t2FJU_AB \n",
      " t2FJU_AB_r_inter.pdb \\t2FJU_AB_l_inter.pdb\n",
      "firstchain lig secondchain rec \n",
      "dealing with p1NB5_AI \n",
      " p1NB5_AI_r_inter.pdb \\p1NB5_AI_l_inter.pdb\n",
      "firstchain lig secondchain rec \n",
      "dealing with t2PCB_AB \n",
      " t2PCB_AB_r_inter.pdb \\t2PCB_AB_l_inter.pdb\n",
      "firstchain rec secondchain lig \n",
      "dealing with p3BP8_AB \n",
      " p3BP8_AB_r_inter.pdb \\p3BP8_AB_l_inter.pdb\n",
      "firstchain rec secondchain lig \n",
      "dealing with p1XU1_AB \n",
      " p1XU1_AB_r_inter.pdb \\p1XU1_AB_l_inter.pdb\n",
      "firstchain lig secondchain rec \n",
      "dealing with p1CDT_AB \n",
      " p1CDT_AB_r_inter.pdb \\p1CDT_AB_l_inter.pdb\n",
      "firstchain lig secondchain rec \n",
      "dealing with t1AKJ_AD \n",
      " t1AKJ_AD_r_inter.pdb \\t1AKJ_AD_l_inter.pdb\n",
      "firstchain lig secondchain rec \n",
      "dealing with p1HCF_AB \n",
      " p1HCF_AB_r_inter.pdb \\p1HCF_AB_l_inter.pdb\n",
      "firstchain rec secondchain lig \n",
      "dealing with p1FLE_IE \n",
      " p1FLE_IE_r_inter.pdb \\p1FLE_IE_l_inter.pdb\n",
      "firstchain rec secondchain lig \n",
      "dealing with p1IBR_AB \n",
      " p1IBR_AB_r_inter.pdb \\p1IBR_AB_l_inter.pdb\n",
      "firstchain rec secondchain lig \n",
      "dealing with p2NYZ_AB \n",
      " p2NYZ_AB_r_inter.pdb \\p2NYZ_AB_l_inter.pdb\n",
      "firstchain lig secondchain rec \n",
      "dealing with p2B42_BA \n",
      " p2B42_BA_r_inter.pdb \\p2B42_BA_l_inter.pdb\n",
      "firstchain rec secondchain lig \n",
      "dealing with p1I2M_AB \n",
      " p1I2M_AB_r_inter.pdb \\p1I2M_AB_l_inter.pdb\n",
      "firstchain lig secondchain rec \n",
      "dealing with p1F34_AB \n",
      " p1F34_AB_r_inter.pdb \\p1F34_AB_l_inter.pdb\n",
      "firstchain lig secondchain rec \n",
      "dealing with t2AQ3_AB \n",
      " t2AQ3_AB_r_inter.pdb \\t2AQ3_AB_l_inter.pdb\n",
      "firstchain rec secondchain lig \n",
      "dealing with t1ZM4_AB \n",
      " t1ZM4_AB_r_inter.pdb \\t1ZM4_AB_l_inter.pdb\n",
      "firstchain rec secondchain lig \n",
      "dealing with t2BTF_AP \n",
      " t2BTF_AP_r_inter.pdb \\t2BTF_AP_l_inter.pdb\n",
      "firstchain lig secondchain rec \n",
      "dealing with t1XQS_AC \n",
      " t1XQS_AC_r_inter.pdb \\t1XQS_AC_l_inter.pdb\n",
      "firstchain lig secondchain rec \n",
      "dealing with t1E96_AB \n",
      " t1E96_AB_r_inter.pdb \\t1E96_AB_l_inter.pdb\n",
      "firstchain lig secondchain rec \n",
      "dealing with p1EAW_AB \n",
      " p1EAW_AB_r_inter.pdb \\p1EAW_AB_l_inter.pdb\n",
      "firstchain lig secondchain rec \n",
      "dealing with t1AK4_AD \n",
      " t1AK4_AD_r_inter.pdb \\t1AK4_AD_l_inter.pdb\n",
      "firstchain lig secondchain rec \n",
      "dealing with t2OOB_BA \n",
      " t2OOB_BA_r_inter.pdb \\t2OOB_BA_l_inter.pdb\n",
      "firstchain rec secondchain lig \n",
      "dealing with t1MQ8_AB \n",
      " t1MQ8_AB_r_inter.pdb \\t1MQ8_AB_l_inter.pdb\n",
      "firstchain rec secondchain lig \n",
      "dealing with p1EZU_AB \n",
      " p1EZU_AB_r_inter.pdb \\p1EZU_AB_l_inter.pdb\n",
      "firstchain lig secondchain rec \n"
     ]
    }
   ],
   "source": [
    "#compute SASA of each mono and cplx\n",
    "\n",
    "dico_inter_surf = {}\n",
    "cv_intertmp = []\n",
    "cv_surftmp = []\n",
    "\n",
    "for cp in os.listdir(cplxpath) :\n",
    "    \n",
    "\n",
    "    # store cplx and monomer names\n",
    "    if cp.endswith(\".pdb\"):\n",
    "        rootname = cp[:cp.rindex(\"_\")]\n",
    "    else:\n",
    "        continue\n",
    "    monor = rootname + \"_r_inter.pdb\"\n",
    "    monol = rootname + \"_l_inter.pdb\"\n",
    "    print(\"dealing with %s \\n %s \\%s\"%(rootname, monor, monol))\n",
    "\n",
    "    # init dico for this complex\n",
    "    dico_inter_surf[rootname] = {}\n",
    "    dico_inter_surf[rootname][\"lig\"] = {}\n",
    "    dico_inter_surf[rootname][\"rec\"] = {}\n",
    "    \n",
    "    # compute SASA for the cplx\n",
    "    strcplx = freesasa.Structure(\"%s/%s\"%(cplxpath, cp))\n",
    "    outASAcplx = freesasa.calc(strcplx)\n",
    "    dASAcp = outASAcplx.residueAreas()\n",
    "    \n",
    "    # compute SASA for the lig\n",
    "    strlig = freesasa.Structure(\"%s/%s\"%(monopath, monol))\n",
    "    outASAlig = freesasa.calc(strlig)\n",
    "    dASAlig = outASAlig.residueAreas()\n",
    "    \n",
    "    # compute SASA for the lig\n",
    "    strrec = freesasa.Structure(\"%s/%s\"%(monopath, monor))\n",
    "    outASArec = freesasa.calc(strrec)\n",
    "    dASArec = outASArec.residueAreas()\n",
    "\n",
    "    recsurf, ligsurf, recinter, liginter = getSurfRes(dASAcp, dASAlig, dASArec)\n",
    "\n",
    "    dico_inter_surf[rootname][\"lig\"][\"surf\"] = ligsurf \n",
    "    dico_inter_surf[rootname][\"lig\"][\"inter\"] = liginter\n",
    "    dico_inter_surf[rootname][\"rec\"][\"surf\"] = recsurf\n",
    "    dico_inter_surf[rootname][\"rec\"][\"inter\"] = recinter \n",
    "\n",
    "    #print(\"list of interface residues in REC\")\n",
    "    #print(recinter)\n",
    "    #print(\"list of interface residues in LIG\")\n",
    "    #print(liginter)\n"
   ]
  },
  {
   "cell_type": "code",
   "execution_count": 125,
   "metadata": {
    "ExecuteTime": {
     "end_time": "2021-02-02T11:22:24.874760Z",
     "start_time": "2021-02-02T11:22:24.797587Z"
    },
    "hidden": true
   },
   "outputs": [
    {
     "data": {
      "text/plain": [
       "['../analysis/dico_inter_surf_kihara.job']"
      ]
     },
     "execution_count": 125,
     "metadata": {},
     "output_type": "execute_result"
    }
   ],
   "source": [
    "# Store the dict to file\n",
    "joblib.dump(dico_inter_surf, \"../analysis/dico_inter_surf_{}.job\".format(treated_family))"
   ]
  },
  {
   "cell_type": "markdown",
   "metadata": {
    "heading_collapsed": true,
    "hidden": true
   },
   "source": [
    "## CV"
   ]
  },
  {
   "cell_type": "code",
   "execution_count": 23,
   "metadata": {
    "ExecuteTime": {
     "end_time": "2021-01-26T16:20:26.611165Z",
     "start_time": "2021-01-26T16:20:26.605559Z"
    },
    "hidden": true
   },
   "outputs": [],
   "source": [
    "############################################################################@\n",
    "#\n",
    "#                        Calculation of CV\n",
    "#\n",
    "############################################################################@\n",
    "\n",
    "def getCV_fromResList(d_pdb, chainID, reslist):\n",
    "    \n",
    "    cv = []\n",
    "    \n",
    "    for resi in d_pdb[chainID][\"reslist\"] :\n",
    "        if reslist is None or resi in reslist :\n",
    "            firstatom = d_pdb[chainID][resi][\"atomlist\"][0] # get the first atom and then the corresponding cv since the CV is identical for all atoms\n",
    "            cv.append(d_pdb[chainID][resi][firstatom][\"bfactor\"])\n",
    "            \n",
    "    return cv"
   ]
  },
  {
   "cell_type": "code",
   "execution_count": 24,
   "metadata": {
    "ExecuteTime": {
     "end_time": "2021-01-26T16:25:35.024441Z",
     "start_time": "2021-01-26T16:20:34.695398Z"
    },
    "hidden": true
   },
   "outputs": [
    {
     "name": "stdout",
     "output_type": "stream",
     "text": [
      "dealing with t1F6M_AC \n",
      " t1F6M_AC_r_inter.pdb \\t1F6M_AC_l_inter.pdb\n",
      "dealing with t1GCQ_AC \n",
      " t1GCQ_AC_r_inter.pdb \\t1GCQ_AC_l_inter.pdb\n",
      "dealing with t1I4D_AD \n",
      " t1I4D_AD_r_inter.pdb \\t1I4D_AD_l_inter.pdb\n",
      "dealing with p1AY7_AB \n",
      " p1AY7_AB_r_inter.pdb \\p1AY7_AB_l_inter.pdb\n",
      "dealing with p1UUG_AB \n",
      " p1UUG_AB_r_inter.pdb \\p1UUG_AB_l_inter.pdb\n",
      "dealing with p1EMV_AB \n",
      " p1EMV_AB_r_inter.pdb \\p1EMV_AB_l_inter.pdb\n",
      "dealing with p2OUL_AB \n",
      " p2OUL_AB_r_inter.pdb \\p2OUL_AB_l_inter.pdb\n",
      "dealing with p2OZA_AB \n",
      " p2OZA_AB_r_inter.pdb \\p2OZA_AB_l_inter.pdb\n",
      "dealing with t1LFD_AB \n",
      " t1LFD_AB_r_inter.pdb \\t1LFD_AB_l_inter.pdb\n",
      "dealing with p2SNI_EI \n",
      " p2SNI_EI_r_inter.pdb \\p2SNI_EI_l_inter.pdb\n",
      "dealing with p1EER_AB \n",
      " p1EER_AB_r_inter.pdb \\p1EER_AB_l_inter.pdb\n",
      "dealing with p1BVN_PT \n",
      " p1BVN_PT_r_inter.pdb \\p1BVN_PT_l_inter.pdb\n",
      "dealing with p1WDW_AB \n",
      " p1WDW_AB_r_inter.pdb \\p1WDW_AB_l_inter.pdb\n",
      "dealing with p1GXD_AC \n",
      " p1GXD_AC_r_inter.pdb \\p1GXD_AC_l_inter.pdb\n",
      "dealing with p2O3B_AB \n",
      " p2O3B_AB_r_inter.pdb \\p2O3B_AB_l_inter.pdb\n",
      "dealing with t1Z0K_AB \n",
      " t1Z0K_AB_r_inter.pdb \\t1Z0K_AB_l_inter.pdb\n",
      "dealing with t1A15_AB \n",
      " t1A15_AB_r_inter.pdb \\t1A15_AB_l_inter.pdb\n",
      "dealing with t1EWY_AC \n",
      " t1EWY_AC_r_inter.pdb \\t1EWY_AC_l_inter.pdb\n",
      "dealing with p1OPH_AB \n",
      " p1OPH_AB_r_inter.pdb \\p1OPH_AB_l_inter.pdb\n",
      "dealing with p1M10_AB \n",
      " p1M10_AB_r_inter.pdb \\p1M10_AB_l_inter.pdb\n",
      "dealing with p1AVX_AB \n",
      " p1AVX_AB_r_inter.pdb \\p1AVX_AB_l_inter.pdb\n",
      "dealing with p3SGB_EI \n",
      " p3SGB_EI_r_inter.pdb \\p3SGB_EI_l_inter.pdb\n",
      "dealing with t1FFW_AB \n",
      " t1FFW_AB_r_inter.pdb \\t1FFW_AB_l_inter.pdb\n",
      "dealing with p1JTG_AB \n",
      " p1JTG_AB_r_inter.pdb \\p1JTG_AB_l_inter.pdb\n",
      "dealing with t1HE8_AB \n",
      " t1HE8_AB_r_inter.pdb \\t1HE8_AB_l_inter.pdb\n",
      "dealing with p2BTF_AP \n",
      " p2BTF_AP_r_inter.pdb \\p2BTF_AP_l_inter.pdb\n",
      "dealing with p1JIW_IP \n",
      " p1JIW_IP_r_inter.pdb \\p1JIW_IP_l_inter.pdb\n",
      "dealing with t2TGP_IZ \n",
      " t2TGP_IZ_r_inter.pdb \\t2TGP_IZ_l_inter.pdb\n",
      "dealing with p1T6B_XY \n",
      " p1T6B_XY_r_inter.pdb \\p1T6B_XY_l_inter.pdb\n",
      "dealing with t1US7_BA \n",
      " t1US7_BA_r_inter.pdb \\t1US7_BA_l_inter.pdb\n",
      "dealing with t1S1Q_AB \n",
      " t1S1Q_AB_r_inter.pdb \\t1S1Q_AB_l_inter.pdb\n",
      "dealing with p1DFJ_EI \n",
      " p1DFJ_EI_r_inter.pdb \\p1DFJ_EI_l_inter.pdb\n",
      "dealing with p1BRS_AD \n",
      " p1BRS_AD_r_inter.pdb \\p1BRS_AD_l_inter.pdb\n",
      "dealing with p1PXV_AC \n",
      " p1PXV_AC_r_inter.pdb \\p1PXV_AC_l_inter.pdb\n",
      "dealing with p2J0T_AD \n",
      " p2J0T_AD_r_inter.pdb \\p2J0T_AD_l_inter.pdb\n",
      "dealing with p1PPE_EI \n",
      " p1PPE_EI_r_inter.pdb \\p1PPE_EI_l_inter.pdb\n",
      "dealing with t1A78_AB \n",
      " t1A78_AB_r_inter.pdb \\t1A78_AB_l_inter.pdb\n",
      "dealing with t1QA9_AB \n",
      " t1QA9_AB_r_inter.pdb \\t1QA9_AB_l_inter.pdb\n",
      "dealing with t1J2J_AB \n",
      " t1J2J_AB_r_inter.pdb \\t1J2J_AB_l_inter.pdb\n",
      "dealing with t1WQ1_RG \n",
      " t1WQ1_RG_r_inter.pdb \\t1WQ1_RG_l_inter.pdb\n",
      "dealing with p1ATN_DA \n",
      " p1ATN_DA_r_inter.pdb \\p1ATN_DA_l_inter.pdb\n",
      "dealing with p1GPW_AB \n",
      " p1GPW_AB_r_inter.pdb \\p1GPW_AB_l_inter.pdb\n",
      "dealing with p2GOX_AB \n",
      " p2GOX_AB_r_inter.pdb \\p2GOX_AB_l_inter.pdb\n",
      "dealing with t2FJU_AB \n",
      " t2FJU_AB_r_inter.pdb \\t2FJU_AB_l_inter.pdb\n",
      "dealing with p1NB5_AI \n",
      " p1NB5_AI_r_inter.pdb \\p1NB5_AI_l_inter.pdb\n",
      "dealing with t2PCB_AB \n",
      " t2PCB_AB_r_inter.pdb \\t2PCB_AB_l_inter.pdb\n",
      "dealing with p3BP8_AB \n",
      " p3BP8_AB_r_inter.pdb \\p3BP8_AB_l_inter.pdb\n",
      "dealing with p1XU1_AB \n",
      " p1XU1_AB_r_inter.pdb \\p1XU1_AB_l_inter.pdb\n",
      "dealing with p1CDT_AB \n",
      " p1CDT_AB_r_inter.pdb \\p1CDT_AB_l_inter.pdb\n",
      "dealing with t1AKJ_AD \n",
      " t1AKJ_AD_r_inter.pdb \\t1AKJ_AD_l_inter.pdb\n",
      "dealing with p1HCF_AB \n",
      " p1HCF_AB_r_inter.pdb \\p1HCF_AB_l_inter.pdb\n",
      "dealing with p1FLE_IE \n",
      " p1FLE_IE_r_inter.pdb \\p1FLE_IE_l_inter.pdb\n",
      "dealing with p1IBR_AB \n",
      " p1IBR_AB_r_inter.pdb \\p1IBR_AB_l_inter.pdb\n",
      "dealing with p2NYZ_AB \n",
      " p2NYZ_AB_r_inter.pdb \\p2NYZ_AB_l_inter.pdb\n",
      "dealing with p2B42_BA \n",
      " p2B42_BA_r_inter.pdb \\p2B42_BA_l_inter.pdb\n",
      "dealing with p1I2M_AB \n",
      " p1I2M_AB_r_inter.pdb \\p1I2M_AB_l_inter.pdb\n",
      "dealing with p1F34_AB \n",
      " p1F34_AB_r_inter.pdb \\p1F34_AB_l_inter.pdb\n",
      "dealing with t2AQ3_AB \n",
      " t2AQ3_AB_r_inter.pdb \\t2AQ3_AB_l_inter.pdb\n",
      "dealing with t1ZM4_AB \n",
      " t1ZM4_AB_r_inter.pdb \\t1ZM4_AB_l_inter.pdb\n",
      "dealing with t2BTF_AP \n",
      " t2BTF_AP_r_inter.pdb \\t2BTF_AP_l_inter.pdb\n",
      "dealing with t1XQS_AC \n",
      " t1XQS_AC_r_inter.pdb \\t1XQS_AC_l_inter.pdb\n",
      "dealing with t1E96_AB \n",
      " t1E96_AB_r_inter.pdb \\t1E96_AB_l_inter.pdb\n",
      "dealing with p1EAW_AB \n",
      " p1EAW_AB_r_inter.pdb \\p1EAW_AB_l_inter.pdb\n",
      "dealing with t1AK4_AD \n",
      " t1AK4_AD_r_inter.pdb \\t1AK4_AD_l_inter.pdb\n",
      "dealing with t2OOB_BA \n",
      " t2OOB_BA_r_inter.pdb \\t2OOB_BA_l_inter.pdb\n",
      "dealing with t1MQ8_AB \n",
      " t1MQ8_AB_r_inter.pdb \\t1MQ8_AB_l_inter.pdb\n",
      "dealing with p1EZU_AB \n",
      " p1EZU_AB_r_inter.pdb \\p1EZU_AB_l_inter.pdb\n"
     ]
    }
   ],
   "source": [
    "# calculation of the CV of each residue of each monomer with the CV module\n",
    "#--------------------------------------------------------------------------\n",
    "\n",
    "#init var\n",
    "rc = 8 #radius for CV calculation\n",
    "cv_intertmp = []\n",
    "cv_surftmp = []\n",
    "\n",
    "# compute res CV for each monomer\n",
    "for cp in os.listdir(cplxpath) :\n",
    "    \n",
    "\n",
    "    # store cplx and monomer names\n",
    "    if cp.endswith(\".pdb\"):\n",
    "        rootname = cp[:cp.rindex(\"_\")]\n",
    "    else:\n",
    "        continue\n",
    "    monor = rootname + \"_r_inter.pdb\"\n",
    "    monol = rootname + \"_l_inter.pdb\"\n",
    "    print(\"dealing with %s \\n %s \\%s\"%(rootname, monor, monol))\n",
    "\n",
    "    # parse PDB    \n",
    "    d_pdblig, atomlistlig = StructureTools.PDB_parser(\"%s/%s\"%(monopath, monol), returnatomlist=True)\n",
    "    #print(d_pdblig[\"chains\"])\n",
    "    chainlig = d_pdblig[\"chains\"][0]\n",
    "    d_pdbrec, atomlistrec = StructureTools.PDB_parser(\"%s/%s\"%(monopath, monor), returnatomlist=True)\n",
    "    chainrec = d_pdbrec[\"chains\"][0]\n",
    "\n",
    "    # calcule la variance variance circulaire de chq atome --> returns the average per residue\n",
    "    CV.CV_AllRes(atomlistlig, d_pdblig, chainlig, rc)\n",
    "    CV.CV_AllRes(atomlistrec, d_pdbrec, chainrec, rc)\n",
    "\n",
    "    # get CV for all res of the interface\n",
    "    cv_intertmp.append(getCV_fromResList(d_pdblig, chainlig, dico_inter_surf[rootname][\"lig\"][\"inter\"]))\n",
    "    cv_intertmp.append(getCV_fromResList(d_pdbrec, chainrec, dico_inter_surf[rootname][\"rec\"][\"inter\"]))\n",
    "\n",
    "    # get CV for all res of the surface\n",
    "    cv_surftmp.append(getCV_fromResList(d_pdblig, chainlig, dico_inter_surf[rootname][\"lig\"][\"surf\"]))\n",
    "    cv_surftmp.append(getCV_fromResList(d_pdbrec, chainrec, dico_inter_surf[rootname][\"rec\"][\"surf\"]))\n",
    "\n",
    "    \n",
    "# store CV\n",
    "cv_inter = [cv for cvlist in cv_intertmp for cv in cvlist]\n",
    "cv_surf = [cv for cvlist in cv_surftmp for cv in cvlist]\n"
   ]
  },
  {
   "cell_type": "code",
   "execution_count": 25,
   "metadata": {
    "ExecuteTime": {
     "end_time": "2021-01-29T09:03:28.604085Z",
     "start_time": "2021-01-29T09:03:28.167593Z"
    },
    "hidden": true
   },
   "outputs": [
    {
     "data": {
      "image/png": "[encoded data removed]",
      "text/plain": [
       "<Figure size 432x288 with 1 Axes>"
      ]
     },
     "metadata": {
      "needs_background": "light"
     },
     "output_type": "display_data"
    }
   ],
   "source": [
    "# plot CV distributions for surface and interface residues\n",
    "#---------------------------------------------------------\n",
    "fig1, ax1 = plt.subplots()\n",
    "ax1.set_title('CV (surface residues VS binding site residues)')\n",
    "ax1.boxplot([cv_surf, cv_inter])\n",
    "plt.xticks([1, 2], ['surface', 'binding site']);\n",
    "plt.ylabel(\"CV\")\n",
    "plt.savefig(\"CV_surf_vs_BS_%s.png\"%(treated_family))"
   ]
  },
  {
   "cell_type": "code",
   "execution_count": 26,
   "metadata": {
    "ExecuteTime": {
     "end_time": "2021-01-29T09:03:46.993671Z",
     "start_time": "2021-01-29T09:03:46.964768Z"
    },
    "hidden": true
   },
   "outputs": [],
   "source": [
    "# write values in files\n",
    "writeDistribValues(cv_surf, \"CV_surf_%s\"%(treated_family))\n",
    "writeDistribValues(cv_inter, \"CV_inter_%s\"%(treated_family))\n"
   ]
  },
  {
   "cell_type": "code",
   "execution_count": 27,
   "metadata": {
    "ExecuteTime": {
     "end_time": "2021-01-29T09:03:49.573117Z",
     "start_time": "2021-01-29T09:03:49.171116Z"
    },
    "hidden": true
   },
   "outputs": [
    {
     "name": "stdout",
     "output_type": "stream",
     "text": [
      "0.008066584230355688\n"
     ]
    },
    {
     "data": {
      "text/plain": [
       "KstestResult(statistic=0.17711900725281537, pvalue=1.4505142345554514e-83)"
      ]
     },
     "execution_count": 27,
     "metadata": {},
     "output_type": "execute_result"
    }
   ],
   "source": [
    "# KS test (2-sided) for CV between surf and interface residues\n",
    "pval = multipleKStest(cv_surf, cv_inter)\n",
    "print(pval)\n",
    "kstest(cv_surf, cv_inter)\n"
   ]
  },
  {
   "cell_type": "markdown",
   "metadata": {
    "heading_collapsed": true,
    "hidden": true
   },
   "source": [
    "## Propensities"
   ]
  },
  {
   "cell_type": "code",
   "execution_count": 24,
   "metadata": {
    "ExecuteTime": {
     "end_time": "2021-01-29T15:18:35.337879Z",
     "start_time": "2021-01-29T15:18:35.331433Z"
    },
    "hidden": true
   },
   "outputs": [],
   "source": [
    "############################################################################@\n",
    "#\n",
    "#           Calculation of amino acid propensities for being in interfaces\n",
    "#\n",
    "############################################################################@\n",
    "\n",
    "\n",
    "def compFreqAA_fromResList(d_pdb, chainID, reslist, d_aa):\n",
    "    \n",
    "    d_aa_tmp = {\"ALA\" : 0, \"CYS\" : 0, \"ASP\" : 0, \"GLU\" : 0, \"PHE\" : 0, \"GLY\" : 0, \"HIS\" : 0, \"ILE\" : 0, \"LYS\" : 0, \"LEU\" : 0, \"MET\" : 0, \"ASN\" : 0, \"PRO\" : 0, \"GLN\" : 0, \"ARG\" : 0, \"SER\" : 0, \"THR\" : 0, \"VAL\" : 0, \"TRP\" : 0, \"TYR\" : 0}\n",
    " \n",
    "    # count the nb of each aa \n",
    "    for resi in d_pdb[chainID][\"reslist\"] :\n",
    "        if resi in reslist :\n",
    "            aa = d_pdb[chainID][resi][\"resname\"]\n",
    "            d_aa_tmp[aa] +=1\n",
    "    \n",
    "    # normalize with the size of studied area (e.g. interface or surface) and store the result in d_aa\n",
    "    for aa in d_aa_tmp :\n",
    "        d_aa_tmp[aa] = d_aa_tmp[aa]/len(reslist)\n",
    "        d_aa[aa].append(d_aa_tmp[aa])\n",
    "        \n",
    "    "
   ]
  },
  {
   "cell_type": "code",
   "execution_count": 25,
   "metadata": {
    "ExecuteTime": {
     "end_time": "2021-01-29T15:18:52.657060Z",
     "start_time": "2021-01-29T15:18:51.339024Z"
    },
    "hidden": true
   },
   "outputs": [],
   "source": [
    "# calculation of the aa freq in interfaces and surfaces, then calculation of the resulting propensities\n",
    "#-------------------------------------------------------------------------------------------------------\n",
    "\n",
    "#init var\n",
    "d_aa_surf_cmt = {\"ALA\" : [], \"CYS\" : [], \"ASP\" : [], \"GLU\" : [], \"PHE\" : [], \"GLY\" : [], \"HIS\" : [], \"ILE\" : [], \"LYS\" : [], \"LEU\" : [], \"MET\" : [], \"ASN\" : [], \"PRO\" : [], \"GLN\" : [], \"ARG\" : [], \"SER\" : [], \"THR\" : [], \"VAL\" : [], \"TRP\" : [], \"TYR\" : []}\n",
    "d_aa_inter_cmt = {\"ALA\" : [], \"CYS\" : [], \"ASP\" : [], \"GLU\" : [], \"PHE\" : [], \"GLY\" : [], \"HIS\" : [], \"ILE\" : [], \"LYS\" : [], \"LEU\" : [], \"MET\" : [], \"ASN\" : [], \"PRO\" : [], \"GLN\" : [], \"ARG\" : [], \"SER\" : [], \"THR\" : [], \"VAL\" : [], \"TRP\" : [], \"TYR\" : []}\n",
    "\n",
    "# compute res CV for each monomer\n",
    "for cp in os.listdir(cplxpath) :\n",
    "    \n",
    "\n",
    "    # store cplx and monomer names\n",
    "    if cp.endswith(\".pdb\"):\n",
    "        rootname = cp[:cp.rindex(\"_\")]\n",
    "    else:\n",
    "        continue\n",
    "    monor = rootname + \"_r_inter.pdb\"\n",
    "    monol = rootname + \"_l_inter.pdb\"\n",
    "    #print(\"dealing with %s \\n %s \\%s\"%(rootname, monor, monol))\n",
    "\n",
    "    # parse PDB    \n",
    "    d_pdblig = StructureTools.PDB_parser(\"%s/%s\"%(monopath, monol))\n",
    "    chainlig = d_pdblig[\"chains\"][0]\n",
    "    d_pdbrec = StructureTools.PDB_parser(\"%s/%s\"%(monopath, monor))\n",
    "    chainrec = d_pdbrec[\"chains\"][0]\n",
    "\n",
    "    # compute the freq of each aa for inter and surf\n",
    "    compFreqAA_fromResList(d_pdblig, chainlig, dico_inter_surf[rootname][\"lig\"][\"inter\"], d_aa_inter_cmt)\n",
    "    compFreqAA_fromResList(d_pdbrec, chainrec, dico_inter_surf[rootname][\"rec\"][\"inter\"], d_aa_inter_cmt)\n",
    "    compFreqAA_fromResList(d_pdblig, chainlig, dico_inter_surf[rootname][\"lig\"][\"surf\"], d_aa_surf_cmt)\n",
    "    compFreqAA_fromResList(d_pdbrec, chainrec, dico_inter_surf[rootname][\"rec\"][\"surf\"], d_aa_surf_cmt)\n",
    "    \n",
    "# compute propension for being located at interfaces (i.e. stickiness)\n",
    "d_prop_aa = {}\n",
    "for aa in d_aa_inter_cmt :\n",
    "    \n",
    "    d_prop_aa[aa] = math.log2(np.mean(d_aa_inter_cmt[aa])/np.mean(d_aa_surf_cmt[aa]))\n",
    "    \n",
    "\n"
   ]
  },
  {
   "cell_type": "code",
   "execution_count": 26,
   "metadata": {
    "ExecuteTime": {
     "end_time": "2021-01-29T15:19:24.228236Z",
     "start_time": "2021-01-29T15:19:23.922178Z"
    },
    "hidden": true
   },
   "outputs": [
    {
     "data": {
      "image/png": "[encoded data removed]",
      "text/plain": [
       "<Figure size 432x288 with 1 Axes>"
      ]
     },
     "metadata": {
      "needs_background": "light"
     },
     "output_type": "display_data"
    }
   ],
   "source": [
    "#  plot aa propensities\n",
    "#----------------------\n",
    "\n",
    "aaprop = []\n",
    "aanames = []\n",
    "\n",
    "xx = range(20)\n",
    "\n",
    "for i in  d_prop_aa :\n",
    "    aaprop.append(d_prop_aa[i])\n",
    "    aanames.append(i)\n",
    "    \n",
    "plt.bar(xx, aaprop)\n",
    "plt.title(\"propensity of aa for being located in interfaces\")\n",
    "plt.xticks(range(20), aanames, rotation = 90);\n",
    "plt.savefig(\"aa_propensities_%s.png\"%(treated_family))"
   ]
  },
  {
   "cell_type": "code",
   "execution_count": 14,
   "metadata": {
    "ExecuteTime": {
     "end_time": "2021-01-26T16:17:51.809550Z",
     "start_time": "2021-01-26T16:17:51.804867Z"
    },
    "hidden": true
   },
   "outputs": [],
   "source": [
    "# write values in files\n",
    "writeDistribValues(aaprop, \"aaprop_%s\"%(treated_family))\n"
   ]
  },
  {
   "cell_type": "code",
   "execution_count": 15,
   "metadata": {
    "ExecuteTime": {
     "end_time": "2021-01-26T16:18:05.280170Z",
     "start_time": "2021-01-26T16:18:03.832377Z"
    },
    "hidden": true
   },
   "outputs": [],
   "source": [
    "############################################################################@###########@\n",
    "#\n",
    "#           Calculation of hydrophobic vs hydrophilic residue frequencies in interfaces\n",
    "#\n",
    "############################################################################@###########@\n",
    "def compNB_HB_POL(d_pdb, chainID, reslist, d_HBPOL):\n",
    "    \n",
    "    HB = [\"VAL\",\"ILE\",\"LEU\",\"MET\",\"TYR\",\"PHE\",\"TRP\"]\n",
    "    CHG = [\"ARG\",\"LYS\",\"GLU\",\"ASP\"] # et HIS ???\n",
    "    POL = [\"SER\",\"THR\",\"ASN\",\"GLN\"]\n",
    "    \n",
    "    d_tmp = {\"CHG\": 0, \"POL\" : 0, \"HB\" : 0}\n",
    "    \n",
    "    # count the nb of each aa \n",
    "    for resi in d_pdb[chainID][\"reslist\"] :\n",
    "        if resi in reslist :\n",
    "            aa = d_pdb[chainID][resi][\"resname\"]\n",
    "            if aa in HB :\n",
    "                d_tmp[\"HB\"] +=1\n",
    "            elif aa in POL :\n",
    "                d_tmp[\"POL\"] +=1\n",
    "            elif aa in CHG :\n",
    "                d_tmp[\"CHG\"] +=1\n",
    "            \n",
    "    \n",
    "    # normalize with the size of studied area (e.g. interface or surface) and store the result in d_aa\n",
    "    for aatype in d_tmp :\n",
    "        d_tmp[aatype] = d_tmp[aatype]/len(reslist)\n",
    "        d_HBPOL[aatype].append(d_tmp[aatype])\n",
    "        \n",
    "\n",
    "        \n",
    "# calculation of the aa freq in interfaces and surfaces, then calculation of the resulting propensities\n",
    "#-------------------------------------------------------------------------------------------------------\n",
    "\n",
    "#init var\n",
    "d_HBPOLsurf = {}\n",
    "d_HBPOLsurf[\"HB\"] = []\n",
    "d_HBPOLsurf[\"POL\"] = []\n",
    "d_HBPOLsurf[\"CHG\"] = []\n",
    "d_HBPOLinter = {}\n",
    "d_HBPOLinter[\"HB\"] = []\n",
    "d_HBPOLinter[\"POL\"] = []\n",
    "d_HBPOLinter[\"CHG\"] = []\n",
    "\n",
    "\n",
    "\n",
    "# compute res CV for each monomer\n",
    "for cp in os.listdir(cplxpath) :\n",
    "    \n",
    "\n",
    "    # store cplx and monomer names\n",
    "    if cp.endswith(\".pdb\"):\n",
    "        rootname = cp[:cp.rindex(\"_\")]\n",
    "    else:\n",
    "        continue\n",
    "    monor = rootname + \"_r_inter.pdb\"\n",
    "    monol = rootname + \"_l_inter.pdb\"\n",
    "    #print(\"dealing with %s \\n %s \\%s\"%(rootname, monor, monol))\n",
    "\n",
    "    # parse PDB    \n",
    "    d_pdblig = StructureTools.PDB_parser(\"%s/%s\"%(monopath, monol))\n",
    "    chainlig = d_pdblig[\"chains\"][0]\n",
    "    d_pdbrec = StructureTools.PDB_parser(\"%s/%s\"%(monopath, monor))\n",
    "    chainrec = d_pdbrec[\"chains\"][0]\n",
    "\n",
    "    # compute the freq of each aa for inter and surf\n",
    "    compNB_HB_POL(d_pdblig, chainlig, dico_inter_surf[rootname][\"lig\"][\"inter\"], d_HBPOLinter)\n",
    "    compNB_HB_POL(d_pdbrec, chainrec, dico_inter_surf[rootname][\"rec\"][\"inter\"], d_HBPOLinter)\n",
    "    compNB_HB_POL(d_pdblig, chainlig, dico_inter_surf[rootname][\"lig\"][\"surf\"], d_HBPOLsurf)\n",
    "    compNB_HB_POL(d_pdbrec, chainrec, dico_inter_surf[rootname][\"rec\"][\"surf\"], d_HBPOLsurf)\n",
    "    \n",
    "    \n"
   ]
  },
  {
   "cell_type": "code",
   "execution_count": 16,
   "metadata": {
    "ExecuteTime": {
     "end_time": "2021-01-26T16:18:07.948656Z",
     "start_time": "2021-01-26T16:18:07.724759Z"
    },
    "hidden": true
   },
   "outputs": [
    {
     "data": {
      "image/png": "[encoded data removed]",
      "text/plain": [
       "<Figure size 432x288 with 1 Axes>"
      ]
     },
     "metadata": {
      "needs_background": "light"
     },
     "output_type": "display_data"
    }
   ],
   "source": [
    "# plot CV distributions for surface and interface residues\n",
    "#---------------------------------------------------------\n",
    "fig1, ax1 = plt.subplots()\n",
    "ax1.set_title('distribution of aa type in binding sites and surfaces')\n",
    "ax1.boxplot([d_HBPOLinter[\"HB\"], d_HBPOLsurf[\"HB\"], d_HBPOLinter[\"CHG\"], d_HBPOLsurf[\"CHG\"], d_HBPOLinter[\"POL\"], d_HBPOLsurf[\"POL\"]])\n",
    "plt.xticks(range(1,7), ['HB_inter', 'HB_surf', 'CHG_inter', 'CHG_surf', 'POL_inter', 'POL_surf']);\n",
    "plt.ylabel(\"% of aa type\")\n",
    "plt.savefig(\"HB_POL_CHG_surf_vs_BS_%s.png\"%(treated_family))"
   ]
  },
  {
   "cell_type": "code",
   "execution_count": 17,
   "metadata": {
    "ExecuteTime": {
     "end_time": "2021-01-26T16:18:18.264390Z",
     "start_time": "2021-01-26T16:18:18.255125Z"
    },
    "hidden": true
   },
   "outputs": [],
   "source": [
    "# write values in files\n",
    "writeDistribValues(d_HBPOLsurf[\"HB\"], \"HB_surf_%s\"%(treated_family))\n",
    "writeDistribValues(d_HBPOLinter[\"HB\"], \"HB_inter_%s\"%(treated_family))\n",
    "writeDistribValues(d_HBPOLsurf[\"CHG\"], \"CHG_surf_%s\"%(treated_family))\n",
    "writeDistribValues(d_HBPOLinter[\"CHG\"], \"CHG_inter_%s\"%(treated_family))\n",
    "writeDistribValues(d_HBPOLsurf[\"POL\"], \"POL_surf_%s\"%(treated_family))\n",
    "writeDistribValues(d_HBPOLinter[\"POL\"], \"POL_inter_%s\"%(treated_family))"
   ]
  },
  {
   "cell_type": "markdown",
   "metadata": {
    "heading_collapsed": true,
    "hidden": true
   },
   "source": [
    "## Sizes"
   ]
  },
  {
   "cell_type": "code",
   "execution_count": 19,
   "metadata": {
    "ExecuteTime": {
     "end_time": "2021-01-26T16:19:53.426847Z",
     "start_time": "2021-01-26T16:19:53.221269Z"
    },
    "hidden": true
   },
   "outputs": [
    {
     "data": {
      "image/png": "[encoded data removed]",
      "text/plain": [
       "<Figure size 432x288 with 1 Axes>"
      ]
     },
     "metadata": {
      "needs_background": "light"
     },
     "output_type": "display_data"
    }
   ],
   "source": [
    "############################################################################@\n",
    "#\n",
    "#           Plot of the distribution of interface sizes\n",
    "#\n",
    "############################################################################@\n",
    "\n",
    "\n",
    "# get interface sizes\n",
    "sizes =[]\n",
    "for cplx in dico_inter_surf :\n",
    "    sizes.append(len(dico_inter_surf[cplx][\"lig\"][\"inter\"]))\n",
    "    sizes.append(len(dico_inter_surf[cplx][\"rec\"][\"inter\"]))\n",
    "\n",
    "    #s = [len(dico_inter_surf[x][\"lig\"][\"surf\"]) for x in dico_inter_surf]\n",
    "# plot the size distribution\n",
    "plt.hist(sizes, 10);\n",
    "plt.title(\"distribution of the binding site sizes\")\n",
    "plt.xlabel(\"number of surface residues involved in binding sites\")\n",
    "plt.ylabel(\"counts\")\n",
    "plt.savefig(\"bindingSiteSizes_distrib_%s.png\"%(treated_family))"
   ]
  },
  {
   "cell_type": "code",
   "execution_count": 20,
   "metadata": {
    "ExecuteTime": {
     "end_time": "2021-01-26T16:20:02.591381Z",
     "start_time": "2021-01-26T16:20:02.586694Z"
    },
    "hidden": true
   },
   "outputs": [],
   "source": [
    "# write values in file\n",
    "writeDistribValues(sizes, \"sizes_%s\"%(treated_family))\n"
   ]
  },
  {
   "cell_type": "code",
   "execution_count": 21,
   "metadata": {
    "ExecuteTime": {
     "end_time": "2021-01-26T16:20:04.641670Z",
     "start_time": "2021-01-26T16:20:04.448606Z"
    },
    "hidden": true
   },
   "outputs": [
    {
     "data": {
      "image/png": "[encoded data removed]",
      "text/plain": [
       "<Figure size 432x288 with 1 Axes>"
      ]
     },
     "metadata": {
      "needs_background": "light"
     },
     "output_type": "display_data"
    }
   ],
   "source": [
    "############################################################################@##########@\n",
    "#\n",
    "#           Plot of the distribution of interface sizes normalized by the surface size\n",
    "#\n",
    "############################################################################@##########@\n",
    "\n",
    "\n",
    "# get interface sizes\n",
    "sizes_norm =[]\n",
    "for cplx in dico_inter_surf :\n",
    "    sizes_norm.append(len(dico_inter_surf[cplx][\"lig\"][\"inter\"])/len(dico_inter_surf[cplx][\"lig\"][\"surf\"]))\n",
    "    sizes_norm.append(len(dico_inter_surf[cplx][\"rec\"][\"inter\"])/len(dico_inter_surf[cplx][\"rec\"][\"surf\"]))\n",
    "\n",
    "    #s = [len(dico_inter_surf[x][\"lig\"][\"surf\"]) for x in dico_inter_surf]\n",
    "# plot the size distribution\n",
    "plt.hist(sizes_norm);\n",
    "plt.title(\"distribution of the fraction of surface residues involved in binding sites\")\n",
    "plt.xlabel(\"fraction of surface residues involved in binding sites\")\n",
    "plt.ylabel(\"counts\")\n",
    "plt.savefig(\"bindingSiteFraction_distrib_%s.png\"%(treated_family))"
   ]
  },
  {
   "cell_type": "code",
   "execution_count": 22,
   "metadata": {
    "ExecuteTime": {
     "end_time": "2021-01-26T16:20:08.273320Z",
     "start_time": "2021-01-26T16:20:08.268527Z"
    },
    "hidden": true
   },
   "outputs": [],
   "source": [
    "# write values in file\n",
    "writeDistribValues(sizes_norm, \"norm_sizes_%s\"%(treated_family))\n"
   ]
  },
  {
   "cell_type": "markdown",
   "metadata": {
    "heading_collapsed": true,
    "hidden": true
   },
   "source": [
    "## Total sizes"
   ]
  },
  {
   "cell_type": "code",
   "execution_count": 45,
   "metadata": {
    "ExecuteTime": {
     "end_time": "2021-01-29T09:29:35.455972Z",
     "start_time": "2021-01-29T09:29:33.683073Z"
    },
    "hidden": true
   },
   "outputs": [],
   "source": [
    "total_sizes = {}\n",
    "# compute total size\n",
    "for cp in os.listdir(cplxpath) :\n",
    "    # store cplx and monomer names\n",
    "    if cp.endswith(\".pdb\"):\n",
    "        rootname = cp[:cp.rindex(\"_\")]\n",
    "    else:\n",
    "        continue\n",
    "    monor = rootname + \"_r_inter.pdb\"\n",
    "    monol = rootname + \"_l_inter.pdb\"\n",
    "    #print(\"dealing with %s \\n %s \\%s\"%(rootname, monor, monol))\n",
    "\n",
    "    # parse PDB    \n",
    "    d_pdblig = StructureTools.PDB_parser(\"%s/%s\"%(monopath, monol))\n",
    "    chainlig = d_pdblig[\"chains\"][0]\n",
    "    d_pdbrec = StructureTools.PDB_parser(\"%s/%s\"%(monopath, monor))\n",
    "    chainrec = d_pdbrec[\"chains\"][0]\n",
    "    total_sizes[rootname] = dict(\n",
    "        lig = len(d_pdblig[chainlig]['reslist']),\n",
    "        rec = len(d_pdbrec[chainrec]['reslist'])\n",
    "    )\n"
   ]
  },
  {
   "cell_type": "markdown",
   "metadata": {
    "heading_collapsed": true,
    "hidden": true
   },
   "source": [
    "## Create big table\n",
    "Cette section pour usage interne. Creation d'un tableau et ecriture à fichier."
   ]
  },
  {
   "cell_type": "code",
   "execution_count": 123,
   "metadata": {
    "ExecuteTime": {
     "end_time": "2021-02-02T11:14:54.913263Z",
     "start_time": "2021-02-02T11:14:54.910957Z"
    },
    "hidden": true
   },
   "outputs": [],
   "source": [
    "import pandas as pd"
   ]
  },
  {
   "cell_type": "code",
   "execution_count": 129,
   "metadata": {
    "ExecuteTime": {
     "end_time": "2021-01-29T10:26:21.802966Z",
     "start_time": "2021-01-29T10:26:21.772938Z"
    },
    "hidden": true
   },
   "outputs": [],
   "source": [
    "full_list = pd.DataFrame.from_dict(total_sizes).transpose()\n",
    "full_list.loc[:, \"tot\"] = full_list.apply(lambda row: row.rec + row.lig, axis=1)\n",
    "inter_sizes = zip(*[(sizes[i],sizes[i+1]) for i in range(0, len(sizes), 2)])\n",
    "full_list.loc[:, \"inter_lig\"] = next(inter_sizes)\n",
    "full_list.loc[:, \"inter_rec\"] = next(inter_sizes)\n",
    "full_list.loc[:, \"type\"] = full_list.apply(lambda row: row.name[0], axis=1)\n",
    "full_list.index = list(map(lambda s: s[1:], full_list.index.values))\n",
    "full_list = full_list.sort_values(by=[\"tot\", \"type\"]).reset_index()\n",
    "full_list.columns = \"PDB_chains size_lig size_rec size_tot inter_lig inter_rec type\".split()"
   ]
  },
  {
   "cell_type": "code",
   "execution_count": 92,
   "metadata": {
    "ExecuteTime": {
     "end_time": "2021-02-02T10:45:22.337132Z",
     "start_time": "2021-02-02T10:45:22.041629Z"
    },
    "hidden": true
   },
   "outputs": [],
   "source": [
    "# GET COMPND\n",
    "def get_pdb_line(fname, head=\"COMPND\"):\n",
    "    retstr = \"\"\n",
    "    with open(fname) as pdbf:\n",
    "        for l in pdbf:\n",
    "            if l.startswith(head):\n",
    "                retstr += \" \" + l[10:].strip()\n",
    "    return retstr\n",
    "    \n",
    "full_list.loc[:, \"description\"] = \"\"\n",
    "for i, cp in full_list.iterrows():\n",
    "    fname = \"../structures/{}/raw_pdb/{}{}.pdb1\".format(\n",
    "        treated_family, cp.type, cp.PDB_chains[:-3])\n",
    "    try:\n",
    "        descr = get_pdb_line(fname)\n",
    "        if descr.strip() == \"\":\n",
    "            descr = get_pdb_line(fname, \"TITLE\")\n",
    "        full_list.loc[i, \"description\"] = descr\n",
    "    except Exception as e:\n",
    "        print(fname)\n",
    "        pass        \n",
    "        "
   ]
  },
  {
   "cell_type": "code",
   "execution_count": 94,
   "metadata": {
    "ExecuteTime": {
     "end_time": "2021-02-02T10:45:28.076684Z",
     "start_time": "2021-02-02T10:45:28.068964Z"
    },
    "hidden": true
   },
   "outputs": [],
   "source": [
    "full_list.to_csv('../analysis/{}.csv'.format(treated_family), sep='\\t')"
   ]
  },
  {
   "cell_type": "markdown",
   "metadata": {},
   "source": [
    "# Aperçu\n",
    "Cette section à usage interne. Lecture des tableaux de données et visualisation des complexes."
   ]
  },
  {
   "cell_type": "code",
   "execution_count": 1,
   "metadata": {
    "ExecuteTime": {
     "end_time": "2021-02-16T14:32:51.579951Z",
     "start_time": "2021-02-16T14:32:50.809409Z"
    }
   },
   "outputs": [
    {
     "data": {
      "application/vnd.jupyter.widget-view+json": {
       "model_id": "8393163abc1d48a7a78458d9b0461584",
       "version_major": 2,
       "version_minor": 0
      },
      "text/plain": []
     },
     "metadata": {},
     "output_type": "display_data"
    }
   ],
   "source": [
    "import pandas as pd\n",
    "import nglview as nv"
   ]
  },
  {
   "cell_type": "code",
   "execution_count": 5,
   "metadata": {
    "ExecuteTime": {
     "end_time": "2021-02-16T14:33:04.237433Z",
     "start_time": "2021-02-16T14:33:04.227457Z"
    }
   },
   "outputs": [],
   "source": [
    "full_list = pd.read_csv('../analysis/{}.csv'.format(treated_family), sep='\\t', index_col='idx')"
   ]
  },
  {
   "cell_type": "code",
   "execution_count": 6,
   "metadata": {
    "ExecuteTime": {
     "end_time": "2021-02-16T14:33:05.075842Z",
     "start_time": "2021-02-16T14:33:05.035994Z"
    }
   },
   "outputs": [],
   "source": [
    "dico_inter_surf = joblib.load(\"../analysis/dico_inter_surf_{}.job\".format(treated_family))"
   ]
  },
  {
   "cell_type": "code",
   "execution_count": 7,
   "metadata": {
    "ExecuteTime": {
     "end_time": "2021-02-16T14:33:06.877468Z",
     "start_time": "2021-02-16T14:33:06.568236Z"
    },
    "scrolled": false
   },
   "outputs": [
    {
     "data": {
      "text/html": [
       "<style  type=\"text/css\" >\n",
       "#T_e276d9b6_7063_11eb_8b66_acde48001122row0_col0,#T_e276d9b6_7063_11eb_8b66_acde48001122row0_col1,#T_e276d9b6_7063_11eb_8b66_acde48001122row0_col2,#T_e276d9b6_7063_11eb_8b66_acde48001122row0_col3,#T_e276d9b6_7063_11eb_8b66_acde48001122row0_col4,#T_e276d9b6_7063_11eb_8b66_acde48001122row0_col5,#T_e276d9b6_7063_11eb_8b66_acde48001122row0_col6,#T_e276d9b6_7063_11eb_8b66_acde48001122row0_col7,#T_e276d9b6_7063_11eb_8b66_acde48001122row2_col0,#T_e276d9b6_7063_11eb_8b66_acde48001122row2_col1,#T_e276d9b6_7063_11eb_8b66_acde48001122row2_col2,#T_e276d9b6_7063_11eb_8b66_acde48001122row2_col3,#T_e276d9b6_7063_11eb_8b66_acde48001122row2_col4,#T_e276d9b6_7063_11eb_8b66_acde48001122row2_col5,#T_e276d9b6_7063_11eb_8b66_acde48001122row2_col6,#T_e276d9b6_7063_11eb_8b66_acde48001122row2_col7,#T_e276d9b6_7063_11eb_8b66_acde48001122row3_col0,#T_e276d9b6_7063_11eb_8b66_acde48001122row3_col1,#T_e276d9b6_7063_11eb_8b66_acde48001122row3_col2,#T_e276d9b6_7063_11eb_8b66_acde48001122row3_col3,#T_e276d9b6_7063_11eb_8b66_acde48001122row3_col4,#T_e276d9b6_7063_11eb_8b66_acde48001122row3_col5,#T_e276d9b6_7063_11eb_8b66_acde48001122row3_col6,#T_e276d9b6_7063_11eb_8b66_acde48001122row3_col7,#T_e276d9b6_7063_11eb_8b66_acde48001122row6_col0,#T_e276d9b6_7063_11eb_8b66_acde48001122row6_col1,#T_e276d9b6_7063_11eb_8b66_acde48001122row6_col2,#T_e276d9b6_7063_11eb_8b66_acde48001122row6_col3,#T_e276d9b6_7063_11eb_8b66_acde48001122row6_col4,#T_e276d9b6_7063_11eb_8b66_acde48001122row6_col5,#T_e276d9b6_7063_11eb_8b66_acde48001122row6_col6,#T_e276d9b6_7063_11eb_8b66_acde48001122row6_col7,#T_e276d9b6_7063_11eb_8b66_acde48001122row7_col0,#T_e276d9b6_7063_11eb_8b66_acde48001122row7_col1,#T_e276d9b6_7063_11eb_8b66_acde48001122row7_col2,#T_e276d9b6_7063_11eb_8b66_acde48001122row7_col3,#T_e276d9b6_7063_11eb_8b66_acde48001122row7_col4,#T_e276d9b6_7063_11eb_8b66_acde48001122row7_col5,#T_e276d9b6_7063_11eb_8b66_acde48001122row7_col6,#T_e276d9b6_7063_11eb_8b66_acde48001122row7_col7,#T_e276d9b6_7063_11eb_8b66_acde48001122row8_col0,#T_e276d9b6_7063_11eb_8b66_acde48001122row8_col1,#T_e276d9b6_7063_11eb_8b66_acde48001122row8_col2,#T_e276d9b6_7063_11eb_8b66_acde48001122row8_col3,#T_e276d9b6_7063_11eb_8b66_acde48001122row8_col4,#T_e276d9b6_7063_11eb_8b66_acde48001122row8_col5,#T_e276d9b6_7063_11eb_8b66_acde48001122row8_col6,#T_e276d9b6_7063_11eb_8b66_acde48001122row8_col7,#T_e276d9b6_7063_11eb_8b66_acde48001122row9_col0,#T_e276d9b6_7063_11eb_8b66_acde48001122row9_col1,#T_e276d9b6_7063_11eb_8b66_acde48001122row9_col2,#T_e276d9b6_7063_11eb_8b66_acde48001122row9_col3,#T_e276d9b6_7063_11eb_8b66_acde48001122row9_col4,#T_e276d9b6_7063_11eb_8b66_acde48001122row9_col5,#T_e276d9b6_7063_11eb_8b66_acde48001122row9_col6,#T_e276d9b6_7063_11eb_8b66_acde48001122row9_col7,#T_e276d9b6_7063_11eb_8b66_acde48001122row12_col0,#T_e276d9b6_7063_11eb_8b66_acde48001122row12_col1,#T_e276d9b6_7063_11eb_8b66_acde48001122row12_col2,#T_e276d9b6_7063_11eb_8b66_acde48001122row12_col3,#T_e276d9b6_7063_11eb_8b66_acde48001122row12_col4,#T_e276d9b6_7063_11eb_8b66_acde48001122row12_col5,#T_e276d9b6_7063_11eb_8b66_acde48001122row12_col6,#T_e276d9b6_7063_11eb_8b66_acde48001122row12_col7,#T_e276d9b6_7063_11eb_8b66_acde48001122row15_col0,#T_e276d9b6_7063_11eb_8b66_acde48001122row15_col1,#T_e276d9b6_7063_11eb_8b66_acde48001122row15_col2,#T_e276d9b6_7063_11eb_8b66_acde48001122row15_col3,#T_e276d9b6_7063_11eb_8b66_acde48001122row15_col4,#T_e276d9b6_7063_11eb_8b66_acde48001122row15_col5,#T_e276d9b6_7063_11eb_8b66_acde48001122row15_col6,#T_e276d9b6_7063_11eb_8b66_acde48001122row15_col7,#T_e276d9b6_7063_11eb_8b66_acde48001122row16_col0,#T_e276d9b6_7063_11eb_8b66_acde48001122row16_col1,#T_e276d9b6_7063_11eb_8b66_acde48001122row16_col2,#T_e276d9b6_7063_11eb_8b66_acde48001122row16_col3,#T_e276d9b6_7063_11eb_8b66_acde48001122row16_col4,#T_e276d9b6_7063_11eb_8b66_acde48001122row16_col5,#T_e276d9b6_7063_11eb_8b66_acde48001122row16_col6,#T_e276d9b6_7063_11eb_8b66_acde48001122row16_col7,#T_e276d9b6_7063_11eb_8b66_acde48001122row19_col0,#T_e276d9b6_7063_11eb_8b66_acde48001122row19_col1,#T_e276d9b6_7063_11eb_8b66_acde48001122row19_col2,#T_e276d9b6_7063_11eb_8b66_acde48001122row19_col3,#T_e276d9b6_7063_11eb_8b66_acde48001122row19_col4,#T_e276d9b6_7063_11eb_8b66_acde48001122row19_col5,#T_e276d9b6_7063_11eb_8b66_acde48001122row19_col6,#T_e276d9b6_7063_11eb_8b66_acde48001122row19_col7,#T_e276d9b6_7063_11eb_8b66_acde48001122row26_col0,#T_e276d9b6_7063_11eb_8b66_acde48001122row26_col1,#T_e276d9b6_7063_11eb_8b66_acde48001122row26_col2,#T_e276d9b6_7063_11eb_8b66_acde48001122row26_col3,#T_e276d9b6_7063_11eb_8b66_acde48001122row26_col4,#T_e276d9b6_7063_11eb_8b66_acde48001122row26_col5,#T_e276d9b6_7063_11eb_8b66_acde48001122row26_col6,#T_e276d9b6_7063_11eb_8b66_acde48001122row26_col7,#T_e276d9b6_7063_11eb_8b66_acde48001122row28_col0,#T_e276d9b6_7063_11eb_8b66_acde48001122row28_col1,#T_e276d9b6_7063_11eb_8b66_acde48001122row28_col2,#T_e276d9b6_7063_11eb_8b66_acde48001122row28_col3,#T_e276d9b6_7063_11eb_8b66_acde48001122row28_col4,#T_e276d9b6_7063_11eb_8b66_acde48001122row28_col5,#T_e276d9b6_7063_11eb_8b66_acde48001122row28_col6,#T_e276d9b6_7063_11eb_8b66_acde48001122row28_col7,#T_e276d9b6_7063_11eb_8b66_acde48001122row30_col0,#T_e276d9b6_7063_11eb_8b66_acde48001122row30_col1,#T_e276d9b6_7063_11eb_8b66_acde48001122row30_col2,#T_e276d9b6_7063_11eb_8b66_acde48001122row30_col3,#T_e276d9b6_7063_11eb_8b66_acde48001122row30_col4,#T_e276d9b6_7063_11eb_8b66_acde48001122row30_col5,#T_e276d9b6_7063_11eb_8b66_acde48001122row30_col6,#T_e276d9b6_7063_11eb_8b66_acde48001122row30_col7,#T_e276d9b6_7063_11eb_8b66_acde48001122row32_col0,#T_e276d9b6_7063_11eb_8b66_acde48001122row32_col1,#T_e276d9b6_7063_11eb_8b66_acde48001122row32_col2,#T_e276d9b6_7063_11eb_8b66_acde48001122row32_col3,#T_e276d9b6_7063_11eb_8b66_acde48001122row32_col4,#T_e276d9b6_7063_11eb_8b66_acde48001122row32_col5,#T_e276d9b6_7063_11eb_8b66_acde48001122row32_col6,#T_e276d9b6_7063_11eb_8b66_acde48001122row32_col7,#T_e276d9b6_7063_11eb_8b66_acde48001122row33_col0,#T_e276d9b6_7063_11eb_8b66_acde48001122row33_col1,#T_e276d9b6_7063_11eb_8b66_acde48001122row33_col2,#T_e276d9b6_7063_11eb_8b66_acde48001122row33_col3,#T_e276d9b6_7063_11eb_8b66_acde48001122row33_col4,#T_e276d9b6_7063_11eb_8b66_acde48001122row33_col5,#T_e276d9b6_7063_11eb_8b66_acde48001122row33_col6,#T_e276d9b6_7063_11eb_8b66_acde48001122row33_col7,#T_e276d9b6_7063_11eb_8b66_acde48001122row36_col0,#T_e276d9b6_7063_11eb_8b66_acde48001122row36_col1,#T_e276d9b6_7063_11eb_8b66_acde48001122row36_col2,#T_e276d9b6_7063_11eb_8b66_acde48001122row36_col3,#T_e276d9b6_7063_11eb_8b66_acde48001122row36_col4,#T_e276d9b6_7063_11eb_8b66_acde48001122row36_col5,#T_e276d9b6_7063_11eb_8b66_acde48001122row36_col6,#T_e276d9b6_7063_11eb_8b66_acde48001122row36_col7,#T_e276d9b6_7063_11eb_8b66_acde48001122row38_col0,#T_e276d9b6_7063_11eb_8b66_acde48001122row38_col1,#T_e276d9b6_7063_11eb_8b66_acde48001122row38_col2,#T_e276d9b6_7063_11eb_8b66_acde48001122row38_col3,#T_e276d9b6_7063_11eb_8b66_acde48001122row38_col4,#T_e276d9b6_7063_11eb_8b66_acde48001122row38_col5,#T_e276d9b6_7063_11eb_8b66_acde48001122row38_col6,#T_e276d9b6_7063_11eb_8b66_acde48001122row38_col7,#T_e276d9b6_7063_11eb_8b66_acde48001122row39_col0,#T_e276d9b6_7063_11eb_8b66_acde48001122row39_col1,#T_e276d9b6_7063_11eb_8b66_acde48001122row39_col2,#T_e276d9b6_7063_11eb_8b66_acde48001122row39_col3,#T_e276d9b6_7063_11eb_8b66_acde48001122row39_col4,#T_e276d9b6_7063_11eb_8b66_acde48001122row39_col5,#T_e276d9b6_7063_11eb_8b66_acde48001122row39_col6,#T_e276d9b6_7063_11eb_8b66_acde48001122row39_col7,#T_e276d9b6_7063_11eb_8b66_acde48001122row40_col0,#T_e276d9b6_7063_11eb_8b66_acde48001122row40_col1,#T_e276d9b6_7063_11eb_8b66_acde48001122row40_col2,#T_e276d9b6_7063_11eb_8b66_acde48001122row40_col3,#T_e276d9b6_7063_11eb_8b66_acde48001122row40_col4,#T_e276d9b6_7063_11eb_8b66_acde48001122row40_col5,#T_e276d9b6_7063_11eb_8b66_acde48001122row40_col6,#T_e276d9b6_7063_11eb_8b66_acde48001122row40_col7,#T_e276d9b6_7063_11eb_8b66_acde48001122row42_col0,#T_e276d9b6_7063_11eb_8b66_acde48001122row42_col1,#T_e276d9b6_7063_11eb_8b66_acde48001122row42_col2,#T_e276d9b6_7063_11eb_8b66_acde48001122row42_col3,#T_e276d9b6_7063_11eb_8b66_acde48001122row42_col4,#T_e276d9b6_7063_11eb_8b66_acde48001122row42_col5,#T_e276d9b6_7063_11eb_8b66_acde48001122row42_col6,#T_e276d9b6_7063_11eb_8b66_acde48001122row42_col7,#T_e276d9b6_7063_11eb_8b66_acde48001122row43_col0,#T_e276d9b6_7063_11eb_8b66_acde48001122row43_col1,#T_e276d9b6_7063_11eb_8b66_acde48001122row43_col2,#T_e276d9b6_7063_11eb_8b66_acde48001122row43_col3,#T_e276d9b6_7063_11eb_8b66_acde48001122row43_col4,#T_e276d9b6_7063_11eb_8b66_acde48001122row43_col5,#T_e276d9b6_7063_11eb_8b66_acde48001122row43_col6,#T_e276d9b6_7063_11eb_8b66_acde48001122row43_col7,#T_e276d9b6_7063_11eb_8b66_acde48001122row47_col0,#T_e276d9b6_7063_11eb_8b66_acde48001122row47_col1,#T_e276d9b6_7063_11eb_8b66_acde48001122row47_col2,#T_e276d9b6_7063_11eb_8b66_acde48001122row47_col3,#T_e276d9b6_7063_11eb_8b66_acde48001122row47_col4,#T_e276d9b6_7063_11eb_8b66_acde48001122row47_col5,#T_e276d9b6_7063_11eb_8b66_acde48001122row47_col6,#T_e276d9b6_7063_11eb_8b66_acde48001122row47_col7,#T_e276d9b6_7063_11eb_8b66_acde48001122row49_col0,#T_e276d9b6_7063_11eb_8b66_acde48001122row49_col1,#T_e276d9b6_7063_11eb_8b66_acde48001122row49_col2,#T_e276d9b6_7063_11eb_8b66_acde48001122row49_col3,#T_e276d9b6_7063_11eb_8b66_acde48001122row49_col4,#T_e276d9b6_7063_11eb_8b66_acde48001122row49_col5,#T_e276d9b6_7063_11eb_8b66_acde48001122row49_col6,#T_e276d9b6_7063_11eb_8b66_acde48001122row49_col7,#T_e276d9b6_7063_11eb_8b66_acde48001122row64_col0,#T_e276d9b6_7063_11eb_8b66_acde48001122row64_col1,#T_e276d9b6_7063_11eb_8b66_acde48001122row64_col2,#T_e276d9b6_7063_11eb_8b66_acde48001122row64_col3,#T_e276d9b6_7063_11eb_8b66_acde48001122row64_col4,#T_e276d9b6_7063_11eb_8b66_acde48001122row64_col5,#T_e276d9b6_7063_11eb_8b66_acde48001122row64_col6,#T_e276d9b6_7063_11eb_8b66_acde48001122row64_col7,#T_e276d9b6_7063_11eb_8b66_acde48001122row65_col0,#T_e276d9b6_7063_11eb_8b66_acde48001122row65_col1,#T_e276d9b6_7063_11eb_8b66_acde48001122row65_col2,#T_e276d9b6_7063_11eb_8b66_acde48001122row65_col3,#T_e276d9b6_7063_11eb_8b66_acde48001122row65_col4,#T_e276d9b6_7063_11eb_8b66_acde48001122row65_col5,#T_e276d9b6_7063_11eb_8b66_acde48001122row65_col6,#T_e276d9b6_7063_11eb_8b66_acde48001122row65_col7,#T_e276d9b6_7063_11eb_8b66_acde48001122row66_col0,#T_e276d9b6_7063_11eb_8b66_acde48001122row66_col1,#T_e276d9b6_7063_11eb_8b66_acde48001122row66_col2,#T_e276d9b6_7063_11eb_8b66_acde48001122row66_col3,#T_e276d9b6_7063_11eb_8b66_acde48001122row66_col4,#T_e276d9b6_7063_11eb_8b66_acde48001122row66_col5,#T_e276d9b6_7063_11eb_8b66_acde48001122row66_col6,#T_e276d9b6_7063_11eb_8b66_acde48001122row66_col7{\n",
       "            background-color:  bisque;\n",
       "        }#T_e276d9b6_7063_11eb_8b66_acde48001122row1_col0,#T_e276d9b6_7063_11eb_8b66_acde48001122row1_col1,#T_e276d9b6_7063_11eb_8b66_acde48001122row1_col2,#T_e276d9b6_7063_11eb_8b66_acde48001122row1_col3,#T_e276d9b6_7063_11eb_8b66_acde48001122row1_col4,#T_e276d9b6_7063_11eb_8b66_acde48001122row1_col5,#T_e276d9b6_7063_11eb_8b66_acde48001122row1_col6,#T_e276d9b6_7063_11eb_8b66_acde48001122row1_col7,#T_e276d9b6_7063_11eb_8b66_acde48001122row4_col0,#T_e276d9b6_7063_11eb_8b66_acde48001122row4_col1,#T_e276d9b6_7063_11eb_8b66_acde48001122row4_col2,#T_e276d9b6_7063_11eb_8b66_acde48001122row4_col3,#T_e276d9b6_7063_11eb_8b66_acde48001122row4_col4,#T_e276d9b6_7063_11eb_8b66_acde48001122row4_col5,#T_e276d9b6_7063_11eb_8b66_acde48001122row4_col6,#T_e276d9b6_7063_11eb_8b66_acde48001122row4_col7,#T_e276d9b6_7063_11eb_8b66_acde48001122row5_col0,#T_e276d9b6_7063_11eb_8b66_acde48001122row5_col1,#T_e276d9b6_7063_11eb_8b66_acde48001122row5_col2,#T_e276d9b6_7063_11eb_8b66_acde48001122row5_col3,#T_e276d9b6_7063_11eb_8b66_acde48001122row5_col4,#T_e276d9b6_7063_11eb_8b66_acde48001122row5_col5,#T_e276d9b6_7063_11eb_8b66_acde48001122row5_col6,#T_e276d9b6_7063_11eb_8b66_acde48001122row5_col7,#T_e276d9b6_7063_11eb_8b66_acde48001122row10_col0,#T_e276d9b6_7063_11eb_8b66_acde48001122row10_col1,#T_e276d9b6_7063_11eb_8b66_acde48001122row10_col2,#T_e276d9b6_7063_11eb_8b66_acde48001122row10_col3,#T_e276d9b6_7063_11eb_8b66_acde48001122row10_col4,#T_e276d9b6_7063_11eb_8b66_acde48001122row10_col5,#T_e276d9b6_7063_11eb_8b66_acde48001122row10_col6,#T_e276d9b6_7063_11eb_8b66_acde48001122row10_col7,#T_e276d9b6_7063_11eb_8b66_acde48001122row11_col0,#T_e276d9b6_7063_11eb_8b66_acde48001122row11_col1,#T_e276d9b6_7063_11eb_8b66_acde48001122row11_col2,#T_e276d9b6_7063_11eb_8b66_acde48001122row11_col3,#T_e276d9b6_7063_11eb_8b66_acde48001122row11_col4,#T_e276d9b6_7063_11eb_8b66_acde48001122row11_col5,#T_e276d9b6_7063_11eb_8b66_acde48001122row11_col6,#T_e276d9b6_7063_11eb_8b66_acde48001122row11_col7,#T_e276d9b6_7063_11eb_8b66_acde48001122row13_col0,#T_e276d9b6_7063_11eb_8b66_acde48001122row13_col1,#T_e276d9b6_7063_11eb_8b66_acde48001122row13_col2,#T_e276d9b6_7063_11eb_8b66_acde48001122row13_col3,#T_e276d9b6_7063_11eb_8b66_acde48001122row13_col4,#T_e276d9b6_7063_11eb_8b66_acde48001122row13_col5,#T_e276d9b6_7063_11eb_8b66_acde48001122row13_col6,#T_e276d9b6_7063_11eb_8b66_acde48001122row13_col7,#T_e276d9b6_7063_11eb_8b66_acde48001122row14_col0,#T_e276d9b6_7063_11eb_8b66_acde48001122row14_col1,#T_e276d9b6_7063_11eb_8b66_acde48001122row14_col2,#T_e276d9b6_7063_11eb_8b66_acde48001122row14_col3,#T_e276d9b6_7063_11eb_8b66_acde48001122row14_col4,#T_e276d9b6_7063_11eb_8b66_acde48001122row14_col5,#T_e276d9b6_7063_11eb_8b66_acde48001122row14_col6,#T_e276d9b6_7063_11eb_8b66_acde48001122row14_col7,#T_e276d9b6_7063_11eb_8b66_acde48001122row17_col0,#T_e276d9b6_7063_11eb_8b66_acde48001122row17_col1,#T_e276d9b6_7063_11eb_8b66_acde48001122row17_col2,#T_e276d9b6_7063_11eb_8b66_acde48001122row17_col3,#T_e276d9b6_7063_11eb_8b66_acde48001122row17_col4,#T_e276d9b6_7063_11eb_8b66_acde48001122row17_col5,#T_e276d9b6_7063_11eb_8b66_acde48001122row17_col6,#T_e276d9b6_7063_11eb_8b66_acde48001122row17_col7,#T_e276d9b6_7063_11eb_8b66_acde48001122row18_col0,#T_e276d9b6_7063_11eb_8b66_acde48001122row18_col1,#T_e276d9b6_7063_11eb_8b66_acde48001122row18_col2,#T_e276d9b6_7063_11eb_8b66_acde48001122row18_col3,#T_e276d9b6_7063_11eb_8b66_acde48001122row18_col4,#T_e276d9b6_7063_11eb_8b66_acde48001122row18_col5,#T_e276d9b6_7063_11eb_8b66_acde48001122row18_col6,#T_e276d9b6_7063_11eb_8b66_acde48001122row18_col7,#T_e276d9b6_7063_11eb_8b66_acde48001122row20_col0,#T_e276d9b6_7063_11eb_8b66_acde48001122row20_col1,#T_e276d9b6_7063_11eb_8b66_acde48001122row20_col2,#T_e276d9b6_7063_11eb_8b66_acde48001122row20_col3,#T_e276d9b6_7063_11eb_8b66_acde48001122row20_col4,#T_e276d9b6_7063_11eb_8b66_acde48001122row20_col5,#T_e276d9b6_7063_11eb_8b66_acde48001122row20_col6,#T_e276d9b6_7063_11eb_8b66_acde48001122row20_col7,#T_e276d9b6_7063_11eb_8b66_acde48001122row21_col0,#T_e276d9b6_7063_11eb_8b66_acde48001122row21_col1,#T_e276d9b6_7063_11eb_8b66_acde48001122row21_col2,#T_e276d9b6_7063_11eb_8b66_acde48001122row21_col3,#T_e276d9b6_7063_11eb_8b66_acde48001122row21_col4,#T_e276d9b6_7063_11eb_8b66_acde48001122row21_col5,#T_e276d9b6_7063_11eb_8b66_acde48001122row21_col6,#T_e276d9b6_7063_11eb_8b66_acde48001122row21_col7,#T_e276d9b6_7063_11eb_8b66_acde48001122row22_col0,#T_e276d9b6_7063_11eb_8b66_acde48001122row22_col1,#T_e276d9b6_7063_11eb_8b66_acde48001122row22_col2,#T_e276d9b6_7063_11eb_8b66_acde48001122row22_col3,#T_e276d9b6_7063_11eb_8b66_acde48001122row22_col4,#T_e276d9b6_7063_11eb_8b66_acde48001122row22_col5,#T_e276d9b6_7063_11eb_8b66_acde48001122row22_col6,#T_e276d9b6_7063_11eb_8b66_acde48001122row22_col7,#T_e276d9b6_7063_11eb_8b66_acde48001122row23_col0,#T_e276d9b6_7063_11eb_8b66_acde48001122row23_col1,#T_e276d9b6_7063_11eb_8b66_acde48001122row23_col2,#T_e276d9b6_7063_11eb_8b66_acde48001122row23_col3,#T_e276d9b6_7063_11eb_8b66_acde48001122row23_col4,#T_e276d9b6_7063_11eb_8b66_acde48001122row23_col5,#T_e276d9b6_7063_11eb_8b66_acde48001122row23_col6,#T_e276d9b6_7063_11eb_8b66_acde48001122row23_col7,#T_e276d9b6_7063_11eb_8b66_acde48001122row24_col0,#T_e276d9b6_7063_11eb_8b66_acde48001122row24_col1,#T_e276d9b6_7063_11eb_8b66_acde48001122row24_col2,#T_e276d9b6_7063_11eb_8b66_acde48001122row24_col3,#T_e276d9b6_7063_11eb_8b66_acde48001122row24_col4,#T_e276d9b6_7063_11eb_8b66_acde48001122row24_col5,#T_e276d9b6_7063_11eb_8b66_acde48001122row24_col6,#T_e276d9b6_7063_11eb_8b66_acde48001122row24_col7,#T_e276d9b6_7063_11eb_8b66_acde48001122row25_col0,#T_e276d9b6_7063_11eb_8b66_acde48001122row25_col1,#T_e276d9b6_7063_11eb_8b66_acde48001122row25_col2,#T_e276d9b6_7063_11eb_8b66_acde48001122row25_col3,#T_e276d9b6_7063_11eb_8b66_acde48001122row25_col4,#T_e276d9b6_7063_11eb_8b66_acde48001122row25_col5,#T_e276d9b6_7063_11eb_8b66_acde48001122row25_col6,#T_e276d9b6_7063_11eb_8b66_acde48001122row25_col7,#T_e276d9b6_7063_11eb_8b66_acde48001122row27_col0,#T_e276d9b6_7063_11eb_8b66_acde48001122row27_col1,#T_e276d9b6_7063_11eb_8b66_acde48001122row27_col2,#T_e276d9b6_7063_11eb_8b66_acde48001122row27_col3,#T_e276d9b6_7063_11eb_8b66_acde48001122row27_col4,#T_e276d9b6_7063_11eb_8b66_acde48001122row27_col5,#T_e276d9b6_7063_11eb_8b66_acde48001122row27_col6,#T_e276d9b6_7063_11eb_8b66_acde48001122row27_col7,#T_e276d9b6_7063_11eb_8b66_acde48001122row29_col0,#T_e276d9b6_7063_11eb_8b66_acde48001122row29_col1,#T_e276d9b6_7063_11eb_8b66_acde48001122row29_col2,#T_e276d9b6_7063_11eb_8b66_acde48001122row29_col3,#T_e276d9b6_7063_11eb_8b66_acde48001122row29_col4,#T_e276d9b6_7063_11eb_8b66_acde48001122row29_col5,#T_e276d9b6_7063_11eb_8b66_acde48001122row29_col6,#T_e276d9b6_7063_11eb_8b66_acde48001122row29_col7,#T_e276d9b6_7063_11eb_8b66_acde48001122row31_col0,#T_e276d9b6_7063_11eb_8b66_acde48001122row31_col1,#T_e276d9b6_7063_11eb_8b66_acde48001122row31_col2,#T_e276d9b6_7063_11eb_8b66_acde48001122row31_col3,#T_e276d9b6_7063_11eb_8b66_acde48001122row31_col4,#T_e276d9b6_7063_11eb_8b66_acde48001122row31_col5,#T_e276d9b6_7063_11eb_8b66_acde48001122row31_col6,#T_e276d9b6_7063_11eb_8b66_acde48001122row31_col7,#T_e276d9b6_7063_11eb_8b66_acde48001122row34_col0,#T_e276d9b6_7063_11eb_8b66_acde48001122row34_col1,#T_e276d9b6_7063_11eb_8b66_acde48001122row34_col2,#T_e276d9b6_7063_11eb_8b66_acde48001122row34_col3,#T_e276d9b6_7063_11eb_8b66_acde48001122row34_col4,#T_e276d9b6_7063_11eb_8b66_acde48001122row34_col5,#T_e276d9b6_7063_11eb_8b66_acde48001122row34_col6,#T_e276d9b6_7063_11eb_8b66_acde48001122row34_col7,#T_e276d9b6_7063_11eb_8b66_acde48001122row35_col0,#T_e276d9b6_7063_11eb_8b66_acde48001122row35_col1,#T_e276d9b6_7063_11eb_8b66_acde48001122row35_col2,#T_e276d9b6_7063_11eb_8b66_acde48001122row35_col3,#T_e276d9b6_7063_11eb_8b66_acde48001122row35_col4,#T_e276d9b6_7063_11eb_8b66_acde48001122row35_col5,#T_e276d9b6_7063_11eb_8b66_acde48001122row35_col6,#T_e276d9b6_7063_11eb_8b66_acde48001122row35_col7,#T_e276d9b6_7063_11eb_8b66_acde48001122row37_col0,#T_e276d9b6_7063_11eb_8b66_acde48001122row37_col1,#T_e276d9b6_7063_11eb_8b66_acde48001122row37_col2,#T_e276d9b6_7063_11eb_8b66_acde48001122row37_col3,#T_e276d9b6_7063_11eb_8b66_acde48001122row37_col4,#T_e276d9b6_7063_11eb_8b66_acde48001122row37_col5,#T_e276d9b6_7063_11eb_8b66_acde48001122row37_col6,#T_e276d9b6_7063_11eb_8b66_acde48001122row37_col7,#T_e276d9b6_7063_11eb_8b66_acde48001122row41_col0,#T_e276d9b6_7063_11eb_8b66_acde48001122row41_col1,#T_e276d9b6_7063_11eb_8b66_acde48001122row41_col2,#T_e276d9b6_7063_11eb_8b66_acde48001122row41_col3,#T_e276d9b6_7063_11eb_8b66_acde48001122row41_col4,#T_e276d9b6_7063_11eb_8b66_acde48001122row41_col5,#T_e276d9b6_7063_11eb_8b66_acde48001122row41_col6,#T_e276d9b6_7063_11eb_8b66_acde48001122row41_col7,#T_e276d9b6_7063_11eb_8b66_acde48001122row44_col0,#T_e276d9b6_7063_11eb_8b66_acde48001122row44_col1,#T_e276d9b6_7063_11eb_8b66_acde48001122row44_col2,#T_e276d9b6_7063_11eb_8b66_acde48001122row44_col3,#T_e276d9b6_7063_11eb_8b66_acde48001122row44_col4,#T_e276d9b6_7063_11eb_8b66_acde48001122row44_col5,#T_e276d9b6_7063_11eb_8b66_acde48001122row44_col6,#T_e276d9b6_7063_11eb_8b66_acde48001122row44_col7,#T_e276d9b6_7063_11eb_8b66_acde48001122row45_col0,#T_e276d9b6_7063_11eb_8b66_acde48001122row45_col1,#T_e276d9b6_7063_11eb_8b66_acde48001122row45_col2,#T_e276d9b6_7063_11eb_8b66_acde48001122row45_col3,#T_e276d9b6_7063_11eb_8b66_acde48001122row45_col4,#T_e276d9b6_7063_11eb_8b66_acde48001122row45_col5,#T_e276d9b6_7063_11eb_8b66_acde48001122row45_col6,#T_e276d9b6_7063_11eb_8b66_acde48001122row45_col7,#T_e276d9b6_7063_11eb_8b66_acde48001122row46_col0,#T_e276d9b6_7063_11eb_8b66_acde48001122row46_col1,#T_e276d9b6_7063_11eb_8b66_acde48001122row46_col2,#T_e276d9b6_7063_11eb_8b66_acde48001122row46_col3,#T_e276d9b6_7063_11eb_8b66_acde48001122row46_col4,#T_e276d9b6_7063_11eb_8b66_acde48001122row46_col5,#T_e276d9b6_7063_11eb_8b66_acde48001122row46_col6,#T_e276d9b6_7063_11eb_8b66_acde48001122row46_col7,#T_e276d9b6_7063_11eb_8b66_acde48001122row48_col0,#T_e276d9b6_7063_11eb_8b66_acde48001122row48_col1,#T_e276d9b6_7063_11eb_8b66_acde48001122row48_col2,#T_e276d9b6_7063_11eb_8b66_acde48001122row48_col3,#T_e276d9b6_7063_11eb_8b66_acde48001122row48_col4,#T_e276d9b6_7063_11eb_8b66_acde48001122row48_col5,#T_e276d9b6_7063_11eb_8b66_acde48001122row48_col6,#T_e276d9b6_7063_11eb_8b66_acde48001122row48_col7,#T_e276d9b6_7063_11eb_8b66_acde48001122row50_col0,#T_e276d9b6_7063_11eb_8b66_acde48001122row50_col1,#T_e276d9b6_7063_11eb_8b66_acde48001122row50_col2,#T_e276d9b6_7063_11eb_8b66_acde48001122row50_col3,#T_e276d9b6_7063_11eb_8b66_acde48001122row50_col4,#T_e276d9b6_7063_11eb_8b66_acde48001122row50_col5,#T_e276d9b6_7063_11eb_8b66_acde48001122row50_col6,#T_e276d9b6_7063_11eb_8b66_acde48001122row50_col7,#T_e276d9b6_7063_11eb_8b66_acde48001122row51_col0,#T_e276d9b6_7063_11eb_8b66_acde48001122row51_col1,#T_e276d9b6_7063_11eb_8b66_acde48001122row51_col2,#T_e276d9b6_7063_11eb_8b66_acde48001122row51_col3,#T_e276d9b6_7063_11eb_8b66_acde48001122row51_col4,#T_e276d9b6_7063_11eb_8b66_acde48001122row51_col5,#T_e276d9b6_7063_11eb_8b66_acde48001122row51_col6,#T_e276d9b6_7063_11eb_8b66_acde48001122row51_col7,#T_e276d9b6_7063_11eb_8b66_acde48001122row52_col0,#T_e276d9b6_7063_11eb_8b66_acde48001122row52_col1,#T_e276d9b6_7063_11eb_8b66_acde48001122row52_col2,#T_e276d9b6_7063_11eb_8b66_acde48001122row52_col3,#T_e276d9b6_7063_11eb_8b66_acde48001122row52_col4,#T_e276d9b6_7063_11eb_8b66_acde48001122row52_col5,#T_e276d9b6_7063_11eb_8b66_acde48001122row52_col6,#T_e276d9b6_7063_11eb_8b66_acde48001122row52_col7,#T_e276d9b6_7063_11eb_8b66_acde48001122row53_col0,#T_e276d9b6_7063_11eb_8b66_acde48001122row53_col1,#T_e276d9b6_7063_11eb_8b66_acde48001122row53_col2,#T_e276d9b6_7063_11eb_8b66_acde48001122row53_col3,#T_e276d9b6_7063_11eb_8b66_acde48001122row53_col4,#T_e276d9b6_7063_11eb_8b66_acde48001122row53_col5,#T_e276d9b6_7063_11eb_8b66_acde48001122row53_col6,#T_e276d9b6_7063_11eb_8b66_acde48001122row53_col7,#T_e276d9b6_7063_11eb_8b66_acde48001122row54_col0,#T_e276d9b6_7063_11eb_8b66_acde48001122row54_col1,#T_e276d9b6_7063_11eb_8b66_acde48001122row54_col2,#T_e276d9b6_7063_11eb_8b66_acde48001122row54_col3,#T_e276d9b6_7063_11eb_8b66_acde48001122row54_col4,#T_e276d9b6_7063_11eb_8b66_acde48001122row54_col5,#T_e276d9b6_7063_11eb_8b66_acde48001122row54_col6,#T_e276d9b6_7063_11eb_8b66_acde48001122row54_col7,#T_e276d9b6_7063_11eb_8b66_acde48001122row55_col0,#T_e276d9b6_7063_11eb_8b66_acde48001122row55_col1,#T_e276d9b6_7063_11eb_8b66_acde48001122row55_col2,#T_e276d9b6_7063_11eb_8b66_acde48001122row55_col3,#T_e276d9b6_7063_11eb_8b66_acde48001122row55_col4,#T_e276d9b6_7063_11eb_8b66_acde48001122row55_col5,#T_e276d9b6_7063_11eb_8b66_acde48001122row55_col6,#T_e276d9b6_7063_11eb_8b66_acde48001122row55_col7,#T_e276d9b6_7063_11eb_8b66_acde48001122row56_col0,#T_e276d9b6_7063_11eb_8b66_acde48001122row56_col1,#T_e276d9b6_7063_11eb_8b66_acde48001122row56_col2,#T_e276d9b6_7063_11eb_8b66_acde48001122row56_col3,#T_e276d9b6_7063_11eb_8b66_acde48001122row56_col4,#T_e276d9b6_7063_11eb_8b66_acde48001122row56_col5,#T_e276d9b6_7063_11eb_8b66_acde48001122row56_col6,#T_e276d9b6_7063_11eb_8b66_acde48001122row56_col7,#T_e276d9b6_7063_11eb_8b66_acde48001122row57_col0,#T_e276d9b6_7063_11eb_8b66_acde48001122row57_col1,#T_e276d9b6_7063_11eb_8b66_acde48001122row57_col2,#T_e276d9b6_7063_11eb_8b66_acde48001122row57_col3,#T_e276d9b6_7063_11eb_8b66_acde48001122row57_col4,#T_e276d9b6_7063_11eb_8b66_acde48001122row57_col5,#T_e276d9b6_7063_11eb_8b66_acde48001122row57_col6,#T_e276d9b6_7063_11eb_8b66_acde48001122row57_col7,#T_e276d9b6_7063_11eb_8b66_acde48001122row58_col0,#T_e276d9b6_7063_11eb_8b66_acde48001122row58_col1,#T_e276d9b6_7063_11eb_8b66_acde48001122row58_col2,#T_e276d9b6_7063_11eb_8b66_acde48001122row58_col3,#T_e276d9b6_7063_11eb_8b66_acde48001122row58_col4,#T_e276d9b6_7063_11eb_8b66_acde48001122row58_col5,#T_e276d9b6_7063_11eb_8b66_acde48001122row58_col6,#T_e276d9b6_7063_11eb_8b66_acde48001122row58_col7,#T_e276d9b6_7063_11eb_8b66_acde48001122row59_col0,#T_e276d9b6_7063_11eb_8b66_acde48001122row59_col1,#T_e276d9b6_7063_11eb_8b66_acde48001122row59_col2,#T_e276d9b6_7063_11eb_8b66_acde48001122row59_col3,#T_e276d9b6_7063_11eb_8b66_acde48001122row59_col4,#T_e276d9b6_7063_11eb_8b66_acde48001122row59_col5,#T_e276d9b6_7063_11eb_8b66_acde48001122row59_col6,#T_e276d9b6_7063_11eb_8b66_acde48001122row59_col7,#T_e276d9b6_7063_11eb_8b66_acde48001122row60_col0,#T_e276d9b6_7063_11eb_8b66_acde48001122row60_col1,#T_e276d9b6_7063_11eb_8b66_acde48001122row60_col2,#T_e276d9b6_7063_11eb_8b66_acde48001122row60_col3,#T_e276d9b6_7063_11eb_8b66_acde48001122row60_col4,#T_e276d9b6_7063_11eb_8b66_acde48001122row60_col5,#T_e276d9b6_7063_11eb_8b66_acde48001122row60_col6,#T_e276d9b6_7063_11eb_8b66_acde48001122row60_col7,#T_e276d9b6_7063_11eb_8b66_acde48001122row61_col0,#T_e276d9b6_7063_11eb_8b66_acde48001122row61_col1,#T_e276d9b6_7063_11eb_8b66_acde48001122row61_col2,#T_e276d9b6_7063_11eb_8b66_acde48001122row61_col3,#T_e276d9b6_7063_11eb_8b66_acde48001122row61_col4,#T_e276d9b6_7063_11eb_8b66_acde48001122row61_col5,#T_e276d9b6_7063_11eb_8b66_acde48001122row61_col6,#T_e276d9b6_7063_11eb_8b66_acde48001122row61_col7,#T_e276d9b6_7063_11eb_8b66_acde48001122row62_col0,#T_e276d9b6_7063_11eb_8b66_acde48001122row62_col1,#T_e276d9b6_7063_11eb_8b66_acde48001122row62_col2,#T_e276d9b6_7063_11eb_8b66_acde48001122row62_col3,#T_e276d9b6_7063_11eb_8b66_acde48001122row62_col4,#T_e276d9b6_7063_11eb_8b66_acde48001122row62_col5,#T_e276d9b6_7063_11eb_8b66_acde48001122row62_col6,#T_e276d9b6_7063_11eb_8b66_acde48001122row62_col7,#T_e276d9b6_7063_11eb_8b66_acde48001122row63_col0,#T_e276d9b6_7063_11eb_8b66_acde48001122row63_col1,#T_e276d9b6_7063_11eb_8b66_acde48001122row63_col2,#T_e276d9b6_7063_11eb_8b66_acde48001122row63_col3,#T_e276d9b6_7063_11eb_8b66_acde48001122row63_col4,#T_e276d9b6_7063_11eb_8b66_acde48001122row63_col5,#T_e276d9b6_7063_11eb_8b66_acde48001122row63_col6,#T_e276d9b6_7063_11eb_8b66_acde48001122row63_col7{\n",
       "            background-color:  azure;\n",
       "        }</style><table id=\"T_e276d9b6_7063_11eb_8b66_acde48001122\" ><thead>    <tr>        <th class=\"blank level0\" ></th>        <th class=\"col_heading level0 col0\" >PDB_chains</th>        <th class=\"col_heading level0 col1\" >size_lig</th>        <th class=\"col_heading level0 col2\" >size_rec</th>        <th class=\"col_heading level0 col3\" >size_tot</th>        <th class=\"col_heading level0 col4\" >inter_lig</th>        <th class=\"col_heading level0 col5\" >inter_rec</th>        <th class=\"col_heading level0 col6\" >type</th>        <th class=\"col_heading level0 col7\" >description</th>    </tr>    <tr>        <th class=\"index_name level0\" >idx</th>        <th class=\"blank\" ></th>        <th class=\"blank\" ></th>        <th class=\"blank\" ></th>        <th class=\"blank\" ></th>        <th class=\"blank\" ></th>        <th class=\"blank\" ></th>        <th class=\"blank\" ></th>        <th class=\"blank\" ></th>    </tr></thead><tbody>\n",
       "                <tr>\n",
       "                        <th id=\"T_e276d9b6_7063_11eb_8b66_acde48001122level0_row0\" class=\"row_heading level0 row0\" >0</th>\n",
       "                        <td id=\"T_e276d9b6_7063_11eb_8b66_acde48001122row0_col0\" class=\"data row0 col0\" >2OOB_BA</td>\n",
       "                        <td id=\"T_e276d9b6_7063_11eb_8b66_acde48001122row0_col1\" class=\"data row0 col1\" >44</td>\n",
       "                        <td id=\"T_e276d9b6_7063_11eb_8b66_acde48001122row0_col2\" class=\"data row0 col2\" >72</td>\n",
       "                        <td id=\"T_e276d9b6_7063_11eb_8b66_acde48001122row0_col3\" class=\"data row0 col3\" >116</td>\n",
       "                        <td id=\"T_e276d9b6_7063_11eb_8b66_acde48001122row0_col4\" class=\"data row0 col4\" >11</td>\n",
       "                        <td id=\"T_e276d9b6_7063_11eb_8b66_acde48001122row0_col5\" class=\"data row0 col5\" >14</td>\n",
       "                        <td id=\"T_e276d9b6_7063_11eb_8b66_acde48001122row0_col6\" class=\"data row0 col6\" >t</td>\n",
       "                        <td id=\"T_e276d9b6_7063_11eb_8b66_acde48001122row0_col7\" class=\"data row0 col7\" > E3 ubiquitin-protein ligase CBL-B (E.C.6.3.2.-), Ubiquitin</td>\n",
       "            </tr>\n",
       "            <tr>\n",
       "                        <th id=\"T_e276d9b6_7063_11eb_8b66_acde48001122level0_row1\" class=\"row_heading level0 row1\" >1</th>\n",
       "                        <td id=\"T_e276d9b6_7063_11eb_8b66_acde48001122row1_col0\" class=\"data row1 col0\" >1CDT_AB</td>\n",
       "                        <td id=\"T_e276d9b6_7063_11eb_8b66_acde48001122row1_col1\" class=\"data row1 col1\" >60</td>\n",
       "                        <td id=\"T_e276d9b6_7063_11eb_8b66_acde48001122row1_col2\" class=\"data row1 col2\" >60</td>\n",
       "                        <td id=\"T_e276d9b6_7063_11eb_8b66_acde48001122row1_col3\" class=\"data row1 col3\" >120</td>\n",
       "                        <td id=\"T_e276d9b6_7063_11eb_8b66_acde48001122row1_col4\" class=\"data row1 col4\" >14</td>\n",
       "                        <td id=\"T_e276d9b6_7063_11eb_8b66_acde48001122row1_col5\" class=\"data row1 col5\" >16</td>\n",
       "                        <td id=\"T_e276d9b6_7063_11eb_8b66_acde48001122row1_col6\" class=\"data row1 col6\" >p</td>\n",
       "                        <td id=\"T_e276d9b6_7063_11eb_8b66_acde48001122row1_col7\" class=\"data row1 col7\" > CARDIOTOXIN V4/II FROM NAJA MOSSAMBICA MOSSAMBICA: THE REFINED CRYSTAL STRUCTURE</td>\n",
       "            </tr>\n",
       "            <tr>\n",
       "                        <th id=\"T_e276d9b6_7063_11eb_8b66_acde48001122level0_row2\" class=\"row_heading level0 row2\" >2</th>\n",
       "                        <td id=\"T_e276d9b6_7063_11eb_8b66_acde48001122row2_col0\" class=\"data row2 col0\" >1A15_AB</td>\n",
       "                        <td id=\"T_e276d9b6_7063_11eb_8b66_acde48001122row2_col1\" class=\"data row2 col1\" >57</td>\n",
       "                        <td id=\"T_e276d9b6_7063_11eb_8b66_acde48001122row2_col2\" class=\"data row2 col2\" >67</td>\n",
       "                        <td id=\"T_e276d9b6_7063_11eb_8b66_acde48001122row2_col3\" class=\"data row2 col3\" >124</td>\n",
       "                        <td id=\"T_e276d9b6_7063_11eb_8b66_acde48001122row2_col4\" class=\"data row2 col4\" >22</td>\n",
       "                        <td id=\"T_e276d9b6_7063_11eb_8b66_acde48001122row2_col5\" class=\"data row2 col5\" >18</td>\n",
       "                        <td id=\"T_e276d9b6_7063_11eb_8b66_acde48001122row2_col6\" class=\"data row2 col6\" >t</td>\n",
       "                        <td id=\"T_e276d9b6_7063_11eb_8b66_acde48001122row2_col7\" class=\"data row2 col7\" > STROMAL DERIVED FACTOR-1ALPHA</td>\n",
       "            </tr>\n",
       "            <tr>\n",
       "                        <th id=\"T_e276d9b6_7063_11eb_8b66_acde48001122level0_row3\" class=\"row_heading level0 row3\" >3</th>\n",
       "                        <td id=\"T_e276d9b6_7063_11eb_8b66_acde48001122row3_col0\" class=\"data row3 col0\" >1GCQ_AC</td>\n",
       "                        <td id=\"T_e276d9b6_7063_11eb_8b66_acde48001122row3_col1\" class=\"data row3 col1\" >69</td>\n",
       "                        <td id=\"T_e276d9b6_7063_11eb_8b66_acde48001122row3_col2\" class=\"data row3 col2\" >56</td>\n",
       "                        <td id=\"T_e276d9b6_7063_11eb_8b66_acde48001122row3_col3\" class=\"data row3 col3\" >125</td>\n",
       "                        <td id=\"T_e276d9b6_7063_11eb_8b66_acde48001122row3_col4\" class=\"data row3 col4\" >12</td>\n",
       "                        <td id=\"T_e276d9b6_7063_11eb_8b66_acde48001122row3_col5\" class=\"data row3 col5\" >11</td>\n",
       "                        <td id=\"T_e276d9b6_7063_11eb_8b66_acde48001122row3_col6\" class=\"data row3 col6\" >t</td>\n",
       "                        <td id=\"T_e276d9b6_7063_11eb_8b66_acde48001122row3_col7\" class=\"data row3 col7\" > VAV AND GRB2 SH3 DOMAINS</td>\n",
       "            </tr>\n",
       "            <tr>\n",
       "                        <th id=\"T_e276d9b6_7063_11eb_8b66_acde48001122level0_row4\" class=\"row_heading level0 row4\" >4</th>\n",
       "                        <td id=\"T_e276d9b6_7063_11eb_8b66_acde48001122row4_col0\" class=\"data row4 col0\" >1AY7_AB</td>\n",
       "                        <td id=\"T_e276d9b6_7063_11eb_8b66_acde48001122row4_col1\" class=\"data row4 col1\" >89</td>\n",
       "                        <td id=\"T_e276d9b6_7063_11eb_8b66_acde48001122row4_col2\" class=\"data row4 col2\" >96</td>\n",
       "                        <td id=\"T_e276d9b6_7063_11eb_8b66_acde48001122row4_col3\" class=\"data row4 col3\" >185</td>\n",
       "                        <td id=\"T_e276d9b6_7063_11eb_8b66_acde48001122row4_col4\" class=\"data row4 col4\" >17</td>\n",
       "                        <td id=\"T_e276d9b6_7063_11eb_8b66_acde48001122row4_col5\" class=\"data row4 col5\" >19</td>\n",
       "                        <td id=\"T_e276d9b6_7063_11eb_8b66_acde48001122row4_col6\" class=\"data row4 col6\" >p</td>\n",
       "                        <td id=\"T_e276d9b6_7063_11eb_8b66_acde48001122row4_col7\" class=\"data row4 col7\" > GUANYL-SPECIFIC RIBONUCLEASE SA, BARSTAR</td>\n",
       "            </tr>\n",
       "            <tr>\n",
       "                        <th id=\"T_e276d9b6_7063_11eb_8b66_acde48001122level0_row5\" class=\"row_heading level0 row5\" >5</th>\n",
       "                        <td id=\"T_e276d9b6_7063_11eb_8b66_acde48001122row5_col0\" class=\"data row5 col0\" >1BRS_AD</td>\n",
       "                        <td id=\"T_e276d9b6_7063_11eb_8b66_acde48001122row5_col1\" class=\"data row5 col1\" >87</td>\n",
       "                        <td id=\"T_e276d9b6_7063_11eb_8b66_acde48001122row5_col2\" class=\"data row5 col2\" >108</td>\n",
       "                        <td id=\"T_e276d9b6_7063_11eb_8b66_acde48001122row5_col3\" class=\"data row5 col3\" >195</td>\n",
       "                        <td id=\"T_e276d9b6_7063_11eb_8b66_acde48001122row5_col4\" class=\"data row5 col4\" >20</td>\n",
       "                        <td id=\"T_e276d9b6_7063_11eb_8b66_acde48001122row5_col5\" class=\"data row5 col5\" >23</td>\n",
       "                        <td id=\"T_e276d9b6_7063_11eb_8b66_acde48001122row5_col6\" class=\"data row5 col6\" >p</td>\n",
       "                        <td id=\"T_e276d9b6_7063_11eb_8b66_acde48001122row5_col7\" class=\"data row5 col7\" > PROTEIN-PROTEIN RECOGNITION: CRYSTAL STRUCTURAL ANALYSIS OF A BARNASE- BARSTAR COMPLEX AT 2.0-A RESOLUTION</td>\n",
       "            </tr>\n",
       "            <tr>\n",
       "                        <th id=\"T_e276d9b6_7063_11eb_8b66_acde48001122level0_row6\" class=\"row_heading level0 row6\" >6</th>\n",
       "                        <td id=\"T_e276d9b6_7063_11eb_8b66_acde48001122row6_col0\" class=\"data row6 col0\" >1FFW_AB</td>\n",
       "                        <td id=\"T_e276d9b6_7063_11eb_8b66_acde48001122row6_col1\" class=\"data row6 col1\" >68</td>\n",
       "                        <td id=\"T_e276d9b6_7063_11eb_8b66_acde48001122row6_col2\" class=\"data row6 col2\" >128</td>\n",
       "                        <td id=\"T_e276d9b6_7063_11eb_8b66_acde48001122row6_col3\" class=\"data row6 col3\" >196</td>\n",
       "                        <td id=\"T_e276d9b6_7063_11eb_8b66_acde48001122row6_col4\" class=\"data row6 col4\" >16</td>\n",
       "                        <td id=\"T_e276d9b6_7063_11eb_8b66_acde48001122row6_col5\" class=\"data row6 col5\" >14</td>\n",
       "                        <td id=\"T_e276d9b6_7063_11eb_8b66_acde48001122row6_col6\" class=\"data row6 col6\" >t</td>\n",
       "                        <td id=\"T_e276d9b6_7063_11eb_8b66_acde48001122row6_col7\" class=\"data row6 col7\" > CHEY-BINDING DOMAIN OF CHEA IN COMPLEX WITH CHEY WITH A BOUND IMIDO DIPHOSPHATE</td>\n",
       "            </tr>\n",
       "            <tr>\n",
       "                        <th id=\"T_e276d9b6_7063_11eb_8b66_acde48001122level0_row7\" class=\"row_heading level0 row7\" >7</th>\n",
       "                        <td id=\"T_e276d9b6_7063_11eb_8b66_acde48001122row7_col0\" class=\"data row7 col0\" >1QA9_AB</td>\n",
       "                        <td id=\"T_e276d9b6_7063_11eb_8b66_acde48001122row7_col1\" class=\"data row7 col1\" >95</td>\n",
       "                        <td id=\"T_e276d9b6_7063_11eb_8b66_acde48001122row7_col2\" class=\"data row7 col2\" >102</td>\n",
       "                        <td id=\"T_e276d9b6_7063_11eb_8b66_acde48001122row7_col3\" class=\"data row7 col3\" >197</td>\n",
       "                        <td id=\"T_e276d9b6_7063_11eb_8b66_acde48001122row7_col4\" class=\"data row7 col4\" >18</td>\n",
       "                        <td id=\"T_e276d9b6_7063_11eb_8b66_acde48001122row7_col5\" class=\"data row7 col5\" >21</td>\n",
       "                        <td id=\"T_e276d9b6_7063_11eb_8b66_acde48001122row7_col6\" class=\"data row7 col6\" >t</td>\n",
       "                        <td id=\"T_e276d9b6_7063_11eb_8b66_acde48001122row7_col7\" class=\"data row7 col7\" > HUMAN CD2-CD58 Complex</td>\n",
       "            </tr>\n",
       "            <tr>\n",
       "                        <th id=\"T_e276d9b6_7063_11eb_8b66_acde48001122level0_row8\" class=\"row_heading level0 row8\" >8</th>\n",
       "                        <td id=\"T_e276d9b6_7063_11eb_8b66_acde48001122row8_col0\" class=\"data row8 col0\" >1J2J_AB</td>\n",
       "                        <td id=\"T_e276d9b6_7063_11eb_8b66_acde48001122row8_col1\" class=\"data row8 col1\" >41</td>\n",
       "                        <td id=\"T_e276d9b6_7063_11eb_8b66_acde48001122row8_col2\" class=\"data row8 col2\" >165</td>\n",
       "                        <td id=\"T_e276d9b6_7063_11eb_8b66_acde48001122row8_col3\" class=\"data row8 col3\" >206</td>\n",
       "                        <td id=\"T_e276d9b6_7063_11eb_8b66_acde48001122row8_col4\" class=\"data row8 col4\" >16</td>\n",
       "                        <td id=\"T_e276d9b6_7063_11eb_8b66_acde48001122row8_col5\" class=\"data row8 col5\" >18</td>\n",
       "                        <td id=\"T_e276d9b6_7063_11eb_8b66_acde48001122row8_col6\" class=\"data row8 col6\" >t</td>\n",
       "                        <td id=\"T_e276d9b6_7063_11eb_8b66_acde48001122row8_col7\" class=\"data row8 col7\" > ADP-ribosylation factor 1/ADP-ribosylation factor binding protein GGA1</td>\n",
       "            </tr>\n",
       "            <tr>\n",
       "                        <th id=\"T_e276d9b6_7063_11eb_8b66_acde48001122level0_row9\" class=\"row_heading level0 row9\" >9</th>\n",
       "                        <td id=\"T_e276d9b6_7063_11eb_8b66_acde48001122row9_col0\" class=\"data row9 col0\" >1S1Q_AB</td>\n",
       "                        <td id=\"T_e276d9b6_7063_11eb_8b66_acde48001122row9_col1\" class=\"data row9 col1\" >71</td>\n",
       "                        <td id=\"T_e276d9b6_7063_11eb_8b66_acde48001122row9_col2\" class=\"data row9 col2\" >137</td>\n",
       "                        <td id=\"T_e276d9b6_7063_11eb_8b66_acde48001122row9_col3\" class=\"data row9 col3\" >208</td>\n",
       "                        <td id=\"T_e276d9b6_7063_11eb_8b66_acde48001122row9_col4\" class=\"data row9 col4\" >18</td>\n",
       "                        <td id=\"T_e276d9b6_7063_11eb_8b66_acde48001122row9_col5\" class=\"data row9 col5\" >19</td>\n",
       "                        <td id=\"T_e276d9b6_7063_11eb_8b66_acde48001122row9_col6\" class=\"data row9 col6\" >t</td>\n",
       "                        <td id=\"T_e276d9b6_7063_11eb_8b66_acde48001122row9_col7\" class=\"data row9 col7\" > Tumor susceptibility gene 101 protein/ubiquitin</td>\n",
       "            </tr>\n",
       "            <tr>\n",
       "                        <th id=\"T_e276d9b6_7063_11eb_8b66_acde48001122level0_row10\" class=\"row_heading level0 row10\" >10</th>\n",
       "                        <td id=\"T_e276d9b6_7063_11eb_8b66_acde48001122row10_col0\" class=\"data row10 col0\" >1EMV_AB</td>\n",
       "                        <td id=\"T_e276d9b6_7063_11eb_8b66_acde48001122row10_col1\" class=\"data row10 col1\" >131</td>\n",
       "                        <td id=\"T_e276d9b6_7063_11eb_8b66_acde48001122row10_col2\" class=\"data row10 col2\" >83</td>\n",
       "                        <td id=\"T_e276d9b6_7063_11eb_8b66_acde48001122row10_col3\" class=\"data row10 col3\" >214</td>\n",
       "                        <td id=\"T_e276d9b6_7063_11eb_8b66_acde48001122row10_col4\" class=\"data row10 col4\" >22</td>\n",
       "                        <td id=\"T_e276d9b6_7063_11eb_8b66_acde48001122row10_col5\" class=\"data row10 col5\" >25</td>\n",
       "                        <td id=\"T_e276d9b6_7063_11eb_8b66_acde48001122row10_col6\" class=\"data row10 col6\" >p</td>\n",
       "                        <td id=\"T_e276d9b6_7063_11eb_8b66_acde48001122row10_col7\" class=\"data row10 col7\" > COLICIN E9 DNASE DOMAIN WITH ITS COGNATE IMMUNITY PROTEIN IM9</td>\n",
       "            </tr>\n",
       "            <tr>\n",
       "                        <th id=\"T_e276d9b6_7063_11eb_8b66_acde48001122level0_row11\" class=\"row_heading level0 row11\" >11</th>\n",
       "                        <td id=\"T_e276d9b6_7063_11eb_8b66_acde48001122row11_col0\" class=\"data row11 col0\" >3SGB_EI</td>\n",
       "                        <td id=\"T_e276d9b6_7063_11eb_8b66_acde48001122row11_col1\" class=\"data row11 col1\" >50</td>\n",
       "                        <td id=\"T_e276d9b6_7063_11eb_8b66_acde48001122row11_col2\" class=\"data row11 col2\" >178</td>\n",
       "                        <td id=\"T_e276d9b6_7063_11eb_8b66_acde48001122row11_col3\" class=\"data row11 col3\" >228</td>\n",
       "                        <td id=\"T_e276d9b6_7063_11eb_8b66_acde48001122row11_col4\" class=\"data row11 col4\" >15</td>\n",
       "                        <td id=\"T_e276d9b6_7063_11eb_8b66_acde48001122row11_col5\" class=\"data row11 col5\" >26</td>\n",
       "                        <td id=\"T_e276d9b6_7063_11eb_8b66_acde48001122row11_col6\" class=\"data row11 col6\" >p</td>\n",
       "                        <td id=\"T_e276d9b6_7063_11eb_8b66_acde48001122row11_col7\" class=\"data row11 col7\" > STRUCTURE OF THE COMPLEX OF STREPTOMYCES GRISEUS PROTEASE B AND THE THIRD DOMAIN OF THE TURKEY OVOMUCOID INHIBITOR AT 1.8 ANGSTROMS RESOLUTION</td>\n",
       "            </tr>\n",
       "            <tr>\n",
       "                        <th id=\"T_e276d9b6_7063_11eb_8b66_acde48001122level0_row12\" class=\"row_heading level0 row12\" >12</th>\n",
       "                        <td id=\"T_e276d9b6_7063_11eb_8b66_acde48001122row12_col0\" class=\"data row12 col0\" >1Z0K_AB</td>\n",
       "                        <td id=\"T_e276d9b6_7063_11eb_8b66_acde48001122row12_col1\" class=\"data row12 col1\" >61</td>\n",
       "                        <td id=\"T_e276d9b6_7063_11eb_8b66_acde48001122row12_col2\" class=\"data row12 col2\" >169</td>\n",
       "                        <td id=\"T_e276d9b6_7063_11eb_8b66_acde48001122row12_col3\" class=\"data row12 col3\" >230</td>\n",
       "                        <td id=\"T_e276d9b6_7063_11eb_8b66_acde48001122row12_col4\" class=\"data row12 col4\" >24</td>\n",
       "                        <td id=\"T_e276d9b6_7063_11eb_8b66_acde48001122row12_col5\" class=\"data row12 col5\" >26</td>\n",
       "                        <td id=\"T_e276d9b6_7063_11eb_8b66_acde48001122row12_col6\" class=\"data row12 col6\" >t</td>\n",
       "                        <td id=\"T_e276d9b6_7063_11eb_8b66_acde48001122row12_col7\" class=\"data row12 col7\" > GTP-binding protein, FYVE-finger-containing Rab5 effector protein rabenosyn-5</td>\n",
       "            </tr>\n",
       "            <tr>\n",
       "                        <th id=\"T_e276d9b6_7063_11eb_8b66_acde48001122level0_row13\" class=\"row_heading level0 row13\" >13</th>\n",
       "                        <td id=\"T_e276d9b6_7063_11eb_8b66_acde48001122row13_col0\" class=\"data row13 col0\" >1HCF_AB</td>\n",
       "                        <td id=\"T_e276d9b6_7063_11eb_8b66_acde48001122row13_col1\" class=\"data row13 col1\" >121</td>\n",
       "                        <td id=\"T_e276d9b6_7063_11eb_8b66_acde48001122row13_col2\" class=\"data row13 col2\" >121</td>\n",
       "                        <td id=\"T_e276d9b6_7063_11eb_8b66_acde48001122row13_col3\" class=\"data row13 col3\" >242</td>\n",
       "                        <td id=\"T_e276d9b6_7063_11eb_8b66_acde48001122row13_col4\" class=\"data row13 col4\" >51</td>\n",
       "                        <td id=\"T_e276d9b6_7063_11eb_8b66_acde48001122row13_col5\" class=\"data row13 col5\" >52</td>\n",
       "                        <td id=\"T_e276d9b6_7063_11eb_8b66_acde48001122row13_col6\" class=\"data row13 col6\" >p</td>\n",
       "                        <td id=\"T_e276d9b6_7063_11eb_8b66_acde48001122row13_col7\" class=\"data row13 col7\" > NEUROTROPHIN-4, BDNF/NT-3 GROWTH FACTORS RECEPTOR</td>\n",
       "            </tr>\n",
       "            <tr>\n",
       "                        <th id=\"T_e276d9b6_7063_11eb_8b66_acde48001122level0_row14\" class=\"row_heading level0 row14\" >14</th>\n",
       "                        <td id=\"T_e276d9b6_7063_11eb_8b66_acde48001122row14_col0\" class=\"data row14 col0\" >1PPE_EI</td>\n",
       "                        <td id=\"T_e276d9b6_7063_11eb_8b66_acde48001122row14_col1\" class=\"data row14 col1\" >29</td>\n",
       "                        <td id=\"T_e276d9b6_7063_11eb_8b66_acde48001122row14_col2\" class=\"data row14 col2\" >220</td>\n",
       "                        <td id=\"T_e276d9b6_7063_11eb_8b66_acde48001122row14_col3\" class=\"data row14 col3\" >249</td>\n",
       "                        <td id=\"T_e276d9b6_7063_11eb_8b66_acde48001122row14_col4\" class=\"data row14 col4\" >18</td>\n",
       "                        <td id=\"T_e276d9b6_7063_11eb_8b66_acde48001122row14_col5\" class=\"data row14 col5\" >37</td>\n",
       "                        <td id=\"T_e276d9b6_7063_11eb_8b66_acde48001122row14_col6\" class=\"data row14 col6\" >p</td>\n",
       "                        <td id=\"T_e276d9b6_7063_11eb_8b66_acde48001122row14_col7\" class=\"data row14 col7\" > TRYPSIN (E.C.3.4.21.4) COMPLEX WITH (CUCURBITA MAXIMA) TRYPSIN INHIBITOR (CMTI-I)</td>\n",
       "            </tr>\n",
       "            <tr>\n",
       "                        <th id=\"T_e276d9b6_7063_11eb_8b66_acde48001122level0_row15\" class=\"row_heading level0 row15\" >15</th>\n",
       "                        <td id=\"T_e276d9b6_7063_11eb_8b66_acde48001122row15_col0\" class=\"data row15 col0\" >1LFD_AB</td>\n",
       "                        <td id=\"T_e276d9b6_7063_11eb_8b66_acde48001122row15_col1\" class=\"data row15 col1\" >167</td>\n",
       "                        <td id=\"T_e276d9b6_7063_11eb_8b66_acde48001122row15_col2\" class=\"data row15 col2\" >87</td>\n",
       "                        <td id=\"T_e276d9b6_7063_11eb_8b66_acde48001122row15_col3\" class=\"data row15 col3\" >254</td>\n",
       "                        <td id=\"T_e276d9b6_7063_11eb_8b66_acde48001122row15_col4\" class=\"data row15 col4\" >19</td>\n",
       "                        <td id=\"T_e276d9b6_7063_11eb_8b66_acde48001122row15_col5\" class=\"data row15 col5\" >15</td>\n",
       "                        <td id=\"T_e276d9b6_7063_11eb_8b66_acde48001122row15_col6\" class=\"data row15 col6\" >t</td>\n",
       "                        <td id=\"T_e276d9b6_7063_11eb_8b66_acde48001122row15_col7\" class=\"data row15 col7\" > CRYSTAL STRUCTURE OF THE ACTIVE RAS PROTEIN COMPLEXED WITH THE RAS- INTERACTING DOMAIN OF RALGDS</td>\n",
       "            </tr>\n",
       "            <tr>\n",
       "                        <th id=\"T_e276d9b6_7063_11eb_8b66_acde48001122level0_row16\" class=\"row_heading level0 row16\" >16</th>\n",
       "                        <td id=\"T_e276d9b6_7063_11eb_8b66_acde48001122row16_col0\" class=\"data row16 col0\" >1A78_AB</td>\n",
       "                        <td id=\"T_e276d9b6_7063_11eb_8b66_acde48001122row16_col1\" class=\"data row16 col1\" >134</td>\n",
       "                        <td id=\"T_e276d9b6_7063_11eb_8b66_acde48001122row16_col2\" class=\"data row16 col2\" >134</td>\n",
       "                        <td id=\"T_e276d9b6_7063_11eb_8b66_acde48001122row16_col3\" class=\"data row16 col3\" >268</td>\n",
       "                        <td id=\"T_e276d9b6_7063_11eb_8b66_acde48001122row16_col4\" class=\"data row16 col4\" >14</td>\n",
       "                        <td id=\"T_e276d9b6_7063_11eb_8b66_acde48001122row16_col5\" class=\"data row16 col5\" >14</td>\n",
       "                        <td id=\"T_e276d9b6_7063_11eb_8b66_acde48001122row16_col6\" class=\"data row16 col6\" >t</td>\n",
       "                        <td id=\"T_e276d9b6_7063_11eb_8b66_acde48001122row16_col7\" class=\"data row16 col7\" > COMPLEX OF TOAD OVARY GALECTIN WITH THIO-DIGALACTOSE</td>\n",
       "            </tr>\n",
       "            <tr>\n",
       "                        <th id=\"T_e276d9b6_7063_11eb_8b66_acde48001122level0_row17\" class=\"row_heading level0 row17\" >17</th>\n",
       "                        <td id=\"T_e276d9b6_7063_11eb_8b66_acde48001122row17_col0\" class=\"data row17 col0\" >1XU1_AB</td>\n",
       "                        <td id=\"T_e276d9b6_7063_11eb_8b66_acde48001122row17_col1\" class=\"data row17 col1\" >137</td>\n",
       "                        <td id=\"T_e276d9b6_7063_11eb_8b66_acde48001122row17_col2\" class=\"data row17 col2\" >137</td>\n",
       "                        <td id=\"T_e276d9b6_7063_11eb_8b66_acde48001122row17_col3\" class=\"data row17 col3\" >274</td>\n",
       "                        <td id=\"T_e276d9b6_7063_11eb_8b66_acde48001122row17_col4\" class=\"data row17 col4\" >27</td>\n",
       "                        <td id=\"T_e276d9b6_7063_11eb_8b66_acde48001122row17_col5\" class=\"data row17 col5\" >23</td>\n",
       "                        <td id=\"T_e276d9b6_7063_11eb_8b66_acde48001122row17_col6\" class=\"data row17 col6\" >p</td>\n",
       "                        <td id=\"T_e276d9b6_7063_11eb_8b66_acde48001122row17_col7\" class=\"data row17 col7\" > Tumor necrosis factor ligand superfamily member 13, Tumor necrosis factor receptor superfamily member 13B</td>\n",
       "            </tr>\n",
       "            <tr>\n",
       "                        <th id=\"T_e276d9b6_7063_11eb_8b66_acde48001122level0_row18\" class=\"row_heading level0 row18\" >18</th>\n",
       "                        <td id=\"T_e276d9b6_7063_11eb_8b66_acde48001122row18_col0\" class=\"data row18 col0\" >1FLE_IE</td>\n",
       "                        <td id=\"T_e276d9b6_7063_11eb_8b66_acde48001122row18_col1\" class=\"data row18 col1\" >229</td>\n",
       "                        <td id=\"T_e276d9b6_7063_11eb_8b66_acde48001122row18_col2\" class=\"data row18 col2\" >47</td>\n",
       "                        <td id=\"T_e276d9b6_7063_11eb_8b66_acde48001122row18_col3\" class=\"data row18 col3\" >276</td>\n",
       "                        <td id=\"T_e276d9b6_7063_11eb_8b66_acde48001122row18_col4\" class=\"data row18 col4\" >26</td>\n",
       "                        <td id=\"T_e276d9b6_7063_11eb_8b66_acde48001122row18_col5\" class=\"data row18 col5\" >20</td>\n",
       "                        <td id=\"T_e276d9b6_7063_11eb_8b66_acde48001122row18_col6\" class=\"data row18 col6\" >p</td>\n",
       "                        <td id=\"T_e276d9b6_7063_11eb_8b66_acde48001122row18_col7\" class=\"data row18 col7\" > ELASTASE, ELAFIN</td>\n",
       "            </tr>\n",
       "            <tr>\n",
       "                        <th id=\"T_e276d9b6_7063_11eb_8b66_acde48001122level0_row19\" class=\"row_heading level0 row19\" >19</th>\n",
       "                        <td id=\"T_e276d9b6_7063_11eb_8b66_acde48001122row19_col0\" class=\"data row19 col0\" >2TGP_IZ</td>\n",
       "                        <td id=\"T_e276d9b6_7063_11eb_8b66_acde48001122row19_col1\" class=\"data row19 col1\" >220</td>\n",
       "                        <td id=\"T_e276d9b6_7063_11eb_8b66_acde48001122row19_col2\" class=\"data row19 col2\" >58</td>\n",
       "                        <td id=\"T_e276d9b6_7063_11eb_8b66_acde48001122row19_col3\" class=\"data row19 col3\" >278</td>\n",
       "                        <td id=\"T_e276d9b6_7063_11eb_8b66_acde48001122row19_col4\" class=\"data row19 col4\" >33</td>\n",
       "                        <td id=\"T_e276d9b6_7063_11eb_8b66_acde48001122row19_col5\" class=\"data row19 col5\" >14</td>\n",
       "                        <td id=\"T_e276d9b6_7063_11eb_8b66_acde48001122row19_col6\" class=\"data row19 col6\" >t</td>\n",
       "                        <td id=\"T_e276d9b6_7063_11eb_8b66_acde48001122row19_col7\" class=\"data row19 col7\" > TRYPSINOGEN COMPLEX WITH PANCREATIC TRYPSIN INHIBITOR</td>\n",
       "            </tr>\n",
       "            <tr>\n",
       "                        <th id=\"T_e276d9b6_7063_11eb_8b66_acde48001122level0_row20\" class=\"row_heading level0 row20\" >20</th>\n",
       "                        <td id=\"T_e276d9b6_7063_11eb_8b66_acde48001122row20_col0\" class=\"data row20 col0\" >1EZU_AB</td>\n",
       "                        <td id=\"T_e276d9b6_7063_11eb_8b66_acde48001122row20_col1\" class=\"data row20 col1\" >140</td>\n",
       "                        <td id=\"T_e276d9b6_7063_11eb_8b66_acde48001122row20_col2\" class=\"data row20 col2\" >140</td>\n",
       "                        <td id=\"T_e276d9b6_7063_11eb_8b66_acde48001122row20_col3\" class=\"data row20 col3\" >280</td>\n",
       "                        <td id=\"T_e276d9b6_7063_11eb_8b66_acde48001122row20_col4\" class=\"data row20 col4\" >41</td>\n",
       "                        <td id=\"T_e276d9b6_7063_11eb_8b66_acde48001122row20_col5\" class=\"data row20 col5\" >41</td>\n",
       "                        <td id=\"T_e276d9b6_7063_11eb_8b66_acde48001122row20_col6\" class=\"data row20 col6\" >p</td>\n",
       "                        <td id=\"T_e276d9b6_7063_11eb_8b66_acde48001122row20_col7\" class=\"data row20 col7\" > ECOTIN Y69F, D70P BOUND TO D102N TRYPSIN (E.C. 3.4.21.4)</td>\n",
       "            </tr>\n",
       "            <tr>\n",
       "                        <th id=\"T_e276d9b6_7063_11eb_8b66_acde48001122level0_row21\" class=\"row_heading level0 row21\" >21</th>\n",
       "                        <td id=\"T_e276d9b6_7063_11eb_8b66_acde48001122row21_col0\" class=\"data row21 col0\" >1EAW_AB</td>\n",
       "                        <td id=\"T_e276d9b6_7063_11eb_8b66_acde48001122row21_col1\" class=\"data row21 col1\" >56</td>\n",
       "                        <td id=\"T_e276d9b6_7063_11eb_8b66_acde48001122row21_col2\" class=\"data row21 col2\" >227</td>\n",
       "                        <td id=\"T_e276d9b6_7063_11eb_8b66_acde48001122row21_col3\" class=\"data row21 col3\" >283</td>\n",
       "                        <td id=\"T_e276d9b6_7063_11eb_8b66_acde48001122row21_col4\" class=\"data row21 col4\" >16</td>\n",
       "                        <td id=\"T_e276d9b6_7063_11eb_8b66_acde48001122row21_col5\" class=\"data row21 col5\" >34</td>\n",
       "                        <td id=\"T_e276d9b6_7063_11eb_8b66_acde48001122row21_col6\" class=\"data row21 col6\" >p</td>\n",
       "                        <td id=\"T_e276d9b6_7063_11eb_8b66_acde48001122row21_col7\" class=\"data row21 col7\" > CRYSTAL STRUCTURE OF THE MTSP1 (MATRIPTASE)-BPTI (APROTININ) COMPLEX</td>\n",
       "            </tr>\n",
       "            <tr>\n",
       "                        <th id=\"T_e276d9b6_7063_11eb_8b66_acde48001122level0_row22\" class=\"row_heading level0 row22\" >22</th>\n",
       "                        <td id=\"T_e276d9b6_7063_11eb_8b66_acde48001122row22_col0\" class=\"data row22 col0\" >2J0T_AD</td>\n",
       "                        <td id=\"T_e276d9b6_7063_11eb_8b66_acde48001122row22_col1\" class=\"data row22 col1\" >124</td>\n",
       "                        <td id=\"T_e276d9b6_7063_11eb_8b66_acde48001122row22_col2\" class=\"data row22 col2\" >161</td>\n",
       "                        <td id=\"T_e276d9b6_7063_11eb_8b66_acde48001122row22_col3\" class=\"data row22 col3\" >285</td>\n",
       "                        <td id=\"T_e276d9b6_7063_11eb_8b66_acde48001122row22_col4\" class=\"data row22 col4\" >21</td>\n",
       "                        <td id=\"T_e276d9b6_7063_11eb_8b66_acde48001122row22_col5\" class=\"data row22 col5\" >29</td>\n",
       "                        <td id=\"T_e276d9b6_7063_11eb_8b66_acde48001122row22_col6\" class=\"data row22 col6\" >p</td>\n",
       "                        <td id=\"T_e276d9b6_7063_11eb_8b66_acde48001122row22_col7\" class=\"data row22 col7\" > INTERSTITIAL COLLAGENASE (E.C.3.4.24.7), METALLOPROTEINASE INHIBITOR 1</td>\n",
       "            </tr>\n",
       "            <tr>\n",
       "                        <th id=\"T_e276d9b6_7063_11eb_8b66_acde48001122level0_row23\" class=\"row_heading level0 row23\" >23</th>\n",
       "                        <td id=\"T_e276d9b6_7063_11eb_8b66_acde48001122row23_col0\" class=\"data row23 col0\" >1PXV_AC</td>\n",
       "                        <td id=\"T_e276d9b6_7063_11eb_8b66_acde48001122row23_col1\" class=\"data row23 col1\" >111</td>\n",
       "                        <td id=\"T_e276d9b6_7063_11eb_8b66_acde48001122row23_col2\" class=\"data row23 col2\" >183</td>\n",
       "                        <td id=\"T_e276d9b6_7063_11eb_8b66_acde48001122row23_col3\" class=\"data row23 col3\" >294</td>\n",
       "                        <td id=\"T_e276d9b6_7063_11eb_8b66_acde48001122row23_col4\" class=\"data row23 col4\" >31</td>\n",
       "                        <td id=\"T_e276d9b6_7063_11eb_8b66_acde48001122row23_col5\" class=\"data row23 col5\" >37</td>\n",
       "                        <td id=\"T_e276d9b6_7063_11eb_8b66_acde48001122row23_col6\" class=\"data row23 col6\" >p</td>\n",
       "                        <td id=\"T_e276d9b6_7063_11eb_8b66_acde48001122row23_col7\" class=\"data row23 col7\" > cysteine protease (E.C.3.4.22.-)</td>\n",
       "            </tr>\n",
       "            <tr>\n",
       "                        <th id=\"T_e276d9b6_7063_11eb_8b66_acde48001122level0_row24\" class=\"row_heading level0 row24\" >24</th>\n",
       "                        <td id=\"T_e276d9b6_7063_11eb_8b66_acde48001122row24_col0\" class=\"data row24 col0\" >1NB5_AI</td>\n",
       "                        <td id=\"T_e276d9b6_7063_11eb_8b66_acde48001122row24_col1\" class=\"data row24 col1\" >95</td>\n",
       "                        <td id=\"T_e276d9b6_7063_11eb_8b66_acde48001122row24_col2\" class=\"data row24 col2\" >205</td>\n",
       "                        <td id=\"T_e276d9b6_7063_11eb_8b66_acde48001122row24_col3\" class=\"data row24 col3\" >300</td>\n",
       "                        <td id=\"T_e276d9b6_7063_11eb_8b66_acde48001122row24_col4\" class=\"data row24 col4\" >27</td>\n",
       "                        <td id=\"T_e276d9b6_7063_11eb_8b66_acde48001122row24_col5\" class=\"data row24 col5\" >32</td>\n",
       "                        <td id=\"T_e276d9b6_7063_11eb_8b66_acde48001122row24_col6\" class=\"data row24 col6\" >p</td>\n",
       "                        <td id=\"T_e276d9b6_7063_11eb_8b66_acde48001122row24_col7\" class=\"data row24 col7\" > CRYSTAL STRUCTURE OF STEFIN A IN COMPLEX WITH CATHEPSIN H</td>\n",
       "            </tr>\n",
       "            <tr>\n",
       "                        <th id=\"T_e276d9b6_7063_11eb_8b66_acde48001122level0_row25\" class=\"row_heading level0 row25\" >25</th>\n",
       "                        <td id=\"T_e276d9b6_7063_11eb_8b66_acde48001122row25_col0\" class=\"data row25 col0\" >1UUG_AB</td>\n",
       "                        <td id=\"T_e276d9b6_7063_11eb_8b66_acde48001122row25_col1\" class=\"data row25 col1\" >82</td>\n",
       "                        <td id=\"T_e276d9b6_7063_11eb_8b66_acde48001122row25_col2\" class=\"data row25 col2\" >222</td>\n",
       "                        <td id=\"T_e276d9b6_7063_11eb_8b66_acde48001122row25_col3\" class=\"data row25 col3\" >304</td>\n",
       "                        <td id=\"T_e276d9b6_7063_11eb_8b66_acde48001122row25_col4\" class=\"data row25 col4\" >34</td>\n",
       "                        <td id=\"T_e276d9b6_7063_11eb_8b66_acde48001122row25_col5\" class=\"data row25 col5\" >30</td>\n",
       "                        <td id=\"T_e276d9b6_7063_11eb_8b66_acde48001122row25_col6\" class=\"data row25 col6\" >p</td>\n",
       "                        <td id=\"T_e276d9b6_7063_11eb_8b66_acde48001122row25_col7\" class=\"data row25 col7\" > URACIL-DNA GLYCOSYLASE (E.C.3.2.2.3)/URACIL-DNA GLYCOSYLASE INHIBITOR</td>\n",
       "            </tr>\n",
       "            <tr>\n",
       "                        <th id=\"T_e276d9b6_7063_11eb_8b66_acde48001122level0_row26\" class=\"row_heading level0 row26\" >26</th>\n",
       "                        <td id=\"T_e276d9b6_7063_11eb_8b66_acde48001122row26_col0\" class=\"data row26 col0\" >1AK4_AD</td>\n",
       "                        <td id=\"T_e276d9b6_7063_11eb_8b66_acde48001122row26_col1\" class=\"data row26 col1\" >145</td>\n",
       "                        <td id=\"T_e276d9b6_7063_11eb_8b66_acde48001122row26_col2\" class=\"data row26 col2\" >165</td>\n",
       "                        <td id=\"T_e276d9b6_7063_11eb_8b66_acde48001122row26_col3\" class=\"data row26 col3\" >310</td>\n",
       "                        <td id=\"T_e276d9b6_7063_11eb_8b66_acde48001122row26_col4\" class=\"data row26 col4\" >10</td>\n",
       "                        <td id=\"T_e276d9b6_7063_11eb_8b66_acde48001122row26_col5\" class=\"data row26 col5\" >20</td>\n",
       "                        <td id=\"T_e276d9b6_7063_11eb_8b66_acde48001122row26_col6\" class=\"data row26 col6\" >t</td>\n",
       "                        <td id=\"T_e276d9b6_7063_11eb_8b66_acde48001122row26_col7\" class=\"data row26 col7\" > CYCLOPHILIN A, HIV-1 CAPSID</td>\n",
       "            </tr>\n",
       "            <tr>\n",
       "                        <th id=\"T_e276d9b6_7063_11eb_8b66_acde48001122level0_row27\" class=\"row_heading level0 row27\" >27</th>\n",
       "                        <td id=\"T_e276d9b6_7063_11eb_8b66_acde48001122row27_col0\" class=\"data row27 col0\" >2SNI_EI</td>\n",
       "                        <td id=\"T_e276d9b6_7063_11eb_8b66_acde48001122row27_col1\" class=\"data row27 col1\" >64</td>\n",
       "                        <td id=\"T_e276d9b6_7063_11eb_8b66_acde48001122row27_col2\" class=\"data row27 col2\" >275</td>\n",
       "                        <td id=\"T_e276d9b6_7063_11eb_8b66_acde48001122row27_col3\" class=\"data row27 col3\" >339</td>\n",
       "                        <td id=\"T_e276d9b6_7063_11eb_8b66_acde48001122row27_col4\" class=\"data row27 col4\" >18</td>\n",
       "                        <td id=\"T_e276d9b6_7063_11eb_8b66_acde48001122row27_col5\" class=\"data row27 col5\" >32</td>\n",
       "                        <td id=\"T_e276d9b6_7063_11eb_8b66_acde48001122row27_col6\" class=\"data row27 col6\" >p</td>\n",
       "                        <td id=\"T_e276d9b6_7063_11eb_8b66_acde48001122row27_col7\" class=\"data row27 col7\" > STRUCTURAL COMPARISON OF TWO SERINE PROTEINASE-PROTEIN INHIBITOR COMPLEXES. EGLIN-C-SUBTILISIN CARLSBERG AND CI-2-SUBTILISIN NOVO</td>\n",
       "            </tr>\n",
       "            <tr>\n",
       "                        <th id=\"T_e276d9b6_7063_11eb_8b66_acde48001122level0_row28\" class=\"row_heading level0 row28\" >28</th>\n",
       "                        <td id=\"T_e276d9b6_7063_11eb_8b66_acde48001122row28_col0\" class=\"data row28 col0\" >2AQ3_AB</td>\n",
       "                        <td id=\"T_e276d9b6_7063_11eb_8b66_acde48001122row28_col1\" class=\"data row28 col1\" >234</td>\n",
       "                        <td id=\"T_e276d9b6_7063_11eb_8b66_acde48001122row28_col2\" class=\"data row28 col2\" >109</td>\n",
       "                        <td id=\"T_e276d9b6_7063_11eb_8b66_acde48001122row28_col3\" class=\"data row28 col3\" >343</td>\n",
       "                        <td id=\"T_e276d9b6_7063_11eb_8b66_acde48001122row28_col4\" class=\"data row28 col4\" >17</td>\n",
       "                        <td id=\"T_e276d9b6_7063_11eb_8b66_acde48001122row28_col5\" class=\"data row28 col5\" >17</td>\n",
       "                        <td id=\"T_e276d9b6_7063_11eb_8b66_acde48001122row28_col6\" class=\"data row28 col6\" >t</td>\n",
       "                        <td id=\"T_e276d9b6_7063_11eb_8b66_acde48001122row28_col7\" class=\"data row28 col7\" > T-cell receptor beta chain V, Enterotoxin type C-3</td>\n",
       "            </tr>\n",
       "            <tr>\n",
       "                        <th id=\"T_e276d9b6_7063_11eb_8b66_acde48001122level0_row29\" class=\"row_heading level0 row29\" >29</th>\n",
       "                        <td id=\"T_e276d9b6_7063_11eb_8b66_acde48001122row29_col0\" class=\"data row29 col0\" >2OUL_AB</td>\n",
       "                        <td id=\"T_e276d9b6_7063_11eb_8b66_acde48001122row29_col1\" class=\"data row29 col1\" >107</td>\n",
       "                        <td id=\"T_e276d9b6_7063_11eb_8b66_acde48001122row29_col2\" class=\"data row29 col2\" >241</td>\n",
       "                        <td id=\"T_e276d9b6_7063_11eb_8b66_acde48001122row29_col3\" class=\"data row29 col3\" >348</td>\n",
       "                        <td id=\"T_e276d9b6_7063_11eb_8b66_acde48001122row29_col4\" class=\"data row29 col4\" >28</td>\n",
       "                        <td id=\"T_e276d9b6_7063_11eb_8b66_acde48001122row29_col5\" class=\"data row29 col5\" >34</td>\n",
       "                        <td id=\"T_e276d9b6_7063_11eb_8b66_acde48001122row29_col6\" class=\"data row29 col6\" >p</td>\n",
       "                        <td id=\"T_e276d9b6_7063_11eb_8b66_acde48001122row29_col7\" class=\"data row29 col7\" > THE STRUCTURE OF CHAGASIN IN COMPLEX WITH A CYSTEINE PROTEASE CLARIFIES THE BINDING MODE AND EVOLUTION OF A NEW INHIBITOR FAMILY</td>\n",
       "            </tr>\n",
       "            <tr>\n",
       "                        <th id=\"T_e276d9b6_7063_11eb_8b66_acde48001122level0_row30\" class=\"row_heading level0 row30\" >30</th>\n",
       "                        <td id=\"T_e276d9b6_7063_11eb_8b66_acde48001122row30_col0\" class=\"data row30 col0\" >1MQ8_AB</td>\n",
       "                        <td id=\"T_e276d9b6_7063_11eb_8b66_acde48001122row30_col1\" class=\"data row30 col1\" >177</td>\n",
       "                        <td id=\"T_e276d9b6_7063_11eb_8b66_acde48001122row30_col2\" class=\"data row30 col2\" >184</td>\n",
       "                        <td id=\"T_e276d9b6_7063_11eb_8b66_acde48001122row30_col3\" class=\"data row30 col3\" >361</td>\n",
       "                        <td id=\"T_e276d9b6_7063_11eb_8b66_acde48001122row30_col4\" class=\"data row30 col4\" >21</td>\n",
       "                        <td id=\"T_e276d9b6_7063_11eb_8b66_acde48001122row30_col5\" class=\"data row30 col5\" >19</td>\n",
       "                        <td id=\"T_e276d9b6_7063_11eb_8b66_acde48001122row30_col6\" class=\"data row30 col6\" >t</td>\n",
       "                        <td id=\"T_e276d9b6_7063_11eb_8b66_acde48001122row30_col7\" class=\"data row30 col7\" > CRYSTAL STRUCTURE OF ALPHAL I DOMAIN IN COMPLEX WITH ICAM-1</td>\n",
       "            </tr>\n",
       "            <tr>\n",
       "                        <th id=\"T_e276d9b6_7063_11eb_8b66_acde48001122level0_row31\" class=\"row_heading level0 row31\" >31</th>\n",
       "                        <td id=\"T_e276d9b6_7063_11eb_8b66_acde48001122row31_col0\" class=\"data row31 col0\" >2GOX_AB</td>\n",
       "                        <td id=\"T_e276d9b6_7063_11eb_8b66_acde48001122row31_col1\" class=\"data row31 col1\" >65</td>\n",
       "                        <td id=\"T_e276d9b6_7063_11eb_8b66_acde48001122row31_col2\" class=\"data row31 col2\" >297</td>\n",
       "                        <td id=\"T_e276d9b6_7063_11eb_8b66_acde48001122row31_col3\" class=\"data row31 col3\" >362</td>\n",
       "                        <td id=\"T_e276d9b6_7063_11eb_8b66_acde48001122row31_col4\" class=\"data row31 col4\" >23</td>\n",
       "                        <td id=\"T_e276d9b6_7063_11eb_8b66_acde48001122row31_col5\" class=\"data row31 col5\" >26</td>\n",
       "                        <td id=\"T_e276d9b6_7063_11eb_8b66_acde48001122row31_col6\" class=\"data row31 col6\" >p</td>\n",
       "                        <td id=\"T_e276d9b6_7063_11eb_8b66_acde48001122row31_col7\" class=\"data row31 col7\" > CRYSTAL STRUCTURE OF EFB-C / C3D COMPLEX</td>\n",
       "            </tr>\n",
       "            <tr>\n",
       "                        <th id=\"T_e276d9b6_7063_11eb_8b66_acde48001122level0_row32\" class=\"row_heading level0 row32\" >32</th>\n",
       "                        <td id=\"T_e276d9b6_7063_11eb_8b66_acde48001122row32_col0\" class=\"data row32 col0\" >1E96_AB</td>\n",
       "                        <td id=\"T_e276d9b6_7063_11eb_8b66_acde48001122row32_col1\" class=\"data row32 col1\" >185</td>\n",
       "                        <td id=\"T_e276d9b6_7063_11eb_8b66_acde48001122row32_col2\" class=\"data row32 col2\" >178</td>\n",
       "                        <td id=\"T_e276d9b6_7063_11eb_8b66_acde48001122row32_col3\" class=\"data row32 col3\" >363</td>\n",
       "                        <td id=\"T_e276d9b6_7063_11eb_8b66_acde48001122row32_col4\" class=\"data row32 col4\" >20</td>\n",
       "                        <td id=\"T_e276d9b6_7063_11eb_8b66_acde48001122row32_col5\" class=\"data row32 col5\" >18</td>\n",
       "                        <td id=\"T_e276d9b6_7063_11eb_8b66_acde48001122row32_col6\" class=\"data row32 col6\" >t</td>\n",
       "                        <td id=\"T_e276d9b6_7063_11eb_8b66_acde48001122row32_col7\" class=\"data row32 col7\" > STRUCTURE OF THE RAC/P67PHOX COMPLEX</td>\n",
       "            </tr>\n",
       "            <tr>\n",
       "                        <th id=\"T_e276d9b6_7063_11eb_8b66_acde48001122level0_row33\" class=\"row_heading level0 row33\" >33</th>\n",
       "                        <td id=\"T_e276d9b6_7063_11eb_8b66_acde48001122row33_col0\" class=\"data row33 col0\" >1I4D_AD</td>\n",
       "                        <td id=\"T_e276d9b6_7063_11eb_8b66_acde48001122row33_col1\" class=\"data row33 col1\" >177</td>\n",
       "                        <td id=\"T_e276d9b6_7063_11eb_8b66_acde48001122row33_col2\" class=\"data row33 col2\" >188</td>\n",
       "                        <td id=\"T_e276d9b6_7063_11eb_8b66_acde48001122row33_col3\" class=\"data row33 col3\" >365</td>\n",
       "                        <td id=\"T_e276d9b6_7063_11eb_8b66_acde48001122row33_col4\" class=\"data row33 col4\" >20</td>\n",
       "                        <td id=\"T_e276d9b6_7063_11eb_8b66_acde48001122row33_col5\" class=\"data row33 col5\" >20</td>\n",
       "                        <td id=\"T_e276d9b6_7063_11eb_8b66_acde48001122row33_col6\" class=\"data row33 col6\" >t</td>\n",
       "                        <td id=\"T_e276d9b6_7063_11eb_8b66_acde48001122row33_col7\" class=\"data row33 col7\" > CRYSTAL STRUCTURE ANALYSIS OF RAC1-GDP COMPLEXED WITH ARFAPTIN (P21)</td>\n",
       "            </tr>\n",
       "            <tr>\n",
       "                        <th id=\"T_e276d9b6_7063_11eb_8b66_acde48001122level0_row34\" class=\"row_heading level0 row34\" >34</th>\n",
       "                        <td id=\"T_e276d9b6_7063_11eb_8b66_acde48001122row34_col0\" class=\"data row34 col0\" >2O3B_AB</td>\n",
       "                        <td id=\"T_e276d9b6_7063_11eb_8b66_acde48001122row34_col1\" class=\"data row34 col1\" >135</td>\n",
       "                        <td id=\"T_e276d9b6_7063_11eb_8b66_acde48001122row34_col2\" class=\"data row34 col2\" >241</td>\n",
       "                        <td id=\"T_e276d9b6_7063_11eb_8b66_acde48001122row34_col3\" class=\"data row34 col3\" >376</td>\n",
       "                        <td id=\"T_e276d9b6_7063_11eb_8b66_acde48001122row34_col4\" class=\"data row34 col4\" >18</td>\n",
       "                        <td id=\"T_e276d9b6_7063_11eb_8b66_acde48001122row34_col5\" class=\"data row34 col5\" >28</td>\n",
       "                        <td id=\"T_e276d9b6_7063_11eb_8b66_acde48001122row34_col6\" class=\"data row34 col6\" >p</td>\n",
       "                        <td id=\"T_e276d9b6_7063_11eb_8b66_acde48001122row34_col7\" class=\"data row34 col7\" > Nuclease (E.C.3.1.30.-), Sugar-non-specific nuclease inhibitor</td>\n",
       "            </tr>\n",
       "            <tr>\n",
       "                        <th id=\"T_e276d9b6_7063_11eb_8b66_acde48001122level0_row35\" class=\"row_heading level0 row35\" >35</th>\n",
       "                        <td id=\"T_e276d9b6_7063_11eb_8b66_acde48001122row35_col0\" class=\"data row35 col0\" >1EER_AB</td>\n",
       "                        <td id=\"T_e276d9b6_7063_11eb_8b66_acde48001122row35_col1\" class=\"data row35 col1\" >213</td>\n",
       "                        <td id=\"T_e276d9b6_7063_11eb_8b66_acde48001122row35_col2\" class=\"data row35 col2\" >166</td>\n",
       "                        <td id=\"T_e276d9b6_7063_11eb_8b66_acde48001122row35_col3\" class=\"data row35 col3\" >379</td>\n",
       "                        <td id=\"T_e276d9b6_7063_11eb_8b66_acde48001122row35_col4\" class=\"data row35 col4\" >28</td>\n",
       "                        <td id=\"T_e276d9b6_7063_11eb_8b66_acde48001122row35_col5\" class=\"data row35 col5\" >25</td>\n",
       "                        <td id=\"T_e276d9b6_7063_11eb_8b66_acde48001122row35_col6\" class=\"data row35 col6\" >p</td>\n",
       "                        <td id=\"T_e276d9b6_7063_11eb_8b66_acde48001122row35_col7\" class=\"data row35 col7\" > ERYTHROPOIETIN, ERYTHROPOIETIN RECEPTOR</td>\n",
       "            </tr>\n",
       "            <tr>\n",
       "                        <th id=\"T_e276d9b6_7063_11eb_8b66_acde48001122level0_row36\" class=\"row_heading level0 row36\" >36</th>\n",
       "                        <td id=\"T_e276d9b6_7063_11eb_8b66_acde48001122row36_col0\" class=\"data row36 col0\" >1AKJ_AD</td>\n",
       "                        <td id=\"T_e276d9b6_7063_11eb_8b66_acde48001122row36_col1\" class=\"data row36 col1\" >114</td>\n",
       "                        <td id=\"T_e276d9b6_7063_11eb_8b66_acde48001122row36_col2\" class=\"data row36 col2\" >276</td>\n",
       "                        <td id=\"T_e276d9b6_7063_11eb_8b66_acde48001122row36_col3\" class=\"data row36 col3\" >390</td>\n",
       "                        <td id=\"T_e276d9b6_7063_11eb_8b66_acde48001122row36_col4\" class=\"data row36 col4\" >18</td>\n",
       "                        <td id=\"T_e276d9b6_7063_11eb_8b66_acde48001122row36_col5\" class=\"data row36 col5\" >21</td>\n",
       "                        <td id=\"T_e276d9b6_7063_11eb_8b66_acde48001122row36_col6\" class=\"data row36 col6\" >t</td>\n",
       "                        <td id=\"T_e276d9b6_7063_11eb_8b66_acde48001122row36_col7\" class=\"data row36 col7\" > MHC CLASS I HISTOCOMPATIBILITY ANTIGEN, HIV REVERSE TRANSCRIPTASE EPITOPE, T-CELL CORECEPTOR CD8</td>\n",
       "            </tr>\n",
       "            <tr>\n",
       "                        <th id=\"T_e276d9b6_7063_11eb_8b66_acde48001122level0_row37\" class=\"row_heading level0 row37\" >37</th>\n",
       "                        <td id=\"T_e276d9b6_7063_11eb_8b66_acde48001122row37_col0\" class=\"data row37 col0\" >1AVX_AB</td>\n",
       "                        <td id=\"T_e276d9b6_7063_11eb_8b66_acde48001122row37_col1\" class=\"data row37 col1\" >172</td>\n",
       "                        <td id=\"T_e276d9b6_7063_11eb_8b66_acde48001122row37_col2\" class=\"data row37 col2\" >220</td>\n",
       "                        <td id=\"T_e276d9b6_7063_11eb_8b66_acde48001122row37_col3\" class=\"data row37 col3\" >392</td>\n",
       "                        <td id=\"T_e276d9b6_7063_11eb_8b66_acde48001122row37_col4\" class=\"data row37 col4\" >20</td>\n",
       "                        <td id=\"T_e276d9b6_7063_11eb_8b66_acde48001122row37_col5\" class=\"data row37 col5\" >32</td>\n",
       "                        <td id=\"T_e276d9b6_7063_11eb_8b66_acde48001122row37_col6\" class=\"data row37 col6\" >p</td>\n",
       "                        <td id=\"T_e276d9b6_7063_11eb_8b66_acde48001122row37_col7\" class=\"data row37 col7\" > TRYPSIN, TRYPSIN INHIBITOR</td>\n",
       "            </tr>\n",
       "            <tr>\n",
       "                        <th id=\"T_e276d9b6_7063_11eb_8b66_acde48001122level0_row38\" class=\"row_heading level0 row38\" >38</th>\n",
       "                        <td id=\"T_e276d9b6_7063_11eb_8b66_acde48001122row38_col0\" class=\"data row38 col0\" >2PCB_AB</td>\n",
       "                        <td id=\"T_e276d9b6_7063_11eb_8b66_acde48001122row38_col1\" class=\"data row38 col1\" >104</td>\n",
       "                        <td id=\"T_e276d9b6_7063_11eb_8b66_acde48001122row38_col2\" class=\"data row38 col2\" >294</td>\n",
       "                        <td id=\"T_e276d9b6_7063_11eb_8b66_acde48001122row38_col3\" class=\"data row38 col3\" >398</td>\n",
       "                        <td id=\"T_e276d9b6_7063_11eb_8b66_acde48001122row38_col4\" class=\"data row38 col4\" >15</td>\n",
       "                        <td id=\"T_e276d9b6_7063_11eb_8b66_acde48001122row38_col5\" class=\"data row38 col5\" >13</td>\n",
       "                        <td id=\"T_e276d9b6_7063_11eb_8b66_acde48001122row38_col6\" class=\"data row38 col6\" >t</td>\n",
       "                        <td id=\"T_e276d9b6_7063_11eb_8b66_acde48001122row38_col7\" class=\"data row38 col7\" > YEAST CYTOCHROME C PEROXIDASE (CCP) COMPLEX WITH HORSE HEART CYTOCHROME C</td>\n",
       "            </tr>\n",
       "            <tr>\n",
       "                        <th id=\"T_e276d9b6_7063_11eb_8b66_acde48001122level0_row39\" class=\"row_heading level0 row39\" >39</th>\n",
       "                        <td id=\"T_e276d9b6_7063_11eb_8b66_acde48001122row39_col0\" class=\"data row39 col0\" >1EWY_AC</td>\n",
       "                        <td id=\"T_e276d9b6_7063_11eb_8b66_acde48001122row39_col1\" class=\"data row39 col1\" >98</td>\n",
       "                        <td id=\"T_e276d9b6_7063_11eb_8b66_acde48001122row39_col2\" class=\"data row39 col2\" >303</td>\n",
       "                        <td id=\"T_e276d9b6_7063_11eb_8b66_acde48001122row39_col3\" class=\"data row39 col3\" >401</td>\n",
       "                        <td id=\"T_e276d9b6_7063_11eb_8b66_acde48001122row39_col4\" class=\"data row39 col4\" >23</td>\n",
       "                        <td id=\"T_e276d9b6_7063_11eb_8b66_acde48001122row39_col5\" class=\"data row39 col5\" >23</td>\n",
       "                        <td id=\"T_e276d9b6_7063_11eb_8b66_acde48001122row39_col6\" class=\"data row39 col6\" >t</td>\n",
       "                        <td id=\"T_e276d9b6_7063_11eb_8b66_acde48001122row39_col7\" class=\"data row39 col7\" > ANABAENA PCC7119 FERREDOXIN:FERREDOXIN-NADP+-REDUCTASE (E.C. 1.18.1.2) COMPLEX</td>\n",
       "            </tr>\n",
       "            <tr>\n",
       "                        <th id=\"T_e276d9b6_7063_11eb_8b66_acde48001122level0_row40\" class=\"row_heading level0 row40\" >40</th>\n",
       "                        <td id=\"T_e276d9b6_7063_11eb_8b66_acde48001122row40_col0\" class=\"data row40 col0\" >1US7_BA</td>\n",
       "                        <td id=\"T_e276d9b6_7063_11eb_8b66_acde48001122row40_col1\" class=\"data row40 col1\" >207</td>\n",
       "                        <td id=\"T_e276d9b6_7063_11eb_8b66_acde48001122row40_col2\" class=\"data row40 col2\" >194</td>\n",
       "                        <td id=\"T_e276d9b6_7063_11eb_8b66_acde48001122row40_col3\" class=\"data row40 col3\" >401</td>\n",
       "                        <td id=\"T_e276d9b6_7063_11eb_8b66_acde48001122row40_col4\" class=\"data row40 col4\" >21</td>\n",
       "                        <td id=\"T_e276d9b6_7063_11eb_8b66_acde48001122row40_col5\" class=\"data row40 col5\" >17</td>\n",
       "                        <td id=\"T_e276d9b6_7063_11eb_8b66_acde48001122row40_col6\" class=\"data row40 col6\" >t</td>\n",
       "                        <td id=\"T_e276d9b6_7063_11eb_8b66_acde48001122row40_col7\" class=\"data row40 col7\" > COMPLEX OF HSP90 AND P50</td>\n",
       "            </tr>\n",
       "            <tr>\n",
       "                        <th id=\"T_e276d9b6_7063_11eb_8b66_acde48001122level0_row41\" class=\"row_heading level0 row41\" >41</th>\n",
       "                        <td id=\"T_e276d9b6_7063_11eb_8b66_acde48001122row41_col0\" class=\"data row41 col0\" >1JTG_AB</td>\n",
       "                        <td id=\"T_e276d9b6_7063_11eb_8b66_acde48001122row41_col1\" class=\"data row41 col1\" >165</td>\n",
       "                        <td id=\"T_e276d9b6_7063_11eb_8b66_acde48001122row41_col2\" class=\"data row41 col2\" >262</td>\n",
       "                        <td id=\"T_e276d9b6_7063_11eb_8b66_acde48001122row41_col3\" class=\"data row41 col3\" >427</td>\n",
       "                        <td id=\"T_e276d9b6_7063_11eb_8b66_acde48001122row41_col4\" class=\"data row41 col4\" >36</td>\n",
       "                        <td id=\"T_e276d9b6_7063_11eb_8b66_acde48001122row41_col5\" class=\"data row41 col5\" >39</td>\n",
       "                        <td id=\"T_e276d9b6_7063_11eb_8b66_acde48001122row41_col6\" class=\"data row41 col6\" >p</td>\n",
       "                        <td id=\"T_e276d9b6_7063_11eb_8b66_acde48001122row41_col7\" class=\"data row41 col7\" > BETA-LACTAMASE TEM (E.C.3.5.2.6), BETA-LACTAMASE INHIBITORY PROTEIN</td>\n",
       "            </tr>\n",
       "            <tr>\n",
       "                        <th id=\"T_e276d9b6_7063_11eb_8b66_acde48001122level0_row42\" class=\"row_heading level0 row42\" >42</th>\n",
       "                        <td id=\"T_e276d9b6_7063_11eb_8b66_acde48001122row42_col0\" class=\"data row42 col0\" >1F6M_AC</td>\n",
       "                        <td id=\"T_e276d9b6_7063_11eb_8b66_acde48001122row42_col1\" class=\"data row42 col1\" >108</td>\n",
       "                        <td id=\"T_e276d9b6_7063_11eb_8b66_acde48001122row42_col2\" class=\"data row42 col2\" >320</td>\n",
       "                        <td id=\"T_e276d9b6_7063_11eb_8b66_acde48001122row42_col3\" class=\"data row42 col3\" >428</td>\n",
       "                        <td id=\"T_e276d9b6_7063_11eb_8b66_acde48001122row42_col4\" class=\"data row42 col4\" >29</td>\n",
       "                        <td id=\"T_e276d9b6_7063_11eb_8b66_acde48001122row42_col5\" class=\"data row42 col5\" >28</td>\n",
       "                        <td id=\"T_e276d9b6_7063_11eb_8b66_acde48001122row42_col6\" class=\"data row42 col6\" >t</td>\n",
       "                        <td id=\"T_e276d9b6_7063_11eb_8b66_acde48001122row42_col7\" class=\"data row42 col7\" > CRYSTAL STRUCTURE OF A COMPLEX BETWEEN THIOREDOXIN REDUCTASE, THIOREDOXIN, AND THE NADP+ ANALOG, AADP+</td>\n",
       "            </tr>\n",
       "            <tr>\n",
       "                        <th id=\"T_e276d9b6_7063_11eb_8b66_acde48001122level0_row43\" class=\"row_heading level0 row43\" >43</th>\n",
       "                        <td id=\"T_e276d9b6_7063_11eb_8b66_acde48001122row43_col0\" class=\"data row43 col0\" >1XQS_AC</td>\n",
       "                        <td id=\"T_e276d9b6_7063_11eb_8b66_acde48001122row43_col1\" class=\"data row43 col1\" >165</td>\n",
       "                        <td id=\"T_e276d9b6_7063_11eb_8b66_acde48001122row43_col2\" class=\"data row43 col2\" >264</td>\n",
       "                        <td id=\"T_e276d9b6_7063_11eb_8b66_acde48001122row43_col3\" class=\"data row43 col3\" >429</td>\n",
       "                        <td id=\"T_e276d9b6_7063_11eb_8b66_acde48001122row43_col4\" class=\"data row43 col4\" >29</td>\n",
       "                        <td id=\"T_e276d9b6_7063_11eb_8b66_acde48001122row43_col5\" class=\"data row43 col5\" >38</td>\n",
       "                        <td id=\"T_e276d9b6_7063_11eb_8b66_acde48001122row43_col6\" class=\"data row43 col6\" >t</td>\n",
       "                        <td id=\"T_e276d9b6_7063_11eb_8b66_acde48001122row43_col7\" class=\"data row43 col7\" > HSPBP1 protein, Heat shock 70 kDa protein 1</td>\n",
       "            </tr>\n",
       "            <tr>\n",
       "                        <th id=\"T_e276d9b6_7063_11eb_8b66_acde48001122level0_row44\" class=\"row_heading level0 row44\" >44</th>\n",
       "                        <td id=\"T_e276d9b6_7063_11eb_8b66_acde48001122row44_col0\" class=\"data row44 col0\" >1GPW_AB</td>\n",
       "                        <td id=\"T_e276d9b6_7063_11eb_8b66_acde48001122row44_col1\" class=\"data row44 col1\" >201</td>\n",
       "                        <td id=\"T_e276d9b6_7063_11eb_8b66_acde48001122row44_col2\" class=\"data row44 col2\" >253</td>\n",
       "                        <td id=\"T_e276d9b6_7063_11eb_8b66_acde48001122row44_col3\" class=\"data row44 col3\" >454</td>\n",
       "                        <td id=\"T_e276d9b6_7063_11eb_8b66_acde48001122row44_col4\" class=\"data row44 col4\" >28</td>\n",
       "                        <td id=\"T_e276d9b6_7063_11eb_8b66_acde48001122row44_col5\" class=\"data row44 col5\" >36</td>\n",
       "                        <td id=\"T_e276d9b6_7063_11eb_8b66_acde48001122row44_col6\" class=\"data row44 col6\" >p</td>\n",
       "                        <td id=\"T_e276d9b6_7063_11eb_8b66_acde48001122row44_col7\" class=\"data row44 col7\" > STRUCTURAL EVIDENCE FOR AMMONIA TUNNELING ACROSS THE (BETA/ALPHA)8 BARREL OF THE IMIDAZOLE GLYCEROL PHOSPHATE SYNTHASE BIENZYME COMPLEX.</td>\n",
       "            </tr>\n",
       "            <tr>\n",
       "                        <th id=\"T_e276d9b6_7063_11eb_8b66_acde48001122level0_row45\" class=\"row_heading level0 row45\" >45</th>\n",
       "                        <td id=\"T_e276d9b6_7063_11eb_8b66_acde48001122row45_col0\" class=\"data row45 col0\" >1F34_AB</td>\n",
       "                        <td id=\"T_e276d9b6_7063_11eb_8b66_acde48001122row45_col1\" class=\"data row45 col1\" >138</td>\n",
       "                        <td id=\"T_e276d9b6_7063_11eb_8b66_acde48001122row45_col2\" class=\"data row45 col2\" >325</td>\n",
       "                        <td id=\"T_e276d9b6_7063_11eb_8b66_acde48001122row45_col3\" class=\"data row45 col3\" >463</td>\n",
       "                        <td id=\"T_e276d9b6_7063_11eb_8b66_acde48001122row45_col4\" class=\"data row45 col4\" >44</td>\n",
       "                        <td id=\"T_e276d9b6_7063_11eb_8b66_acde48001122row45_col5\" class=\"data row45 col5\" >56</td>\n",
       "                        <td id=\"T_e276d9b6_7063_11eb_8b66_acde48001122row45_col6\" class=\"data row45 col6\" >p</td>\n",
       "                        <td id=\"T_e276d9b6_7063_11eb_8b66_acde48001122row45_col7\" class=\"data row45 col7\" > CRYSTAL STRUCTURE OF ASCARIS PEPSIN INHIBITOR-3 BOUND TO PORCINE PEPSIN</td>\n",
       "            </tr>\n",
       "            <tr>\n",
       "                        <th id=\"T_e276d9b6_7063_11eb_8b66_acde48001122level0_row46\" class=\"row_heading level0 row46\" >46</th>\n",
       "                        <td id=\"T_e276d9b6_7063_11eb_8b66_acde48001122row46_col0\" class=\"data row46 col0\" >1M10_AB</td>\n",
       "                        <td id=\"T_e276d9b6_7063_11eb_8b66_acde48001122row46_col1\" class=\"data row46 col1\" >267</td>\n",
       "                        <td id=\"T_e276d9b6_7063_11eb_8b66_acde48001122row46_col2\" class=\"data row46 col2\" >199</td>\n",
       "                        <td id=\"T_e276d9b6_7063_11eb_8b66_acde48001122row46_col3\" class=\"data row46 col3\" >466</td>\n",
       "                        <td id=\"T_e276d9b6_7063_11eb_8b66_acde48001122row46_col4\" class=\"data row46 col4\" >35</td>\n",
       "                        <td id=\"T_e276d9b6_7063_11eb_8b66_acde48001122row46_col5\" class=\"data row46 col5\" >34</td>\n",
       "                        <td id=\"T_e276d9b6_7063_11eb_8b66_acde48001122row46_col6\" class=\"data row46 col6\" >p</td>\n",
       "                        <td id=\"T_e276d9b6_7063_11eb_8b66_acde48001122row46_col7\" class=\"data row46 col7\" > von Willebrand Factor/Platelet glycoprotein Ib alpha chain</td>\n",
       "            </tr>\n",
       "            <tr>\n",
       "                        <th id=\"T_e276d9b6_7063_11eb_8b66_acde48001122level0_row47\" class=\"row_heading level0 row47\" >47</th>\n",
       "                        <td id=\"T_e276d9b6_7063_11eb_8b66_acde48001122row47_col0\" class=\"data row47 col0\" >1WQ1_RG</td>\n",
       "                        <td id=\"T_e276d9b6_7063_11eb_8b66_acde48001122row47_col1\" class=\"data row47 col1\" >320</td>\n",
       "                        <td id=\"T_e276d9b6_7063_11eb_8b66_acde48001122row47_col2\" class=\"data row47 col2\" >166</td>\n",
       "                        <td id=\"T_e276d9b6_7063_11eb_8b66_acde48001122row47_col3\" class=\"data row47 col3\" >486</td>\n",
       "                        <td id=\"T_e276d9b6_7063_11eb_8b66_acde48001122row47_col4\" class=\"data row47 col4\" >46</td>\n",
       "                        <td id=\"T_e276d9b6_7063_11eb_8b66_acde48001122row47_col5\" class=\"data row47 col5\" >37</td>\n",
       "                        <td id=\"T_e276d9b6_7063_11eb_8b66_acde48001122row47_col6\" class=\"data row47 col6\" >t</td>\n",
       "                        <td id=\"T_e276d9b6_7063_11eb_8b66_acde48001122row47_col7\" class=\"data row47 col7\" > H-RAS, P120GAP, GUANOSINE-5'-DIPHOSPHATE, ALUMINUM FLUORIDE</td>\n",
       "            </tr>\n",
       "            <tr>\n",
       "                        <th id=\"T_e276d9b6_7063_11eb_8b66_acde48001122level0_row48\" class=\"row_heading level0 row48\" >48</th>\n",
       "                        <td id=\"T_e276d9b6_7063_11eb_8b66_acde48001122row48_col0\" class=\"data row48 col0\" >2BTF_AP</td>\n",
       "                        <td id=\"T_e276d9b6_7063_11eb_8b66_acde48001122row48_col1\" class=\"data row48 col1\" >139</td>\n",
       "                        <td id=\"T_e276d9b6_7063_11eb_8b66_acde48001122row48_col2\" class=\"data row48 col2\" >373</td>\n",
       "                        <td id=\"T_e276d9b6_7063_11eb_8b66_acde48001122row48_col3\" class=\"data row48 col3\" >512</td>\n",
       "                        <td id=\"T_e276d9b6_7063_11eb_8b66_acde48001122row48_col4\" class=\"data row48 col4\" >31</td>\n",
       "                        <td id=\"T_e276d9b6_7063_11eb_8b66_acde48001122row48_col5\" class=\"data row48 col5\" >30</td>\n",
       "                        <td id=\"T_e276d9b6_7063_11eb_8b66_acde48001122row48_col6\" class=\"data row48 col6\" >p</td>\n",
       "                        <td id=\"T_e276d9b6_7063_11eb_8b66_acde48001122row48_col7\" class=\"data row48 col7\" > THE STRUCTURE OF CRYSTALLINE PROFILIN-BETA-ACTIN</td>\n",
       "            </tr>\n",
       "            <tr>\n",
       "                        <th id=\"T_e276d9b6_7063_11eb_8b66_acde48001122level0_row49\" class=\"row_heading level0 row49\" >49</th>\n",
       "                        <td id=\"T_e276d9b6_7063_11eb_8b66_acde48001122row49_col0\" class=\"data row49 col0\" >2BTF_AP</td>\n",
       "                        <td id=\"T_e276d9b6_7063_11eb_8b66_acde48001122row49_col1\" class=\"data row49 col1\" >139</td>\n",
       "                        <td id=\"T_e276d9b6_7063_11eb_8b66_acde48001122row49_col2\" class=\"data row49 col2\" >373</td>\n",
       "                        <td id=\"T_e276d9b6_7063_11eb_8b66_acde48001122row49_col3\" class=\"data row49 col3\" >512</td>\n",
       "                        <td id=\"T_e276d9b6_7063_11eb_8b66_acde48001122row49_col4\" class=\"data row49 col4\" >31</td>\n",
       "                        <td id=\"T_e276d9b6_7063_11eb_8b66_acde48001122row49_col5\" class=\"data row49 col5\" >30</td>\n",
       "                        <td id=\"T_e276d9b6_7063_11eb_8b66_acde48001122row49_col6\" class=\"data row49 col6\" >t</td>\n",
       "                        <td id=\"T_e276d9b6_7063_11eb_8b66_acde48001122row49_col7\" class=\"data row49 col7\" > THE STRUCTURE OF CRYSTALLINE PROFILIN-BETA-ACTIN</td>\n",
       "            </tr>\n",
       "            <tr>\n",
       "                        <th id=\"T_e276d9b6_7063_11eb_8b66_acde48001122level0_row50\" class=\"row_heading level0 row50\" >50</th>\n",
       "                        <td id=\"T_e276d9b6_7063_11eb_8b66_acde48001122row50_col0\" class=\"data row50 col0\" >2B42_BA</td>\n",
       "                        <td id=\"T_e276d9b6_7063_11eb_8b66_acde48001122row50_col1\" class=\"data row50 col1\" >364</td>\n",
       "                        <td id=\"T_e276d9b6_7063_11eb_8b66_acde48001122row50_col2\" class=\"data row50 col2\" >184</td>\n",
       "                        <td id=\"T_e276d9b6_7063_11eb_8b66_acde48001122row50_col3\" class=\"data row50 col3\" >548</td>\n",
       "                        <td id=\"T_e276d9b6_7063_11eb_8b66_acde48001122row50_col4\" class=\"data row50 col4\" >43</td>\n",
       "                        <td id=\"T_e276d9b6_7063_11eb_8b66_acde48001122row50_col5\" class=\"data row50 col5\" >41</td>\n",
       "                        <td id=\"T_e276d9b6_7063_11eb_8b66_acde48001122row50_col6\" class=\"data row50 col6\" >p</td>\n",
       "                        <td id=\"T_e276d9b6_7063_11eb_8b66_acde48001122row50_col7\" class=\"data row50 col7\" > CRYSTAL STRUCTURE OF THE TRITICUM XYLANSE INHIBITOR-I IN COMPLEX WITH BACILLUS SUBTILIS XYLANASE</td>\n",
       "            </tr>\n",
       "            <tr>\n",
       "                        <th id=\"T_e276d9b6_7063_11eb_8b66_acde48001122level0_row51\" class=\"row_heading level0 row51\" >51</th>\n",
       "                        <td id=\"T_e276d9b6_7063_11eb_8b66_acde48001122row51_col0\" class=\"data row51 col0\" >1I2M_AB</td>\n",
       "                        <td id=\"T_e276d9b6_7063_11eb_8b66_acde48001122row51_col1\" class=\"data row51 col1\" >388</td>\n",
       "                        <td id=\"T_e276d9b6_7063_11eb_8b66_acde48001122row51_col2\" class=\"data row51 col2\" >165</td>\n",
       "                        <td id=\"T_e276d9b6_7063_11eb_8b66_acde48001122row51_col3\" class=\"data row51 col3\" >553</td>\n",
       "                        <td id=\"T_e276d9b6_7063_11eb_8b66_acde48001122row51_col4\" class=\"data row51 col4\" >48</td>\n",
       "                        <td id=\"T_e276d9b6_7063_11eb_8b66_acde48001122row51_col5\" class=\"data row51 col5\" >34</td>\n",
       "                        <td id=\"T_e276d9b6_7063_11eb_8b66_acde48001122row51_col6\" class=\"data row51 col6\" >p</td>\n",
       "                        <td id=\"T_e276d9b6_7063_11eb_8b66_acde48001122row51_col7\" class=\"data row51 col7\" > RAN-RCC1-SO4 COMPLEX</td>\n",
       "            </tr>\n",
       "            <tr>\n",
       "                        <th id=\"T_e276d9b6_7063_11eb_8b66_acde48001122level0_row52\" class=\"row_heading level0 row52\" >52</th>\n",
       "                        <td id=\"T_e276d9b6_7063_11eb_8b66_acde48001122row52_col0\" class=\"data row52 col0\" >1BVN_PT</td>\n",
       "                        <td id=\"T_e276d9b6_7063_11eb_8b66_acde48001122row52_col1\" class=\"data row52 col1\" >71</td>\n",
       "                        <td id=\"T_e276d9b6_7063_11eb_8b66_acde48001122row52_col2\" class=\"data row52 col2\" >496</td>\n",
       "                        <td id=\"T_e276d9b6_7063_11eb_8b66_acde48001122row52_col3\" class=\"data row52 col3\" >567</td>\n",
       "                        <td id=\"T_e276d9b6_7063_11eb_8b66_acde48001122row52_col4\" class=\"data row52 col4\" >28</td>\n",
       "                        <td id=\"T_e276d9b6_7063_11eb_8b66_acde48001122row52_col5\" class=\"data row52 col5\" >44</td>\n",
       "                        <td id=\"T_e276d9b6_7063_11eb_8b66_acde48001122row52_col6\" class=\"data row52 col6\" >p</td>\n",
       "                        <td id=\"T_e276d9b6_7063_11eb_8b66_acde48001122row52_col7\" class=\"data row52 col7\" > PROTEIN (ALPHA-AMYLASE) (3.2.1.1)</td>\n",
       "            </tr>\n",
       "            <tr>\n",
       "                        <th id=\"T_e276d9b6_7063_11eb_8b66_acde48001122level0_row53\" class=\"row_heading level0 row53\" >53</th>\n",
       "                        <td id=\"T_e276d9b6_7063_11eb_8b66_acde48001122row53_col0\" class=\"data row53 col0\" >1JIW_IP</td>\n",
       "                        <td id=\"T_e276d9b6_7063_11eb_8b66_acde48001122row53_col1\" class=\"data row53 col1\" >470</td>\n",
       "                        <td id=\"T_e276d9b6_7063_11eb_8b66_acde48001122row53_col2\" class=\"data row53 col2\" >105</td>\n",
       "                        <td id=\"T_e276d9b6_7063_11eb_8b66_acde48001122row53_col3\" class=\"data row53 col3\" >575</td>\n",
       "                        <td id=\"T_e276d9b6_7063_11eb_8b66_acde48001122row53_col4\" class=\"data row53 col4\" >37</td>\n",
       "                        <td id=\"T_e276d9b6_7063_11eb_8b66_acde48001122row53_col5\" class=\"data row53 col5\" >25</td>\n",
       "                        <td id=\"T_e276d9b6_7063_11eb_8b66_acde48001122row53_col6\" class=\"data row53 col6\" >p</td>\n",
       "                        <td id=\"T_e276d9b6_7063_11eb_8b66_acde48001122row53_col7\" class=\"data row53 col7\" > ALKALINE METALLOPROTEINASE, PROTEINASE INHIBITOR</td>\n",
       "            </tr>\n",
       "            <tr>\n",
       "                        <th id=\"T_e276d9b6_7063_11eb_8b66_acde48001122level0_row54\" class=\"row_heading level0 row54\" >54</th>\n",
       "                        <td id=\"T_e276d9b6_7063_11eb_8b66_acde48001122row54_col0\" class=\"data row54 col0\" >1DFJ_EI</td>\n",
       "                        <td id=\"T_e276d9b6_7063_11eb_8b66_acde48001122row54_col1\" class=\"data row54 col1\" >456</td>\n",
       "                        <td id=\"T_e276d9b6_7063_11eb_8b66_acde48001122row54_col2\" class=\"data row54 col2\" >124</td>\n",
       "                        <td id=\"T_e276d9b6_7063_11eb_8b66_acde48001122row54_col3\" class=\"data row54 col3\" >580</td>\n",
       "                        <td id=\"T_e276d9b6_7063_11eb_8b66_acde48001122row54_col4\" class=\"data row54 col4\" >50</td>\n",
       "                        <td id=\"T_e276d9b6_7063_11eb_8b66_acde48001122row54_col5\" class=\"data row54 col5\" >40</td>\n",
       "                        <td id=\"T_e276d9b6_7063_11eb_8b66_acde48001122row54_col6\" class=\"data row54 col6\" >p</td>\n",
       "                        <td id=\"T_e276d9b6_7063_11eb_8b66_acde48001122row54_col7\" class=\"data row54 col7\" > RIBONUCLEASE A, RIBONUCLEASE INHIBITOR</td>\n",
       "            </tr>\n",
       "            <tr>\n",
       "                        <th id=\"T_e276d9b6_7063_11eb_8b66_acde48001122level0_row55\" class=\"row_heading level0 row55\" >55</th>\n",
       "                        <td id=\"T_e276d9b6_7063_11eb_8b66_acde48001122row55_col0\" class=\"data row55 col0\" >1OPH_AB</td>\n",
       "                        <td id=\"T_e276d9b6_7063_11eb_8b66_acde48001122row55_col1\" class=\"data row55 col1\" >220</td>\n",
       "                        <td id=\"T_e276d9b6_7063_11eb_8b66_acde48001122row55_col2\" class=\"data row55 col2\" >375</td>\n",
       "                        <td id=\"T_e276d9b6_7063_11eb_8b66_acde48001122row55_col3\" class=\"data row55 col3\" >595</td>\n",
       "                        <td id=\"T_e276d9b6_7063_11eb_8b66_acde48001122row55_col4\" class=\"data row55 col4\" >31</td>\n",
       "                        <td id=\"T_e276d9b6_7063_11eb_8b66_acde48001122row55_col5\" class=\"data row55 col5\" >13</td>\n",
       "                        <td id=\"T_e276d9b6_7063_11eb_8b66_acde48001122row55_col6\" class=\"data row55 col6\" >p</td>\n",
       "                        <td id=\"T_e276d9b6_7063_11eb_8b66_acde48001122row55_col7\" class=\"data row55 col7\" > NON-COVALENT COMPLEX BETWEEN ALPHA-1-PI-PITTSBURGH AND S195A</td>\n",
       "            </tr>\n",
       "            <tr>\n",
       "                        <th id=\"T_e276d9b6_7063_11eb_8b66_acde48001122level0_row56\" class=\"row_heading level0 row56\" >56</th>\n",
       "                        <td id=\"T_e276d9b6_7063_11eb_8b66_acde48001122row56_col0\" class=\"data row56 col0\" >1WDW_AB</td>\n",
       "                        <td id=\"T_e276d9b6_7063_11eb_8b66_acde48001122row56_col1\" class=\"data row56 col1\" >385</td>\n",
       "                        <td id=\"T_e276d9b6_7063_11eb_8b66_acde48001122row56_col2\" class=\"data row56 col2\" >241</td>\n",
       "                        <td id=\"T_e276d9b6_7063_11eb_8b66_acde48001122row56_col3\" class=\"data row56 col3\" >626</td>\n",
       "                        <td id=\"T_e276d9b6_7063_11eb_8b66_acde48001122row56_col4\" class=\"data row56 col4\" >43</td>\n",
       "                        <td id=\"T_e276d9b6_7063_11eb_8b66_acde48001122row56_col5\" class=\"data row56 col5\" >43</td>\n",
       "                        <td id=\"T_e276d9b6_7063_11eb_8b66_acde48001122row56_col6\" class=\"data row56 col6\" >p</td>\n",
       "                        <td id=\"T_e276d9b6_7063_11eb_8b66_acde48001122row56_col7\" class=\"data row56 col7\" > Tryptophan synthase alpha chain (E.C.4.2.1.20)/Tryptophan synthase beta chain 1 (E.C.4.2.1.20)</td>\n",
       "            </tr>\n",
       "            <tr>\n",
       "                        <th id=\"T_e276d9b6_7063_11eb_8b66_acde48001122level0_row57\" class=\"row_heading level0 row57\" >57</th>\n",
       "                        <td id=\"T_e276d9b6_7063_11eb_8b66_acde48001122row57_col0\" class=\"data row57 col0\" >1IBR_AB</td>\n",
       "                        <td id=\"T_e276d9b6_7063_11eb_8b66_acde48001122row57_col1\" class=\"data row57 col1\" >458</td>\n",
       "                        <td id=\"T_e276d9b6_7063_11eb_8b66_acde48001122row57_col2\" class=\"data row57 col2\" >169</td>\n",
       "                        <td id=\"T_e276d9b6_7063_11eb_8b66_acde48001122row57_col3\" class=\"data row57 col3\" >627</td>\n",
       "                        <td id=\"T_e276d9b6_7063_11eb_8b66_acde48001122row57_col4\" class=\"data row57 col4\" >54</td>\n",
       "                        <td id=\"T_e276d9b6_7063_11eb_8b66_acde48001122row57_col5\" class=\"data row57 col5\" >45</td>\n",
       "                        <td id=\"T_e276d9b6_7063_11eb_8b66_acde48001122row57_col6\" class=\"data row57 col6\" >p</td>\n",
       "                        <td id=\"T_e276d9b6_7063_11eb_8b66_acde48001122row57_col7\" class=\"data row57 col7\" > RAN; IMPORTIN BETA SUBUNIT</td>\n",
       "            </tr>\n",
       "            <tr>\n",
       "                        <th id=\"T_e276d9b6_7063_11eb_8b66_acde48001122level0_row58\" class=\"row_heading level0 row58\" >58</th>\n",
       "                        <td id=\"T_e276d9b6_7063_11eb_8b66_acde48001122row58_col0\" class=\"data row58 col0\" >1ATN_DA</td>\n",
       "                        <td id=\"T_e276d9b6_7063_11eb_8b66_acde48001122row58_col1\" class=\"data row58 col1\" >371</td>\n",
       "                        <td id=\"T_e276d9b6_7063_11eb_8b66_acde48001122row58_col2\" class=\"data row58 col2\" >258</td>\n",
       "                        <td id=\"T_e276d9b6_7063_11eb_8b66_acde48001122row58_col3\" class=\"data row58 col3\" >629</td>\n",
       "                        <td id=\"T_e276d9b6_7063_11eb_8b66_acde48001122row58_col4\" class=\"data row58 col4\" >22</td>\n",
       "                        <td id=\"T_e276d9b6_7063_11eb_8b66_acde48001122row58_col5\" class=\"data row58 col5\" >31</td>\n",
       "                        <td id=\"T_e276d9b6_7063_11eb_8b66_acde48001122row58_col6\" class=\"data row58 col6\" >p</td>\n",
       "                        <td id=\"T_e276d9b6_7063_11eb_8b66_acde48001122row58_col7\" class=\"data row58 col7\" > ATOMIC STRUCTURE OF THE ACTIN:DNASE I COMPLEX</td>\n",
       "            </tr>\n",
       "            <tr>\n",
       "                        <th id=\"T_e276d9b6_7063_11eb_8b66_acde48001122level0_row59\" class=\"row_heading level0 row59\" >59</th>\n",
       "                        <td id=\"T_e276d9b6_7063_11eb_8b66_acde48001122row59_col0\" class=\"data row59 col0\" >2OZA_AB</td>\n",
       "                        <td id=\"T_e276d9b6_7063_11eb_8b66_acde48001122row59_col1\" class=\"data row59 col1\" >340</td>\n",
       "                        <td id=\"T_e276d9b6_7063_11eb_8b66_acde48001122row59_col2\" class=\"data row59 col2\" >332</td>\n",
       "                        <td id=\"T_e276d9b6_7063_11eb_8b66_acde48001122row59_col3\" class=\"data row59 col3\" >672</td>\n",
       "                        <td id=\"T_e276d9b6_7063_11eb_8b66_acde48001122row59_col4\" class=\"data row59 col4\" >89</td>\n",
       "                        <td id=\"T_e276d9b6_7063_11eb_8b66_acde48001122row59_col5\" class=\"data row59 col5\" >83</td>\n",
       "                        <td id=\"T_e276d9b6_7063_11eb_8b66_acde48001122row59_col6\" class=\"data row59 col6\" >p</td>\n",
       "                        <td id=\"T_e276d9b6_7063_11eb_8b66_acde48001122row59_col7\" class=\"data row59 col7\" > MAP kinase-activated protein kinase 2 (E.C.2.7.11.1) /Mitogen-activated protein kinase 14 (E.C.2.7.11.24)</td>\n",
       "            </tr>\n",
       "            <tr>\n",
       "                        <th id=\"T_e276d9b6_7063_11eb_8b66_acde48001122level0_row60\" class=\"row_heading level0 row60\" >60</th>\n",
       "                        <td id=\"T_e276d9b6_7063_11eb_8b66_acde48001122row60_col0\" class=\"data row60 col0\" >2NYZ_AB</td>\n",
       "                        <td id=\"T_e276d9b6_7063_11eb_8b66_acde48001122row60_col1\" class=\"data row60 col1\" >371</td>\n",
       "                        <td id=\"T_e276d9b6_7063_11eb_8b66_acde48001122row60_col2\" class=\"data row60 col2\" >371</td>\n",
       "                        <td id=\"T_e276d9b6_7063_11eb_8b66_acde48001122row60_col3\" class=\"data row60 col3\" >742</td>\n",
       "                        <td id=\"T_e276d9b6_7063_11eb_8b66_acde48001122row60_col4\" class=\"data row60 col4\" >46</td>\n",
       "                        <td id=\"T_e276d9b6_7063_11eb_8b66_acde48001122row60_col5\" class=\"data row60 col5\" >45</td>\n",
       "                        <td id=\"T_e276d9b6_7063_11eb_8b66_acde48001122row60_col6\" class=\"data row60 col6\" >p</td>\n",
       "                        <td id=\"T_e276d9b6_7063_11eb_8b66_acde48001122row60_col7\" class=\"data row60 col7\" > Hypothetical protein GAMMAHV.M3, Lymphotactin</td>\n",
       "            </tr>\n",
       "            <tr>\n",
       "                        <th id=\"T_e276d9b6_7063_11eb_8b66_acde48001122level0_row61\" class=\"row_heading level0 row61\" >61</th>\n",
       "                        <td id=\"T_e276d9b6_7063_11eb_8b66_acde48001122row61_col0\" class=\"data row61 col0\" >3BP8_AB</td>\n",
       "                        <td id=\"T_e276d9b6_7063_11eb_8b66_acde48001122row61_col1\" class=\"data row61 col1\" >380</td>\n",
       "                        <td id=\"T_e276d9b6_7063_11eb_8b66_acde48001122row61_col2\" class=\"data row61 col2\" >381</td>\n",
       "                        <td id=\"T_e276d9b6_7063_11eb_8b66_acde48001122row61_col3\" class=\"data row61 col3\" >761</td>\n",
       "                        <td id=\"T_e276d9b6_7063_11eb_8b66_acde48001122row61_col4\" class=\"data row61 col4\" >51</td>\n",
       "                        <td id=\"T_e276d9b6_7063_11eb_8b66_acde48001122row61_col5\" class=\"data row61 col5\" >50</td>\n",
       "                        <td id=\"T_e276d9b6_7063_11eb_8b66_acde48001122row61_col6\" class=\"data row61 col6\" >p</td>\n",
       "                        <td id=\"T_e276d9b6_7063_11eb_8b66_acde48001122row61_col7\" class=\"data row61 col7\" > Putative NAGC-like transcriptional regulator, PTS system glucose-specific EIICB component</td>\n",
       "            </tr>\n",
       "            <tr>\n",
       "                        <th id=\"T_e276d9b6_7063_11eb_8b66_acde48001122level0_row62\" class=\"row_heading level0 row62\" >62</th>\n",
       "                        <td id=\"T_e276d9b6_7063_11eb_8b66_acde48001122row62_col0\" class=\"data row62 col0\" >1GXD_AC</td>\n",
       "                        <td id=\"T_e276d9b6_7063_11eb_8b66_acde48001122row62_col1\" class=\"data row62 col1\" >192</td>\n",
       "                        <td id=\"T_e276d9b6_7063_11eb_8b66_acde48001122row62_col2\" class=\"data row62 col2\" >624</td>\n",
       "                        <td id=\"T_e276d9b6_7063_11eb_8b66_acde48001122row62_col3\" class=\"data row62 col3\" >816</td>\n",
       "                        <td id=\"T_e276d9b6_7063_11eb_8b66_acde48001122row62_col4\" class=\"data row62 col4\" >32</td>\n",
       "                        <td id=\"T_e276d9b6_7063_11eb_8b66_acde48001122row62_col5\" class=\"data row62 col5\" >40</td>\n",
       "                        <td id=\"T_e276d9b6_7063_11eb_8b66_acde48001122row62_col6\" class=\"data row62 col6\" >p</td>\n",
       "                        <td id=\"T_e276d9b6_7063_11eb_8b66_acde48001122row62_col7\" class=\"data row62 col7\" > PROMMP-2/TIMP-2 COMPLEX</td>\n",
       "            </tr>\n",
       "            <tr>\n",
       "                        <th id=\"T_e276d9b6_7063_11eb_8b66_acde48001122level0_row63\" class=\"row_heading level0 row63\" >63</th>\n",
       "                        <td id=\"T_e276d9b6_7063_11eb_8b66_acde48001122row63_col0\" class=\"data row63 col0\" >1T6B_XY</td>\n",
       "                        <td id=\"T_e276d9b6_7063_11eb_8b66_acde48001122row63_col1\" class=\"data row63 col1\" >170</td>\n",
       "                        <td id=\"T_e276d9b6_7063_11eb_8b66_acde48001122row63_col2\" class=\"data row63 col2\" >676</td>\n",
       "                        <td id=\"T_e276d9b6_7063_11eb_8b66_acde48001122row63_col3\" class=\"data row63 col3\" >846</td>\n",
       "                        <td id=\"T_e276d9b6_7063_11eb_8b66_acde48001122row63_col4\" class=\"data row63 col4\" >26</td>\n",
       "                        <td id=\"T_e276d9b6_7063_11eb_8b66_acde48001122row63_col5\" class=\"data row63 col5\" >34</td>\n",
       "                        <td id=\"T_e276d9b6_7063_11eb_8b66_acde48001122row63_col6\" class=\"data row63 col6\" >p</td>\n",
       "                        <td id=\"T_e276d9b6_7063_11eb_8b66_acde48001122row63_col7\" class=\"data row63 col7\" > Protective Antigen/Anthrax toxin receptor 2</td>\n",
       "            </tr>\n",
       "            <tr>\n",
       "                        <th id=\"T_e276d9b6_7063_11eb_8b66_acde48001122level0_row64\" class=\"row_heading level0 row64\" >64</th>\n",
       "                        <td id=\"T_e276d9b6_7063_11eb_8b66_acde48001122row64_col0\" class=\"data row64 col0\" >2FJU_AB</td>\n",
       "                        <td id=\"T_e276d9b6_7063_11eb_8b66_acde48001122row64_col1\" class=\"data row64 col1\" >696</td>\n",
       "                        <td id=\"T_e276d9b6_7063_11eb_8b66_acde48001122row64_col2\" class=\"data row64 col2\" >177</td>\n",
       "                        <td id=\"T_e276d9b6_7063_11eb_8b66_acde48001122row64_col3\" class=\"data row64 col3\" >873</td>\n",
       "                        <td id=\"T_e276d9b6_7063_11eb_8b66_acde48001122row64_col4\" class=\"data row64 col4\" >19</td>\n",
       "                        <td id=\"T_e276d9b6_7063_11eb_8b66_acde48001122row64_col5\" class=\"data row64 col5\" >14</td>\n",
       "                        <td id=\"T_e276d9b6_7063_11eb_8b66_acde48001122row64_col6\" class=\"data row64 col6\" >t</td>\n",
       "                        <td id=\"T_e276d9b6_7063_11eb_8b66_acde48001122row64_col7\" class=\"data row64 col7\" > Ras-related C3 botulinum toxin substrate 1/1- phosphatidylinositol-4,5-bisphosphate phosphodiesterase beta 2 (E.C.3.1.4.11)</td>\n",
       "            </tr>\n",
       "            <tr>\n",
       "                        <th id=\"T_e276d9b6_7063_11eb_8b66_acde48001122level0_row65\" class=\"row_heading level0 row65\" >65</th>\n",
       "                        <td id=\"T_e276d9b6_7063_11eb_8b66_acde48001122row65_col0\" class=\"data row65 col0\" >1HE8_AB</td>\n",
       "                        <td id=\"T_e276d9b6_7063_11eb_8b66_acde48001122row65_col1\" class=\"data row65 col1\" >166</td>\n",
       "                        <td id=\"T_e276d9b6_7063_11eb_8b66_acde48001122row65_col2\" class=\"data row65 col2\" >749</td>\n",
       "                        <td id=\"T_e276d9b6_7063_11eb_8b66_acde48001122row65_col3\" class=\"data row65 col3\" >915</td>\n",
       "                        <td id=\"T_e276d9b6_7063_11eb_8b66_acde48001122row65_col4\" class=\"data row65 col4\" >20</td>\n",
       "                        <td id=\"T_e276d9b6_7063_11eb_8b66_acde48001122row65_col5\" class=\"data row65 col5\" >22</td>\n",
       "                        <td id=\"T_e276d9b6_7063_11eb_8b66_acde48001122row65_col6\" class=\"data row65 col6\" >t</td>\n",
       "                        <td id=\"T_e276d9b6_7063_11eb_8b66_acde48001122row65_col7\" class=\"data row65 col7\" > RAS G12V - PI 3-KINASE GAMMA COMPLEX</td>\n",
       "            </tr>\n",
       "            <tr>\n",
       "                        <th id=\"T_e276d9b6_7063_11eb_8b66_acde48001122level0_row66\" class=\"row_heading level0 row66\" >66</th>\n",
       "                        <td id=\"T_e276d9b6_7063_11eb_8b66_acde48001122row66_col0\" class=\"data row66 col0\" >1ZM4_AB</td>\n",
       "                        <td id=\"T_e276d9b6_7063_11eb_8b66_acde48001122row66_col1\" class=\"data row66 col1\" >207</td>\n",
       "                        <td id=\"T_e276d9b6_7063_11eb_8b66_acde48001122row66_col2\" class=\"data row66 col2\" >822</td>\n",
       "                        <td id=\"T_e276d9b6_7063_11eb_8b66_acde48001122row66_col3\" class=\"data row66 col3\" >1029</td>\n",
       "                        <td id=\"T_e276d9b6_7063_11eb_8b66_acde48001122row66_col4\" class=\"data row66 col4\" >23</td>\n",
       "                        <td id=\"T_e276d9b6_7063_11eb_8b66_acde48001122row66_col5\" class=\"data row66 col5\" >30</td>\n",
       "                        <td id=\"T_e276d9b6_7063_11eb_8b66_acde48001122row66_col6\" class=\"data row66 col6\" >t</td>\n",
       "                        <td id=\"T_e276d9b6_7063_11eb_8b66_acde48001122row66_col7\" class=\"data row66 col7\" > Elongation factor 2, exotoxin A (E.C.2.4.2.36)</td>\n",
       "            </tr>\n",
       "    </tbody></table>"
      ],
      "text/plain": [
       "<pandas.io.formats.style.Styler at 0x7fbaa3c7c2e0>"
      ]
     },
     "metadata": {},
     "output_type": "display_data"
    }
   ],
   "source": [
    "def _color_by_type(s):\n",
    "    return ['background-color: '+x for x in ['bisque' if s.type == \"t\" else 'azure' for val in s]]\n",
    "\n",
    "with pd.option_context('display.max_rows', None):\n",
    "    display(full_list.style.apply(_color_by_type, axis=1))"
   ]
  },
  {
   "cell_type": "code",
   "execution_count": 8,
   "metadata": {
    "ExecuteTime": {
     "end_time": "2021-02-16T14:33:10.645880Z",
     "start_time": "2021-02-16T14:33:10.591589Z"
    }
   },
   "outputs": [
    {
     "data": {
      "text/plain": [
       "104580"
      ]
     },
     "execution_count": 8,
     "metadata": {},
     "output_type": "execute_result"
    }
   ],
   "source": [
    "open(\"../analysis/{}.html\".format(treated_family), 'w').write(full_list.style.apply(_color_by_type, axis=1).render())"
   ]
  },
  {
   "cell_type": "code",
   "execution_count": 140,
   "metadata": {
    "ExecuteTime": {
     "end_time": "2021-02-02T15:32:50.121724Z",
     "start_time": "2021-02-02T15:32:48.697349Z"
    }
   },
   "outputs": [],
   "source": [
    "## LOOK FOR NON-CANONICAL RESIDUES\n",
    "canonical = [\"VAL\",\"ILE\",\"LEU\",\"MET\",\"TYR\",\"PHE\",\"TRP\",\n",
    "             \"ARG\",\"LYS\",\"GLU\",\"ASP\",\n",
    "             \"SER\",\"THR\",\"ASN\",\"GLN\",\n",
    "             \"HIS\",\n",
    "             \"ALA\",\"CYS\",\"GLY\",\"PRO\"]\n",
    "\n",
    "def scream_non_canonical(pdblig):\n",
    "    for chain in pdblig['chains']:\n",
    "        for resi in pdblig[chain]['reslist']:\n",
    "            if pdblig[chain][resi]['resname'] not in canonical:\n",
    "                print(\"ARGH {} not canonical\".format(pdblig[chain][resi]['resname']))\n",
    "\n",
    "for i, row in full_list.iterrows():\n",
    "    pdbname = row.type + row.PDB_chains\n",
    "    rootname = \"../structures/{}/monomers/{}\".format(treated_family, pdbname)\n",
    "    ligname = rootname+\"_l_inter.pdb\"\n",
    "    recname = rootname+\"_r_inter.pdb\"\n",
    "    scream_non_canonical(StructureTools.PDB_parser(ligname))\n",
    "    scream_non_canonical(StructureTools.PDB_parser(recname))\n",
    "    "
   ]
  },
  {
   "cell_type": "code",
   "execution_count": 9,
   "metadata": {
    "ExecuteTime": {
     "end_time": "2021-02-16T14:33:43.405488Z",
     "start_time": "2021-02-16T14:33:43.400773Z"
    }
   },
   "outputs": [],
   "source": [
    "def show_complex(row):\n",
    "    pdbname = row.type + row.PDB_chains\n",
    "    rootname = \"../structures/{}/monomers/{}\".format(treated_family, pdbname)\n",
    "    ligname = rootname+\"_l_inter.pdb\"\n",
    "    recname = rootname+\"_r_inter.pdb\"\n",
    "    v = nv.NGLWidget()\n",
    "    v.add_component(ligname)\n",
    "    v.add_component(recname)\n",
    "    v.component_0.add_representation(\"ball+stick\", \" \".join(dico_inter_surf[pdbname][\"lig\"][\"inter\"]))\n",
    "    v.component_1.add_representation(\"ball+stick\", \" \".join(dico_inter_surf[pdbname][\"rec\"][\"inter\"]))\n",
    "    return(v)\n",
    "def show_complex_helper(i):\n",
    "    v = show_complex(full_list.iloc[i, :])\n",
    "    display(full_list.iloc[i, :].PDB_chains + \":\" + full_list.iloc[i, :].description)\n",
    "    display(v)"
   ]
  },
  {
   "cell_type": "code",
   "execution_count": 10,
   "metadata": {
    "ExecuteTime": {
     "end_time": "2021-02-16T14:33:45.411532Z",
     "start_time": "2021-02-16T14:33:45.339864Z"
    }
   },
   "outputs": [
    {
     "data": {
      "text/plain": [
       "'3SGB_EI: STRUCTURE OF THE COMPLEX OF STREPTOMYCES GRISEUS PROTEASE B AND THE THIRD DOMAIN OF THE TURKEY OVOMUCOID INHIBITOR AT 1.8 ANGSTROMS RESOLUTION'"
      ]
     },
     "metadata": {},
     "output_type": "display_data"
    },
    {
     "data": {
      "application/vnd.jupyter.widget-view+json": {
       "model_id": "b5f5b5b8006044dba1bbcb1223fb1755",
       "version_major": 2,
       "version_minor": 0
      },
      "text/plain": [
       "NGLWidget()"
      ]
     },
     "metadata": {},
     "output_type": "display_data"
    }
   ],
   "source": [
    "show_complex_helper(11)"
   ]
  }
 ],
 "metadata": {
  "kernelspec": {
   "display_name": "sci3",
   "language": "python",
   "name": "sci3"
  },
  "language_info": {
   "codemirror_mode": {
    "name": "ipython",
    "version": 3
   },
   "file_extension": ".py",
   "mimetype": "text/x-python",
   "name": "python",
   "nbconvert_exporter": "python",
   "pygments_lexer": "ipython3",
   "version": "3.9.1"
  },
  "toc": {
   "base_numbering": 1,
   "nav_menu": {},
   "number_sections": true,
   "sideBar": true,
   "skip_h1_title": false,
   "title_cell": "Table of Contents",
   "title_sidebar": "Contents",
   "toc_cell": false,
   "toc_position": {},
   "toc_section_display": true,
   "toc_window_display": false
  }
 },
 "nbformat": 4,
 "nbformat_minor": 4
}
