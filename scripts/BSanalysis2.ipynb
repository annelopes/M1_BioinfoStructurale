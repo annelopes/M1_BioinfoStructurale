{
 "cells": [
  {
   "cell_type": "code",
   "execution_count": 46,
   "metadata": {
    "ExecuteTime": {
     "end_time": "2021-03-13T13:49:36.088343Z",
     "start_time": "2021-03-13T13:49:34.703210Z"
    }
   },
   "outputs": [],
   "source": [
    "import os, glob, sys, math, random\n",
    "import numpy as np\n",
    "import matplotlib.pyplot as plt\n",
    "from scipy.stats import kstest\n",
    "import StructureTools\n",
    "import CV\n",
    "import freesasa\n",
    "import joblib"
   ]
  },
  {
   "cell_type": "markdown",
   "metadata": {},
   "source": [
    "Ci-dessous l'analyse des complexes en termes de :\n",
    "\n",
    "1. Calculer SASA et rSASA pour identifier la surface (rSASA > .25) et l'interface (dSASA > 0)\n",
    "2. Calculer la CV des résidus à la surface et à l'interface\n",
    "3. Calculer la fréquence des 20 aa à la surface et à l'interface\n",
    "4. Calculer la taille de la surface et de l'interface par monomère (en termes de nombre de résidus et de SASA en $ Å^2$).\n",
    "\n",
    "Pour un aperçu des résultats, voir [Aperçu](#Aperçu)."
   ]
  },
  {
   "cell_type": "markdown",
   "metadata": {},
   "source": [
    "# Analyse"
   ]
  },
  {
   "cell_type": "markdown",
   "metadata": {
    "heading_collapsed": true
   },
   "source": [
    "## Create dummy folder with links for sublists"
   ]
  },
  {
   "cell_type": "code",
   "execution_count": 88,
   "metadata": {
    "ExecuteTime": {
     "end_time": "2021-03-13T14:19:15.685472Z",
     "start_time": "2021-03-13T14:19:15.680650Z"
    },
    "hidden": true
   },
   "outputs": [
    {
     "data": {
      "text/plain": [
       "'/Users/marco/Dropbox/Mackup/Documents/00ENS/BIBS/BISII/repo/scripts'"
      ]
     },
     "execution_count": 88,
     "metadata": {},
     "output_type": "execute_result"
    }
   ],
   "source": [
    "pwd"
   ]
  },
  {
   "cell_type": "code",
   "execution_count": 89,
   "metadata": {
    "ExecuteTime": {
     "end_time": "2021-03-13T14:19:19.089951Z",
     "start_time": "2021-03-13T14:19:18.921155Z"
    },
    "hidden": true
   },
   "outputs": [],
   "source": [
    "%%bash\n",
    "cd ../structures/TP1/\n",
    "for d in complexes monomers; do\n",
    "    cd $d;\n",
    "    while read pdb; do\n",
    "         ln -s ../../kihara/$d/?$pdb* .\n",
    "    done < ../pdb_list\n",
    "    cd ..;\n",
    "done"
   ]
  },
  {
   "cell_type": "markdown",
   "metadata": {
    "heading_collapsed": true
   },
   "source": [
    "## Deal paths"
   ]
  },
  {
   "cell_type": "code",
   "execution_count": 428,
   "metadata": {
    "ExecuteTime": {
     "end_time": "2021-03-13T16:42:56.140070Z",
     "start_time": "2021-03-13T16:42:56.131795Z"
    },
    "hidden": true
   },
   "outputs": [
    {
     "name": "stdout",
     "output_type": "stream",
     "text": [
      "../structures/kihara/complexes/\n",
      "65 complexes to treat\n",
      "['t1F6M_AC_cplx.pdb', 't1GCQ_AC_cplx.pdb', 't1I4D_AD_cplx.pdb', 'p1AY7_AB_cplx.pdb', 'p1UUG_AB_cplx.pdb', 'p1EMV_AB_cplx.pdb', 'p2OUL_AB_cplx.pdb', 'p2OZA_AB_cplx.pdb', 't1LFD_AB_cplx.pdb', 'p2SNI_EI_cplx.pdb', 'p1EER_AB_cplx.pdb', 'p1BVN_PT_cplx.pdb', 'p1WDW_AB_cplx.pdb', 'p1GXD_AC_cplx.pdb', 'p2O3B_AB_cplx.pdb', 't1Z0K_AB_cplx.pdb', 't1A15_AB_cplx.pdb', 't1EWY_AC_cplx.pdb', 'p1OPH_AB_cplx.pdb', 'p1M10_AB_cplx.pdb', 'p1AVX_AB_cplx.pdb', 'p3SGB_EI_cplx.pdb', 't1FFW_AB_cplx.pdb', 'p1JTG_AB_cplx.pdb', 't1HE8_AB_cplx.pdb', 'p2BTF_AP_cplx.pdb', 'p1JIW_IP_cplx.pdb', 't2TGP_IZ_cplx.pdb', 'p1T6B_XY_cplx.pdb', 't1US7_BA_cplx.pdb', 't1S1Q_AB_cplx.pdb', 'p1DFJ_EI_cplx.pdb', 'p1BRS_AD_cplx.pdb', 'p1PXV_AC_cplx.pdb', 'p2J0T_AD_cplx.pdb', 'p1PPE_EI_cplx.pdb', 't1A78_AB_cplx.pdb', 't1QA9_AB_cplx.pdb', 't1J2J_AB_cplx.pdb', 't1WQ1_RG_cplx.pdb', 'p1ATN_DA_cplx.pdb', 'p1GPW_AB_cplx.pdb', 'p2GOX_AB_cplx.pdb', 't2FJU_AB_cplx.pdb', 't2PCB_AB_cplx.pdb', 'p3BP8_AB_cplx.pdb', 'p1XU1_AB_cplx.pdb', 'p1CDT_AB_cplx.pdb', 't1AKJ_AD_cplx.pdb', 'p1HCF_AB_cplx.pdb', 'p1FLE_IE_cplx.pdb', 'p1IBR_AB_cplx.pdb', 'p2NYZ_AB_cplx.pdb', 'p2B42_BA_cplx.pdb', 'p1I2M_AB_cplx.pdb', 'p1F34_AB_cplx.pdb', 't2AQ3_AB_cplx.pdb', 't1ZM4_AB_cplx.pdb', 't1XQS_AC_cplx.pdb', 't1E96_AB_cplx.pdb', 'p1EAW_AB_cplx.pdb', 't1AK4_AD_cplx.pdb', 't2OOB_BA_cplx.pdb', 't1MQ8_AB_cplx.pdb', 'p1EZU_AB_cplx.pdb']\n",
      "../structures/kihara/monomers/\n",
      "130 monomers to treat\n",
      "['p2SNI_EI_r_inter.pdb', 'p1PXV_AC_r_inter.pdb', 'p1OPH_AB_r_inter.pdb', 't1ZM4_AB_l_inter.pdb', 't1E96_AB_r_inter.pdb', 't1FFW_AB_l_inter.pdb', 'p1GXD_AC_r_inter.pdb', 't1AK4_AD_r_inter.pdb', 'p1I2M_AB_l_inter.pdb', 't2AQ3_AB_l_inter.pdb', 't1GCQ_AC_r_inter.pdb', 'p3SGB_EI_l_inter.pdb', 'p1WDW_AB_l_inter.pdb', 'p2B42_BA_r_inter.pdb', 't1GCQ_AC_l_inter.pdb', 't2AQ3_AB_r_inter.pdb', 'p3SGB_EI_r_inter.pdb', 'p1WDW_AB_r_inter.pdb', 'p2B42_BA_l_inter.pdb', 'p2SNI_EI_l_inter.pdb', 'p1PXV_AC_l_inter.pdb', 'p1OPH_AB_l_inter.pdb', 't1ZM4_AB_r_inter.pdb', 't1FFW_AB_r_inter.pdb', 't1E96_AB_l_inter.pdb', 'p1GXD_AC_l_inter.pdb', 't1AK4_AD_l_inter.pdb', 'p1I2M_AB_r_inter.pdb', 'p1JIW_IP_l_inter.pdb', 'p1GPW_AB_l_inter.pdb', 'p1EAW_AB_l_inter.pdb', 'p1IBR_AB_r_inter.pdb', 't1XQS_AC_r_inter.pdb', 'p1EZU_AB_l_inter.pdb', 'p1ATN_DA_r_inter.pdb', 'p1BVN_PT_l_inter.pdb', 'p3BP8_AB_r_inter.pdb', 't1US7_BA_l_inter.pdb', 'p1PPE_EI_l_inter.pdb', 'p1M10_AB_l_inter.pdb', 't1J2J_AB_r_inter.pdb', 't1A78_AB_l_inter.pdb', 't1A15_AB_r_inter.pdb', 'p1CDT_AB_l_inter.pdb', 'p3BP8_AB_l_inter.pdb', 't1US7_BA_r_inter.pdb', 'p1PPE_EI_r_inter.pdb', 'p1M10_AB_r_inter.pdb', 't1A15_AB_l_inter.pdb', 't1A78_AB_r_inter.pdb', 't1J2J_AB_l_inter.pdb', 'p1CDT_AB_r_inter.pdb', 'p1EAW_AB_r_inter.pdb', 'p1JIW_IP_r_inter.pdb', 'p1GPW_AB_r_inter.pdb', 'p1IBR_AB_l_inter.pdb', 'p1EZU_AB_r_inter.pdb', 'p1ATN_DA_l_inter.pdb', 't1XQS_AC_l_inter.pdb', 'p1BVN_PT_r_inter.pdb', 'p2O3B_AB_r_inter.pdb', 't1LFD_AB_r_inter.pdb', 'p2NYZ_AB_l_inter.pdb', 'p1XU1_AB_l_inter.pdb', 'p1EER_AB_r_inter.pdb', 'p1T6B_XY_r_inter.pdb', 'p1UUG_AB_r_inter.pdb', 't1I4D_AD_l_inter.pdb', 'p2OZA_AB_l_inter.pdb', 't1AKJ_AD_r_inter.pdb', 'p1AVX_AB_r_inter.pdb', 't1Z0K_AB_r_inter.pdb', 'p2J0T_AD_r_inter.pdb', 't2FJU_AB_r_inter.pdb', 'p1AY7_AB_r_inter.pdb', 't1S1Q_AB_l_inter.pdb', 'p1HCF_AB_r_inter.pdb', 't1F6M_AC_r_inter.pdb', 'p1AVX_AB_l_inter.pdb', 'p2J0T_AD_l_inter.pdb', 't1Z0K_AB_l_inter.pdb', 't2FJU_AB_l_inter.pdb', 'p1AY7_AB_l_inter.pdb', 'p1HCF_AB_l_inter.pdb', 't1F6M_AC_l_inter.pdb', 't1S1Q_AB_r_inter.pdb', 'p2O3B_AB_l_inter.pdb', 'p2NYZ_AB_r_inter.pdb', 't1LFD_AB_l_inter.pdb', 'p1XU1_AB_r_inter.pdb', 'p1T6B_XY_l_inter.pdb', 'p1EER_AB_l_inter.pdb', 'p1UUG_AB_l_inter.pdb', 'p2OZA_AB_r_inter.pdb', 't1I4D_AD_r_inter.pdb', 't1AKJ_AD_l_inter.pdb', 'p2BTF_AP_l_inter.pdb', 'p1FLE_IE_r_inter.pdb', 'p1EMV_AB_l_inter.pdb', 'p2OUL_AB_r_inter.pdb', 'p1JTG_AB_l_inter.pdb', 't1MQ8_AB_l_inter.pdb', 't2PCB_AB_l_inter.pdb', 't1QA9_AB_l_inter.pdb', 't1HE8_AB_l_inter.pdb', 'p1F34_AB_l_inter.pdb', 'p1BRS_AD_r_inter.pdb', 't1EWY_AC_l_inter.pdb', 't2OOB_BA_l_inter.pdb', 't2TGP_IZ_l_inter.pdb', 't1WQ1_RG_r_inter.pdb', 'p2GOX_AB_l_inter.pdb', 'p1DFJ_EI_r_inter.pdb', 't1HE8_AB_r_inter.pdb', 'p1F34_AB_r_inter.pdb', 't2OOB_BA_r_inter.pdb', 'p1BRS_AD_l_inter.pdb', 't1EWY_AC_r_inter.pdb', 't2TGP_IZ_r_inter.pdb', 't1WQ1_RG_l_inter.pdb', 'p1DFJ_EI_l_inter.pdb', 'p2GOX_AB_r_inter.pdb', 'p1FLE_IE_l_inter.pdb', 'p2BTF_AP_r_inter.pdb', 'p2OUL_AB_l_inter.pdb', 'p1EMV_AB_r_inter.pdb', 't1QA9_AB_r_inter.pdb', 't2PCB_AB_r_inter.pdb', 'p1JTG_AB_r_inter.pdb', 't1MQ8_AB_r_inter.pdb']\n"
     ]
    }
   ],
   "source": [
    "####################\n",
    "# deal paths\n",
    "#-------------------\n",
    "treated_family = \"kihara\"\n",
    "# treated_family = \"TP1\"\n",
    "\n",
    "cplxpath = \"../structures/%s/complexes/\"%(treated_family)\n",
    "monopath = \"../structures/%s/monomers/\"%(treated_family)\n",
    "print(cplxpath)\n",
    "print(\"%s complexes to treat\"%(len(os.listdir(cplxpath))))\n",
    "print(os.listdir(cplxpath))\n",
    "print(monopath)\n",
    "print(\"%s monomers to treat\"%(len(os.listdir(monopath))))\n",
    "print(os.listdir(monopath))"
   ]
  },
  {
   "cell_type": "markdown",
   "metadata": {
    "heading_collapsed": true
   },
   "source": [
    "## Some usefule definitions"
   ]
  },
  {
   "cell_type": "code",
   "execution_count": 429,
   "metadata": {
    "ExecuteTime": {
     "end_time": "2021-03-13T16:42:59.126218Z",
     "start_time": "2021-03-13T16:42:59.122195Z"
    },
    "hidden": true
   },
   "outputs": [],
   "source": [
    "def multipleKStest(l1, l2):\n",
    "    pvalues = []\n",
    "    for i in range(1000) :\n",
    "        \n",
    "        pvalues.append(kstest(random.sample(l1, k = 200), random.sample(l2, k = 200)).pvalue)\n",
    "    \n",
    "    return sum(pvalues)/len(pvalues)"
   ]
  },
  {
   "cell_type": "code",
   "execution_count": 430,
   "metadata": {
    "ExecuteTime": {
     "end_time": "2021-03-13T16:42:59.459721Z",
     "start_time": "2021-03-13T16:42:59.456283Z"
    },
    "hidden": true
   },
   "outputs": [],
   "source": [
    "def writeDistribValues(listowrite, flagtowrite):\n",
    "    \"\"\"write the values in the list in a text file (1 col) -> output name is defined according to flagtowrite \"\"\"\n",
    "    fout = open(\"%s.txt\"%(flagtowrite),\"w\")\n",
    "    for val in listowrite:\n",
    "        fout.write(\"%s\\n\"%(val))\n",
    "        \n",
    "    fout.close()"
   ]
  },
  {
   "cell_type": "markdown",
   "metadata": {
    "heading_collapsed": true
   },
   "source": [
    "## Calculate SASA and define surface/interface"
   ]
  },
  {
   "cell_type": "code",
   "execution_count": 431,
   "metadata": {
    "ExecuteTime": {
     "end_time": "2021-03-13T16:43:02.903027Z",
     "start_time": "2021-03-13T16:43:02.898715Z"
    },
    "hidden": true
   },
   "outputs": [],
   "source": [
    "############################################################################@\n",
    "#\n",
    "#           Identification of interface and surface residues\n",
    "#\n",
    "############################################################################@\n",
    "\n",
    "def assignChainsToLigAndRec(dASAcp, dASAlig, dASArec):\n",
    "    \"\"\"assign each chain of the complex to the lig or rec dict\"\"\"\n",
    "        \n",
    "    for chncp in dASAcp :\n",
    "        if chncp in dASAlig: # means the first chain is the ligand\n",
    "            first = \"lig\"\n",
    "            second = \"rec\"\n",
    "            return first, second\n",
    "        else:\n",
    "            first = \"rec\"\n",
    "            second = \"lig\"\n",
    "            return first, second\n",
    "                "
   ]
  },
  {
   "cell_type": "code",
   "execution_count": 432,
   "metadata": {
    "ExecuteTime": {
     "end_time": "2021-03-13T16:43:05.805405Z",
     "start_time": "2021-03-13T16:43:05.795227Z"
    },
    "hidden": true
   },
   "outputs": [],
   "source": [
    "def getSurfRes(dASAcp, dASAlig, dASArec):\n",
    "    \"\"\"extract surface residues through the comparison of their ASA in the monomer VS complex\"\"\"\n",
    "        \n",
    "    #init var\n",
    "    ligsurf = []\n",
    "    liginter = []\n",
    "    recsurf = []\n",
    "    recinter = []\n",
    "    flag = 0\n",
    "        \n",
    "    # assign each chain of the complex to the lig or rec dict\n",
    "    firstchain, secondchain = assignChainsToLigAndRec(dASAcp, dASAlig, dASArec)\n",
    "    print(\"firstchain %s secondchain %s \"%(firstchain, secondchain))     \n",
    "    monostatus = firstchain\n",
    "    \n",
    "    for chncp in dASAcp :\n",
    "        #print(\"curchain %s\"%(chncp))\n",
    "                            \n",
    "        for rescp in dASAcp[chncp] :\n",
    "                \n",
    "            if monostatus == \"lig\" : #means the current chain is the lig\n",
    "                        \n",
    "                dASA = dASAlig[chncp][str(rescp)].relativeTotal - dASAcp[chncp][str(rescp)].relativeTotal\n",
    "                    \n",
    "                if dASA > 0 : # means the ASA in the lig is greater than in the cplx form, so the res is buried in the interface\n",
    "                        \n",
    "                    liginter.append(rescp)\n",
    "                    ligsurf.append(rescp)\n",
    "                else:\n",
    "                    if dASAlig[chncp][str(rescp)].relativeTotal > 0.25 : # means the res is located on the lig surface\n",
    "                        ligsurf.append(rescp)\n",
    "            else :\n",
    "                #print(\"dASARec.keys() %s\"%(dASArec.keys()))\n",
    "                #print(\"rescp %s \"%(rescp))\n",
    "                #print(dASArec[\"A\"][\"5\"])\n",
    "                dASA = dASArec[chncp][str(rescp)].relativeTotal - dASAcp[chncp][str(rescp)].relativeTotal\n",
    "                    \n",
    "                if dASA > 0 : # means the ASA in the lig is greater than in the cplx form, so the res is buried in the interface\n",
    "                        \n",
    "                    recinter.append(rescp)\n",
    "                    recsurf.append(rescp)\n",
    "                else:\n",
    "                    if dASArec[chncp][str(rescp)].relativeTotal > 0.25 : # means the res is located on the lig surface\n",
    "                        recsurf.append(rescp)\n",
    "                    \n",
    "                    \n",
    "        # get status of second chain (contained in secondchain)          \n",
    "        monostatus = secondchain\n",
    "            \n",
    "    return recsurf, ligsurf, recinter, liginter\n"
   ]
  },
  {
   "cell_type": "code",
   "execution_count": 433,
   "metadata": {
    "ExecuteTime": {
     "end_time": "2021-03-13T16:43:24.592214Z",
     "start_time": "2021-03-13T16:43:07.734603Z"
    },
    "hidden": true,
    "scrolled": false
   },
   "outputs": [
    {
     "name": "stdout",
     "output_type": "stream",
     "text": [
      "dealing with t1F6M_AC \n",
      " t1F6M_AC_r_inter.pdb \\t1F6M_AC_l_inter.pdb\n",
      "firstchain lig secondchain rec \n",
      "dealing with t1GCQ_AC \n",
      " t1GCQ_AC_r_inter.pdb \\t1GCQ_AC_l_inter.pdb\n",
      "firstchain lig secondchain rec \n",
      "dealing with t1I4D_AD \n",
      " t1I4D_AD_r_inter.pdb \\t1I4D_AD_l_inter.pdb\n",
      "firstchain rec secondchain lig \n",
      "dealing with p1AY7_AB \n",
      " p1AY7_AB_r_inter.pdb \\p1AY7_AB_l_inter.pdb\n",
      "firstchain rec secondchain lig \n",
      "dealing with p1UUG_AB \n",
      " p1UUG_AB_r_inter.pdb \\p1UUG_AB_l_inter.pdb\n",
      "firstchain rec secondchain lig \n",
      "dealing with p1EMV_AB \n",
      " p1EMV_AB_r_inter.pdb \\p1EMV_AB_l_inter.pdb\n",
      "firstchain lig secondchain rec \n",
      "dealing with p2OUL_AB \n",
      " p2OUL_AB_r_inter.pdb \\p2OUL_AB_l_inter.pdb\n",
      "firstchain rec secondchain lig \n",
      "dealing with p2OZA_AB \n",
      " p2OZA_AB_r_inter.pdb \\p2OZA_AB_l_inter.pdb\n",
      "firstchain lig secondchain rec \n",
      "dealing with t1LFD_AB \n",
      " t1LFD_AB_r_inter.pdb \\t1LFD_AB_l_inter.pdb\n",
      "firstchain lig secondchain rec \n",
      "dealing with p2SNI_EI \n",
      " p2SNI_EI_r_inter.pdb \\p2SNI_EI_l_inter.pdb\n",
      "firstchain rec secondchain lig \n",
      "dealing with p1EER_AB \n",
      " p1EER_AB_r_inter.pdb \\p1EER_AB_l_inter.pdb\n",
      "firstchain rec secondchain lig \n",
      "dealing with p1BVN_PT \n",
      " p1BVN_PT_r_inter.pdb \\p1BVN_PT_l_inter.pdb\n",
      "firstchain lig secondchain rec \n",
      "dealing with p1WDW_AB \n",
      " p1WDW_AB_r_inter.pdb \\p1WDW_AB_l_inter.pdb\n",
      "firstchain lig secondchain rec \n",
      "dealing with p1GXD_AC \n",
      " p1GXD_AC_r_inter.pdb \\p1GXD_AC_l_inter.pdb\n",
      "firstchain rec secondchain lig \n",
      "dealing with p2O3B_AB \n",
      " p2O3B_AB_r_inter.pdb \\p2O3B_AB_l_inter.pdb\n",
      "firstchain rec secondchain lig \n",
      "dealing with t1Z0K_AB \n",
      " t1Z0K_AB_r_inter.pdb \\t1Z0K_AB_l_inter.pdb\n",
      "firstchain lig secondchain rec \n",
      "dealing with t1A15_AB \n",
      " t1A15_AB_r_inter.pdb \\t1A15_AB_l_inter.pdb\n",
      "firstchain lig secondchain rec \n",
      "dealing with t1EWY_AC \n",
      " t1EWY_AC_r_inter.pdb \\t1EWY_AC_l_inter.pdb\n",
      "firstchain rec secondchain lig \n",
      "dealing with p1OPH_AB \n",
      " p1OPH_AB_r_inter.pdb \\p1OPH_AB_l_inter.pdb\n",
      "firstchain rec secondchain lig \n",
      "dealing with p1M10_AB \n",
      " p1M10_AB_r_inter.pdb \\p1M10_AB_l_inter.pdb\n",
      "firstchain lig secondchain rec \n",
      "dealing with p1AVX_AB \n",
      " p1AVX_AB_r_inter.pdb \\p1AVX_AB_l_inter.pdb\n",
      "firstchain rec secondchain lig \n",
      "dealing with p3SGB_EI \n",
      " p3SGB_EI_r_inter.pdb \\p3SGB_EI_l_inter.pdb\n",
      "firstchain lig secondchain rec \n",
      "dealing with t1FFW_AB \n",
      " t1FFW_AB_r_inter.pdb \\t1FFW_AB_l_inter.pdb\n",
      "firstchain rec secondchain lig \n",
      "dealing with p1JTG_AB \n",
      " p1JTG_AB_r_inter.pdb \\p1JTG_AB_l_inter.pdb\n",
      "firstchain lig secondchain rec \n",
      "dealing with t1HE8_AB \n",
      " t1HE8_AB_r_inter.pdb \\t1HE8_AB_l_inter.pdb\n",
      "firstchain rec secondchain lig \n",
      "dealing with p2BTF_AP \n",
      " p2BTF_AP_r_inter.pdb \\p2BTF_AP_l_inter.pdb\n",
      "firstchain lig secondchain rec \n",
      "dealing with p1JIW_IP \n",
      " p1JIW_IP_r_inter.pdb \\p1JIW_IP_l_inter.pdb\n",
      "firstchain lig secondchain rec \n",
      "dealing with t2TGP_IZ \n",
      " t2TGP_IZ_r_inter.pdb \\t2TGP_IZ_l_inter.pdb\n",
      "firstchain rec secondchain lig \n",
      "dealing with p1T6B_XY \n",
      " p1T6B_XY_r_inter.pdb \\p1T6B_XY_l_inter.pdb\n",
      "firstchain rec secondchain lig \n",
      "dealing with t1US7_BA \n",
      " t1US7_BA_r_inter.pdb \\t1US7_BA_l_inter.pdb\n",
      "firstchain rec secondchain lig \n",
      "dealing with t1S1Q_AB \n",
      " t1S1Q_AB_r_inter.pdb \\t1S1Q_AB_l_inter.pdb\n",
      "firstchain rec secondchain lig \n",
      "dealing with p1DFJ_EI \n",
      " p1DFJ_EI_r_inter.pdb \\p1DFJ_EI_l_inter.pdb\n",
      "firstchain rec secondchain lig \n",
      "dealing with p1BRS_AD \n",
      " p1BRS_AD_r_inter.pdb \\p1BRS_AD_l_inter.pdb\n",
      "firstchain rec secondchain lig \n",
      "dealing with p1PXV_AC \n",
      " p1PXV_AC_r_inter.pdb \\p1PXV_AC_l_inter.pdb\n",
      "firstchain rec secondchain lig \n",
      "dealing with p2J0T_AD \n",
      " p2J0T_AD_r_inter.pdb \\p2J0T_AD_l_inter.pdb\n",
      "firstchain rec secondchain lig \n",
      "dealing with p1PPE_EI \n",
      " p1PPE_EI_r_inter.pdb \\p1PPE_EI_l_inter.pdb\n",
      "firstchain lig secondchain rec \n",
      "dealing with t1A78_AB \n",
      " t1A78_AB_r_inter.pdb \\t1A78_AB_l_inter.pdb\n",
      "firstchain rec secondchain lig \n",
      "dealing with t1QA9_AB \n",
      " t1QA9_AB_r_inter.pdb \\t1QA9_AB_l_inter.pdb\n",
      "firstchain rec secondchain lig \n",
      "dealing with t1J2J_AB \n",
      " t1J2J_AB_r_inter.pdb \\t1J2J_AB_l_inter.pdb\n",
      "firstchain lig secondchain rec \n",
      "dealing with t1WQ1_RG \n",
      " t1WQ1_RG_r_inter.pdb \\t1WQ1_RG_l_inter.pdb\n",
      "firstchain lig secondchain rec \n",
      "dealing with p1ATN_DA \n",
      " p1ATN_DA_r_inter.pdb \\p1ATN_DA_l_inter.pdb\n",
      "firstchain rec secondchain lig \n",
      "dealing with p1GPW_AB \n",
      " p1GPW_AB_r_inter.pdb \\p1GPW_AB_l_inter.pdb\n",
      "firstchain lig secondchain rec \n",
      "dealing with p2GOX_AB \n",
      " p2GOX_AB_r_inter.pdb \\p2GOX_AB_l_inter.pdb\n",
      "firstchain lig secondchain rec \n",
      "dealing with t2FJU_AB \n",
      " t2FJU_AB_r_inter.pdb \\t2FJU_AB_l_inter.pdb\n",
      "firstchain lig secondchain rec \n",
      "dealing with t2PCB_AB \n",
      " t2PCB_AB_r_inter.pdb \\t2PCB_AB_l_inter.pdb\n",
      "firstchain rec secondchain lig \n",
      "dealing with p3BP8_AB \n",
      " p3BP8_AB_r_inter.pdb \\p3BP8_AB_l_inter.pdb\n",
      "firstchain rec secondchain lig \n",
      "dealing with p1XU1_AB \n",
      " p1XU1_AB_r_inter.pdb \\p1XU1_AB_l_inter.pdb\n",
      "firstchain lig secondchain rec \n",
      "dealing with p1CDT_AB \n",
      " p1CDT_AB_r_inter.pdb \\p1CDT_AB_l_inter.pdb\n",
      "firstchain lig secondchain rec \n",
      "dealing with t1AKJ_AD \n",
      " t1AKJ_AD_r_inter.pdb \\t1AKJ_AD_l_inter.pdb\n",
      "firstchain lig secondchain rec \n",
      "dealing with p1HCF_AB \n",
      " p1HCF_AB_r_inter.pdb \\p1HCF_AB_l_inter.pdb\n",
      "firstchain rec secondchain lig \n",
      "dealing with p1FLE_IE \n",
      " p1FLE_IE_r_inter.pdb \\p1FLE_IE_l_inter.pdb\n",
      "firstchain rec secondchain lig \n",
      "dealing with p1IBR_AB \n",
      " p1IBR_AB_r_inter.pdb \\p1IBR_AB_l_inter.pdb\n",
      "firstchain rec secondchain lig \n",
      "dealing with p2NYZ_AB \n",
      " p2NYZ_AB_r_inter.pdb \\p2NYZ_AB_l_inter.pdb\n",
      "firstchain lig secondchain rec \n",
      "dealing with p2B42_BA \n",
      " p2B42_BA_r_inter.pdb \\p2B42_BA_l_inter.pdb\n",
      "firstchain rec secondchain lig \n",
      "dealing with p1I2M_AB \n",
      " p1I2M_AB_r_inter.pdb \\p1I2M_AB_l_inter.pdb\n",
      "firstchain lig secondchain rec \n",
      "dealing with p1F34_AB \n",
      " p1F34_AB_r_inter.pdb \\p1F34_AB_l_inter.pdb\n",
      "firstchain lig secondchain rec \n",
      "dealing with t2AQ3_AB \n",
      " t2AQ3_AB_r_inter.pdb \\t2AQ3_AB_l_inter.pdb\n",
      "firstchain rec secondchain lig \n",
      "dealing with t1ZM4_AB \n",
      " t1ZM4_AB_r_inter.pdb \\t1ZM4_AB_l_inter.pdb\n",
      "firstchain rec secondchain lig \n",
      "dealing with t1XQS_AC \n",
      " t1XQS_AC_r_inter.pdb \\t1XQS_AC_l_inter.pdb\n",
      "firstchain lig secondchain rec \n",
      "dealing with t1E96_AB \n",
      " t1E96_AB_r_inter.pdb \\t1E96_AB_l_inter.pdb\n",
      "firstchain lig secondchain rec \n",
      "dealing with p1EAW_AB \n",
      " p1EAW_AB_r_inter.pdb \\p1EAW_AB_l_inter.pdb\n",
      "firstchain lig secondchain rec \n",
      "dealing with t1AK4_AD \n",
      " t1AK4_AD_r_inter.pdb \\t1AK4_AD_l_inter.pdb\n",
      "firstchain lig secondchain rec \n",
      "dealing with t2OOB_BA \n",
      " t2OOB_BA_r_inter.pdb \\t2OOB_BA_l_inter.pdb\n",
      "firstchain rec secondchain lig \n",
      "dealing with t1MQ8_AB \n",
      " t1MQ8_AB_r_inter.pdb \\t1MQ8_AB_l_inter.pdb\n",
      "firstchain rec secondchain lig \n",
      "dealing with p1EZU_AB \n",
      " p1EZU_AB_r_inter.pdb \\p1EZU_AB_l_inter.pdb\n",
      "firstchain lig secondchain rec \n"
     ]
    }
   ],
   "source": [
    "#compute SASA of each mono and cplx\n",
    "\n",
    "dico_inter_surf = {}\n",
    "cv_intertmp = []\n",
    "cv_surftmp = []\n",
    "\n",
    "for cp in os.listdir(cplxpath) :\n",
    "    \n",
    "\n",
    "    # store cplx and monomer names\n",
    "    if cp.endswith(\".pdb\"):\n",
    "        rootname = cp[:cp.rindex(\"_\")]\n",
    "    else:\n",
    "        continue\n",
    "    monor = rootname + \"_r_inter.pdb\"\n",
    "    monol = rootname + \"_l_inter.pdb\"\n",
    "    print(\"dealing with %s \\n %s \\%s\"%(rootname, monor, monol))\n",
    "\n",
    "    # init dico for this complex\n",
    "    dico_inter_surf[rootname] = {}\n",
    "    dico_inter_surf[rootname][\"lig\"] = {}\n",
    "    dico_inter_surf[rootname][\"rec\"] = {}\n",
    "    \n",
    "    # compute SASA for the cplx\n",
    "    strcplx = freesasa.Structure(\"%s/%s\"%(cplxpath, cp))\n",
    "    outASAcplx = freesasa.calc(strcplx)\n",
    "    dASAcp = outASAcplx.residueAreas()\n",
    "    \n",
    "    # compute SASA for the lig\n",
    "    strlig = freesasa.Structure(\"%s/%s\"%(monopath, monol))\n",
    "    outASAlig = freesasa.calc(strlig)\n",
    "    dASAlig = outASAlig.residueAreas()\n",
    "    \n",
    "    # compute SASA for the lig\n",
    "    strrec = freesasa.Structure(\"%s/%s\"%(monopath, monor))\n",
    "    outASArec = freesasa.calc(strrec)\n",
    "    dASArec = outASArec.residueAreas()\n",
    "\n",
    "    recsurf, ligsurf, recinter, liginter = getSurfRes(dASAcp, dASAlig, dASArec)\n",
    "    \n",
    "    def getSASA(resi, dASA):\n",
    "        tot = 0\n",
    "        chncp = list(dASA.keys())[0]\n",
    "        for res in resi:\n",
    "            tot += dASA[chncp][str(res)].total\n",
    "        return tot\n",
    "\n",
    "    dico_inter_surf[rootname][\"lig\"][\"surf\"] = ligsurf \n",
    "    dico_inter_surf[rootname][\"lig\"][\"inter\"] = liginter\n",
    "    dico_inter_surf[rootname][\"rec\"][\"surf\"] = recsurf\n",
    "    dico_inter_surf[rootname][\"rec\"][\"inter\"] = recinter \n",
    "    dico_inter_surf[rootname][\"lig\"][\"surfSASA\"] = getSASA(ligsurf, dASAlig)\n",
    "    dico_inter_surf[rootname][\"rec\"][\"surfSASA\"] = getSASA(recsurf, dASArec)\n",
    "    dico_inter_surf[rootname][\"lig\"][\"interSASA\"] = getSASA(liginter, dASAlig)\n",
    "    dico_inter_surf[rootname][\"rec\"][\"interSASA\"] = getSASA(recinter, dASArec)\n",
    "\n",
    "    #print(\"list of interface residues in REC\")\n",
    "    #print(recinter)\n",
    "    #print(\"list of interface residues in LIG\")\n",
    "    #print(liginter)\n"
   ]
  },
  {
   "cell_type": "code",
   "execution_count": 434,
   "metadata": {
    "ExecuteTime": {
     "end_time": "2021-03-13T16:55:46.676269Z",
     "start_time": "2021-03-13T16:55:46.608637Z"
    },
    "hidden": true
   },
   "outputs": [
    {
     "data": {
      "text/plain": [
       "['../analysis/dico_inter_surf_kihara.job']"
      ]
     },
     "execution_count": 434,
     "metadata": {},
     "output_type": "execute_result"
    }
   ],
   "source": [
    "# Store the dict to file\n",
    "joblib.dump(dico_inter_surf, \"../analysis/dico_inter_surf_{}.job\".format(treated_family))"
   ]
  },
  {
   "cell_type": "code",
   "execution_count": 51,
   "metadata": {
    "ExecuteTime": {
     "end_time": "2021-03-13T13:50:16.025543Z",
     "start_time": "2021-03-13T13:50:15.983212Z"
    },
    "hidden": true
   },
   "outputs": [],
   "source": [
    "dico_inter_surf = joblib.load(\"../analysis/dico_inter_surf_{}.job\".format(treated_family))"
   ]
  },
  {
   "cell_type": "markdown",
   "metadata": {
    "heading_collapsed": true
   },
   "source": [
    "## CV"
   ]
  },
  {
   "cell_type": "code",
   "execution_count": 435,
   "metadata": {
    "ExecuteTime": {
     "end_time": "2021-03-13T16:55:48.921327Z",
     "start_time": "2021-03-13T16:55:48.916405Z"
    },
    "hidden": true
   },
   "outputs": [],
   "source": [
    "############################################################################@\n",
    "#\n",
    "#                        Calculation of CV\n",
    "#\n",
    "############################################################################@\n",
    "\n",
    "def getCV_fromResList(d_pdb, chainID, reslist):\n",
    "    \n",
    "    cv = []\n",
    "    \n",
    "    for resi in d_pdb[chainID][\"reslist\"] :\n",
    "        if reslist is None or resi in reslist :\n",
    "            firstatom = d_pdb[chainID][resi][\"atomlist\"][0] # get the first atom and then the corresponding cv since the CV is identical for all atoms\n",
    "            cv.append(d_pdb[chainID][resi][firstatom][\"bfactor\"])\n",
    "            \n",
    "    return cv"
   ]
  },
  {
   "cell_type": "code",
   "execution_count": 512,
   "metadata": {
    "ExecuteTime": {
     "end_time": "2021-03-14T13:59:48.172210Z",
     "start_time": "2021-03-14T13:54:14.035609Z"
    },
    "hidden": true
   },
   "outputs": [
    {
     "name": "stdout",
     "output_type": "stream",
     "text": [
      "dealing with t1F6M_AC \n",
      " t1F6M_AC_r_inter.pdb \\t1F6M_AC_l_inter.pdb\n",
      "dealing with t1GCQ_AC \n",
      " t1GCQ_AC_r_inter.pdb \\t1GCQ_AC_l_inter.pdb\n",
      "dealing with t1I4D_AD \n",
      " t1I4D_AD_r_inter.pdb \\t1I4D_AD_l_inter.pdb\n",
      "dealing with p1AY7_AB \n",
      " p1AY7_AB_r_inter.pdb \\p1AY7_AB_l_inter.pdb\n",
      "dealing with p1UUG_AB \n",
      " p1UUG_AB_r_inter.pdb \\p1UUG_AB_l_inter.pdb\n",
      "dealing with p1EMV_AB \n",
      " p1EMV_AB_r_inter.pdb \\p1EMV_AB_l_inter.pdb\n",
      "dealing with p2OUL_AB \n",
      " p2OUL_AB_r_inter.pdb \\p2OUL_AB_l_inter.pdb\n",
      "dealing with p2OZA_AB \n",
      " p2OZA_AB_r_inter.pdb \\p2OZA_AB_l_inter.pdb\n",
      "dealing with t1LFD_AB \n",
      " t1LFD_AB_r_inter.pdb \\t1LFD_AB_l_inter.pdb\n",
      "dealing with p2SNI_EI \n",
      " p2SNI_EI_r_inter.pdb \\p2SNI_EI_l_inter.pdb\n",
      "dealing with p1EER_AB \n",
      " p1EER_AB_r_inter.pdb \\p1EER_AB_l_inter.pdb\n",
      "dealing with p1BVN_PT \n",
      " p1BVN_PT_r_inter.pdb \\p1BVN_PT_l_inter.pdb\n",
      "dealing with p1WDW_AB \n",
      " p1WDW_AB_r_inter.pdb \\p1WDW_AB_l_inter.pdb\n",
      "dealing with p1GXD_AC \n",
      " p1GXD_AC_r_inter.pdb \\p1GXD_AC_l_inter.pdb\n",
      "dealing with p2O3B_AB \n",
      " p2O3B_AB_r_inter.pdb \\p2O3B_AB_l_inter.pdb\n",
      "dealing with t1Z0K_AB \n",
      " t1Z0K_AB_r_inter.pdb \\t1Z0K_AB_l_inter.pdb\n",
      "dealing with t1A15_AB \n",
      " t1A15_AB_r_inter.pdb \\t1A15_AB_l_inter.pdb\n",
      "dealing with t1EWY_AC \n",
      " t1EWY_AC_r_inter.pdb \\t1EWY_AC_l_inter.pdb\n",
      "dealing with p1OPH_AB \n",
      " p1OPH_AB_r_inter.pdb \\p1OPH_AB_l_inter.pdb\n",
      "dealing with p1M10_AB \n",
      " p1M10_AB_r_inter.pdb \\p1M10_AB_l_inter.pdb\n",
      "dealing with p1AVX_AB \n",
      " p1AVX_AB_r_inter.pdb \\p1AVX_AB_l_inter.pdb\n",
      "dealing with p3SGB_EI \n",
      " p3SGB_EI_r_inter.pdb \\p3SGB_EI_l_inter.pdb\n",
      "dealing with t1FFW_AB \n",
      " t1FFW_AB_r_inter.pdb \\t1FFW_AB_l_inter.pdb\n",
      "dealing with p1JTG_AB \n",
      " p1JTG_AB_r_inter.pdb \\p1JTG_AB_l_inter.pdb\n",
      "dealing with t1HE8_AB \n",
      " t1HE8_AB_r_inter.pdb \\t1HE8_AB_l_inter.pdb\n",
      "dealing with p2BTF_AP \n",
      " p2BTF_AP_r_inter.pdb \\p2BTF_AP_l_inter.pdb\n",
      "dealing with p1JIW_IP \n",
      " p1JIW_IP_r_inter.pdb \\p1JIW_IP_l_inter.pdb\n",
      "dealing with t2TGP_IZ \n",
      " t2TGP_IZ_r_inter.pdb \\t2TGP_IZ_l_inter.pdb\n",
      "dealing with p1T6B_XY \n",
      " p1T6B_XY_r_inter.pdb \\p1T6B_XY_l_inter.pdb\n",
      "dealing with t1US7_BA \n",
      " t1US7_BA_r_inter.pdb \\t1US7_BA_l_inter.pdb\n",
      "dealing with t1S1Q_AB \n",
      " t1S1Q_AB_r_inter.pdb \\t1S1Q_AB_l_inter.pdb\n",
      "dealing with p1DFJ_EI \n",
      " p1DFJ_EI_r_inter.pdb \\p1DFJ_EI_l_inter.pdb\n",
      "dealing with p1BRS_AD \n",
      " p1BRS_AD_r_inter.pdb \\p1BRS_AD_l_inter.pdb\n",
      "dealing with p1PXV_AC \n",
      " p1PXV_AC_r_inter.pdb \\p1PXV_AC_l_inter.pdb\n",
      "dealing with p2J0T_AD \n",
      " p2J0T_AD_r_inter.pdb \\p2J0T_AD_l_inter.pdb\n",
      "dealing with p1PPE_EI \n",
      " p1PPE_EI_r_inter.pdb \\p1PPE_EI_l_inter.pdb\n",
      "dealing with t1A78_AB \n",
      " t1A78_AB_r_inter.pdb \\t1A78_AB_l_inter.pdb\n",
      "dealing with t1QA9_AB \n",
      " t1QA9_AB_r_inter.pdb \\t1QA9_AB_l_inter.pdb\n",
      "dealing with t1J2J_AB \n",
      " t1J2J_AB_r_inter.pdb \\t1J2J_AB_l_inter.pdb\n",
      "dealing with t1WQ1_RG \n",
      " t1WQ1_RG_r_inter.pdb \\t1WQ1_RG_l_inter.pdb\n",
      "dealing with p1ATN_DA \n",
      " p1ATN_DA_r_inter.pdb \\p1ATN_DA_l_inter.pdb\n",
      "dealing with p1GPW_AB \n",
      " p1GPW_AB_r_inter.pdb \\p1GPW_AB_l_inter.pdb\n",
      "dealing with p2GOX_AB \n",
      " p2GOX_AB_r_inter.pdb \\p2GOX_AB_l_inter.pdb\n",
      "dealing with t2FJU_AB \n",
      " t2FJU_AB_r_inter.pdb \\t2FJU_AB_l_inter.pdb\n",
      "dealing with t2PCB_AB \n",
      " t2PCB_AB_r_inter.pdb \\t2PCB_AB_l_inter.pdb\n",
      "dealing with p3BP8_AB \n",
      " p3BP8_AB_r_inter.pdb \\p3BP8_AB_l_inter.pdb\n",
      "dealing with p1XU1_AB \n",
      " p1XU1_AB_r_inter.pdb \\p1XU1_AB_l_inter.pdb\n",
      "dealing with p1CDT_AB \n",
      " p1CDT_AB_r_inter.pdb \\p1CDT_AB_l_inter.pdb\n",
      "dealing with t1AKJ_AD \n",
      " t1AKJ_AD_r_inter.pdb \\t1AKJ_AD_l_inter.pdb\n",
      "dealing with p1HCF_AB \n",
      " p1HCF_AB_r_inter.pdb \\p1HCF_AB_l_inter.pdb\n",
      "dealing with p1FLE_IE \n",
      " p1FLE_IE_r_inter.pdb \\p1FLE_IE_l_inter.pdb\n",
      "dealing with p1IBR_AB \n",
      " p1IBR_AB_r_inter.pdb \\p1IBR_AB_l_inter.pdb\n",
      "dealing with p2NYZ_AB \n",
      " p2NYZ_AB_r_inter.pdb \\p2NYZ_AB_l_inter.pdb\n",
      "dealing with p2B42_BA \n",
      " p2B42_BA_r_inter.pdb \\p2B42_BA_l_inter.pdb\n",
      "dealing with p1I2M_AB \n",
      " p1I2M_AB_r_inter.pdb \\p1I2M_AB_l_inter.pdb\n",
      "dealing with p1F34_AB \n",
      " p1F34_AB_r_inter.pdb \\p1F34_AB_l_inter.pdb\n",
      "dealing with t2AQ3_AB \n",
      " t2AQ3_AB_r_inter.pdb \\t2AQ3_AB_l_inter.pdb\n",
      "dealing with t1ZM4_AB \n",
      " t1ZM4_AB_r_inter.pdb \\t1ZM4_AB_l_inter.pdb\n",
      "dealing with t1XQS_AC \n",
      " t1XQS_AC_r_inter.pdb \\t1XQS_AC_l_inter.pdb\n",
      "dealing with t1E96_AB \n",
      " t1E96_AB_r_inter.pdb \\t1E96_AB_l_inter.pdb\n",
      "dealing with p1EAW_AB \n",
      " p1EAW_AB_r_inter.pdb \\p1EAW_AB_l_inter.pdb\n",
      "dealing with t1AK4_AD \n",
      " t1AK4_AD_r_inter.pdb \\t1AK4_AD_l_inter.pdb\n",
      "dealing with t2OOB_BA \n",
      " t2OOB_BA_r_inter.pdb \\t2OOB_BA_l_inter.pdb\n",
      "dealing with t1MQ8_AB \n",
      " t1MQ8_AB_r_inter.pdb \\t1MQ8_AB_l_inter.pdb\n",
      "dealing with p1EZU_AB \n",
      " p1EZU_AB_r_inter.pdb \\p1EZU_AB_l_inter.pdb\n"
     ]
    }
   ],
   "source": [
    "# calculation of the CV of each residue of each monomer with the CV module\n",
    "#--------------------------------------------------------------------------\n",
    "\n",
    "#init var\n",
    "rc = 8 #radius for CV calculation\n",
    "cv_intertmp = {}\n",
    "cv_surftmp = {}\n",
    "\n",
    "# compute res CV for each monomer\n",
    "for cp in os.listdir(cplxpath) :\n",
    "    \n",
    "\n",
    "    # store cplx and monomer names\n",
    "    if cp.endswith(\".pdb\"):\n",
    "        rootname = cp[:cp.rindex(\"_\")]\n",
    "    else:\n",
    "        continue\n",
    "    monor = rootname + \"_r_inter.pdb\"\n",
    "    monol = rootname + \"_l_inter.pdb\"\n",
    "    print(\"dealing with %s \\n %s \\%s\"%(rootname, monor, monol))\n",
    "\n",
    "    # parse PDB    \n",
    "    d_pdblig, atomlistlig = StructureTools.PDB_parser(\"%s/%s\"%(monopath, monol), returnatomlist=True)\n",
    "    #print(d_pdblig[\"chains\"])\n",
    "    chainlig = d_pdblig[\"chains\"][0]\n",
    "    d_pdbrec, atomlistrec = StructureTools.PDB_parser(\"%s/%s\"%(monopath, monor), returnatomlist=True)\n",
    "    chainrec = d_pdbrec[\"chains\"][0]\n",
    "\n",
    "    # calcule la variance variance circulaire de chq atome --> returns the average per residue\n",
    "    CV.CV_AllRes(atomlistlig, d_pdblig, chainlig, rc)\n",
    "    CV.CV_AllRes(atomlistrec, d_pdbrec, chainrec, rc)\n",
    "\n",
    "    # get CV for all res of the interface\n",
    "    cv_intertmp[rootname] = [\n",
    "        getCV_fromResList(d_pdblig, chainlig,\n",
    "                            dico_inter_surf[rootname][\"lig\"][\"inter\"]),\n",
    "        getCV_fromResList(d_pdbrec, chainrec,\n",
    "                            dico_inter_surf[rootname][\"rec\"][\"inter\"])]\n",
    "    # get CV for all res of the surface\n",
    "    cv_surftmp[rootname] = [\n",
    "        getCV_fromResList(d_pdblig, chainlig, \n",
    "                            dico_inter_surf[rootname][\"lig\"][\"surf\"]),\n",
    "        getCV_fromResList(d_pdbrec, chainrec, \n",
    "                            dico_inter_surf[rootname][\"rec\"][\"surf\"])]\n",
    "\n",
    "# store CV\n",
    "cv_inter = [lr for cvlist in cv_intertmp.values() for cv in cvlist for lr in cv]\n",
    "cv_surf = [lr for cvlist in cv_surftmp.values() for cv in cvlist for lr in cv]\n"
   ]
  },
  {
   "cell_type": "code",
   "execution_count": 513,
   "metadata": {
    "ExecuteTime": {
     "end_time": "2021-03-14T14:00:25.693623Z",
     "start_time": "2021-03-14T14:00:25.522592Z"
    },
    "hidden": true
   },
   "outputs": [
    {
     "data": {
      "image/png": "[encoded data removed]",
      "text/plain": [
       "<Figure size 432x288 with 1 Axes>"
      ]
     },
     "metadata": {
      "needs_background": "light"
     },
     "output_type": "display_data"
    }
   ],
   "source": [
    "# plot CV distributions for surface and interface residues\n",
    "#---------------------------------------------------------\n",
    "fig1, ax1 = plt.subplots()\n",
    "ax1.set_title('CV (surface residues VS binding site residues)')\n",
    "ax1.boxplot([cv_surf, cv_inter])\n",
    "plt.xticks([1, 2], ['surface', 'binding site']);\n",
    "plt.ylabel(\"CV\")\n",
    "plt.savefig(\"../analysis/plots/CV_surf_vs_BS_%s.png\"%(treated_family))"
   ]
  },
  {
   "cell_type": "code",
   "execution_count": 514,
   "metadata": {
    "ExecuteTime": {
     "end_time": "2021-03-14T14:00:30.734419Z",
     "start_time": "2021-03-14T14:00:30.710726Z"
    },
    "hidden": true
   },
   "outputs": [],
   "source": [
    "# write values in files\n",
    "writeDistribValues(cv_surf, \"../analysis/data/CV_surf_%s\"%(treated_family))\n",
    "writeDistribValues(cv_inter, \"../analysis/data/CV_inter_%s\"%(treated_family))\n"
   ]
  },
  {
   "cell_type": "code",
   "execution_count": 515,
   "metadata": {
    "ExecuteTime": {
     "end_time": "2021-03-14T14:00:35.025957Z",
     "start_time": "2021-03-14T14:00:34.603221Z"
    },
    "hidden": true
   },
   "outputs": [
    {
     "name": "stdout",
     "output_type": "stream",
     "text": [
      "0.00813401445745334\n"
     ]
    },
    {
     "data": {
      "text/plain": [
       "KstestResult(statistic=0.17546506699190656, pvalue=1.5658821594496683e-79)"
      ]
     },
     "execution_count": 515,
     "metadata": {},
     "output_type": "execute_result"
    }
   ],
   "source": [
    "# KS test (2-sided) for CV between surf and interface residues\n",
    "pval = multipleKStest(cv_surf, cv_inter)\n",
    "print(pval)\n",
    "kstest(cv_surf, cv_inter)\n"
   ]
  },
  {
   "cell_type": "code",
   "execution_count": 516,
   "metadata": {
    "ExecuteTime": {
     "end_time": "2021-03-14T14:00:37.181248Z",
     "start_time": "2021-03-14T14:00:37.131320Z"
    },
    "hidden": true
   },
   "outputs": [
    {
     "data": {
      "text/plain": [
       "['../analysis/dico_CV_kihara.job']"
      ]
     },
     "execution_count": 516,
     "metadata": {},
     "output_type": "execute_result"
    }
   ],
   "source": [
    "dico_CV = dict(\n",
    "            surf=cv_surftmp,\n",
    "            inter=cv_intertmp)\n",
    "joblib.dump(dico_CV,\n",
    "             \"../analysis/dico_CV_{}.job\".format(treated_family))"
   ]
  },
  {
   "cell_type": "markdown",
   "metadata": {},
   "source": [
    "## Propensities"
   ]
  },
  {
   "cell_type": "code",
   "execution_count": 440,
   "metadata": {
    "ExecuteTime": {
     "end_time": "2021-03-13T17:01:53.967048Z",
     "start_time": "2021-03-13T17:01:53.961244Z"
    }
   },
   "outputs": [],
   "source": [
    "############################################################################@\n",
    "#\n",
    "#           Calculation of amino acid propensities for being in interfaces\n",
    "#\n",
    "#           N.B.: modified to obtain counts, not fractions !!!\n",
    "#\n",
    "############################################################################@\n",
    "\n",
    "\n",
    "def compFreqAA_fromResList(d_pdb, chainID, reslist, d_aa, verbose=False):\n",
    "    \n",
    "    d_aa_tmp = {aa:0 for aa in AA}\n",
    " \n",
    "    # count the nb of each aa \n",
    "    for resi in d_pdb[chainID][\"reslist\"] :\n",
    "        if resi in reslist :\n",
    "            aa = d_pdb[chainID][resi][\"resname\"]\n",
    "            d_aa_tmp[aa] +=1\n",
    "    \n",
    "    # normalize with the size of studied area (e.g. interface or surface) and store the result in d_aa\n",
    "    for aa in d_aa_tmp :\n",
    "        if verbose:\n",
    "            print(\"{}: {}/{}\".format(aa, d_aa_tmp[aa], len(reslist)))\n",
    "        #d_aa_tmp[aa] = d_aa_tmp[aa]/len(reslist)\n",
    "        d_aa[aa].append(d_aa_tmp[aa])\n",
    "        \n",
    "    "
   ]
  },
  {
   "cell_type": "code",
   "execution_count": 441,
   "metadata": {
    "ExecuteTime": {
     "end_time": "2021-03-13T17:01:57.523207Z",
     "start_time": "2021-03-13T17:01:56.055379Z"
    }
   },
   "outputs": [],
   "source": [
    "# calculation of the aa freq in interfaces and surfaces, then calculation of the resulting propensities\n",
    "#-------------------------------------------------------------------------------------------------------\n",
    "\n",
    "#init var\n",
    "AA = \"ALA CYS ASP GLU PHE GLY HIS ILE LYS LEU MET ASN PRO GLN ARG SER THR VAL TRP TYR\".split()\n",
    "d_aa_surf_cmt = {aa:[] for aa in AA}\n",
    "d_aa_inter_cmt = {aa:[] for aa in AA}\n",
    "\n",
    "# compute res CV for each monomer\n",
    "for cp in os.listdir(cplxpath) :\n",
    "\n",
    "    # store cplx and monomer names\n",
    "    if cp.endswith(\".pdb\"):\n",
    "        rootname = cp[:cp.rindex(\"_\")]\n",
    "    else:\n",
    "        continue\n",
    "    monor = rootname + \"_r_inter.pdb\"\n",
    "    monol = rootname + \"_l_inter.pdb\"\n",
    "    #print(\"dealing with %s \\n %s \\%s\"%(rootname, monor, monol))\n",
    "\n",
    "    # parse PDB    \n",
    "    d_pdblig = StructureTools.PDB_parser(\"%s/%s\"%(monopath, monol))\n",
    "    chainlig = d_pdblig[\"chains\"][0]\n",
    "    d_pdbrec = StructureTools.PDB_parser(\"%s/%s\"%(monopath, monor))\n",
    "    chainrec = d_pdbrec[\"chains\"][0]\n",
    "\n",
    "    # compute the freq of each aa for inter and surf\n",
    "    compFreqAA_fromResList(d_pdblig, chainlig, dico_inter_surf[rootname][\"lig\"][\"inter\"], d_aa_inter_cmt)\n",
    "    compFreqAA_fromResList(d_pdbrec, chainrec, dico_inter_surf[rootname][\"rec\"][\"inter\"], d_aa_inter_cmt)\n",
    "    compFreqAA_fromResList(d_pdblig, chainlig, dico_inter_surf[rootname][\"lig\"][\"surf\"], d_aa_surf_cmt)\n",
    "    compFreqAA_fromResList(d_pdbrec, chainrec, dico_inter_surf[rootname][\"rec\"][\"surf\"], d_aa_surf_cmt)\n",
    "    \n",
    "# compute propension for being located at interfaces (i.e. stickiness)\n",
    "d_prop_aa = {}\n",
    "## GET ALL SIZES, then sum\n",
    "a = np.array([[len(cplx[lr][si]) for si in (\"surf\", \"inter\") for lr in (\"lig\",\"rec\")] \n",
    "              for pdb, cplx in dico_inter_surf.items()])\n",
    "sizes = np.concatenate((a[:, [0,2]], a[:, [1,3]]))\n",
    "for aa in d_aa_inter_cmt :\n",
    "    \n",
    "    #d_prop_aa[aa] = math.log2(np.mean(d_aa_inter_cmt[aa])/np.mean(d_aa_surf_cmt[aa]))\n",
    "    # Note that comparable results can be achieved by storing the non-normalised \n",
    "    # frequencies and the interface/surface sizes, take the ratio of the sums,\n",
    "    # then take the log2 of the ratio of those :\n",
    "    d_prop_aa[aa] = math.log2((np.sum(d_aa_inter_cmt[aa])/sizes[:, 1].sum()) / \n",
    "                              (np.sum(d_aa_surf_cmt[aa])/sizes[:, 0].sum()))\n",
    "\n"
   ]
  },
  {
   "cell_type": "code",
   "execution_count": 442,
   "metadata": {
    "ExecuteTime": {
     "end_time": "2021-03-13T17:01:58.526876Z",
     "start_time": "2021-03-13T17:01:58.227099Z"
    }
   },
   "outputs": [
    {
     "data": {
      "image/png": "[encoded data removed]",
      "text/plain": [
       "<Figure size 432x288 with 1 Axes>"
      ]
     },
     "metadata": {
      "needs_background": "light"
     },
     "output_type": "display_data"
    }
   ],
   "source": [
    "#  plot aa propensities\n",
    "#----------------------\n",
    "\n",
    "aaprop = []\n",
    "aanames = []\n",
    "\n",
    "xx = range(20)\n",
    "\n",
    "for i in  d_prop_aa :\n",
    "    aaprop.append(d_prop_aa[i])\n",
    "    aanames.append(i)\n",
    "    \n",
    "plt.bar(xx, aaprop)\n",
    "plt.title(\"propensity of aa for being located in interfaces\")\n",
    "plt.xticks(range(20), aanames, rotation = 90);\n",
    "plt.savefig(\"../analysis/plots/aa_propensities_%s.png\"%(treated_family))"
   ]
  },
  {
   "cell_type": "code",
   "execution_count": 443,
   "metadata": {
    "ExecuteTime": {
     "end_time": "2021-03-13T17:02:00.872295Z",
     "start_time": "2021-03-13T17:02:00.869551Z"
    }
   },
   "outputs": [],
   "source": [
    "# write values in files\n",
    "writeDistribValues(aaprop, \"aaprop_%s\"%(treated_family))\n"
   ]
  },
  {
   "cell_type": "code",
   "execution_count": 716,
   "metadata": {
    "ExecuteTime": {
     "end_time": "2021-03-14T15:34:51.223952Z",
     "start_time": "2021-03-14T15:34:49.700732Z"
    }
   },
   "outputs": [],
   "source": [
    "############################################################################@###########@\n",
    "#\n",
    "#           Calculation of hydrophobic vs hydrophilic residue frequencies in interfaces\n",
    "#\n",
    "#           N.B.: modified to obtain counts, not fractions !!!\n",
    "#\n",
    "############################################################################@###########@\n",
    "TYPES = (\"CHG\", \"POL\", \"HB\")\n",
    "AA_TY = dict(\n",
    "    HB = [\"VAL\",\"ILE\",\"LEU\",\"MET\",\"PHE\",\"TRP\",  \"ALA\",\"CYS\",\"PRO\"],  # -TYR\n",
    "    CHG = [\"ARG\",\"LYS\",\"GLU\",\"ASP\",\"HIS\"],\n",
    "    POL = [\"SER\",\"THR\",\"ASN\",\"GLN\",  \"TYR\",\"GLY\"]\n",
    ")\n",
    "\n",
    "def compNB_HB_POL(d_pdb, chainID, reslist, d_HBPOL, name):\n",
    "\n",
    "    d_tmp = {x: 0 for x in TYPES}\n",
    "    d_tmp2 = {x: 0 for x in TYPES}\n",
    "\n",
    "    # count the nb of each aa \n",
    "    for resi in d_pdb[chainID][\"reslist\"] :\n",
    "        if resi in reslist :\n",
    "            aa = d_pdb[chainID][resi][\"resname\"]\n",
    "            if aa in AA_TY['HB'] :\n",
    "                d_tmp[\"HB\"] +=1\n",
    "            elif aa in AA_TY['POL'] :\n",
    "                d_tmp[\"POL\"] +=1\n",
    "            elif aa in AA_TY['CHG'] :\n",
    "                d_tmp[\"CHG\"] +=1\n",
    "            for ty in TYPES:\n",
    "                if aa in AA_TY[ty]:\n",
    "                    d_tmp2[ty] +=1\n",
    "            \n",
    "    assert d_tmp == d_tmp2\n",
    "\n",
    "    # normalize with the size of studied area (e.g. interface or surface) and store the result in d_aa\n",
    "    for aatype in d_tmp :\n",
    "        # d_tmp[aatype] = d_tmp[aatype] /len(reslist)\n",
    "        d_HBPOL[aatype][name].append(d_tmp[aatype])\n",
    "        \n",
    "\n",
    "from collections import defaultdict\n",
    "# calculation of the aa freq in interfaces and surfaces, then calculation of the resulting propensities\n",
    "#-------------------------------------------------------------------------------------------------------\n",
    "\n",
    "#init var\n",
    "d_HBPOLsurf = {x: defaultdict(list) for x in TYPES}\n",
    "d_HBPOLinter = {x: defaultdict(list) for x in TYPES}\n",
    "\n",
    "\n",
    "# compute res CV for each monomer\n",
    "for cp in os.listdir(cplxpath) :\n",
    "\n",
    "    # store cplx and monomer names\n",
    "    if cp.endswith(\".pdb\"):\n",
    "        rootname = cp[:cp.rindex(\"_\")]\n",
    "    else:\n",
    "        continue\n",
    "    monor = rootname + \"_r_inter.pdb\"\n",
    "    monol = rootname + \"_l_inter.pdb\"\n",
    "    #print(\"dealing with %s \\n %s \\%s\"%(rootname, monor, monol))\n",
    "\n",
    "    # parse PDB    \n",
    "    d_pdblig = StructureTools.PDB_parser(\"%s/%s\"%(monopath, monol))\n",
    "    chainlig = d_pdblig[\"chains\"][0]\n",
    "    d_pdbrec = StructureTools.PDB_parser(\"%s/%s\"%(monopath, monor))\n",
    "    chainrec = d_pdbrec[\"chains\"][0]\n",
    "\n",
    "    # compute the freq of each aa for inter and surf\n",
    "    compNB_HB_POL(d_pdblig, chainlig, dico_inter_surf[rootname][\"lig\"][\"inter\"], \n",
    "                  d_HBPOLinter, rootname)\n",
    "    compNB_HB_POL(d_pdbrec, chainrec, dico_inter_surf[rootname][\"rec\"][\"inter\"], \n",
    "                  d_HBPOLinter, rootname)\n",
    "    compNB_HB_POL(d_pdblig, chainlig, dico_inter_surf[rootname][\"lig\"][\"surf\"], \n",
    "                  d_HBPOLsurf, rootname)\n",
    "    compNB_HB_POL(d_pdbrec, chainrec, dico_inter_surf[rootname][\"rec\"][\"surf\"], \n",
    "                  d_HBPOLsurf, rootname)\n",
    "\n",
    "## Make list versions\n",
    "def d_linearise(d_HBPOL):\n",
    "    ret = {}\n",
    "    for i in d_HBPOL.keys():\n",
    "        ret[i] = [nres for lr in d_HBPOL[i].values() for nres in lr]\n",
    "    return ret\n",
    "\n",
    "l_HBPOLsurf = d_linearise(d_HBPOLsurf)\n",
    "l_HBPOLinter = d_linearise(d_HBPOLinter)\n",
    "\n",
    "## Make ndarray versions (easyer to sum by column)\n",
    "a_HBPOLinter = np.array([l_HBPOLinter[ty] for ty in TYPES]).T\n",
    "a_HBPOLsurf = np.array([l_HBPOLsurf[ty] for ty in TYPES]).T"
   ]
  },
  {
   "cell_type": "code",
   "execution_count": 733,
   "metadata": {
    "ExecuteTime": {
     "end_time": "2021-03-14T15:46:34.850592Z",
     "start_time": "2021-03-14T15:46:34.588237Z"
    }
   },
   "outputs": [
    {
     "data": {
      "image/png": "[encoded data removed]",
      "text/plain": [
       "<Figure size 432x288 with 1 Axes>"
      ]
     },
     "metadata": {
      "needs_background": "light"
     },
     "output_type": "display_data"
    }
   ],
   "source": [
    "# plot HB/POL/CHG distributions for surface and interface residues\n",
    "#---------------------------------------------------------\n",
    "fig1, ax1 = plt.subplots()\n",
    "iCHG, iPOL, iHB = 0, 1, 2\n",
    "ax1.boxplot([data for ty in (iHB, iCHG, iPOL)\n",
    "    for data in [a_HBPOLinter[:, ty]/a_HBPOLinter.sum(axis=1),  # normalise by size\n",
    "                 a_HBPOLsurf[:, ty]/a_HBPOLsurf.sum(axis=1)]])  # normalise by size\n",
    "ax1.set_title('distribution of aa type in binding sites and surfaces')\n",
    "plt.xticks(range(1,7), ['HB_inter', 'HB_surf', 'CHG_inter', 'CHG_surf', 'POL_inter', 'POL_surf']);\n",
    "plt.ylabel(\"% of aa type\")\n",
    "plt.savefig(\"../analysis/plots/HB_POL_CHG_surf_vs_BS_%s.png\"%(treated_family))"
   ]
  },
  {
   "cell_type": "code",
   "execution_count": 569,
   "metadata": {
    "ExecuteTime": {
     "end_time": "2021-03-14T14:26:21.188369Z",
     "start_time": "2021-03-14T14:26:21.179317Z"
    }
   },
   "outputs": [],
   "source": [
    "# write values in files\n",
    "writeDistribValues(l_HBPOLsurf[\"HB\"], \"../analysis/data/HB_surf_%s\"%(treated_family))\n",
    "writeDistribValues(l_HBPOLinter[\"HB\"], \"../analysis/data/HB_inter_%s\"%(treated_family))\n",
    "writeDistribValues(l_HBPOLsurf[\"CHG\"], \"../analysis/data/CHG_surf_%s\"%(treated_family))\n",
    "writeDistribValues(l_HBPOLinter[\"CHG\"], \"../analysis/data/CHG_inter_%s\"%(treated_family))\n",
    "writeDistribValues(l_HBPOLsurf[\"POL\"], \"../analysis/data/POL_surf_%s\"%(treated_family))\n",
    "writeDistribValues(l_HBPOLinter[\"POL\"], \"../analysis/data/POL_inter_%s\"%(treated_family))"
   ]
  },
  {
   "cell_type": "markdown",
   "metadata": {},
   "source": [
    "## Sizes"
   ]
  },
  {
   "cell_type": "code",
   "execution_count": 752,
   "metadata": {
    "ExecuteTime": {
     "end_time": "2021-03-14T16:08:02.535776Z",
     "start_time": "2021-03-14T16:08:02.309642Z"
    }
   },
   "outputs": [
    {
     "data": {
      "image/png": "[encoded data removed]",
      "text/plain": [
       "<Figure size 432x288 with 1 Axes>"
      ]
     },
     "metadata": {
      "needs_background": "light"
     },
     "output_type": "display_data"
    }
   ],
   "source": [
    "############################################################################@\n",
    "#\n",
    "#           Plot of the distribution of interface sizes\n",
    "#\n",
    "############################################################################@\n",
    "\n",
    "\n",
    "# get interface sizes\n",
    "sizes =[]\n",
    "for cplx in dico_inter_surf :\n",
    "    sizes.append(len(dico_inter_surf[cplx][\"lig\"][\"inter\"]))\n",
    "    sizes.append(len(dico_inter_surf[cplx][\"rec\"][\"inter\"]))\n",
    "\n",
    "    #s = [len(dico_inter_surf[x][\"lig\"][\"surf\"]) for x in dico_inter_surf]\n",
    "# plot the size distribution\n",
    "plt.hist(sizes, 10);\n",
    "plt.title(\"distribution of the binding site sizes\")\n",
    "plt.xlabel(\"number of surface residues involved in binding sites\")\n",
    "plt.ylabel(\"counts\")\n",
    "plt.savefig(\"../analysis/plots/bindingSiteSizes_distrib_%s.png\"%(treated_family))"
   ]
  },
  {
   "cell_type": "code",
   "execution_count": 448,
   "metadata": {
    "ExecuteTime": {
     "end_time": "2021-03-13T17:02:21.802140Z",
     "start_time": "2021-03-13T17:02:21.798335Z"
    }
   },
   "outputs": [],
   "source": [
    "# write values in file\n",
    "writeDistribValues(sizes, \"../analysis/data/sizes_%s\"%(treated_family))\n"
   ]
  },
  {
   "cell_type": "code",
   "execution_count": 449,
   "metadata": {
    "ExecuteTime": {
     "end_time": "2021-03-13T17:02:25.527070Z",
     "start_time": "2021-03-13T17:02:25.311378Z"
    }
   },
   "outputs": [
    {
     "data": {
      "image/png": "[encoded data removed]",
      "text/plain": [
       "<Figure size 432x288 with 1 Axes>"
      ]
     },
     "metadata": {
      "needs_background": "light"
     },
     "output_type": "display_data"
    }
   ],
   "source": [
    "############################################################################@##########@\n",
    "#\n",
    "#           Plot of the distribution of interface sizes normalized by the surface size\n",
    "#\n",
    "############################################################################@##########@\n",
    "\n",
    "\n",
    "# get interface sizes\n",
    "sizes_norm =[]\n",
    "for cplx in dico_inter_surf :\n",
    "    sizes_norm.append(len(dico_inter_surf[cplx][\"lig\"][\"inter\"])/len(dico_inter_surf[cplx][\"lig\"][\"surf\"]))\n",
    "    sizes_norm.append(len(dico_inter_surf[cplx][\"rec\"][\"inter\"])/len(dico_inter_surf[cplx][\"rec\"][\"surf\"]))\n",
    "\n",
    "    #s = [len(dico_inter_surf[x][\"lig\"][\"surf\"]) for x in dico_inter_surf]\n",
    "# plot the size distribution\n",
    "plt.hist(sizes_norm);\n",
    "plt.title(\"distribution of the fraction of surface residues involved in binding sites\")\n",
    "plt.xlabel(\"fraction of surface residues involved in binding sites\")\n",
    "plt.ylabel(\"counts\")\n",
    "plt.savefig(\"../analysis/plots/bindingSiteFraction_distrib_%s.png\"%(treated_family))"
   ]
  },
  {
   "cell_type": "code",
   "execution_count": 450,
   "metadata": {
    "ExecuteTime": {
     "end_time": "2021-03-13T17:02:27.875284Z",
     "start_time": "2021-03-13T17:02:27.870509Z"
    }
   },
   "outputs": [],
   "source": [
    "# write values in file\n",
    "writeDistribValues(sizes_norm, \"../analysis/data/norm_sizes_%s\"%(treated_family))\n"
   ]
  },
  {
   "cell_type": "markdown",
   "metadata": {
    "heading_collapsed": true
   },
   "source": [
    "## Total sizes"
   ]
  },
  {
   "cell_type": "code",
   "execution_count": 451,
   "metadata": {
    "ExecuteTime": {
     "end_time": "2021-03-13T17:02:30.797936Z",
     "start_time": "2021-03-13T17:02:29.295891Z"
    },
    "hidden": true
   },
   "outputs": [],
   "source": [
    "total_sizes = {}\n",
    "# compute total size\n",
    "for cp in os.listdir(cplxpath) :\n",
    "    # store cplx and monomer names\n",
    "    if cp.endswith(\".pdb\"):\n",
    "        rootname = cp[:cp.rindex(\"_\")]\n",
    "    else:\n",
    "        continue\n",
    "    monor = rootname + \"_r_inter.pdb\"\n",
    "    monol = rootname + \"_l_inter.pdb\"\n",
    "    #print(\"dealing with %s \\n %s \\%s\"%(rootname, monor, monol))\n",
    "\n",
    "    # parse PDB    \n",
    "    d_pdblig = StructureTools.PDB_parser(\"%s/%s\"%(monopath, monol))\n",
    "    chainlig = d_pdblig[\"chains\"][0]\n",
    "    d_pdbrec = StructureTools.PDB_parser(\"%s/%s\"%(monopath, monor))\n",
    "    chainrec = d_pdbrec[\"chains\"][0]\n",
    "    total_sizes[rootname] = dict(\n",
    "        lig = len(d_pdblig[chainlig]['reslist']),\n",
    "        rec = len(d_pdbrec[chainrec]['reslist'])\n",
    "    )\n"
   ]
  },
  {
   "cell_type": "markdown",
   "metadata": {
    "heading_collapsed": true
   },
   "source": [
    "# Write CSVs\n",
    "In the following, a trick is implemented to write per-group CSVs in the order specified in a list."
   ]
  },
  {
   "cell_type": "code",
   "execution_count": 452,
   "metadata": {
    "ExecuteTime": {
     "end_time": "2021-03-13T17:02:34.586158Z",
     "start_time": "2021-03-13T17:02:34.579393Z"
    },
    "hidden": true
   },
   "outputs": [],
   "source": [
    "# outdir = \"../../ppt/TP_1/CSV_28complexes\"  # structures/TP1\n",
    "outdir = \"../../ppt/TP_1/CSV_kihara\"  # structures/kihara\n",
    "complex_order = list(map(str.strip, open(os.path.join(outdir, \"pdb_list\")).readlines()))"
   ]
  },
  {
   "cell_type": "code",
   "execution_count": 517,
   "metadata": {
    "ExecuteTime": {
     "end_time": "2021-03-14T14:01:22.540140Z",
     "start_time": "2021-03-14T14:01:22.465501Z"
    },
    "hidden": true
   },
   "outputs": [],
   "source": [
    "dico_CV = joblib.load(\"../analysis/dico_CV_{}.job\".format(treated_family))\n",
    "dico_inter_surf = joblib.load(\"../analysis/dico_inter_surf_{}.job\".format(treated_family))"
   ]
  },
  {
   "cell_type": "code",
   "execution_count": 576,
   "metadata": {
    "ExecuteTime": {
     "end_time": "2021-03-14T14:31:17.111974Z",
     "start_time": "2021-03-14T14:31:17.106544Z"
    },
    "hidden": true
   },
   "outputs": [],
   "source": [
    "# Combine HBPOL\n",
    "# XXX TODO: make this structure in Section 1.\n",
    "dico_HBPOLn = {}\n",
    "for cplx in dico_inter_surf.keys():\n",
    "    key = cplx[1:]\n",
    "    dico_HBPOLn[key] = dict(surf={}, inter={})\n",
    "    for ty in (\"HB\", \"POL\", \"CHG\"):\n",
    "        dico_HBPOLn[key]['surf'][ty] = sum(d_HBPOLsurf[ty][cplx])   # summing two monomers\n",
    "        dico_HBPOLn[key]['inter'][ty] = sum(d_HBPOLinter[ty][cplx]) # summing two monomers"
   ]
  },
  {
   "cell_type": "code",
   "execution_count": 592,
   "metadata": {
    "ExecuteTime": {
     "end_time": "2021-03-14T14:35:51.445656Z",
     "start_time": "2021-03-14T14:35:51.441434Z"
    },
    "hidden": true
   },
   "outputs": [],
   "source": [
    "# Modify dico_inter_surf's keynames\n",
    "dico_inter_surfn = {k[1:]:v for k,v in dico_inter_surf.items()}\n",
    "dico_CVn = {k:{l[1:]:w for l,w in v.items()} for k,v in dico_CV.items()}"
   ]
  },
  {
   "cell_type": "code",
   "execution_count": 746,
   "metadata": {
    "ExecuteTime": {
     "end_time": "2021-03-14T16:06:13.943258Z",
     "start_time": "2021-03-14T16:06:13.940210Z"
    },
    "hidden": true
   },
   "outputs": [],
   "source": [
    "assert set(complex_order) == set(dico_inter_surfn.keys())"
   ]
  },
  {
   "cell_type": "markdown",
   "metadata": {
    "hidden": true
   },
   "source": [
    "## Tache 5.3: Tailles en #res\n",
    "Requires `dico_inter_surf` (can be loaded from .job)"
   ]
  },
  {
   "cell_type": "code",
   "execution_count": 455,
   "metadata": {
    "ExecuteTime": {
     "end_time": "2021-03-13T17:02:40.540588Z",
     "start_time": "2021-03-13T17:02:40.532356Z"
    },
    "hidden": true
   },
   "outputs": [],
   "source": [
    "with open(os.path.join(outdir, \"tache5.3_taille_residus.csv\"), 'w') as fout:\n",
    "    fout.write(\"\"\"# Tache 5.3 : Taille en numero de residus de la surface \n",
    "#       et de l'interface de chaque monomere du complexe\n",
    "groupe, taille_surface_monomere_1, taille_surface_monomere_2, taille_interface_monomere_1, taille_interface_monomere_2\n",
    "\"\"\")\n",
    "    for i, cplx in enumerate(complex_order) :\n",
    "        fout.write(\"{}, {}, {}, {}, {}\\n\".format(\n",
    "            i+1,\n",
    "            len(dico_inter_surfn[cplx][\"lig\"][\"surf\"]),\n",
    "            len(dico_inter_surfn[cplx][\"rec\"][\"surf\"]),\n",
    "            len(dico_inter_surfn[cplx][\"lig\"][\"inter\"]),\n",
    "            len(dico_inter_surfn[cplx][\"rec\"][\"inter\"])))"
   ]
  },
  {
   "cell_type": "markdown",
   "metadata": {
    "hidden": true
   },
   "source": [
    "## Tache 5.4 Tailles en Å2\n",
    "Requires `dico_inter_surf`, can be loaded from .job."
   ]
  },
  {
   "cell_type": "code",
   "execution_count": 456,
   "metadata": {
    "ExecuteTime": {
     "end_time": "2021-03-13T17:02:41.903508Z",
     "start_time": "2021-03-13T17:02:41.897187Z"
    },
    "hidden": true
   },
   "outputs": [],
   "source": [
    "with open(os.path.join(outdir, \"tache5.4_taille_SASA.csv\"), 'w') as fout:\n",
    "    fout.write(\"\"\"# Tache 5.4 : Taille en SASA de la surface\n",
    "#       et de l'interface de chaque monomere du complexe\n",
    "groupe, taille_surface_m1, taille_surface_m2, taille_interface_m1, taille_interface_m2\n",
    "\"\"\")\n",
    "    for i, cplx in enumerate(complex_order) :\n",
    "        fout.write(\"{}, {:.2f}, {:.2f}, {:.2f}, {:.2f}\\n\".format(\n",
    "            i+1,\n",
    "            dico_inter_surfn[cplx][\"lig\"][\"surfSASA\"],\n",
    "            dico_inter_surfn[cplx][\"rec\"][\"surfSASA\"],\n",
    "            dico_inter_surfn[cplx][\"lig\"][\"interSASA\"],\n",
    "            dico_inter_surfn[cplx][\"rec\"][\"interSASA\"]))\n"
   ]
  },
  {
   "cell_type": "markdown",
   "metadata": {
    "hidden": true
   },
   "source": [
    "## Tache 5.5 frequences de 20 aa\n",
    "Requires modified `d_aa_surf_cmt` and `d_aa_inter_cmt`   \n",
    "**TODO**: save these info to file"
   ]
  },
  {
   "cell_type": "code",
   "execution_count": 457,
   "metadata": {
    "ExecuteTime": {
     "end_time": "2021-03-13T17:02:43.235076Z",
     "start_time": "2021-03-13T17:02:43.229276Z"
    },
    "hidden": true
   },
   "outputs": [],
   "source": [
    "with open(os.path.join(outdir, \"tache5.5_frequences.csv\"), 'w') as fout:\n",
    "    fout.write(\"\"\"# Tache 5.5 : Frequences des 20 acides amines\n",
    "#       a la surface et a l'interface\n",
    "acide_amine, frequence_surface, frequence_interface\n",
    "\"\"\")\n",
    "    for i, aa in enumerate(d_aa_surf_cmt.keys()) :\n",
    "        fout.write(\"{}, {}, {}\\n\".format(\n",
    "            aa,\n",
    "            sum(d_aa_surf_cmt[aa]),\n",
    "            sum(d_aa_inter_cmt[aa])))\n"
   ]
  },
  {
   "cell_type": "markdown",
   "metadata": {
    "hidden": true
   },
   "source": [
    "## Tache 5.6 frequences HP, POL, CHG par complexe\n",
    "Requires modified `d_HBPOLsurf` and `d_HBPOLinter`  \n",
    "**TODO**: save these info to file  "
   ]
  },
  {
   "cell_type": "code",
   "execution_count": 582,
   "metadata": {
    "ExecuteTime": {
     "end_time": "2021-03-14T14:32:25.559502Z",
     "start_time": "2021-03-14T14:32:25.554528Z"
    },
    "hidden": true
   },
   "outputs": [],
   "source": [
    "with open(os.path.join(outdir, \"tache5.6_frequences_types.csv\"), 'w') as fout:\n",
    "    fout.write(\"\"\"# Tache 5.6 : Fréquence des résidus hydrophobes (HP), \n",
    "#       polaires (POL) et chargés (CHG) à la surface et à l'interface\n",
    "groupe, HP_surface, POL_surface, CHG_surface, HP_interface, POL_interface, CHG_interface\n",
    "\"\"\")\n",
    "    for i, cplx in enumerate(complex_order) :\n",
    "        fout.write(\"{}, {}, {}, {}, {}, {}, {}\\n\".format(\n",
    "            i+1,\n",
    "            *[dico_HBPOLn[cplx][si][ty] for si in (\"surf\", \"inter\") \n",
    "                                        for ty in (\"HB\", \"POL\", \"CHG\")]))"
   ]
  },
  {
   "cell_type": "markdown",
   "metadata": {
    "hidden": true
   },
   "source": [
    "## Tache 5.A, 5.B CV des surfaces, interfaces\n",
    "NOTE that the `CVsurf.txt` and `CVinter.txt` files are the complete CSVs."
   ]
  },
  {
   "cell_type": "code",
   "execution_count": 611,
   "metadata": {
    "ExecuteTime": {
     "end_time": "2021-03-14T14:53:17.586855Z",
     "start_time": "2021-03-14T14:53:17.570431Z"
    },
    "hidden": true
   },
   "outputs": [],
   "source": [
    "for i, cplx in enumerate(complex_order[:20]) :\n",
    "    # write separate CSV for group (i < 20)\n",
    "    ## SURF\n",
    "    with open(\"../../ppt/TP_1/CSV_CV/tache5.A_CV_surface_{}.csv\".format(cplx), 'w') as fout:\n",
    "        fout.write(\"\"\"# Tache 5.A : CV des residus a la surface (une seule colonne)\n",
    "CV\n",
    "\"\"\")\n",
    "        fout.writelines([\"{}\\n\".format(cv) for cv in dico_CVn['surf'][cplx]])\n",
    "    ## INTER\n",
    "    with open(\"../../ppt/TP_1/CSV_CV/tache5.B_CV_interface_{}.csv\".format(cplx), 'w') as fout:\n",
    "        fout.write(\"\"\"# Tache 5.B : CV des residus a l'interface (une seule colonne)\n",
    "CV\n",
    "\"\"\")\n",
    "        fout.writelines([\"{}\\n\".format(cv) for cv in dico_CVn['inter'][cplx]])"
   ]
  },
  {
   "cell_type": "code",
   "execution_count": 735,
   "metadata": {
    "ExecuteTime": {
     "end_time": "2021-03-14T15:51:03.988055Z",
     "start_time": "2021-03-14T15:51:03.977307Z"
    },
    "hidden": true
   },
   "outputs": [],
   "source": [
    "## SURF\n",
    "with open(os.path.join(outdir, \"tache5.A_CV_surface.csv\"), 'w') as fout:\n",
    "    fout.write(\"\"\"# Tache 5.A : CV des residus a la surface (une seule colonne)\n",
    "CV\n",
    "\"\"\")\n",
    "    fout.writelines(open(\"../analysis/data/CV_surf_{}.txt\".format(treated_family)).readlines())\n",
    "\n",
    "## INTER\n",
    "with open(os.path.join(outdir, \"tache5.B_CV_interface.csv\"), 'w') as fout:\n",
    "    fout.write(\"\"\"# Tache 5.B : CV des residus a l'interface (une seule colonne)\n",
    "CV\n",
    "\"\"\")\n",
    "    fout.writelines(open(\"../analysis/data/CV_inter_{}.txt\".format(treated_family)).readlines())"
   ]
  },
  {
   "cell_type": "markdown",
   "metadata": {
    "hidden": true
   },
   "source": [
    "## Plots from CSV"
   ]
  },
  {
   "cell_type": "code",
   "execution_count": 737,
   "metadata": {
    "ExecuteTime": {
     "end_time": "2021-03-14T15:52:15.644914Z",
     "start_time": "2021-03-14T15:52:15.237900Z"
    },
    "hidden": true
   },
   "outputs": [
    {
     "data": {
      "image/png": "[encoded data removed]",
      "text/plain": [
       "<Figure size 432x288 with 1 Axes>"
      ]
     },
     "metadata": {
      "needs_background": "light"
     },
     "output_type": "display_data"
    }
   ],
   "source": [
    "t53 = pd.read_csv(os.path.join(outdir, \"tache5.3_taille_residus.csv\"), comment='#', index_col=0)\n",
    "sizes = pd.DataFrame(np.concatenate((t53.iloc[:, [0,2]], t53.iloc[:, [1,3]])),\n",
    "                     columns=\"surface interface\".split())\n",
    "sizes.hist(\"interface\", bins=10, grid=False, edgecolor='k')\n",
    "plt.title(\"distribution of the interface sizes\")\n",
    "plt.xlabel(\"number of residues involved in interfaces\")\n",
    "plt.ylabel(\"counts\")\n",
    "plt.savefig(os.path.join(outdir, \"tache6.2.pdf\"))"
   ]
  },
  {
   "cell_type": "code",
   "execution_count": 742,
   "metadata": {
    "ExecuteTime": {
     "end_time": "2021-03-14T15:54:08.009165Z",
     "start_time": "2021-03-14T15:54:07.706301Z"
    },
    "hidden": true
   },
   "outputs": [
    {
     "data": {
      "image/png": "[encoded data removed]",
      "text/plain": [
       "<Figure size 432x288 with 1 Axes>"
      ]
     },
     "metadata": {
      "needs_background": "light"
     },
     "output_type": "display_data"
    }
   ],
   "source": [
    "t54 = pd.read_csv(os.path.join(outdir, \"tache5.4_taille_SASA.csv\"), comment='#', index_col=0)\n",
    "sizes2 = pd.DataFrame(np.concatenate((t54.iloc[:, [0,2]], t54.iloc[:, [1,3]])),\n",
    "                     columns=\"surface interface\".split())\n",
    "sizes2.hist(\"interface\", bins=10, grid=False, edgecolor='k')\n",
    "plt.title(\"distribution of the interface sizes\")\n",
    "plt.xlabel(\"area of the interface ($\\AA^2$)\")\n",
    "plt.ylabel(\"counts\")\n",
    "plt.savefig(os.path.join(outdir, \"tache6.3.pdf\"))"
   ]
  },
  {
   "cell_type": "code",
   "execution_count": 739,
   "metadata": {
    "ExecuteTime": {
     "end_time": "2021-03-14T15:52:42.734802Z",
     "start_time": "2021-03-14T15:52:42.481265Z"
    },
    "hidden": true
   },
   "outputs": [
    {
     "data": {
      "image/png": "[encoded data removed]",
      "text/plain": [
       "<Figure size 432x288 with 1 Axes>"
      ]
     },
     "metadata": {
      "needs_background": "light"
     },
     "output_type": "display_data"
    }
   ],
   "source": [
    "sizesn = sizes.loc[:, \"interface\"] / sizes.loc[:, \"surface\"]\n",
    "sizesn.hist(bins=10, grid=False, edgecolor='k')\n",
    "plt.title(\"distribution of the fraction of surface residues in the interface\")\n",
    "plt.xlabel(\"fraction of surface residues involved in interfaces\")\n",
    "plt.ylabel(\"counts\")\n",
    "plt.savefig(os.path.join(outdir, \"tache6.4.pdf\"))"
   ]
  },
  {
   "cell_type": "code",
   "execution_count": 743,
   "metadata": {
    "ExecuteTime": {
     "end_time": "2021-03-14T15:54:20.724489Z",
     "start_time": "2021-03-14T15:54:20.374177Z"
    },
    "hidden": true
   },
   "outputs": [
    {
     "data": {
      "image/png": "[encoded data removed]",
      "text/plain": [
       "<Figure size 432x288 with 1 Axes>"
      ]
     },
     "metadata": {
      "needs_background": "light"
     },
     "output_type": "display_data"
    }
   ],
   "source": [
    "t55 = pd.read_csv(os.path.join(outdir, \"tache5.5_frequences.csv\"), comment=\"#\", index_col=0)\n",
    "t55n = t55 / t55.sum()\n",
    "np.log2(t55n.iloc[:, 1] / t55n.iloc[:, 0]).plot.bar(width=0.85)\n",
    "plt.xlabel(\"amino acid\")\n",
    "plt.ylabel(\"relative propensity\")\n",
    "plt.title(\"propensity of aa to be found in interfaces\")\n",
    "plt.savefig(os.path.join(outdir, \"tache6.5.pdf\"))"
   ]
  },
  {
   "cell_type": "code",
   "execution_count": 744,
   "metadata": {
    "ExecuteTime": {
     "end_time": "2021-03-14T15:54:30.382238Z",
     "start_time": "2021-03-14T15:54:30.085019Z"
    },
    "hidden": true
   },
   "outputs": [
    {
     "data": {
      "image/png": "[encoded data removed]",
      "text/plain": [
       "<Figure size 432x288 with 1 Axes>"
      ]
     },
     "metadata": {
      "needs_background": "light"
     },
     "output_type": "display_data"
    }
   ],
   "source": [
    "t56 = pd.read_csv(os.path.join(outdir, \"tache5.6_frequences_types.csv\"), comment=\"#\", index_col=0)\n",
    "## Assert t53 and t56 compatible\n",
    "assert (t53.groupby([\"surf\"]*2+[\"inter\"]*2, axis=1).sum() == t56.groupby([\"surf\"]*3+[\"inter\"]*3, \n",
    "                                                                         axis=1).sum()).all().all()\n",
    "surf = slice(0, 3)\n",
    "inter = slice(3, 6)\n",
    "t56.iloc[:, surf] = t56.iloc[:, surf].apply(lambda col: col/t56.iloc[:, surf].sum(axis=1))\n",
    "t56.iloc[:, inter] = t56.iloc[:, inter].apply(lambda col: col/t56.iloc[:, inter].sum(axis=1))\n",
    "t56.iloc[:, [3,0,5,2,4,1]].boxplot(rot=45, grid=False, color='k', medianprops=dict(color='orange'))\n",
    "plt.ylabel(\"% of aa type\")\n",
    "plt.title(\"distribution of aa type in interfaces and surfaces\")\n",
    "plt.savefig(os.path.join(outdir, \"tache6.6.pdf\"))"
   ]
  },
  {
   "cell_type": "code",
   "execution_count": 745,
   "metadata": {
    "ExecuteTime": {
     "end_time": "2021-03-14T15:54:59.292646Z",
     "start_time": "2021-03-14T15:54:59.083461Z"
    },
    "hidden": true
   },
   "outputs": [
    {
     "data": {
      "image/png": "[encoded data removed]",
      "text/plain": [
       "<Figure size 432x288 with 1 Axes>"
      ]
     },
     "metadata": {
      "needs_background": "light"
     },
     "output_type": "display_data"
    }
   ],
   "source": [
    "t5A = pd.read_csv(os.path.join(outdir, \"tache5.A_CV_surface.csv\"), comment=\"#\")\n",
    "t5B = pd.read_csv(os.path.join(outdir, \"tache5.B_CV_interface.csv\"), comment=\"#\")\n",
    "plt.title('CV (surface residues VS interface residues)')\n",
    "plt.boxplot([t5A.values.flatten(), t5B.values.flatten()])\n",
    "plt.xticks([1, 2], ['surface', 'interface']);\n",
    "plt.ylabel(\"CV\")\n",
    "plt.savefig(os.path.join(outdir, \"tache6.A.pdf\"))"
   ]
  },
  {
   "cell_type": "markdown",
   "metadata": {},
   "source": [
    "# Create big table\n",
    "Creation du grand tableau à partir des analyses ci-dessus."
   ]
  },
  {
   "cell_type": "code",
   "execution_count": 747,
   "metadata": {
    "ExecuteTime": {
     "end_time": "2021-03-14T16:06:29.535221Z",
     "start_time": "2021-03-14T16:06:29.532889Z"
    }
   },
   "outputs": [],
   "source": [
    "import pandas as pd\n",
    "treated_family = \"kihara\""
   ]
  },
  {
   "cell_type": "code",
   "execution_count": 753,
   "metadata": {
    "ExecuteTime": {
     "end_time": "2021-03-14T16:08:06.162654Z",
     "start_time": "2021-03-14T16:08:06.124160Z"
    }
   },
   "outputs": [],
   "source": [
    "full_list = pd.DataFrame.from_dict(total_sizes).transpose()\n",
    "full_list.loc[:, \"tot\"] = full_list.apply(lambda row: row.rec + row.lig, axis=1)\n",
    "inter_sizes = zip(*[(sizes[i],sizes[i+1]) for i in range(0, len(sizes), 2)])\n",
    "full_list.loc[:, \"inter_lig\"] = next(inter_sizes)\n",
    "full_list.loc[:, \"inter_rec\"] = next(inter_sizes)\n",
    "full_list.loc[:, \"type\"] = full_list.apply(lambda row: row.name[0], axis=1)\n",
    "full_list.index = list(map(lambda s: s[1:], full_list.index.values))\n",
    "full_list = full_list.sort_values(by=[\"tot\", \"type\"]).reset_index()\n",
    "full_list.columns = \"PDB_chains size_lig size_rec size_tot inter_lig inter_rec type\".split()"
   ]
  },
  {
   "cell_type": "code",
   "execution_count": 754,
   "metadata": {
    "ExecuteTime": {
     "end_time": "2021-03-14T16:08:11.734433Z",
     "start_time": "2021-03-14T16:08:11.472375Z"
    }
   },
   "outputs": [],
   "source": [
    "# GET COMPND\n",
    "def get_pdb_line(fname, head=\"COMPND\"):\n",
    "    retstr = \"\"\n",
    "    with open(fname) as pdbf:\n",
    "        for l in pdbf:\n",
    "            if l.startswith(head):\n",
    "                retstr += \" \" + l[10:].strip()\n",
    "    return retstr\n",
    "    \n",
    "full_list.loc[:, \"description\"] = \"\"\n",
    "for i, cp in full_list.iterrows():\n",
    "    fname = \"../structures/{}/raw_pdb/{}{}.pdb1\".format(\n",
    "        treated_family, cp.type, cp.PDB_chains[:-3])\n",
    "    try:\n",
    "        descr = get_pdb_line(fname)\n",
    "        if descr.strip() == \"\":\n",
    "            descr = get_pdb_line(fname, \"TITLE\")\n",
    "        full_list.loc[i, \"description\"] = descr\n",
    "    except Exception as e:\n",
    "        print(fname)\n",
    "        pass        \n",
    "        "
   ]
  },
  {
   "cell_type": "code",
   "execution_count": 755,
   "metadata": {
    "ExecuteTime": {
     "end_time": "2021-03-14T16:08:16.990121Z",
     "start_time": "2021-03-14T16:08:16.974864Z"
    }
   },
   "outputs": [],
   "source": [
    "full_list.to_csv('../analysis/{}.csv'.format(treated_family), sep='\\t')"
   ]
  },
  {
   "cell_type": "markdown",
   "metadata": {},
   "source": [
    "# Aperçu\n",
    "Cette section à usage interne. Lecture des tableaux de données et visualisation des complexes."
   ]
  },
  {
   "cell_type": "code",
   "execution_count": 756,
   "metadata": {
    "ExecuteTime": {
     "end_time": "2021-03-14T16:08:34.596656Z",
     "start_time": "2021-03-14T16:08:34.467123Z"
    }
   },
   "outputs": [
    {
     "data": {
      "application/vnd.jupyter.widget-view+json": {
       "model_id": "4fe71eaa6bbf451bb9a9b56ccb5af60d",
       "version_major": 2,
       "version_minor": 0
      },
      "text/plain": []
     },
     "metadata": {},
     "output_type": "display_data"
    }
   ],
   "source": [
    "import pandas as pd\n",
    "import nglview as nv"
   ]
  },
  {
   "cell_type": "code",
   "execution_count": 757,
   "metadata": {
    "ExecuteTime": {
     "end_time": "2021-03-14T16:08:35.488390Z",
     "start_time": "2021-03-14T16:08:35.485685Z"
    }
   },
   "outputs": [],
   "source": [
    "treated_family=\"kihara\""
   ]
  },
  {
   "cell_type": "code",
   "execution_count": 61,
   "metadata": {
    "ExecuteTime": {
     "end_time": "2021-03-10T12:17:22.326381Z",
     "start_time": "2021-03-10T12:17:22.316273Z"
    }
   },
   "outputs": [],
   "source": [
    "full_list = pd.read_csv('../analysis/{}.csv'.format(treated_family), sep='\\t', index_col='idx')"
   ]
  },
  {
   "cell_type": "code",
   "execution_count": 758,
   "metadata": {
    "ExecuteTime": {
     "end_time": "2021-03-14T16:08:54.633734Z",
     "start_time": "2021-03-14T16:08:54.584342Z"
    }
   },
   "outputs": [],
   "source": [
    "dico_inter_surf = joblib.load(\"../analysis/dico_inter_surf_{}.job\".format(treated_family))"
   ]
  },
  {
   "cell_type": "code",
   "execution_count": 759,
   "metadata": {
    "ExecuteTime": {
     "end_time": "2021-03-14T16:08:56.902369Z",
     "start_time": "2021-03-14T16:08:56.532010Z"
    },
    "scrolled": false
   },
   "outputs": [
    {
     "data": {
      "text/html": [
       "<style  type=\"text/css\" >\n",
       "#T_947dc8d8_84df_11eb_8091_367dda9d9ea5row0_col0,#T_947dc8d8_84df_11eb_8091_367dda9d9ea5row0_col1,#T_947dc8d8_84df_11eb_8091_367dda9d9ea5row0_col2,#T_947dc8d8_84df_11eb_8091_367dda9d9ea5row0_col3,#T_947dc8d8_84df_11eb_8091_367dda9d9ea5row0_col4,#T_947dc8d8_84df_11eb_8091_367dda9d9ea5row0_col5,#T_947dc8d8_84df_11eb_8091_367dda9d9ea5row0_col6,#T_947dc8d8_84df_11eb_8091_367dda9d9ea5row0_col7,#T_947dc8d8_84df_11eb_8091_367dda9d9ea5row2_col0,#T_947dc8d8_84df_11eb_8091_367dda9d9ea5row2_col1,#T_947dc8d8_84df_11eb_8091_367dda9d9ea5row2_col2,#T_947dc8d8_84df_11eb_8091_367dda9d9ea5row2_col3,#T_947dc8d8_84df_11eb_8091_367dda9d9ea5row2_col4,#T_947dc8d8_84df_11eb_8091_367dda9d9ea5row2_col5,#T_947dc8d8_84df_11eb_8091_367dda9d9ea5row2_col6,#T_947dc8d8_84df_11eb_8091_367dda9d9ea5row2_col7,#T_947dc8d8_84df_11eb_8091_367dda9d9ea5row3_col0,#T_947dc8d8_84df_11eb_8091_367dda9d9ea5row3_col1,#T_947dc8d8_84df_11eb_8091_367dda9d9ea5row3_col2,#T_947dc8d8_84df_11eb_8091_367dda9d9ea5row3_col3,#T_947dc8d8_84df_11eb_8091_367dda9d9ea5row3_col4,#T_947dc8d8_84df_11eb_8091_367dda9d9ea5row3_col5,#T_947dc8d8_84df_11eb_8091_367dda9d9ea5row3_col6,#T_947dc8d8_84df_11eb_8091_367dda9d9ea5row3_col7,#T_947dc8d8_84df_11eb_8091_367dda9d9ea5row6_col0,#T_947dc8d8_84df_11eb_8091_367dda9d9ea5row6_col1,#T_947dc8d8_84df_11eb_8091_367dda9d9ea5row6_col2,#T_947dc8d8_84df_11eb_8091_367dda9d9ea5row6_col3,#T_947dc8d8_84df_11eb_8091_367dda9d9ea5row6_col4,#T_947dc8d8_84df_11eb_8091_367dda9d9ea5row6_col5,#T_947dc8d8_84df_11eb_8091_367dda9d9ea5row6_col6,#T_947dc8d8_84df_11eb_8091_367dda9d9ea5row6_col7,#T_947dc8d8_84df_11eb_8091_367dda9d9ea5row7_col0,#T_947dc8d8_84df_11eb_8091_367dda9d9ea5row7_col1,#T_947dc8d8_84df_11eb_8091_367dda9d9ea5row7_col2,#T_947dc8d8_84df_11eb_8091_367dda9d9ea5row7_col3,#T_947dc8d8_84df_11eb_8091_367dda9d9ea5row7_col4,#T_947dc8d8_84df_11eb_8091_367dda9d9ea5row7_col5,#T_947dc8d8_84df_11eb_8091_367dda9d9ea5row7_col6,#T_947dc8d8_84df_11eb_8091_367dda9d9ea5row7_col7,#T_947dc8d8_84df_11eb_8091_367dda9d9ea5row8_col0,#T_947dc8d8_84df_11eb_8091_367dda9d9ea5row8_col1,#T_947dc8d8_84df_11eb_8091_367dda9d9ea5row8_col2,#T_947dc8d8_84df_11eb_8091_367dda9d9ea5row8_col3,#T_947dc8d8_84df_11eb_8091_367dda9d9ea5row8_col4,#T_947dc8d8_84df_11eb_8091_367dda9d9ea5row8_col5,#T_947dc8d8_84df_11eb_8091_367dda9d9ea5row8_col6,#T_947dc8d8_84df_11eb_8091_367dda9d9ea5row8_col7,#T_947dc8d8_84df_11eb_8091_367dda9d9ea5row9_col0,#T_947dc8d8_84df_11eb_8091_367dda9d9ea5row9_col1,#T_947dc8d8_84df_11eb_8091_367dda9d9ea5row9_col2,#T_947dc8d8_84df_11eb_8091_367dda9d9ea5row9_col3,#T_947dc8d8_84df_11eb_8091_367dda9d9ea5row9_col4,#T_947dc8d8_84df_11eb_8091_367dda9d9ea5row9_col5,#T_947dc8d8_84df_11eb_8091_367dda9d9ea5row9_col6,#T_947dc8d8_84df_11eb_8091_367dda9d9ea5row9_col7,#T_947dc8d8_84df_11eb_8091_367dda9d9ea5row12_col0,#T_947dc8d8_84df_11eb_8091_367dda9d9ea5row12_col1,#T_947dc8d8_84df_11eb_8091_367dda9d9ea5row12_col2,#T_947dc8d8_84df_11eb_8091_367dda9d9ea5row12_col3,#T_947dc8d8_84df_11eb_8091_367dda9d9ea5row12_col4,#T_947dc8d8_84df_11eb_8091_367dda9d9ea5row12_col5,#T_947dc8d8_84df_11eb_8091_367dda9d9ea5row12_col6,#T_947dc8d8_84df_11eb_8091_367dda9d9ea5row12_col7,#T_947dc8d8_84df_11eb_8091_367dda9d9ea5row15_col0,#T_947dc8d8_84df_11eb_8091_367dda9d9ea5row15_col1,#T_947dc8d8_84df_11eb_8091_367dda9d9ea5row15_col2,#T_947dc8d8_84df_11eb_8091_367dda9d9ea5row15_col3,#T_947dc8d8_84df_11eb_8091_367dda9d9ea5row15_col4,#T_947dc8d8_84df_11eb_8091_367dda9d9ea5row15_col5,#T_947dc8d8_84df_11eb_8091_367dda9d9ea5row15_col6,#T_947dc8d8_84df_11eb_8091_367dda9d9ea5row15_col7,#T_947dc8d8_84df_11eb_8091_367dda9d9ea5row16_col0,#T_947dc8d8_84df_11eb_8091_367dda9d9ea5row16_col1,#T_947dc8d8_84df_11eb_8091_367dda9d9ea5row16_col2,#T_947dc8d8_84df_11eb_8091_367dda9d9ea5row16_col3,#T_947dc8d8_84df_11eb_8091_367dda9d9ea5row16_col4,#T_947dc8d8_84df_11eb_8091_367dda9d9ea5row16_col5,#T_947dc8d8_84df_11eb_8091_367dda9d9ea5row16_col6,#T_947dc8d8_84df_11eb_8091_367dda9d9ea5row16_col7,#T_947dc8d8_84df_11eb_8091_367dda9d9ea5row19_col0,#T_947dc8d8_84df_11eb_8091_367dda9d9ea5row19_col1,#T_947dc8d8_84df_11eb_8091_367dda9d9ea5row19_col2,#T_947dc8d8_84df_11eb_8091_367dda9d9ea5row19_col3,#T_947dc8d8_84df_11eb_8091_367dda9d9ea5row19_col4,#T_947dc8d8_84df_11eb_8091_367dda9d9ea5row19_col5,#T_947dc8d8_84df_11eb_8091_367dda9d9ea5row19_col6,#T_947dc8d8_84df_11eb_8091_367dda9d9ea5row19_col7,#T_947dc8d8_84df_11eb_8091_367dda9d9ea5row25_col0,#T_947dc8d8_84df_11eb_8091_367dda9d9ea5row25_col1,#T_947dc8d8_84df_11eb_8091_367dda9d9ea5row25_col2,#T_947dc8d8_84df_11eb_8091_367dda9d9ea5row25_col3,#T_947dc8d8_84df_11eb_8091_367dda9d9ea5row25_col4,#T_947dc8d8_84df_11eb_8091_367dda9d9ea5row25_col5,#T_947dc8d8_84df_11eb_8091_367dda9d9ea5row25_col6,#T_947dc8d8_84df_11eb_8091_367dda9d9ea5row25_col7,#T_947dc8d8_84df_11eb_8091_367dda9d9ea5row27_col0,#T_947dc8d8_84df_11eb_8091_367dda9d9ea5row27_col1,#T_947dc8d8_84df_11eb_8091_367dda9d9ea5row27_col2,#T_947dc8d8_84df_11eb_8091_367dda9d9ea5row27_col3,#T_947dc8d8_84df_11eb_8091_367dda9d9ea5row27_col4,#T_947dc8d8_84df_11eb_8091_367dda9d9ea5row27_col5,#T_947dc8d8_84df_11eb_8091_367dda9d9ea5row27_col6,#T_947dc8d8_84df_11eb_8091_367dda9d9ea5row27_col7,#T_947dc8d8_84df_11eb_8091_367dda9d9ea5row29_col0,#T_947dc8d8_84df_11eb_8091_367dda9d9ea5row29_col1,#T_947dc8d8_84df_11eb_8091_367dda9d9ea5row29_col2,#T_947dc8d8_84df_11eb_8091_367dda9d9ea5row29_col3,#T_947dc8d8_84df_11eb_8091_367dda9d9ea5row29_col4,#T_947dc8d8_84df_11eb_8091_367dda9d9ea5row29_col5,#T_947dc8d8_84df_11eb_8091_367dda9d9ea5row29_col6,#T_947dc8d8_84df_11eb_8091_367dda9d9ea5row29_col7,#T_947dc8d8_84df_11eb_8091_367dda9d9ea5row31_col0,#T_947dc8d8_84df_11eb_8091_367dda9d9ea5row31_col1,#T_947dc8d8_84df_11eb_8091_367dda9d9ea5row31_col2,#T_947dc8d8_84df_11eb_8091_367dda9d9ea5row31_col3,#T_947dc8d8_84df_11eb_8091_367dda9d9ea5row31_col4,#T_947dc8d8_84df_11eb_8091_367dda9d9ea5row31_col5,#T_947dc8d8_84df_11eb_8091_367dda9d9ea5row31_col6,#T_947dc8d8_84df_11eb_8091_367dda9d9ea5row31_col7,#T_947dc8d8_84df_11eb_8091_367dda9d9ea5row32_col0,#T_947dc8d8_84df_11eb_8091_367dda9d9ea5row32_col1,#T_947dc8d8_84df_11eb_8091_367dda9d9ea5row32_col2,#T_947dc8d8_84df_11eb_8091_367dda9d9ea5row32_col3,#T_947dc8d8_84df_11eb_8091_367dda9d9ea5row32_col4,#T_947dc8d8_84df_11eb_8091_367dda9d9ea5row32_col5,#T_947dc8d8_84df_11eb_8091_367dda9d9ea5row32_col6,#T_947dc8d8_84df_11eb_8091_367dda9d9ea5row32_col7,#T_947dc8d8_84df_11eb_8091_367dda9d9ea5row35_col0,#T_947dc8d8_84df_11eb_8091_367dda9d9ea5row35_col1,#T_947dc8d8_84df_11eb_8091_367dda9d9ea5row35_col2,#T_947dc8d8_84df_11eb_8091_367dda9d9ea5row35_col3,#T_947dc8d8_84df_11eb_8091_367dda9d9ea5row35_col4,#T_947dc8d8_84df_11eb_8091_367dda9d9ea5row35_col5,#T_947dc8d8_84df_11eb_8091_367dda9d9ea5row35_col6,#T_947dc8d8_84df_11eb_8091_367dda9d9ea5row35_col7,#T_947dc8d8_84df_11eb_8091_367dda9d9ea5row37_col0,#T_947dc8d8_84df_11eb_8091_367dda9d9ea5row37_col1,#T_947dc8d8_84df_11eb_8091_367dda9d9ea5row37_col2,#T_947dc8d8_84df_11eb_8091_367dda9d9ea5row37_col3,#T_947dc8d8_84df_11eb_8091_367dda9d9ea5row37_col4,#T_947dc8d8_84df_11eb_8091_367dda9d9ea5row37_col5,#T_947dc8d8_84df_11eb_8091_367dda9d9ea5row37_col6,#T_947dc8d8_84df_11eb_8091_367dda9d9ea5row37_col7,#T_947dc8d8_84df_11eb_8091_367dda9d9ea5row38_col0,#T_947dc8d8_84df_11eb_8091_367dda9d9ea5row38_col1,#T_947dc8d8_84df_11eb_8091_367dda9d9ea5row38_col2,#T_947dc8d8_84df_11eb_8091_367dda9d9ea5row38_col3,#T_947dc8d8_84df_11eb_8091_367dda9d9ea5row38_col4,#T_947dc8d8_84df_11eb_8091_367dda9d9ea5row38_col5,#T_947dc8d8_84df_11eb_8091_367dda9d9ea5row38_col6,#T_947dc8d8_84df_11eb_8091_367dda9d9ea5row38_col7,#T_947dc8d8_84df_11eb_8091_367dda9d9ea5row39_col0,#T_947dc8d8_84df_11eb_8091_367dda9d9ea5row39_col1,#T_947dc8d8_84df_11eb_8091_367dda9d9ea5row39_col2,#T_947dc8d8_84df_11eb_8091_367dda9d9ea5row39_col3,#T_947dc8d8_84df_11eb_8091_367dda9d9ea5row39_col4,#T_947dc8d8_84df_11eb_8091_367dda9d9ea5row39_col5,#T_947dc8d8_84df_11eb_8091_367dda9d9ea5row39_col6,#T_947dc8d8_84df_11eb_8091_367dda9d9ea5row39_col7,#T_947dc8d8_84df_11eb_8091_367dda9d9ea5row41_col0,#T_947dc8d8_84df_11eb_8091_367dda9d9ea5row41_col1,#T_947dc8d8_84df_11eb_8091_367dda9d9ea5row41_col2,#T_947dc8d8_84df_11eb_8091_367dda9d9ea5row41_col3,#T_947dc8d8_84df_11eb_8091_367dda9d9ea5row41_col4,#T_947dc8d8_84df_11eb_8091_367dda9d9ea5row41_col5,#T_947dc8d8_84df_11eb_8091_367dda9d9ea5row41_col6,#T_947dc8d8_84df_11eb_8091_367dda9d9ea5row41_col7,#T_947dc8d8_84df_11eb_8091_367dda9d9ea5row42_col0,#T_947dc8d8_84df_11eb_8091_367dda9d9ea5row42_col1,#T_947dc8d8_84df_11eb_8091_367dda9d9ea5row42_col2,#T_947dc8d8_84df_11eb_8091_367dda9d9ea5row42_col3,#T_947dc8d8_84df_11eb_8091_367dda9d9ea5row42_col4,#T_947dc8d8_84df_11eb_8091_367dda9d9ea5row42_col5,#T_947dc8d8_84df_11eb_8091_367dda9d9ea5row42_col6,#T_947dc8d8_84df_11eb_8091_367dda9d9ea5row42_col7,#T_947dc8d8_84df_11eb_8091_367dda9d9ea5row46_col0,#T_947dc8d8_84df_11eb_8091_367dda9d9ea5row46_col1,#T_947dc8d8_84df_11eb_8091_367dda9d9ea5row46_col2,#T_947dc8d8_84df_11eb_8091_367dda9d9ea5row46_col3,#T_947dc8d8_84df_11eb_8091_367dda9d9ea5row46_col4,#T_947dc8d8_84df_11eb_8091_367dda9d9ea5row46_col5,#T_947dc8d8_84df_11eb_8091_367dda9d9ea5row46_col6,#T_947dc8d8_84df_11eb_8091_367dda9d9ea5row46_col7,#T_947dc8d8_84df_11eb_8091_367dda9d9ea5row62_col0,#T_947dc8d8_84df_11eb_8091_367dda9d9ea5row62_col1,#T_947dc8d8_84df_11eb_8091_367dda9d9ea5row62_col2,#T_947dc8d8_84df_11eb_8091_367dda9d9ea5row62_col3,#T_947dc8d8_84df_11eb_8091_367dda9d9ea5row62_col4,#T_947dc8d8_84df_11eb_8091_367dda9d9ea5row62_col5,#T_947dc8d8_84df_11eb_8091_367dda9d9ea5row62_col6,#T_947dc8d8_84df_11eb_8091_367dda9d9ea5row62_col7,#T_947dc8d8_84df_11eb_8091_367dda9d9ea5row63_col0,#T_947dc8d8_84df_11eb_8091_367dda9d9ea5row63_col1,#T_947dc8d8_84df_11eb_8091_367dda9d9ea5row63_col2,#T_947dc8d8_84df_11eb_8091_367dda9d9ea5row63_col3,#T_947dc8d8_84df_11eb_8091_367dda9d9ea5row63_col4,#T_947dc8d8_84df_11eb_8091_367dda9d9ea5row63_col5,#T_947dc8d8_84df_11eb_8091_367dda9d9ea5row63_col6,#T_947dc8d8_84df_11eb_8091_367dda9d9ea5row63_col7,#T_947dc8d8_84df_11eb_8091_367dda9d9ea5row64_col0,#T_947dc8d8_84df_11eb_8091_367dda9d9ea5row64_col1,#T_947dc8d8_84df_11eb_8091_367dda9d9ea5row64_col2,#T_947dc8d8_84df_11eb_8091_367dda9d9ea5row64_col3,#T_947dc8d8_84df_11eb_8091_367dda9d9ea5row64_col4,#T_947dc8d8_84df_11eb_8091_367dda9d9ea5row64_col5,#T_947dc8d8_84df_11eb_8091_367dda9d9ea5row64_col6,#T_947dc8d8_84df_11eb_8091_367dda9d9ea5row64_col7{\n",
       "            background-color:  bisque;\n",
       "        }#T_947dc8d8_84df_11eb_8091_367dda9d9ea5row1_col0,#T_947dc8d8_84df_11eb_8091_367dda9d9ea5row1_col1,#T_947dc8d8_84df_11eb_8091_367dda9d9ea5row1_col2,#T_947dc8d8_84df_11eb_8091_367dda9d9ea5row1_col3,#T_947dc8d8_84df_11eb_8091_367dda9d9ea5row1_col4,#T_947dc8d8_84df_11eb_8091_367dda9d9ea5row1_col5,#T_947dc8d8_84df_11eb_8091_367dda9d9ea5row1_col6,#T_947dc8d8_84df_11eb_8091_367dda9d9ea5row1_col7,#T_947dc8d8_84df_11eb_8091_367dda9d9ea5row4_col0,#T_947dc8d8_84df_11eb_8091_367dda9d9ea5row4_col1,#T_947dc8d8_84df_11eb_8091_367dda9d9ea5row4_col2,#T_947dc8d8_84df_11eb_8091_367dda9d9ea5row4_col3,#T_947dc8d8_84df_11eb_8091_367dda9d9ea5row4_col4,#T_947dc8d8_84df_11eb_8091_367dda9d9ea5row4_col5,#T_947dc8d8_84df_11eb_8091_367dda9d9ea5row4_col6,#T_947dc8d8_84df_11eb_8091_367dda9d9ea5row4_col7,#T_947dc8d8_84df_11eb_8091_367dda9d9ea5row5_col0,#T_947dc8d8_84df_11eb_8091_367dda9d9ea5row5_col1,#T_947dc8d8_84df_11eb_8091_367dda9d9ea5row5_col2,#T_947dc8d8_84df_11eb_8091_367dda9d9ea5row5_col3,#T_947dc8d8_84df_11eb_8091_367dda9d9ea5row5_col4,#T_947dc8d8_84df_11eb_8091_367dda9d9ea5row5_col5,#T_947dc8d8_84df_11eb_8091_367dda9d9ea5row5_col6,#T_947dc8d8_84df_11eb_8091_367dda9d9ea5row5_col7,#T_947dc8d8_84df_11eb_8091_367dda9d9ea5row10_col0,#T_947dc8d8_84df_11eb_8091_367dda9d9ea5row10_col1,#T_947dc8d8_84df_11eb_8091_367dda9d9ea5row10_col2,#T_947dc8d8_84df_11eb_8091_367dda9d9ea5row10_col3,#T_947dc8d8_84df_11eb_8091_367dda9d9ea5row10_col4,#T_947dc8d8_84df_11eb_8091_367dda9d9ea5row10_col5,#T_947dc8d8_84df_11eb_8091_367dda9d9ea5row10_col6,#T_947dc8d8_84df_11eb_8091_367dda9d9ea5row10_col7,#T_947dc8d8_84df_11eb_8091_367dda9d9ea5row11_col0,#T_947dc8d8_84df_11eb_8091_367dda9d9ea5row11_col1,#T_947dc8d8_84df_11eb_8091_367dda9d9ea5row11_col2,#T_947dc8d8_84df_11eb_8091_367dda9d9ea5row11_col3,#T_947dc8d8_84df_11eb_8091_367dda9d9ea5row11_col4,#T_947dc8d8_84df_11eb_8091_367dda9d9ea5row11_col5,#T_947dc8d8_84df_11eb_8091_367dda9d9ea5row11_col6,#T_947dc8d8_84df_11eb_8091_367dda9d9ea5row11_col7,#T_947dc8d8_84df_11eb_8091_367dda9d9ea5row13_col0,#T_947dc8d8_84df_11eb_8091_367dda9d9ea5row13_col1,#T_947dc8d8_84df_11eb_8091_367dda9d9ea5row13_col2,#T_947dc8d8_84df_11eb_8091_367dda9d9ea5row13_col3,#T_947dc8d8_84df_11eb_8091_367dda9d9ea5row13_col4,#T_947dc8d8_84df_11eb_8091_367dda9d9ea5row13_col5,#T_947dc8d8_84df_11eb_8091_367dda9d9ea5row13_col6,#T_947dc8d8_84df_11eb_8091_367dda9d9ea5row13_col7,#T_947dc8d8_84df_11eb_8091_367dda9d9ea5row14_col0,#T_947dc8d8_84df_11eb_8091_367dda9d9ea5row14_col1,#T_947dc8d8_84df_11eb_8091_367dda9d9ea5row14_col2,#T_947dc8d8_84df_11eb_8091_367dda9d9ea5row14_col3,#T_947dc8d8_84df_11eb_8091_367dda9d9ea5row14_col4,#T_947dc8d8_84df_11eb_8091_367dda9d9ea5row14_col5,#T_947dc8d8_84df_11eb_8091_367dda9d9ea5row14_col6,#T_947dc8d8_84df_11eb_8091_367dda9d9ea5row14_col7,#T_947dc8d8_84df_11eb_8091_367dda9d9ea5row17_col0,#T_947dc8d8_84df_11eb_8091_367dda9d9ea5row17_col1,#T_947dc8d8_84df_11eb_8091_367dda9d9ea5row17_col2,#T_947dc8d8_84df_11eb_8091_367dda9d9ea5row17_col3,#T_947dc8d8_84df_11eb_8091_367dda9d9ea5row17_col4,#T_947dc8d8_84df_11eb_8091_367dda9d9ea5row17_col5,#T_947dc8d8_84df_11eb_8091_367dda9d9ea5row17_col6,#T_947dc8d8_84df_11eb_8091_367dda9d9ea5row17_col7,#T_947dc8d8_84df_11eb_8091_367dda9d9ea5row18_col0,#T_947dc8d8_84df_11eb_8091_367dda9d9ea5row18_col1,#T_947dc8d8_84df_11eb_8091_367dda9d9ea5row18_col2,#T_947dc8d8_84df_11eb_8091_367dda9d9ea5row18_col3,#T_947dc8d8_84df_11eb_8091_367dda9d9ea5row18_col4,#T_947dc8d8_84df_11eb_8091_367dda9d9ea5row18_col5,#T_947dc8d8_84df_11eb_8091_367dda9d9ea5row18_col6,#T_947dc8d8_84df_11eb_8091_367dda9d9ea5row18_col7,#T_947dc8d8_84df_11eb_8091_367dda9d9ea5row20_col0,#T_947dc8d8_84df_11eb_8091_367dda9d9ea5row20_col1,#T_947dc8d8_84df_11eb_8091_367dda9d9ea5row20_col2,#T_947dc8d8_84df_11eb_8091_367dda9d9ea5row20_col3,#T_947dc8d8_84df_11eb_8091_367dda9d9ea5row20_col4,#T_947dc8d8_84df_11eb_8091_367dda9d9ea5row20_col5,#T_947dc8d8_84df_11eb_8091_367dda9d9ea5row20_col6,#T_947dc8d8_84df_11eb_8091_367dda9d9ea5row20_col7,#T_947dc8d8_84df_11eb_8091_367dda9d9ea5row21_col0,#T_947dc8d8_84df_11eb_8091_367dda9d9ea5row21_col1,#T_947dc8d8_84df_11eb_8091_367dda9d9ea5row21_col2,#T_947dc8d8_84df_11eb_8091_367dda9d9ea5row21_col3,#T_947dc8d8_84df_11eb_8091_367dda9d9ea5row21_col4,#T_947dc8d8_84df_11eb_8091_367dda9d9ea5row21_col5,#T_947dc8d8_84df_11eb_8091_367dda9d9ea5row21_col6,#T_947dc8d8_84df_11eb_8091_367dda9d9ea5row21_col7,#T_947dc8d8_84df_11eb_8091_367dda9d9ea5row22_col0,#T_947dc8d8_84df_11eb_8091_367dda9d9ea5row22_col1,#T_947dc8d8_84df_11eb_8091_367dda9d9ea5row22_col2,#T_947dc8d8_84df_11eb_8091_367dda9d9ea5row22_col3,#T_947dc8d8_84df_11eb_8091_367dda9d9ea5row22_col4,#T_947dc8d8_84df_11eb_8091_367dda9d9ea5row22_col5,#T_947dc8d8_84df_11eb_8091_367dda9d9ea5row22_col6,#T_947dc8d8_84df_11eb_8091_367dda9d9ea5row22_col7,#T_947dc8d8_84df_11eb_8091_367dda9d9ea5row23_col0,#T_947dc8d8_84df_11eb_8091_367dda9d9ea5row23_col1,#T_947dc8d8_84df_11eb_8091_367dda9d9ea5row23_col2,#T_947dc8d8_84df_11eb_8091_367dda9d9ea5row23_col3,#T_947dc8d8_84df_11eb_8091_367dda9d9ea5row23_col4,#T_947dc8d8_84df_11eb_8091_367dda9d9ea5row23_col5,#T_947dc8d8_84df_11eb_8091_367dda9d9ea5row23_col6,#T_947dc8d8_84df_11eb_8091_367dda9d9ea5row23_col7,#T_947dc8d8_84df_11eb_8091_367dda9d9ea5row24_col0,#T_947dc8d8_84df_11eb_8091_367dda9d9ea5row24_col1,#T_947dc8d8_84df_11eb_8091_367dda9d9ea5row24_col2,#T_947dc8d8_84df_11eb_8091_367dda9d9ea5row24_col3,#T_947dc8d8_84df_11eb_8091_367dda9d9ea5row24_col4,#T_947dc8d8_84df_11eb_8091_367dda9d9ea5row24_col5,#T_947dc8d8_84df_11eb_8091_367dda9d9ea5row24_col6,#T_947dc8d8_84df_11eb_8091_367dda9d9ea5row24_col7,#T_947dc8d8_84df_11eb_8091_367dda9d9ea5row26_col0,#T_947dc8d8_84df_11eb_8091_367dda9d9ea5row26_col1,#T_947dc8d8_84df_11eb_8091_367dda9d9ea5row26_col2,#T_947dc8d8_84df_11eb_8091_367dda9d9ea5row26_col3,#T_947dc8d8_84df_11eb_8091_367dda9d9ea5row26_col4,#T_947dc8d8_84df_11eb_8091_367dda9d9ea5row26_col5,#T_947dc8d8_84df_11eb_8091_367dda9d9ea5row26_col6,#T_947dc8d8_84df_11eb_8091_367dda9d9ea5row26_col7,#T_947dc8d8_84df_11eb_8091_367dda9d9ea5row28_col0,#T_947dc8d8_84df_11eb_8091_367dda9d9ea5row28_col1,#T_947dc8d8_84df_11eb_8091_367dda9d9ea5row28_col2,#T_947dc8d8_84df_11eb_8091_367dda9d9ea5row28_col3,#T_947dc8d8_84df_11eb_8091_367dda9d9ea5row28_col4,#T_947dc8d8_84df_11eb_8091_367dda9d9ea5row28_col5,#T_947dc8d8_84df_11eb_8091_367dda9d9ea5row28_col6,#T_947dc8d8_84df_11eb_8091_367dda9d9ea5row28_col7,#T_947dc8d8_84df_11eb_8091_367dda9d9ea5row30_col0,#T_947dc8d8_84df_11eb_8091_367dda9d9ea5row30_col1,#T_947dc8d8_84df_11eb_8091_367dda9d9ea5row30_col2,#T_947dc8d8_84df_11eb_8091_367dda9d9ea5row30_col3,#T_947dc8d8_84df_11eb_8091_367dda9d9ea5row30_col4,#T_947dc8d8_84df_11eb_8091_367dda9d9ea5row30_col5,#T_947dc8d8_84df_11eb_8091_367dda9d9ea5row30_col6,#T_947dc8d8_84df_11eb_8091_367dda9d9ea5row30_col7,#T_947dc8d8_84df_11eb_8091_367dda9d9ea5row33_col0,#T_947dc8d8_84df_11eb_8091_367dda9d9ea5row33_col1,#T_947dc8d8_84df_11eb_8091_367dda9d9ea5row33_col2,#T_947dc8d8_84df_11eb_8091_367dda9d9ea5row33_col3,#T_947dc8d8_84df_11eb_8091_367dda9d9ea5row33_col4,#T_947dc8d8_84df_11eb_8091_367dda9d9ea5row33_col5,#T_947dc8d8_84df_11eb_8091_367dda9d9ea5row33_col6,#T_947dc8d8_84df_11eb_8091_367dda9d9ea5row33_col7,#T_947dc8d8_84df_11eb_8091_367dda9d9ea5row34_col0,#T_947dc8d8_84df_11eb_8091_367dda9d9ea5row34_col1,#T_947dc8d8_84df_11eb_8091_367dda9d9ea5row34_col2,#T_947dc8d8_84df_11eb_8091_367dda9d9ea5row34_col3,#T_947dc8d8_84df_11eb_8091_367dda9d9ea5row34_col4,#T_947dc8d8_84df_11eb_8091_367dda9d9ea5row34_col5,#T_947dc8d8_84df_11eb_8091_367dda9d9ea5row34_col6,#T_947dc8d8_84df_11eb_8091_367dda9d9ea5row34_col7,#T_947dc8d8_84df_11eb_8091_367dda9d9ea5row36_col0,#T_947dc8d8_84df_11eb_8091_367dda9d9ea5row36_col1,#T_947dc8d8_84df_11eb_8091_367dda9d9ea5row36_col2,#T_947dc8d8_84df_11eb_8091_367dda9d9ea5row36_col3,#T_947dc8d8_84df_11eb_8091_367dda9d9ea5row36_col4,#T_947dc8d8_84df_11eb_8091_367dda9d9ea5row36_col5,#T_947dc8d8_84df_11eb_8091_367dda9d9ea5row36_col6,#T_947dc8d8_84df_11eb_8091_367dda9d9ea5row36_col7,#T_947dc8d8_84df_11eb_8091_367dda9d9ea5row40_col0,#T_947dc8d8_84df_11eb_8091_367dda9d9ea5row40_col1,#T_947dc8d8_84df_11eb_8091_367dda9d9ea5row40_col2,#T_947dc8d8_84df_11eb_8091_367dda9d9ea5row40_col3,#T_947dc8d8_84df_11eb_8091_367dda9d9ea5row40_col4,#T_947dc8d8_84df_11eb_8091_367dda9d9ea5row40_col5,#T_947dc8d8_84df_11eb_8091_367dda9d9ea5row40_col6,#T_947dc8d8_84df_11eb_8091_367dda9d9ea5row40_col7,#T_947dc8d8_84df_11eb_8091_367dda9d9ea5row43_col0,#T_947dc8d8_84df_11eb_8091_367dda9d9ea5row43_col1,#T_947dc8d8_84df_11eb_8091_367dda9d9ea5row43_col2,#T_947dc8d8_84df_11eb_8091_367dda9d9ea5row43_col3,#T_947dc8d8_84df_11eb_8091_367dda9d9ea5row43_col4,#T_947dc8d8_84df_11eb_8091_367dda9d9ea5row43_col5,#T_947dc8d8_84df_11eb_8091_367dda9d9ea5row43_col6,#T_947dc8d8_84df_11eb_8091_367dda9d9ea5row43_col7,#T_947dc8d8_84df_11eb_8091_367dda9d9ea5row44_col0,#T_947dc8d8_84df_11eb_8091_367dda9d9ea5row44_col1,#T_947dc8d8_84df_11eb_8091_367dda9d9ea5row44_col2,#T_947dc8d8_84df_11eb_8091_367dda9d9ea5row44_col3,#T_947dc8d8_84df_11eb_8091_367dda9d9ea5row44_col4,#T_947dc8d8_84df_11eb_8091_367dda9d9ea5row44_col5,#T_947dc8d8_84df_11eb_8091_367dda9d9ea5row44_col6,#T_947dc8d8_84df_11eb_8091_367dda9d9ea5row44_col7,#T_947dc8d8_84df_11eb_8091_367dda9d9ea5row45_col0,#T_947dc8d8_84df_11eb_8091_367dda9d9ea5row45_col1,#T_947dc8d8_84df_11eb_8091_367dda9d9ea5row45_col2,#T_947dc8d8_84df_11eb_8091_367dda9d9ea5row45_col3,#T_947dc8d8_84df_11eb_8091_367dda9d9ea5row45_col4,#T_947dc8d8_84df_11eb_8091_367dda9d9ea5row45_col5,#T_947dc8d8_84df_11eb_8091_367dda9d9ea5row45_col6,#T_947dc8d8_84df_11eb_8091_367dda9d9ea5row45_col7,#T_947dc8d8_84df_11eb_8091_367dda9d9ea5row47_col0,#T_947dc8d8_84df_11eb_8091_367dda9d9ea5row47_col1,#T_947dc8d8_84df_11eb_8091_367dda9d9ea5row47_col2,#T_947dc8d8_84df_11eb_8091_367dda9d9ea5row47_col3,#T_947dc8d8_84df_11eb_8091_367dda9d9ea5row47_col4,#T_947dc8d8_84df_11eb_8091_367dda9d9ea5row47_col5,#T_947dc8d8_84df_11eb_8091_367dda9d9ea5row47_col6,#T_947dc8d8_84df_11eb_8091_367dda9d9ea5row47_col7,#T_947dc8d8_84df_11eb_8091_367dda9d9ea5row48_col0,#T_947dc8d8_84df_11eb_8091_367dda9d9ea5row48_col1,#T_947dc8d8_84df_11eb_8091_367dda9d9ea5row48_col2,#T_947dc8d8_84df_11eb_8091_367dda9d9ea5row48_col3,#T_947dc8d8_84df_11eb_8091_367dda9d9ea5row48_col4,#T_947dc8d8_84df_11eb_8091_367dda9d9ea5row48_col5,#T_947dc8d8_84df_11eb_8091_367dda9d9ea5row48_col6,#T_947dc8d8_84df_11eb_8091_367dda9d9ea5row48_col7,#T_947dc8d8_84df_11eb_8091_367dda9d9ea5row49_col0,#T_947dc8d8_84df_11eb_8091_367dda9d9ea5row49_col1,#T_947dc8d8_84df_11eb_8091_367dda9d9ea5row49_col2,#T_947dc8d8_84df_11eb_8091_367dda9d9ea5row49_col3,#T_947dc8d8_84df_11eb_8091_367dda9d9ea5row49_col4,#T_947dc8d8_84df_11eb_8091_367dda9d9ea5row49_col5,#T_947dc8d8_84df_11eb_8091_367dda9d9ea5row49_col6,#T_947dc8d8_84df_11eb_8091_367dda9d9ea5row49_col7,#T_947dc8d8_84df_11eb_8091_367dda9d9ea5row50_col0,#T_947dc8d8_84df_11eb_8091_367dda9d9ea5row50_col1,#T_947dc8d8_84df_11eb_8091_367dda9d9ea5row50_col2,#T_947dc8d8_84df_11eb_8091_367dda9d9ea5row50_col3,#T_947dc8d8_84df_11eb_8091_367dda9d9ea5row50_col4,#T_947dc8d8_84df_11eb_8091_367dda9d9ea5row50_col5,#T_947dc8d8_84df_11eb_8091_367dda9d9ea5row50_col6,#T_947dc8d8_84df_11eb_8091_367dda9d9ea5row50_col7,#T_947dc8d8_84df_11eb_8091_367dda9d9ea5row51_col0,#T_947dc8d8_84df_11eb_8091_367dda9d9ea5row51_col1,#T_947dc8d8_84df_11eb_8091_367dda9d9ea5row51_col2,#T_947dc8d8_84df_11eb_8091_367dda9d9ea5row51_col3,#T_947dc8d8_84df_11eb_8091_367dda9d9ea5row51_col4,#T_947dc8d8_84df_11eb_8091_367dda9d9ea5row51_col5,#T_947dc8d8_84df_11eb_8091_367dda9d9ea5row51_col6,#T_947dc8d8_84df_11eb_8091_367dda9d9ea5row51_col7,#T_947dc8d8_84df_11eb_8091_367dda9d9ea5row52_col0,#T_947dc8d8_84df_11eb_8091_367dda9d9ea5row52_col1,#T_947dc8d8_84df_11eb_8091_367dda9d9ea5row52_col2,#T_947dc8d8_84df_11eb_8091_367dda9d9ea5row52_col3,#T_947dc8d8_84df_11eb_8091_367dda9d9ea5row52_col4,#T_947dc8d8_84df_11eb_8091_367dda9d9ea5row52_col5,#T_947dc8d8_84df_11eb_8091_367dda9d9ea5row52_col6,#T_947dc8d8_84df_11eb_8091_367dda9d9ea5row52_col7,#T_947dc8d8_84df_11eb_8091_367dda9d9ea5row53_col0,#T_947dc8d8_84df_11eb_8091_367dda9d9ea5row53_col1,#T_947dc8d8_84df_11eb_8091_367dda9d9ea5row53_col2,#T_947dc8d8_84df_11eb_8091_367dda9d9ea5row53_col3,#T_947dc8d8_84df_11eb_8091_367dda9d9ea5row53_col4,#T_947dc8d8_84df_11eb_8091_367dda9d9ea5row53_col5,#T_947dc8d8_84df_11eb_8091_367dda9d9ea5row53_col6,#T_947dc8d8_84df_11eb_8091_367dda9d9ea5row53_col7,#T_947dc8d8_84df_11eb_8091_367dda9d9ea5row54_col0,#T_947dc8d8_84df_11eb_8091_367dda9d9ea5row54_col1,#T_947dc8d8_84df_11eb_8091_367dda9d9ea5row54_col2,#T_947dc8d8_84df_11eb_8091_367dda9d9ea5row54_col3,#T_947dc8d8_84df_11eb_8091_367dda9d9ea5row54_col4,#T_947dc8d8_84df_11eb_8091_367dda9d9ea5row54_col5,#T_947dc8d8_84df_11eb_8091_367dda9d9ea5row54_col6,#T_947dc8d8_84df_11eb_8091_367dda9d9ea5row54_col7,#T_947dc8d8_84df_11eb_8091_367dda9d9ea5row55_col0,#T_947dc8d8_84df_11eb_8091_367dda9d9ea5row55_col1,#T_947dc8d8_84df_11eb_8091_367dda9d9ea5row55_col2,#T_947dc8d8_84df_11eb_8091_367dda9d9ea5row55_col3,#T_947dc8d8_84df_11eb_8091_367dda9d9ea5row55_col4,#T_947dc8d8_84df_11eb_8091_367dda9d9ea5row55_col5,#T_947dc8d8_84df_11eb_8091_367dda9d9ea5row55_col6,#T_947dc8d8_84df_11eb_8091_367dda9d9ea5row55_col7,#T_947dc8d8_84df_11eb_8091_367dda9d9ea5row56_col0,#T_947dc8d8_84df_11eb_8091_367dda9d9ea5row56_col1,#T_947dc8d8_84df_11eb_8091_367dda9d9ea5row56_col2,#T_947dc8d8_84df_11eb_8091_367dda9d9ea5row56_col3,#T_947dc8d8_84df_11eb_8091_367dda9d9ea5row56_col4,#T_947dc8d8_84df_11eb_8091_367dda9d9ea5row56_col5,#T_947dc8d8_84df_11eb_8091_367dda9d9ea5row56_col6,#T_947dc8d8_84df_11eb_8091_367dda9d9ea5row56_col7,#T_947dc8d8_84df_11eb_8091_367dda9d9ea5row57_col0,#T_947dc8d8_84df_11eb_8091_367dda9d9ea5row57_col1,#T_947dc8d8_84df_11eb_8091_367dda9d9ea5row57_col2,#T_947dc8d8_84df_11eb_8091_367dda9d9ea5row57_col3,#T_947dc8d8_84df_11eb_8091_367dda9d9ea5row57_col4,#T_947dc8d8_84df_11eb_8091_367dda9d9ea5row57_col5,#T_947dc8d8_84df_11eb_8091_367dda9d9ea5row57_col6,#T_947dc8d8_84df_11eb_8091_367dda9d9ea5row57_col7,#T_947dc8d8_84df_11eb_8091_367dda9d9ea5row58_col0,#T_947dc8d8_84df_11eb_8091_367dda9d9ea5row58_col1,#T_947dc8d8_84df_11eb_8091_367dda9d9ea5row58_col2,#T_947dc8d8_84df_11eb_8091_367dda9d9ea5row58_col3,#T_947dc8d8_84df_11eb_8091_367dda9d9ea5row58_col4,#T_947dc8d8_84df_11eb_8091_367dda9d9ea5row58_col5,#T_947dc8d8_84df_11eb_8091_367dda9d9ea5row58_col6,#T_947dc8d8_84df_11eb_8091_367dda9d9ea5row58_col7,#T_947dc8d8_84df_11eb_8091_367dda9d9ea5row59_col0,#T_947dc8d8_84df_11eb_8091_367dda9d9ea5row59_col1,#T_947dc8d8_84df_11eb_8091_367dda9d9ea5row59_col2,#T_947dc8d8_84df_11eb_8091_367dda9d9ea5row59_col3,#T_947dc8d8_84df_11eb_8091_367dda9d9ea5row59_col4,#T_947dc8d8_84df_11eb_8091_367dda9d9ea5row59_col5,#T_947dc8d8_84df_11eb_8091_367dda9d9ea5row59_col6,#T_947dc8d8_84df_11eb_8091_367dda9d9ea5row59_col7,#T_947dc8d8_84df_11eb_8091_367dda9d9ea5row60_col0,#T_947dc8d8_84df_11eb_8091_367dda9d9ea5row60_col1,#T_947dc8d8_84df_11eb_8091_367dda9d9ea5row60_col2,#T_947dc8d8_84df_11eb_8091_367dda9d9ea5row60_col3,#T_947dc8d8_84df_11eb_8091_367dda9d9ea5row60_col4,#T_947dc8d8_84df_11eb_8091_367dda9d9ea5row60_col5,#T_947dc8d8_84df_11eb_8091_367dda9d9ea5row60_col6,#T_947dc8d8_84df_11eb_8091_367dda9d9ea5row60_col7,#T_947dc8d8_84df_11eb_8091_367dda9d9ea5row61_col0,#T_947dc8d8_84df_11eb_8091_367dda9d9ea5row61_col1,#T_947dc8d8_84df_11eb_8091_367dda9d9ea5row61_col2,#T_947dc8d8_84df_11eb_8091_367dda9d9ea5row61_col3,#T_947dc8d8_84df_11eb_8091_367dda9d9ea5row61_col4,#T_947dc8d8_84df_11eb_8091_367dda9d9ea5row61_col5,#T_947dc8d8_84df_11eb_8091_367dda9d9ea5row61_col6,#T_947dc8d8_84df_11eb_8091_367dda9d9ea5row61_col7{\n",
       "            background-color:  azure;\n",
       "        }</style><table id=\"T_947dc8d8_84df_11eb_8091_367dda9d9ea5\" ><thead>    <tr>        <th class=\"blank level0\" ></th>        <th class=\"col_heading level0 col0\" >PDB_chains</th>        <th class=\"col_heading level0 col1\" >size_lig</th>        <th class=\"col_heading level0 col2\" >size_rec</th>        <th class=\"col_heading level0 col3\" >size_tot</th>        <th class=\"col_heading level0 col4\" >inter_lig</th>        <th class=\"col_heading level0 col5\" >inter_rec</th>        <th class=\"col_heading level0 col6\" >type</th>        <th class=\"col_heading level0 col7\" >description</th>    </tr></thead><tbody>\n",
       "                <tr>\n",
       "                        <th id=\"T_947dc8d8_84df_11eb_8091_367dda9d9ea5level0_row0\" class=\"row_heading level0 row0\" >0</th>\n",
       "                        <td id=\"T_947dc8d8_84df_11eb_8091_367dda9d9ea5row0_col0\" class=\"data row0 col0\" >2OOB_BA</td>\n",
       "                        <td id=\"T_947dc8d8_84df_11eb_8091_367dda9d9ea5row0_col1\" class=\"data row0 col1\" >44</td>\n",
       "                        <td id=\"T_947dc8d8_84df_11eb_8091_367dda9d9ea5row0_col2\" class=\"data row0 col2\" >72</td>\n",
       "                        <td id=\"T_947dc8d8_84df_11eb_8091_367dda9d9ea5row0_col3\" class=\"data row0 col3\" >116</td>\n",
       "                        <td id=\"T_947dc8d8_84df_11eb_8091_367dda9d9ea5row0_col4\" class=\"data row0 col4\" >11</td>\n",
       "                        <td id=\"T_947dc8d8_84df_11eb_8091_367dda9d9ea5row0_col5\" class=\"data row0 col5\" >14</td>\n",
       "                        <td id=\"T_947dc8d8_84df_11eb_8091_367dda9d9ea5row0_col6\" class=\"data row0 col6\" >t</td>\n",
       "                        <td id=\"T_947dc8d8_84df_11eb_8091_367dda9d9ea5row0_col7\" class=\"data row0 col7\" > E3 ubiquitin-protein ligase CBL-B (E.C.6.3.2.-), Ubiquitin</td>\n",
       "            </tr>\n",
       "            <tr>\n",
       "                        <th id=\"T_947dc8d8_84df_11eb_8091_367dda9d9ea5level0_row1\" class=\"row_heading level0 row1\" >1</th>\n",
       "                        <td id=\"T_947dc8d8_84df_11eb_8091_367dda9d9ea5row1_col0\" class=\"data row1 col0\" >1CDT_AB</td>\n",
       "                        <td id=\"T_947dc8d8_84df_11eb_8091_367dda9d9ea5row1_col1\" class=\"data row1 col1\" >60</td>\n",
       "                        <td id=\"T_947dc8d8_84df_11eb_8091_367dda9d9ea5row1_col2\" class=\"data row1 col2\" >60</td>\n",
       "                        <td id=\"T_947dc8d8_84df_11eb_8091_367dda9d9ea5row1_col3\" class=\"data row1 col3\" >120</td>\n",
       "                        <td id=\"T_947dc8d8_84df_11eb_8091_367dda9d9ea5row1_col4\" class=\"data row1 col4\" >14</td>\n",
       "                        <td id=\"T_947dc8d8_84df_11eb_8091_367dda9d9ea5row1_col5\" class=\"data row1 col5\" >16</td>\n",
       "                        <td id=\"T_947dc8d8_84df_11eb_8091_367dda9d9ea5row1_col6\" class=\"data row1 col6\" >p</td>\n",
       "                        <td id=\"T_947dc8d8_84df_11eb_8091_367dda9d9ea5row1_col7\" class=\"data row1 col7\" > CARDIOTOXIN V4/II FROM NAJA MOSSAMBICA MOSSAMBICA: THE REFINED CRYSTAL STRUCTURE</td>\n",
       "            </tr>\n",
       "            <tr>\n",
       "                        <th id=\"T_947dc8d8_84df_11eb_8091_367dda9d9ea5level0_row2\" class=\"row_heading level0 row2\" >2</th>\n",
       "                        <td id=\"T_947dc8d8_84df_11eb_8091_367dda9d9ea5row2_col0\" class=\"data row2 col0\" >1A15_AB</td>\n",
       "                        <td id=\"T_947dc8d8_84df_11eb_8091_367dda9d9ea5row2_col1\" class=\"data row2 col1\" >57</td>\n",
       "                        <td id=\"T_947dc8d8_84df_11eb_8091_367dda9d9ea5row2_col2\" class=\"data row2 col2\" >67</td>\n",
       "                        <td id=\"T_947dc8d8_84df_11eb_8091_367dda9d9ea5row2_col3\" class=\"data row2 col3\" >124</td>\n",
       "                        <td id=\"T_947dc8d8_84df_11eb_8091_367dda9d9ea5row2_col4\" class=\"data row2 col4\" >22</td>\n",
       "                        <td id=\"T_947dc8d8_84df_11eb_8091_367dda9d9ea5row2_col5\" class=\"data row2 col5\" >18</td>\n",
       "                        <td id=\"T_947dc8d8_84df_11eb_8091_367dda9d9ea5row2_col6\" class=\"data row2 col6\" >t</td>\n",
       "                        <td id=\"T_947dc8d8_84df_11eb_8091_367dda9d9ea5row2_col7\" class=\"data row2 col7\" > STROMAL DERIVED FACTOR-1ALPHA</td>\n",
       "            </tr>\n",
       "            <tr>\n",
       "                        <th id=\"T_947dc8d8_84df_11eb_8091_367dda9d9ea5level0_row3\" class=\"row_heading level0 row3\" >3</th>\n",
       "                        <td id=\"T_947dc8d8_84df_11eb_8091_367dda9d9ea5row3_col0\" class=\"data row3 col0\" >1GCQ_AC</td>\n",
       "                        <td id=\"T_947dc8d8_84df_11eb_8091_367dda9d9ea5row3_col1\" class=\"data row3 col1\" >69</td>\n",
       "                        <td id=\"T_947dc8d8_84df_11eb_8091_367dda9d9ea5row3_col2\" class=\"data row3 col2\" >56</td>\n",
       "                        <td id=\"T_947dc8d8_84df_11eb_8091_367dda9d9ea5row3_col3\" class=\"data row3 col3\" >125</td>\n",
       "                        <td id=\"T_947dc8d8_84df_11eb_8091_367dda9d9ea5row3_col4\" class=\"data row3 col4\" >12</td>\n",
       "                        <td id=\"T_947dc8d8_84df_11eb_8091_367dda9d9ea5row3_col5\" class=\"data row3 col5\" >11</td>\n",
       "                        <td id=\"T_947dc8d8_84df_11eb_8091_367dda9d9ea5row3_col6\" class=\"data row3 col6\" >t</td>\n",
       "                        <td id=\"T_947dc8d8_84df_11eb_8091_367dda9d9ea5row3_col7\" class=\"data row3 col7\" > VAV AND GRB2 SH3 DOMAINS</td>\n",
       "            </tr>\n",
       "            <tr>\n",
       "                        <th id=\"T_947dc8d8_84df_11eb_8091_367dda9d9ea5level0_row4\" class=\"row_heading level0 row4\" >4</th>\n",
       "                        <td id=\"T_947dc8d8_84df_11eb_8091_367dda9d9ea5row4_col0\" class=\"data row4 col0\" >1AY7_AB</td>\n",
       "                        <td id=\"T_947dc8d8_84df_11eb_8091_367dda9d9ea5row4_col1\" class=\"data row4 col1\" >89</td>\n",
       "                        <td id=\"T_947dc8d8_84df_11eb_8091_367dda9d9ea5row4_col2\" class=\"data row4 col2\" >96</td>\n",
       "                        <td id=\"T_947dc8d8_84df_11eb_8091_367dda9d9ea5row4_col3\" class=\"data row4 col3\" >185</td>\n",
       "                        <td id=\"T_947dc8d8_84df_11eb_8091_367dda9d9ea5row4_col4\" class=\"data row4 col4\" >17</td>\n",
       "                        <td id=\"T_947dc8d8_84df_11eb_8091_367dda9d9ea5row4_col5\" class=\"data row4 col5\" >19</td>\n",
       "                        <td id=\"T_947dc8d8_84df_11eb_8091_367dda9d9ea5row4_col6\" class=\"data row4 col6\" >p</td>\n",
       "                        <td id=\"T_947dc8d8_84df_11eb_8091_367dda9d9ea5row4_col7\" class=\"data row4 col7\" > GUANYL-SPECIFIC RIBONUCLEASE SA, BARSTAR</td>\n",
       "            </tr>\n",
       "            <tr>\n",
       "                        <th id=\"T_947dc8d8_84df_11eb_8091_367dda9d9ea5level0_row5\" class=\"row_heading level0 row5\" >5</th>\n",
       "                        <td id=\"T_947dc8d8_84df_11eb_8091_367dda9d9ea5row5_col0\" class=\"data row5 col0\" >1BRS_AD</td>\n",
       "                        <td id=\"T_947dc8d8_84df_11eb_8091_367dda9d9ea5row5_col1\" class=\"data row5 col1\" >87</td>\n",
       "                        <td id=\"T_947dc8d8_84df_11eb_8091_367dda9d9ea5row5_col2\" class=\"data row5 col2\" >108</td>\n",
       "                        <td id=\"T_947dc8d8_84df_11eb_8091_367dda9d9ea5row5_col3\" class=\"data row5 col3\" >195</td>\n",
       "                        <td id=\"T_947dc8d8_84df_11eb_8091_367dda9d9ea5row5_col4\" class=\"data row5 col4\" >20</td>\n",
       "                        <td id=\"T_947dc8d8_84df_11eb_8091_367dda9d9ea5row5_col5\" class=\"data row5 col5\" >23</td>\n",
       "                        <td id=\"T_947dc8d8_84df_11eb_8091_367dda9d9ea5row5_col6\" class=\"data row5 col6\" >p</td>\n",
       "                        <td id=\"T_947dc8d8_84df_11eb_8091_367dda9d9ea5row5_col7\" class=\"data row5 col7\" > PROTEIN-PROTEIN RECOGNITION: CRYSTAL STRUCTURAL ANALYSIS OF A BARNASE- BARSTAR COMPLEX AT 2.0-A RESOLUTION</td>\n",
       "            </tr>\n",
       "            <tr>\n",
       "                        <th id=\"T_947dc8d8_84df_11eb_8091_367dda9d9ea5level0_row6\" class=\"row_heading level0 row6\" >6</th>\n",
       "                        <td id=\"T_947dc8d8_84df_11eb_8091_367dda9d9ea5row6_col0\" class=\"data row6 col0\" >1FFW_AB</td>\n",
       "                        <td id=\"T_947dc8d8_84df_11eb_8091_367dda9d9ea5row6_col1\" class=\"data row6 col1\" >68</td>\n",
       "                        <td id=\"T_947dc8d8_84df_11eb_8091_367dda9d9ea5row6_col2\" class=\"data row6 col2\" >128</td>\n",
       "                        <td id=\"T_947dc8d8_84df_11eb_8091_367dda9d9ea5row6_col3\" class=\"data row6 col3\" >196</td>\n",
       "                        <td id=\"T_947dc8d8_84df_11eb_8091_367dda9d9ea5row6_col4\" class=\"data row6 col4\" >16</td>\n",
       "                        <td id=\"T_947dc8d8_84df_11eb_8091_367dda9d9ea5row6_col5\" class=\"data row6 col5\" >14</td>\n",
       "                        <td id=\"T_947dc8d8_84df_11eb_8091_367dda9d9ea5row6_col6\" class=\"data row6 col6\" >t</td>\n",
       "                        <td id=\"T_947dc8d8_84df_11eb_8091_367dda9d9ea5row6_col7\" class=\"data row6 col7\" > CHEY-BINDING DOMAIN OF CHEA IN COMPLEX WITH CHEY WITH A BOUND IMIDO DIPHOSPHATE</td>\n",
       "            </tr>\n",
       "            <tr>\n",
       "                        <th id=\"T_947dc8d8_84df_11eb_8091_367dda9d9ea5level0_row7\" class=\"row_heading level0 row7\" >7</th>\n",
       "                        <td id=\"T_947dc8d8_84df_11eb_8091_367dda9d9ea5row7_col0\" class=\"data row7 col0\" >1QA9_AB</td>\n",
       "                        <td id=\"T_947dc8d8_84df_11eb_8091_367dda9d9ea5row7_col1\" class=\"data row7 col1\" >95</td>\n",
       "                        <td id=\"T_947dc8d8_84df_11eb_8091_367dda9d9ea5row7_col2\" class=\"data row7 col2\" >102</td>\n",
       "                        <td id=\"T_947dc8d8_84df_11eb_8091_367dda9d9ea5row7_col3\" class=\"data row7 col3\" >197</td>\n",
       "                        <td id=\"T_947dc8d8_84df_11eb_8091_367dda9d9ea5row7_col4\" class=\"data row7 col4\" >18</td>\n",
       "                        <td id=\"T_947dc8d8_84df_11eb_8091_367dda9d9ea5row7_col5\" class=\"data row7 col5\" >21</td>\n",
       "                        <td id=\"T_947dc8d8_84df_11eb_8091_367dda9d9ea5row7_col6\" class=\"data row7 col6\" >t</td>\n",
       "                        <td id=\"T_947dc8d8_84df_11eb_8091_367dda9d9ea5row7_col7\" class=\"data row7 col7\" > HUMAN CD2-CD58 Complex</td>\n",
       "            </tr>\n",
       "            <tr>\n",
       "                        <th id=\"T_947dc8d8_84df_11eb_8091_367dda9d9ea5level0_row8\" class=\"row_heading level0 row8\" >8</th>\n",
       "                        <td id=\"T_947dc8d8_84df_11eb_8091_367dda9d9ea5row8_col0\" class=\"data row8 col0\" >1J2J_AB</td>\n",
       "                        <td id=\"T_947dc8d8_84df_11eb_8091_367dda9d9ea5row8_col1\" class=\"data row8 col1\" >41</td>\n",
       "                        <td id=\"T_947dc8d8_84df_11eb_8091_367dda9d9ea5row8_col2\" class=\"data row8 col2\" >165</td>\n",
       "                        <td id=\"T_947dc8d8_84df_11eb_8091_367dda9d9ea5row8_col3\" class=\"data row8 col3\" >206</td>\n",
       "                        <td id=\"T_947dc8d8_84df_11eb_8091_367dda9d9ea5row8_col4\" class=\"data row8 col4\" >16</td>\n",
       "                        <td id=\"T_947dc8d8_84df_11eb_8091_367dda9d9ea5row8_col5\" class=\"data row8 col5\" >18</td>\n",
       "                        <td id=\"T_947dc8d8_84df_11eb_8091_367dda9d9ea5row8_col6\" class=\"data row8 col6\" >t</td>\n",
       "                        <td id=\"T_947dc8d8_84df_11eb_8091_367dda9d9ea5row8_col7\" class=\"data row8 col7\" > ADP-ribosylation factor 1/ADP-ribosylation factor binding protein GGA1</td>\n",
       "            </tr>\n",
       "            <tr>\n",
       "                        <th id=\"T_947dc8d8_84df_11eb_8091_367dda9d9ea5level0_row9\" class=\"row_heading level0 row9\" >9</th>\n",
       "                        <td id=\"T_947dc8d8_84df_11eb_8091_367dda9d9ea5row9_col0\" class=\"data row9 col0\" >1S1Q_AB</td>\n",
       "                        <td id=\"T_947dc8d8_84df_11eb_8091_367dda9d9ea5row9_col1\" class=\"data row9 col1\" >71</td>\n",
       "                        <td id=\"T_947dc8d8_84df_11eb_8091_367dda9d9ea5row9_col2\" class=\"data row9 col2\" >137</td>\n",
       "                        <td id=\"T_947dc8d8_84df_11eb_8091_367dda9d9ea5row9_col3\" class=\"data row9 col3\" >208</td>\n",
       "                        <td id=\"T_947dc8d8_84df_11eb_8091_367dda9d9ea5row9_col4\" class=\"data row9 col4\" >18</td>\n",
       "                        <td id=\"T_947dc8d8_84df_11eb_8091_367dda9d9ea5row9_col5\" class=\"data row9 col5\" >19</td>\n",
       "                        <td id=\"T_947dc8d8_84df_11eb_8091_367dda9d9ea5row9_col6\" class=\"data row9 col6\" >t</td>\n",
       "                        <td id=\"T_947dc8d8_84df_11eb_8091_367dda9d9ea5row9_col7\" class=\"data row9 col7\" > Tumor susceptibility gene 101 protein/ubiquitin</td>\n",
       "            </tr>\n",
       "            <tr>\n",
       "                        <th id=\"T_947dc8d8_84df_11eb_8091_367dda9d9ea5level0_row10\" class=\"row_heading level0 row10\" >10</th>\n",
       "                        <td id=\"T_947dc8d8_84df_11eb_8091_367dda9d9ea5row10_col0\" class=\"data row10 col0\" >1EMV_AB</td>\n",
       "                        <td id=\"T_947dc8d8_84df_11eb_8091_367dda9d9ea5row10_col1\" class=\"data row10 col1\" >131</td>\n",
       "                        <td id=\"T_947dc8d8_84df_11eb_8091_367dda9d9ea5row10_col2\" class=\"data row10 col2\" >83</td>\n",
       "                        <td id=\"T_947dc8d8_84df_11eb_8091_367dda9d9ea5row10_col3\" class=\"data row10 col3\" >214</td>\n",
       "                        <td id=\"T_947dc8d8_84df_11eb_8091_367dda9d9ea5row10_col4\" class=\"data row10 col4\" >22</td>\n",
       "                        <td id=\"T_947dc8d8_84df_11eb_8091_367dda9d9ea5row10_col5\" class=\"data row10 col5\" >25</td>\n",
       "                        <td id=\"T_947dc8d8_84df_11eb_8091_367dda9d9ea5row10_col6\" class=\"data row10 col6\" >p</td>\n",
       "                        <td id=\"T_947dc8d8_84df_11eb_8091_367dda9d9ea5row10_col7\" class=\"data row10 col7\" > COLICIN E9 DNASE DOMAIN WITH ITS COGNATE IMMUNITY PROTEIN IM9</td>\n",
       "            </tr>\n",
       "            <tr>\n",
       "                        <th id=\"T_947dc8d8_84df_11eb_8091_367dda9d9ea5level0_row11\" class=\"row_heading level0 row11\" >11</th>\n",
       "                        <td id=\"T_947dc8d8_84df_11eb_8091_367dda9d9ea5row11_col0\" class=\"data row11 col0\" >3SGB_EI</td>\n",
       "                        <td id=\"T_947dc8d8_84df_11eb_8091_367dda9d9ea5row11_col1\" class=\"data row11 col1\" >50</td>\n",
       "                        <td id=\"T_947dc8d8_84df_11eb_8091_367dda9d9ea5row11_col2\" class=\"data row11 col2\" >178</td>\n",
       "                        <td id=\"T_947dc8d8_84df_11eb_8091_367dda9d9ea5row11_col3\" class=\"data row11 col3\" >228</td>\n",
       "                        <td id=\"T_947dc8d8_84df_11eb_8091_367dda9d9ea5row11_col4\" class=\"data row11 col4\" >15</td>\n",
       "                        <td id=\"T_947dc8d8_84df_11eb_8091_367dda9d9ea5row11_col5\" class=\"data row11 col5\" >26</td>\n",
       "                        <td id=\"T_947dc8d8_84df_11eb_8091_367dda9d9ea5row11_col6\" class=\"data row11 col6\" >p</td>\n",
       "                        <td id=\"T_947dc8d8_84df_11eb_8091_367dda9d9ea5row11_col7\" class=\"data row11 col7\" > STRUCTURE OF THE COMPLEX OF STREPTOMYCES GRISEUS PROTEASE B AND THE THIRD DOMAIN OF THE TURKEY OVOMUCOID INHIBITOR AT 1.8 ANGSTROMS RESOLUTION</td>\n",
       "            </tr>\n",
       "            <tr>\n",
       "                        <th id=\"T_947dc8d8_84df_11eb_8091_367dda9d9ea5level0_row12\" class=\"row_heading level0 row12\" >12</th>\n",
       "                        <td id=\"T_947dc8d8_84df_11eb_8091_367dda9d9ea5row12_col0\" class=\"data row12 col0\" >1Z0K_AB</td>\n",
       "                        <td id=\"T_947dc8d8_84df_11eb_8091_367dda9d9ea5row12_col1\" class=\"data row12 col1\" >61</td>\n",
       "                        <td id=\"T_947dc8d8_84df_11eb_8091_367dda9d9ea5row12_col2\" class=\"data row12 col2\" >169</td>\n",
       "                        <td id=\"T_947dc8d8_84df_11eb_8091_367dda9d9ea5row12_col3\" class=\"data row12 col3\" >230</td>\n",
       "                        <td id=\"T_947dc8d8_84df_11eb_8091_367dda9d9ea5row12_col4\" class=\"data row12 col4\" >24</td>\n",
       "                        <td id=\"T_947dc8d8_84df_11eb_8091_367dda9d9ea5row12_col5\" class=\"data row12 col5\" >26</td>\n",
       "                        <td id=\"T_947dc8d8_84df_11eb_8091_367dda9d9ea5row12_col6\" class=\"data row12 col6\" >t</td>\n",
       "                        <td id=\"T_947dc8d8_84df_11eb_8091_367dda9d9ea5row12_col7\" class=\"data row12 col7\" > GTP-binding protein, FYVE-finger-containing Rab5 effector protein rabenosyn-5</td>\n",
       "            </tr>\n",
       "            <tr>\n",
       "                        <th id=\"T_947dc8d8_84df_11eb_8091_367dda9d9ea5level0_row13\" class=\"row_heading level0 row13\" >13</th>\n",
       "                        <td id=\"T_947dc8d8_84df_11eb_8091_367dda9d9ea5row13_col0\" class=\"data row13 col0\" >1HCF_AB</td>\n",
       "                        <td id=\"T_947dc8d8_84df_11eb_8091_367dda9d9ea5row13_col1\" class=\"data row13 col1\" >121</td>\n",
       "                        <td id=\"T_947dc8d8_84df_11eb_8091_367dda9d9ea5row13_col2\" class=\"data row13 col2\" >121</td>\n",
       "                        <td id=\"T_947dc8d8_84df_11eb_8091_367dda9d9ea5row13_col3\" class=\"data row13 col3\" >242</td>\n",
       "                        <td id=\"T_947dc8d8_84df_11eb_8091_367dda9d9ea5row13_col4\" class=\"data row13 col4\" >51</td>\n",
       "                        <td id=\"T_947dc8d8_84df_11eb_8091_367dda9d9ea5row13_col5\" class=\"data row13 col5\" >52</td>\n",
       "                        <td id=\"T_947dc8d8_84df_11eb_8091_367dda9d9ea5row13_col6\" class=\"data row13 col6\" >p</td>\n",
       "                        <td id=\"T_947dc8d8_84df_11eb_8091_367dda9d9ea5row13_col7\" class=\"data row13 col7\" > NEUROTROPHIN-4, BDNF/NT-3 GROWTH FACTORS RECEPTOR</td>\n",
       "            </tr>\n",
       "            <tr>\n",
       "                        <th id=\"T_947dc8d8_84df_11eb_8091_367dda9d9ea5level0_row14\" class=\"row_heading level0 row14\" >14</th>\n",
       "                        <td id=\"T_947dc8d8_84df_11eb_8091_367dda9d9ea5row14_col0\" class=\"data row14 col0\" >1PPE_EI</td>\n",
       "                        <td id=\"T_947dc8d8_84df_11eb_8091_367dda9d9ea5row14_col1\" class=\"data row14 col1\" >29</td>\n",
       "                        <td id=\"T_947dc8d8_84df_11eb_8091_367dda9d9ea5row14_col2\" class=\"data row14 col2\" >220</td>\n",
       "                        <td id=\"T_947dc8d8_84df_11eb_8091_367dda9d9ea5row14_col3\" class=\"data row14 col3\" >249</td>\n",
       "                        <td id=\"T_947dc8d8_84df_11eb_8091_367dda9d9ea5row14_col4\" class=\"data row14 col4\" >18</td>\n",
       "                        <td id=\"T_947dc8d8_84df_11eb_8091_367dda9d9ea5row14_col5\" class=\"data row14 col5\" >37</td>\n",
       "                        <td id=\"T_947dc8d8_84df_11eb_8091_367dda9d9ea5row14_col6\" class=\"data row14 col6\" >p</td>\n",
       "                        <td id=\"T_947dc8d8_84df_11eb_8091_367dda9d9ea5row14_col7\" class=\"data row14 col7\" > TRYPSIN (E.C.3.4.21.4) COMPLEX WITH (CUCURBITA MAXIMA) TRYPSIN INHIBITOR (CMTI-I)</td>\n",
       "            </tr>\n",
       "            <tr>\n",
       "                        <th id=\"T_947dc8d8_84df_11eb_8091_367dda9d9ea5level0_row15\" class=\"row_heading level0 row15\" >15</th>\n",
       "                        <td id=\"T_947dc8d8_84df_11eb_8091_367dda9d9ea5row15_col0\" class=\"data row15 col0\" >1LFD_AB</td>\n",
       "                        <td id=\"T_947dc8d8_84df_11eb_8091_367dda9d9ea5row15_col1\" class=\"data row15 col1\" >167</td>\n",
       "                        <td id=\"T_947dc8d8_84df_11eb_8091_367dda9d9ea5row15_col2\" class=\"data row15 col2\" >87</td>\n",
       "                        <td id=\"T_947dc8d8_84df_11eb_8091_367dda9d9ea5row15_col3\" class=\"data row15 col3\" >254</td>\n",
       "                        <td id=\"T_947dc8d8_84df_11eb_8091_367dda9d9ea5row15_col4\" class=\"data row15 col4\" >19</td>\n",
       "                        <td id=\"T_947dc8d8_84df_11eb_8091_367dda9d9ea5row15_col5\" class=\"data row15 col5\" >15</td>\n",
       "                        <td id=\"T_947dc8d8_84df_11eb_8091_367dda9d9ea5row15_col6\" class=\"data row15 col6\" >t</td>\n",
       "                        <td id=\"T_947dc8d8_84df_11eb_8091_367dda9d9ea5row15_col7\" class=\"data row15 col7\" > CRYSTAL STRUCTURE OF THE ACTIVE RAS PROTEIN COMPLEXED WITH THE RAS- INTERACTING DOMAIN OF RALGDS</td>\n",
       "            </tr>\n",
       "            <tr>\n",
       "                        <th id=\"T_947dc8d8_84df_11eb_8091_367dda9d9ea5level0_row16\" class=\"row_heading level0 row16\" >16</th>\n",
       "                        <td id=\"T_947dc8d8_84df_11eb_8091_367dda9d9ea5row16_col0\" class=\"data row16 col0\" >1A78_AB</td>\n",
       "                        <td id=\"T_947dc8d8_84df_11eb_8091_367dda9d9ea5row16_col1\" class=\"data row16 col1\" >134</td>\n",
       "                        <td id=\"T_947dc8d8_84df_11eb_8091_367dda9d9ea5row16_col2\" class=\"data row16 col2\" >134</td>\n",
       "                        <td id=\"T_947dc8d8_84df_11eb_8091_367dda9d9ea5row16_col3\" class=\"data row16 col3\" >268</td>\n",
       "                        <td id=\"T_947dc8d8_84df_11eb_8091_367dda9d9ea5row16_col4\" class=\"data row16 col4\" >14</td>\n",
       "                        <td id=\"T_947dc8d8_84df_11eb_8091_367dda9d9ea5row16_col5\" class=\"data row16 col5\" >14</td>\n",
       "                        <td id=\"T_947dc8d8_84df_11eb_8091_367dda9d9ea5row16_col6\" class=\"data row16 col6\" >t</td>\n",
       "                        <td id=\"T_947dc8d8_84df_11eb_8091_367dda9d9ea5row16_col7\" class=\"data row16 col7\" > COMPLEX OF TOAD OVARY GALECTIN WITH THIO-DIGALACTOSE</td>\n",
       "            </tr>\n",
       "            <tr>\n",
       "                        <th id=\"T_947dc8d8_84df_11eb_8091_367dda9d9ea5level0_row17\" class=\"row_heading level0 row17\" >17</th>\n",
       "                        <td id=\"T_947dc8d8_84df_11eb_8091_367dda9d9ea5row17_col0\" class=\"data row17 col0\" >1XU1_AB</td>\n",
       "                        <td id=\"T_947dc8d8_84df_11eb_8091_367dda9d9ea5row17_col1\" class=\"data row17 col1\" >137</td>\n",
       "                        <td id=\"T_947dc8d8_84df_11eb_8091_367dda9d9ea5row17_col2\" class=\"data row17 col2\" >137</td>\n",
       "                        <td id=\"T_947dc8d8_84df_11eb_8091_367dda9d9ea5row17_col3\" class=\"data row17 col3\" >274</td>\n",
       "                        <td id=\"T_947dc8d8_84df_11eb_8091_367dda9d9ea5row17_col4\" class=\"data row17 col4\" >27</td>\n",
       "                        <td id=\"T_947dc8d8_84df_11eb_8091_367dda9d9ea5row17_col5\" class=\"data row17 col5\" >23</td>\n",
       "                        <td id=\"T_947dc8d8_84df_11eb_8091_367dda9d9ea5row17_col6\" class=\"data row17 col6\" >p</td>\n",
       "                        <td id=\"T_947dc8d8_84df_11eb_8091_367dda9d9ea5row17_col7\" class=\"data row17 col7\" > Tumor necrosis factor ligand superfamily member 13, Tumor necrosis factor receptor superfamily member 13B</td>\n",
       "            </tr>\n",
       "            <tr>\n",
       "                        <th id=\"T_947dc8d8_84df_11eb_8091_367dda9d9ea5level0_row18\" class=\"row_heading level0 row18\" >18</th>\n",
       "                        <td id=\"T_947dc8d8_84df_11eb_8091_367dda9d9ea5row18_col0\" class=\"data row18 col0\" >1FLE_IE</td>\n",
       "                        <td id=\"T_947dc8d8_84df_11eb_8091_367dda9d9ea5row18_col1\" class=\"data row18 col1\" >229</td>\n",
       "                        <td id=\"T_947dc8d8_84df_11eb_8091_367dda9d9ea5row18_col2\" class=\"data row18 col2\" >47</td>\n",
       "                        <td id=\"T_947dc8d8_84df_11eb_8091_367dda9d9ea5row18_col3\" class=\"data row18 col3\" >276</td>\n",
       "                        <td id=\"T_947dc8d8_84df_11eb_8091_367dda9d9ea5row18_col4\" class=\"data row18 col4\" >26</td>\n",
       "                        <td id=\"T_947dc8d8_84df_11eb_8091_367dda9d9ea5row18_col5\" class=\"data row18 col5\" >20</td>\n",
       "                        <td id=\"T_947dc8d8_84df_11eb_8091_367dda9d9ea5row18_col6\" class=\"data row18 col6\" >p</td>\n",
       "                        <td id=\"T_947dc8d8_84df_11eb_8091_367dda9d9ea5row18_col7\" class=\"data row18 col7\" > ELASTASE, ELAFIN</td>\n",
       "            </tr>\n",
       "            <tr>\n",
       "                        <th id=\"T_947dc8d8_84df_11eb_8091_367dda9d9ea5level0_row19\" class=\"row_heading level0 row19\" >19</th>\n",
       "                        <td id=\"T_947dc8d8_84df_11eb_8091_367dda9d9ea5row19_col0\" class=\"data row19 col0\" >2TGP_IZ</td>\n",
       "                        <td id=\"T_947dc8d8_84df_11eb_8091_367dda9d9ea5row19_col1\" class=\"data row19 col1\" >220</td>\n",
       "                        <td id=\"T_947dc8d8_84df_11eb_8091_367dda9d9ea5row19_col2\" class=\"data row19 col2\" >58</td>\n",
       "                        <td id=\"T_947dc8d8_84df_11eb_8091_367dda9d9ea5row19_col3\" class=\"data row19 col3\" >278</td>\n",
       "                        <td id=\"T_947dc8d8_84df_11eb_8091_367dda9d9ea5row19_col4\" class=\"data row19 col4\" >33</td>\n",
       "                        <td id=\"T_947dc8d8_84df_11eb_8091_367dda9d9ea5row19_col5\" class=\"data row19 col5\" >14</td>\n",
       "                        <td id=\"T_947dc8d8_84df_11eb_8091_367dda9d9ea5row19_col6\" class=\"data row19 col6\" >t</td>\n",
       "                        <td id=\"T_947dc8d8_84df_11eb_8091_367dda9d9ea5row19_col7\" class=\"data row19 col7\" > TRYPSINOGEN COMPLEX WITH PANCREATIC TRYPSIN INHIBITOR</td>\n",
       "            </tr>\n",
       "            <tr>\n",
       "                        <th id=\"T_947dc8d8_84df_11eb_8091_367dda9d9ea5level0_row20\" class=\"row_heading level0 row20\" >20</th>\n",
       "                        <td id=\"T_947dc8d8_84df_11eb_8091_367dda9d9ea5row20_col0\" class=\"data row20 col0\" >1EZU_AB</td>\n",
       "                        <td id=\"T_947dc8d8_84df_11eb_8091_367dda9d9ea5row20_col1\" class=\"data row20 col1\" >140</td>\n",
       "                        <td id=\"T_947dc8d8_84df_11eb_8091_367dda9d9ea5row20_col2\" class=\"data row20 col2\" >140</td>\n",
       "                        <td id=\"T_947dc8d8_84df_11eb_8091_367dda9d9ea5row20_col3\" class=\"data row20 col3\" >280</td>\n",
       "                        <td id=\"T_947dc8d8_84df_11eb_8091_367dda9d9ea5row20_col4\" class=\"data row20 col4\" >41</td>\n",
       "                        <td id=\"T_947dc8d8_84df_11eb_8091_367dda9d9ea5row20_col5\" class=\"data row20 col5\" >41</td>\n",
       "                        <td id=\"T_947dc8d8_84df_11eb_8091_367dda9d9ea5row20_col6\" class=\"data row20 col6\" >p</td>\n",
       "                        <td id=\"T_947dc8d8_84df_11eb_8091_367dda9d9ea5row20_col7\" class=\"data row20 col7\" > ECOTIN Y69F, D70P BOUND TO D102N TRYPSIN (E.C. 3.4.21.4)</td>\n",
       "            </tr>\n",
       "            <tr>\n",
       "                        <th id=\"T_947dc8d8_84df_11eb_8091_367dda9d9ea5level0_row21\" class=\"row_heading level0 row21\" >21</th>\n",
       "                        <td id=\"T_947dc8d8_84df_11eb_8091_367dda9d9ea5row21_col0\" class=\"data row21 col0\" >1EAW_AB</td>\n",
       "                        <td id=\"T_947dc8d8_84df_11eb_8091_367dda9d9ea5row21_col1\" class=\"data row21 col1\" >56</td>\n",
       "                        <td id=\"T_947dc8d8_84df_11eb_8091_367dda9d9ea5row21_col2\" class=\"data row21 col2\" >227</td>\n",
       "                        <td id=\"T_947dc8d8_84df_11eb_8091_367dda9d9ea5row21_col3\" class=\"data row21 col3\" >283</td>\n",
       "                        <td id=\"T_947dc8d8_84df_11eb_8091_367dda9d9ea5row21_col4\" class=\"data row21 col4\" >16</td>\n",
       "                        <td id=\"T_947dc8d8_84df_11eb_8091_367dda9d9ea5row21_col5\" class=\"data row21 col5\" >34</td>\n",
       "                        <td id=\"T_947dc8d8_84df_11eb_8091_367dda9d9ea5row21_col6\" class=\"data row21 col6\" >p</td>\n",
       "                        <td id=\"T_947dc8d8_84df_11eb_8091_367dda9d9ea5row21_col7\" class=\"data row21 col7\" > CRYSTAL STRUCTURE OF THE MTSP1 (MATRIPTASE)-BPTI (APROTININ) COMPLEX</td>\n",
       "            </tr>\n",
       "            <tr>\n",
       "                        <th id=\"T_947dc8d8_84df_11eb_8091_367dda9d9ea5level0_row22\" class=\"row_heading level0 row22\" >22</th>\n",
       "                        <td id=\"T_947dc8d8_84df_11eb_8091_367dda9d9ea5row22_col0\" class=\"data row22 col0\" >2J0T_AD</td>\n",
       "                        <td id=\"T_947dc8d8_84df_11eb_8091_367dda9d9ea5row22_col1\" class=\"data row22 col1\" >124</td>\n",
       "                        <td id=\"T_947dc8d8_84df_11eb_8091_367dda9d9ea5row22_col2\" class=\"data row22 col2\" >161</td>\n",
       "                        <td id=\"T_947dc8d8_84df_11eb_8091_367dda9d9ea5row22_col3\" class=\"data row22 col3\" >285</td>\n",
       "                        <td id=\"T_947dc8d8_84df_11eb_8091_367dda9d9ea5row22_col4\" class=\"data row22 col4\" >21</td>\n",
       "                        <td id=\"T_947dc8d8_84df_11eb_8091_367dda9d9ea5row22_col5\" class=\"data row22 col5\" >29</td>\n",
       "                        <td id=\"T_947dc8d8_84df_11eb_8091_367dda9d9ea5row22_col6\" class=\"data row22 col6\" >p</td>\n",
       "                        <td id=\"T_947dc8d8_84df_11eb_8091_367dda9d9ea5row22_col7\" class=\"data row22 col7\" > INTERSTITIAL COLLAGENASE (E.C.3.4.24.7), METALLOPROTEINASE INHIBITOR 1</td>\n",
       "            </tr>\n",
       "            <tr>\n",
       "                        <th id=\"T_947dc8d8_84df_11eb_8091_367dda9d9ea5level0_row23\" class=\"row_heading level0 row23\" >23</th>\n",
       "                        <td id=\"T_947dc8d8_84df_11eb_8091_367dda9d9ea5row23_col0\" class=\"data row23 col0\" >1PXV_AC</td>\n",
       "                        <td id=\"T_947dc8d8_84df_11eb_8091_367dda9d9ea5row23_col1\" class=\"data row23 col1\" >111</td>\n",
       "                        <td id=\"T_947dc8d8_84df_11eb_8091_367dda9d9ea5row23_col2\" class=\"data row23 col2\" >183</td>\n",
       "                        <td id=\"T_947dc8d8_84df_11eb_8091_367dda9d9ea5row23_col3\" class=\"data row23 col3\" >294</td>\n",
       "                        <td id=\"T_947dc8d8_84df_11eb_8091_367dda9d9ea5row23_col4\" class=\"data row23 col4\" >31</td>\n",
       "                        <td id=\"T_947dc8d8_84df_11eb_8091_367dda9d9ea5row23_col5\" class=\"data row23 col5\" >37</td>\n",
       "                        <td id=\"T_947dc8d8_84df_11eb_8091_367dda9d9ea5row23_col6\" class=\"data row23 col6\" >p</td>\n",
       "                        <td id=\"T_947dc8d8_84df_11eb_8091_367dda9d9ea5row23_col7\" class=\"data row23 col7\" > cysteine protease (E.C.3.4.22.-)</td>\n",
       "            </tr>\n",
       "            <tr>\n",
       "                        <th id=\"T_947dc8d8_84df_11eb_8091_367dda9d9ea5level0_row24\" class=\"row_heading level0 row24\" >24</th>\n",
       "                        <td id=\"T_947dc8d8_84df_11eb_8091_367dda9d9ea5row24_col0\" class=\"data row24 col0\" >1UUG_AB</td>\n",
       "                        <td id=\"T_947dc8d8_84df_11eb_8091_367dda9d9ea5row24_col1\" class=\"data row24 col1\" >82</td>\n",
       "                        <td id=\"T_947dc8d8_84df_11eb_8091_367dda9d9ea5row24_col2\" class=\"data row24 col2\" >222</td>\n",
       "                        <td id=\"T_947dc8d8_84df_11eb_8091_367dda9d9ea5row24_col3\" class=\"data row24 col3\" >304</td>\n",
       "                        <td id=\"T_947dc8d8_84df_11eb_8091_367dda9d9ea5row24_col4\" class=\"data row24 col4\" >34</td>\n",
       "                        <td id=\"T_947dc8d8_84df_11eb_8091_367dda9d9ea5row24_col5\" class=\"data row24 col5\" >30</td>\n",
       "                        <td id=\"T_947dc8d8_84df_11eb_8091_367dda9d9ea5row24_col6\" class=\"data row24 col6\" >p</td>\n",
       "                        <td id=\"T_947dc8d8_84df_11eb_8091_367dda9d9ea5row24_col7\" class=\"data row24 col7\" > URACIL-DNA GLYCOSYLASE (E.C.3.2.2.3)/URACIL-DNA GLYCOSYLASE INHIBITOR</td>\n",
       "            </tr>\n",
       "            <tr>\n",
       "                        <th id=\"T_947dc8d8_84df_11eb_8091_367dda9d9ea5level0_row25\" class=\"row_heading level0 row25\" >25</th>\n",
       "                        <td id=\"T_947dc8d8_84df_11eb_8091_367dda9d9ea5row25_col0\" class=\"data row25 col0\" >1AK4_AD</td>\n",
       "                        <td id=\"T_947dc8d8_84df_11eb_8091_367dda9d9ea5row25_col1\" class=\"data row25 col1\" >145</td>\n",
       "                        <td id=\"T_947dc8d8_84df_11eb_8091_367dda9d9ea5row25_col2\" class=\"data row25 col2\" >165</td>\n",
       "                        <td id=\"T_947dc8d8_84df_11eb_8091_367dda9d9ea5row25_col3\" class=\"data row25 col3\" >310</td>\n",
       "                        <td id=\"T_947dc8d8_84df_11eb_8091_367dda9d9ea5row25_col4\" class=\"data row25 col4\" >10</td>\n",
       "                        <td id=\"T_947dc8d8_84df_11eb_8091_367dda9d9ea5row25_col5\" class=\"data row25 col5\" >20</td>\n",
       "                        <td id=\"T_947dc8d8_84df_11eb_8091_367dda9d9ea5row25_col6\" class=\"data row25 col6\" >t</td>\n",
       "                        <td id=\"T_947dc8d8_84df_11eb_8091_367dda9d9ea5row25_col7\" class=\"data row25 col7\" > CYCLOPHILIN A, HIV-1 CAPSID</td>\n",
       "            </tr>\n",
       "            <tr>\n",
       "                        <th id=\"T_947dc8d8_84df_11eb_8091_367dda9d9ea5level0_row26\" class=\"row_heading level0 row26\" >26</th>\n",
       "                        <td id=\"T_947dc8d8_84df_11eb_8091_367dda9d9ea5row26_col0\" class=\"data row26 col0\" >2SNI_EI</td>\n",
       "                        <td id=\"T_947dc8d8_84df_11eb_8091_367dda9d9ea5row26_col1\" class=\"data row26 col1\" >64</td>\n",
       "                        <td id=\"T_947dc8d8_84df_11eb_8091_367dda9d9ea5row26_col2\" class=\"data row26 col2\" >275</td>\n",
       "                        <td id=\"T_947dc8d8_84df_11eb_8091_367dda9d9ea5row26_col3\" class=\"data row26 col3\" >339</td>\n",
       "                        <td id=\"T_947dc8d8_84df_11eb_8091_367dda9d9ea5row26_col4\" class=\"data row26 col4\" >18</td>\n",
       "                        <td id=\"T_947dc8d8_84df_11eb_8091_367dda9d9ea5row26_col5\" class=\"data row26 col5\" >32</td>\n",
       "                        <td id=\"T_947dc8d8_84df_11eb_8091_367dda9d9ea5row26_col6\" class=\"data row26 col6\" >p</td>\n",
       "                        <td id=\"T_947dc8d8_84df_11eb_8091_367dda9d9ea5row26_col7\" class=\"data row26 col7\" > STRUCTURAL COMPARISON OF TWO SERINE PROTEINASE-PROTEIN INHIBITOR COMPLEXES. EGLIN-C-SUBTILISIN CARLSBERG AND CI-2-SUBTILISIN NOVO</td>\n",
       "            </tr>\n",
       "            <tr>\n",
       "                        <th id=\"T_947dc8d8_84df_11eb_8091_367dda9d9ea5level0_row27\" class=\"row_heading level0 row27\" >27</th>\n",
       "                        <td id=\"T_947dc8d8_84df_11eb_8091_367dda9d9ea5row27_col0\" class=\"data row27 col0\" >2AQ3_AB</td>\n",
       "                        <td id=\"T_947dc8d8_84df_11eb_8091_367dda9d9ea5row27_col1\" class=\"data row27 col1\" >234</td>\n",
       "                        <td id=\"T_947dc8d8_84df_11eb_8091_367dda9d9ea5row27_col2\" class=\"data row27 col2\" >109</td>\n",
       "                        <td id=\"T_947dc8d8_84df_11eb_8091_367dda9d9ea5row27_col3\" class=\"data row27 col3\" >343</td>\n",
       "                        <td id=\"T_947dc8d8_84df_11eb_8091_367dda9d9ea5row27_col4\" class=\"data row27 col4\" >17</td>\n",
       "                        <td id=\"T_947dc8d8_84df_11eb_8091_367dda9d9ea5row27_col5\" class=\"data row27 col5\" >17</td>\n",
       "                        <td id=\"T_947dc8d8_84df_11eb_8091_367dda9d9ea5row27_col6\" class=\"data row27 col6\" >t</td>\n",
       "                        <td id=\"T_947dc8d8_84df_11eb_8091_367dda9d9ea5row27_col7\" class=\"data row27 col7\" > T-cell receptor beta chain V, Enterotoxin type C-3</td>\n",
       "            </tr>\n",
       "            <tr>\n",
       "                        <th id=\"T_947dc8d8_84df_11eb_8091_367dda9d9ea5level0_row28\" class=\"row_heading level0 row28\" >28</th>\n",
       "                        <td id=\"T_947dc8d8_84df_11eb_8091_367dda9d9ea5row28_col0\" class=\"data row28 col0\" >2OUL_AB</td>\n",
       "                        <td id=\"T_947dc8d8_84df_11eb_8091_367dda9d9ea5row28_col1\" class=\"data row28 col1\" >107</td>\n",
       "                        <td id=\"T_947dc8d8_84df_11eb_8091_367dda9d9ea5row28_col2\" class=\"data row28 col2\" >241</td>\n",
       "                        <td id=\"T_947dc8d8_84df_11eb_8091_367dda9d9ea5row28_col3\" class=\"data row28 col3\" >348</td>\n",
       "                        <td id=\"T_947dc8d8_84df_11eb_8091_367dda9d9ea5row28_col4\" class=\"data row28 col4\" >28</td>\n",
       "                        <td id=\"T_947dc8d8_84df_11eb_8091_367dda9d9ea5row28_col5\" class=\"data row28 col5\" >34</td>\n",
       "                        <td id=\"T_947dc8d8_84df_11eb_8091_367dda9d9ea5row28_col6\" class=\"data row28 col6\" >p</td>\n",
       "                        <td id=\"T_947dc8d8_84df_11eb_8091_367dda9d9ea5row28_col7\" class=\"data row28 col7\" > THE STRUCTURE OF CHAGASIN IN COMPLEX WITH A CYSTEINE PROTEASE CLARIFIES THE BINDING MODE AND EVOLUTION OF A NEW INHIBITOR FAMILY</td>\n",
       "            </tr>\n",
       "            <tr>\n",
       "                        <th id=\"T_947dc8d8_84df_11eb_8091_367dda9d9ea5level0_row29\" class=\"row_heading level0 row29\" >29</th>\n",
       "                        <td id=\"T_947dc8d8_84df_11eb_8091_367dda9d9ea5row29_col0\" class=\"data row29 col0\" >1MQ8_AB</td>\n",
       "                        <td id=\"T_947dc8d8_84df_11eb_8091_367dda9d9ea5row29_col1\" class=\"data row29 col1\" >177</td>\n",
       "                        <td id=\"T_947dc8d8_84df_11eb_8091_367dda9d9ea5row29_col2\" class=\"data row29 col2\" >184</td>\n",
       "                        <td id=\"T_947dc8d8_84df_11eb_8091_367dda9d9ea5row29_col3\" class=\"data row29 col3\" >361</td>\n",
       "                        <td id=\"T_947dc8d8_84df_11eb_8091_367dda9d9ea5row29_col4\" class=\"data row29 col4\" >21</td>\n",
       "                        <td id=\"T_947dc8d8_84df_11eb_8091_367dda9d9ea5row29_col5\" class=\"data row29 col5\" >19</td>\n",
       "                        <td id=\"T_947dc8d8_84df_11eb_8091_367dda9d9ea5row29_col6\" class=\"data row29 col6\" >t</td>\n",
       "                        <td id=\"T_947dc8d8_84df_11eb_8091_367dda9d9ea5row29_col7\" class=\"data row29 col7\" > CRYSTAL STRUCTURE OF ALPHAL I DOMAIN IN COMPLEX WITH ICAM-1</td>\n",
       "            </tr>\n",
       "            <tr>\n",
       "                        <th id=\"T_947dc8d8_84df_11eb_8091_367dda9d9ea5level0_row30\" class=\"row_heading level0 row30\" >30</th>\n",
       "                        <td id=\"T_947dc8d8_84df_11eb_8091_367dda9d9ea5row30_col0\" class=\"data row30 col0\" >2GOX_AB</td>\n",
       "                        <td id=\"T_947dc8d8_84df_11eb_8091_367dda9d9ea5row30_col1\" class=\"data row30 col1\" >65</td>\n",
       "                        <td id=\"T_947dc8d8_84df_11eb_8091_367dda9d9ea5row30_col2\" class=\"data row30 col2\" >297</td>\n",
       "                        <td id=\"T_947dc8d8_84df_11eb_8091_367dda9d9ea5row30_col3\" class=\"data row30 col3\" >362</td>\n",
       "                        <td id=\"T_947dc8d8_84df_11eb_8091_367dda9d9ea5row30_col4\" class=\"data row30 col4\" >23</td>\n",
       "                        <td id=\"T_947dc8d8_84df_11eb_8091_367dda9d9ea5row30_col5\" class=\"data row30 col5\" >26</td>\n",
       "                        <td id=\"T_947dc8d8_84df_11eb_8091_367dda9d9ea5row30_col6\" class=\"data row30 col6\" >p</td>\n",
       "                        <td id=\"T_947dc8d8_84df_11eb_8091_367dda9d9ea5row30_col7\" class=\"data row30 col7\" > CRYSTAL STRUCTURE OF EFB-C / C3D COMPLEX</td>\n",
       "            </tr>\n",
       "            <tr>\n",
       "                        <th id=\"T_947dc8d8_84df_11eb_8091_367dda9d9ea5level0_row31\" class=\"row_heading level0 row31\" >31</th>\n",
       "                        <td id=\"T_947dc8d8_84df_11eb_8091_367dda9d9ea5row31_col0\" class=\"data row31 col0\" >1E96_AB</td>\n",
       "                        <td id=\"T_947dc8d8_84df_11eb_8091_367dda9d9ea5row31_col1\" class=\"data row31 col1\" >185</td>\n",
       "                        <td id=\"T_947dc8d8_84df_11eb_8091_367dda9d9ea5row31_col2\" class=\"data row31 col2\" >178</td>\n",
       "                        <td id=\"T_947dc8d8_84df_11eb_8091_367dda9d9ea5row31_col3\" class=\"data row31 col3\" >363</td>\n",
       "                        <td id=\"T_947dc8d8_84df_11eb_8091_367dda9d9ea5row31_col4\" class=\"data row31 col4\" >20</td>\n",
       "                        <td id=\"T_947dc8d8_84df_11eb_8091_367dda9d9ea5row31_col5\" class=\"data row31 col5\" >18</td>\n",
       "                        <td id=\"T_947dc8d8_84df_11eb_8091_367dda9d9ea5row31_col6\" class=\"data row31 col6\" >t</td>\n",
       "                        <td id=\"T_947dc8d8_84df_11eb_8091_367dda9d9ea5row31_col7\" class=\"data row31 col7\" > STRUCTURE OF THE RAC/P67PHOX COMPLEX</td>\n",
       "            </tr>\n",
       "            <tr>\n",
       "                        <th id=\"T_947dc8d8_84df_11eb_8091_367dda9d9ea5level0_row32\" class=\"row_heading level0 row32\" >32</th>\n",
       "                        <td id=\"T_947dc8d8_84df_11eb_8091_367dda9d9ea5row32_col0\" class=\"data row32 col0\" >1I4D_AD</td>\n",
       "                        <td id=\"T_947dc8d8_84df_11eb_8091_367dda9d9ea5row32_col1\" class=\"data row32 col1\" >177</td>\n",
       "                        <td id=\"T_947dc8d8_84df_11eb_8091_367dda9d9ea5row32_col2\" class=\"data row32 col2\" >188</td>\n",
       "                        <td id=\"T_947dc8d8_84df_11eb_8091_367dda9d9ea5row32_col3\" class=\"data row32 col3\" >365</td>\n",
       "                        <td id=\"T_947dc8d8_84df_11eb_8091_367dda9d9ea5row32_col4\" class=\"data row32 col4\" >20</td>\n",
       "                        <td id=\"T_947dc8d8_84df_11eb_8091_367dda9d9ea5row32_col5\" class=\"data row32 col5\" >20</td>\n",
       "                        <td id=\"T_947dc8d8_84df_11eb_8091_367dda9d9ea5row32_col6\" class=\"data row32 col6\" >t</td>\n",
       "                        <td id=\"T_947dc8d8_84df_11eb_8091_367dda9d9ea5row32_col7\" class=\"data row32 col7\" > CRYSTAL STRUCTURE ANALYSIS OF RAC1-GDP COMPLEXED WITH ARFAPTIN (P21)</td>\n",
       "            </tr>\n",
       "            <tr>\n",
       "                        <th id=\"T_947dc8d8_84df_11eb_8091_367dda9d9ea5level0_row33\" class=\"row_heading level0 row33\" >33</th>\n",
       "                        <td id=\"T_947dc8d8_84df_11eb_8091_367dda9d9ea5row33_col0\" class=\"data row33 col0\" >2O3B_AB</td>\n",
       "                        <td id=\"T_947dc8d8_84df_11eb_8091_367dda9d9ea5row33_col1\" class=\"data row33 col1\" >135</td>\n",
       "                        <td id=\"T_947dc8d8_84df_11eb_8091_367dda9d9ea5row33_col2\" class=\"data row33 col2\" >241</td>\n",
       "                        <td id=\"T_947dc8d8_84df_11eb_8091_367dda9d9ea5row33_col3\" class=\"data row33 col3\" >376</td>\n",
       "                        <td id=\"T_947dc8d8_84df_11eb_8091_367dda9d9ea5row33_col4\" class=\"data row33 col4\" >18</td>\n",
       "                        <td id=\"T_947dc8d8_84df_11eb_8091_367dda9d9ea5row33_col5\" class=\"data row33 col5\" >28</td>\n",
       "                        <td id=\"T_947dc8d8_84df_11eb_8091_367dda9d9ea5row33_col6\" class=\"data row33 col6\" >p</td>\n",
       "                        <td id=\"T_947dc8d8_84df_11eb_8091_367dda9d9ea5row33_col7\" class=\"data row33 col7\" > Nuclease (E.C.3.1.30.-), Sugar-non-specific nuclease inhibitor</td>\n",
       "            </tr>\n",
       "            <tr>\n",
       "                        <th id=\"T_947dc8d8_84df_11eb_8091_367dda9d9ea5level0_row34\" class=\"row_heading level0 row34\" >34</th>\n",
       "                        <td id=\"T_947dc8d8_84df_11eb_8091_367dda9d9ea5row34_col0\" class=\"data row34 col0\" >1EER_AB</td>\n",
       "                        <td id=\"T_947dc8d8_84df_11eb_8091_367dda9d9ea5row34_col1\" class=\"data row34 col1\" >213</td>\n",
       "                        <td id=\"T_947dc8d8_84df_11eb_8091_367dda9d9ea5row34_col2\" class=\"data row34 col2\" >166</td>\n",
       "                        <td id=\"T_947dc8d8_84df_11eb_8091_367dda9d9ea5row34_col3\" class=\"data row34 col3\" >379</td>\n",
       "                        <td id=\"T_947dc8d8_84df_11eb_8091_367dda9d9ea5row34_col4\" class=\"data row34 col4\" >28</td>\n",
       "                        <td id=\"T_947dc8d8_84df_11eb_8091_367dda9d9ea5row34_col5\" class=\"data row34 col5\" >25</td>\n",
       "                        <td id=\"T_947dc8d8_84df_11eb_8091_367dda9d9ea5row34_col6\" class=\"data row34 col6\" >p</td>\n",
       "                        <td id=\"T_947dc8d8_84df_11eb_8091_367dda9d9ea5row34_col7\" class=\"data row34 col7\" > ERYTHROPOIETIN, ERYTHROPOIETIN RECEPTOR</td>\n",
       "            </tr>\n",
       "            <tr>\n",
       "                        <th id=\"T_947dc8d8_84df_11eb_8091_367dda9d9ea5level0_row35\" class=\"row_heading level0 row35\" >35</th>\n",
       "                        <td id=\"T_947dc8d8_84df_11eb_8091_367dda9d9ea5row35_col0\" class=\"data row35 col0\" >1AKJ_AD</td>\n",
       "                        <td id=\"T_947dc8d8_84df_11eb_8091_367dda9d9ea5row35_col1\" class=\"data row35 col1\" >114</td>\n",
       "                        <td id=\"T_947dc8d8_84df_11eb_8091_367dda9d9ea5row35_col2\" class=\"data row35 col2\" >276</td>\n",
       "                        <td id=\"T_947dc8d8_84df_11eb_8091_367dda9d9ea5row35_col3\" class=\"data row35 col3\" >390</td>\n",
       "                        <td id=\"T_947dc8d8_84df_11eb_8091_367dda9d9ea5row35_col4\" class=\"data row35 col4\" >18</td>\n",
       "                        <td id=\"T_947dc8d8_84df_11eb_8091_367dda9d9ea5row35_col5\" class=\"data row35 col5\" >21</td>\n",
       "                        <td id=\"T_947dc8d8_84df_11eb_8091_367dda9d9ea5row35_col6\" class=\"data row35 col6\" >t</td>\n",
       "                        <td id=\"T_947dc8d8_84df_11eb_8091_367dda9d9ea5row35_col7\" class=\"data row35 col7\" > MHC CLASS I HISTOCOMPATIBILITY ANTIGEN, HIV REVERSE TRANSCRIPTASE EPITOPE, T-CELL CORECEPTOR CD8</td>\n",
       "            </tr>\n",
       "            <tr>\n",
       "                        <th id=\"T_947dc8d8_84df_11eb_8091_367dda9d9ea5level0_row36\" class=\"row_heading level0 row36\" >36</th>\n",
       "                        <td id=\"T_947dc8d8_84df_11eb_8091_367dda9d9ea5row36_col0\" class=\"data row36 col0\" >1AVX_AB</td>\n",
       "                        <td id=\"T_947dc8d8_84df_11eb_8091_367dda9d9ea5row36_col1\" class=\"data row36 col1\" >172</td>\n",
       "                        <td id=\"T_947dc8d8_84df_11eb_8091_367dda9d9ea5row36_col2\" class=\"data row36 col2\" >220</td>\n",
       "                        <td id=\"T_947dc8d8_84df_11eb_8091_367dda9d9ea5row36_col3\" class=\"data row36 col3\" >392</td>\n",
       "                        <td id=\"T_947dc8d8_84df_11eb_8091_367dda9d9ea5row36_col4\" class=\"data row36 col4\" >20</td>\n",
       "                        <td id=\"T_947dc8d8_84df_11eb_8091_367dda9d9ea5row36_col5\" class=\"data row36 col5\" >32</td>\n",
       "                        <td id=\"T_947dc8d8_84df_11eb_8091_367dda9d9ea5row36_col6\" class=\"data row36 col6\" >p</td>\n",
       "                        <td id=\"T_947dc8d8_84df_11eb_8091_367dda9d9ea5row36_col7\" class=\"data row36 col7\" > TRYPSIN, TRYPSIN INHIBITOR</td>\n",
       "            </tr>\n",
       "            <tr>\n",
       "                        <th id=\"T_947dc8d8_84df_11eb_8091_367dda9d9ea5level0_row37\" class=\"row_heading level0 row37\" >37</th>\n",
       "                        <td id=\"T_947dc8d8_84df_11eb_8091_367dda9d9ea5row37_col0\" class=\"data row37 col0\" >2PCB_AB</td>\n",
       "                        <td id=\"T_947dc8d8_84df_11eb_8091_367dda9d9ea5row37_col1\" class=\"data row37 col1\" >104</td>\n",
       "                        <td id=\"T_947dc8d8_84df_11eb_8091_367dda9d9ea5row37_col2\" class=\"data row37 col2\" >294</td>\n",
       "                        <td id=\"T_947dc8d8_84df_11eb_8091_367dda9d9ea5row37_col3\" class=\"data row37 col3\" >398</td>\n",
       "                        <td id=\"T_947dc8d8_84df_11eb_8091_367dda9d9ea5row37_col4\" class=\"data row37 col4\" >15</td>\n",
       "                        <td id=\"T_947dc8d8_84df_11eb_8091_367dda9d9ea5row37_col5\" class=\"data row37 col5\" >13</td>\n",
       "                        <td id=\"T_947dc8d8_84df_11eb_8091_367dda9d9ea5row37_col6\" class=\"data row37 col6\" >t</td>\n",
       "                        <td id=\"T_947dc8d8_84df_11eb_8091_367dda9d9ea5row37_col7\" class=\"data row37 col7\" > YEAST CYTOCHROME C PEROXIDASE (CCP) COMPLEX WITH HORSE HEART CYTOCHROME C</td>\n",
       "            </tr>\n",
       "            <tr>\n",
       "                        <th id=\"T_947dc8d8_84df_11eb_8091_367dda9d9ea5level0_row38\" class=\"row_heading level0 row38\" >38</th>\n",
       "                        <td id=\"T_947dc8d8_84df_11eb_8091_367dda9d9ea5row38_col0\" class=\"data row38 col0\" >1EWY_AC</td>\n",
       "                        <td id=\"T_947dc8d8_84df_11eb_8091_367dda9d9ea5row38_col1\" class=\"data row38 col1\" >98</td>\n",
       "                        <td id=\"T_947dc8d8_84df_11eb_8091_367dda9d9ea5row38_col2\" class=\"data row38 col2\" >303</td>\n",
       "                        <td id=\"T_947dc8d8_84df_11eb_8091_367dda9d9ea5row38_col3\" class=\"data row38 col3\" >401</td>\n",
       "                        <td id=\"T_947dc8d8_84df_11eb_8091_367dda9d9ea5row38_col4\" class=\"data row38 col4\" >23</td>\n",
       "                        <td id=\"T_947dc8d8_84df_11eb_8091_367dda9d9ea5row38_col5\" class=\"data row38 col5\" >23</td>\n",
       "                        <td id=\"T_947dc8d8_84df_11eb_8091_367dda9d9ea5row38_col6\" class=\"data row38 col6\" >t</td>\n",
       "                        <td id=\"T_947dc8d8_84df_11eb_8091_367dda9d9ea5row38_col7\" class=\"data row38 col7\" > ANABAENA PCC7119 FERREDOXIN:FERREDOXIN-NADP+-REDUCTASE (E.C. 1.18.1.2) COMPLEX</td>\n",
       "            </tr>\n",
       "            <tr>\n",
       "                        <th id=\"T_947dc8d8_84df_11eb_8091_367dda9d9ea5level0_row39\" class=\"row_heading level0 row39\" >39</th>\n",
       "                        <td id=\"T_947dc8d8_84df_11eb_8091_367dda9d9ea5row39_col0\" class=\"data row39 col0\" >1US7_BA</td>\n",
       "                        <td id=\"T_947dc8d8_84df_11eb_8091_367dda9d9ea5row39_col1\" class=\"data row39 col1\" >207</td>\n",
       "                        <td id=\"T_947dc8d8_84df_11eb_8091_367dda9d9ea5row39_col2\" class=\"data row39 col2\" >194</td>\n",
       "                        <td id=\"T_947dc8d8_84df_11eb_8091_367dda9d9ea5row39_col3\" class=\"data row39 col3\" >401</td>\n",
       "                        <td id=\"T_947dc8d8_84df_11eb_8091_367dda9d9ea5row39_col4\" class=\"data row39 col4\" >21</td>\n",
       "                        <td id=\"T_947dc8d8_84df_11eb_8091_367dda9d9ea5row39_col5\" class=\"data row39 col5\" >17</td>\n",
       "                        <td id=\"T_947dc8d8_84df_11eb_8091_367dda9d9ea5row39_col6\" class=\"data row39 col6\" >t</td>\n",
       "                        <td id=\"T_947dc8d8_84df_11eb_8091_367dda9d9ea5row39_col7\" class=\"data row39 col7\" > COMPLEX OF HSP90 AND P50</td>\n",
       "            </tr>\n",
       "            <tr>\n",
       "                        <th id=\"T_947dc8d8_84df_11eb_8091_367dda9d9ea5level0_row40\" class=\"row_heading level0 row40\" >40</th>\n",
       "                        <td id=\"T_947dc8d8_84df_11eb_8091_367dda9d9ea5row40_col0\" class=\"data row40 col0\" >1JTG_AB</td>\n",
       "                        <td id=\"T_947dc8d8_84df_11eb_8091_367dda9d9ea5row40_col1\" class=\"data row40 col1\" >165</td>\n",
       "                        <td id=\"T_947dc8d8_84df_11eb_8091_367dda9d9ea5row40_col2\" class=\"data row40 col2\" >262</td>\n",
       "                        <td id=\"T_947dc8d8_84df_11eb_8091_367dda9d9ea5row40_col3\" class=\"data row40 col3\" >427</td>\n",
       "                        <td id=\"T_947dc8d8_84df_11eb_8091_367dda9d9ea5row40_col4\" class=\"data row40 col4\" >36</td>\n",
       "                        <td id=\"T_947dc8d8_84df_11eb_8091_367dda9d9ea5row40_col5\" class=\"data row40 col5\" >39</td>\n",
       "                        <td id=\"T_947dc8d8_84df_11eb_8091_367dda9d9ea5row40_col6\" class=\"data row40 col6\" >p</td>\n",
       "                        <td id=\"T_947dc8d8_84df_11eb_8091_367dda9d9ea5row40_col7\" class=\"data row40 col7\" > BETA-LACTAMASE TEM (E.C.3.5.2.6), BETA-LACTAMASE INHIBITORY PROTEIN</td>\n",
       "            </tr>\n",
       "            <tr>\n",
       "                        <th id=\"T_947dc8d8_84df_11eb_8091_367dda9d9ea5level0_row41\" class=\"row_heading level0 row41\" >41</th>\n",
       "                        <td id=\"T_947dc8d8_84df_11eb_8091_367dda9d9ea5row41_col0\" class=\"data row41 col0\" >1F6M_AC</td>\n",
       "                        <td id=\"T_947dc8d8_84df_11eb_8091_367dda9d9ea5row41_col1\" class=\"data row41 col1\" >108</td>\n",
       "                        <td id=\"T_947dc8d8_84df_11eb_8091_367dda9d9ea5row41_col2\" class=\"data row41 col2\" >320</td>\n",
       "                        <td id=\"T_947dc8d8_84df_11eb_8091_367dda9d9ea5row41_col3\" class=\"data row41 col3\" >428</td>\n",
       "                        <td id=\"T_947dc8d8_84df_11eb_8091_367dda9d9ea5row41_col4\" class=\"data row41 col4\" >29</td>\n",
       "                        <td id=\"T_947dc8d8_84df_11eb_8091_367dda9d9ea5row41_col5\" class=\"data row41 col5\" >28</td>\n",
       "                        <td id=\"T_947dc8d8_84df_11eb_8091_367dda9d9ea5row41_col6\" class=\"data row41 col6\" >t</td>\n",
       "                        <td id=\"T_947dc8d8_84df_11eb_8091_367dda9d9ea5row41_col7\" class=\"data row41 col7\" > CRYSTAL STRUCTURE OF A COMPLEX BETWEEN THIOREDOXIN REDUCTASE, THIOREDOXIN, AND THE NADP+ ANALOG, AADP+</td>\n",
       "            </tr>\n",
       "            <tr>\n",
       "                        <th id=\"T_947dc8d8_84df_11eb_8091_367dda9d9ea5level0_row42\" class=\"row_heading level0 row42\" >42</th>\n",
       "                        <td id=\"T_947dc8d8_84df_11eb_8091_367dda9d9ea5row42_col0\" class=\"data row42 col0\" >1XQS_AC</td>\n",
       "                        <td id=\"T_947dc8d8_84df_11eb_8091_367dda9d9ea5row42_col1\" class=\"data row42 col1\" >165</td>\n",
       "                        <td id=\"T_947dc8d8_84df_11eb_8091_367dda9d9ea5row42_col2\" class=\"data row42 col2\" >264</td>\n",
       "                        <td id=\"T_947dc8d8_84df_11eb_8091_367dda9d9ea5row42_col3\" class=\"data row42 col3\" >429</td>\n",
       "                        <td id=\"T_947dc8d8_84df_11eb_8091_367dda9d9ea5row42_col4\" class=\"data row42 col4\" >29</td>\n",
       "                        <td id=\"T_947dc8d8_84df_11eb_8091_367dda9d9ea5row42_col5\" class=\"data row42 col5\" >38</td>\n",
       "                        <td id=\"T_947dc8d8_84df_11eb_8091_367dda9d9ea5row42_col6\" class=\"data row42 col6\" >t</td>\n",
       "                        <td id=\"T_947dc8d8_84df_11eb_8091_367dda9d9ea5row42_col7\" class=\"data row42 col7\" > HSPBP1 protein, Heat shock 70 kDa protein 1</td>\n",
       "            </tr>\n",
       "            <tr>\n",
       "                        <th id=\"T_947dc8d8_84df_11eb_8091_367dda9d9ea5level0_row43\" class=\"row_heading level0 row43\" >43</th>\n",
       "                        <td id=\"T_947dc8d8_84df_11eb_8091_367dda9d9ea5row43_col0\" class=\"data row43 col0\" >1GPW_AB</td>\n",
       "                        <td id=\"T_947dc8d8_84df_11eb_8091_367dda9d9ea5row43_col1\" class=\"data row43 col1\" >201</td>\n",
       "                        <td id=\"T_947dc8d8_84df_11eb_8091_367dda9d9ea5row43_col2\" class=\"data row43 col2\" >253</td>\n",
       "                        <td id=\"T_947dc8d8_84df_11eb_8091_367dda9d9ea5row43_col3\" class=\"data row43 col3\" >454</td>\n",
       "                        <td id=\"T_947dc8d8_84df_11eb_8091_367dda9d9ea5row43_col4\" class=\"data row43 col4\" >28</td>\n",
       "                        <td id=\"T_947dc8d8_84df_11eb_8091_367dda9d9ea5row43_col5\" class=\"data row43 col5\" >36</td>\n",
       "                        <td id=\"T_947dc8d8_84df_11eb_8091_367dda9d9ea5row43_col6\" class=\"data row43 col6\" >p</td>\n",
       "                        <td id=\"T_947dc8d8_84df_11eb_8091_367dda9d9ea5row43_col7\" class=\"data row43 col7\" > STRUCTURAL EVIDENCE FOR AMMONIA TUNNELING ACROSS THE (BETA/ALPHA)8 BARREL OF THE IMIDAZOLE GLYCEROL PHOSPHATE SYNTHASE BIENZYME COMPLEX.</td>\n",
       "            </tr>\n",
       "            <tr>\n",
       "                        <th id=\"T_947dc8d8_84df_11eb_8091_367dda9d9ea5level0_row44\" class=\"row_heading level0 row44\" >44</th>\n",
       "                        <td id=\"T_947dc8d8_84df_11eb_8091_367dda9d9ea5row44_col0\" class=\"data row44 col0\" >1F34_AB</td>\n",
       "                        <td id=\"T_947dc8d8_84df_11eb_8091_367dda9d9ea5row44_col1\" class=\"data row44 col1\" >138</td>\n",
       "                        <td id=\"T_947dc8d8_84df_11eb_8091_367dda9d9ea5row44_col2\" class=\"data row44 col2\" >325</td>\n",
       "                        <td id=\"T_947dc8d8_84df_11eb_8091_367dda9d9ea5row44_col3\" class=\"data row44 col3\" >463</td>\n",
       "                        <td id=\"T_947dc8d8_84df_11eb_8091_367dda9d9ea5row44_col4\" class=\"data row44 col4\" >44</td>\n",
       "                        <td id=\"T_947dc8d8_84df_11eb_8091_367dda9d9ea5row44_col5\" class=\"data row44 col5\" >56</td>\n",
       "                        <td id=\"T_947dc8d8_84df_11eb_8091_367dda9d9ea5row44_col6\" class=\"data row44 col6\" >p</td>\n",
       "                        <td id=\"T_947dc8d8_84df_11eb_8091_367dda9d9ea5row44_col7\" class=\"data row44 col7\" > CRYSTAL STRUCTURE OF ASCARIS PEPSIN INHIBITOR-3 BOUND TO PORCINE PEPSIN</td>\n",
       "            </tr>\n",
       "            <tr>\n",
       "                        <th id=\"T_947dc8d8_84df_11eb_8091_367dda9d9ea5level0_row45\" class=\"row_heading level0 row45\" >45</th>\n",
       "                        <td id=\"T_947dc8d8_84df_11eb_8091_367dda9d9ea5row45_col0\" class=\"data row45 col0\" >1M10_AB</td>\n",
       "                        <td id=\"T_947dc8d8_84df_11eb_8091_367dda9d9ea5row45_col1\" class=\"data row45 col1\" >267</td>\n",
       "                        <td id=\"T_947dc8d8_84df_11eb_8091_367dda9d9ea5row45_col2\" class=\"data row45 col2\" >199</td>\n",
       "                        <td id=\"T_947dc8d8_84df_11eb_8091_367dda9d9ea5row45_col3\" class=\"data row45 col3\" >466</td>\n",
       "                        <td id=\"T_947dc8d8_84df_11eb_8091_367dda9d9ea5row45_col4\" class=\"data row45 col4\" >35</td>\n",
       "                        <td id=\"T_947dc8d8_84df_11eb_8091_367dda9d9ea5row45_col5\" class=\"data row45 col5\" >34</td>\n",
       "                        <td id=\"T_947dc8d8_84df_11eb_8091_367dda9d9ea5row45_col6\" class=\"data row45 col6\" >p</td>\n",
       "                        <td id=\"T_947dc8d8_84df_11eb_8091_367dda9d9ea5row45_col7\" class=\"data row45 col7\" > von Willebrand Factor/Platelet glycoprotein Ib alpha chain</td>\n",
       "            </tr>\n",
       "            <tr>\n",
       "                        <th id=\"T_947dc8d8_84df_11eb_8091_367dda9d9ea5level0_row46\" class=\"row_heading level0 row46\" >46</th>\n",
       "                        <td id=\"T_947dc8d8_84df_11eb_8091_367dda9d9ea5row46_col0\" class=\"data row46 col0\" >1WQ1_RG</td>\n",
       "                        <td id=\"T_947dc8d8_84df_11eb_8091_367dda9d9ea5row46_col1\" class=\"data row46 col1\" >320</td>\n",
       "                        <td id=\"T_947dc8d8_84df_11eb_8091_367dda9d9ea5row46_col2\" class=\"data row46 col2\" >166</td>\n",
       "                        <td id=\"T_947dc8d8_84df_11eb_8091_367dda9d9ea5row46_col3\" class=\"data row46 col3\" >486</td>\n",
       "                        <td id=\"T_947dc8d8_84df_11eb_8091_367dda9d9ea5row46_col4\" class=\"data row46 col4\" >46</td>\n",
       "                        <td id=\"T_947dc8d8_84df_11eb_8091_367dda9d9ea5row46_col5\" class=\"data row46 col5\" >37</td>\n",
       "                        <td id=\"T_947dc8d8_84df_11eb_8091_367dda9d9ea5row46_col6\" class=\"data row46 col6\" >t</td>\n",
       "                        <td id=\"T_947dc8d8_84df_11eb_8091_367dda9d9ea5row46_col7\" class=\"data row46 col7\" > H-RAS, P120GAP, GUANOSINE-5'-DIPHOSPHATE, ALUMINUM FLUORIDE</td>\n",
       "            </tr>\n",
       "            <tr>\n",
       "                        <th id=\"T_947dc8d8_84df_11eb_8091_367dda9d9ea5level0_row47\" class=\"row_heading level0 row47\" >47</th>\n",
       "                        <td id=\"T_947dc8d8_84df_11eb_8091_367dda9d9ea5row47_col0\" class=\"data row47 col0\" >2BTF_AP</td>\n",
       "                        <td id=\"T_947dc8d8_84df_11eb_8091_367dda9d9ea5row47_col1\" class=\"data row47 col1\" >139</td>\n",
       "                        <td id=\"T_947dc8d8_84df_11eb_8091_367dda9d9ea5row47_col2\" class=\"data row47 col2\" >373</td>\n",
       "                        <td id=\"T_947dc8d8_84df_11eb_8091_367dda9d9ea5row47_col3\" class=\"data row47 col3\" >512</td>\n",
       "                        <td id=\"T_947dc8d8_84df_11eb_8091_367dda9d9ea5row47_col4\" class=\"data row47 col4\" >31</td>\n",
       "                        <td id=\"T_947dc8d8_84df_11eb_8091_367dda9d9ea5row47_col5\" class=\"data row47 col5\" >30</td>\n",
       "                        <td id=\"T_947dc8d8_84df_11eb_8091_367dda9d9ea5row47_col6\" class=\"data row47 col6\" >p</td>\n",
       "                        <td id=\"T_947dc8d8_84df_11eb_8091_367dda9d9ea5row47_col7\" class=\"data row47 col7\" > THE STRUCTURE OF CRYSTALLINE PROFILIN-BETA-ACTIN</td>\n",
       "            </tr>\n",
       "            <tr>\n",
       "                        <th id=\"T_947dc8d8_84df_11eb_8091_367dda9d9ea5level0_row48\" class=\"row_heading level0 row48\" >48</th>\n",
       "                        <td id=\"T_947dc8d8_84df_11eb_8091_367dda9d9ea5row48_col0\" class=\"data row48 col0\" >2B42_BA</td>\n",
       "                        <td id=\"T_947dc8d8_84df_11eb_8091_367dda9d9ea5row48_col1\" class=\"data row48 col1\" >364</td>\n",
       "                        <td id=\"T_947dc8d8_84df_11eb_8091_367dda9d9ea5row48_col2\" class=\"data row48 col2\" >184</td>\n",
       "                        <td id=\"T_947dc8d8_84df_11eb_8091_367dda9d9ea5row48_col3\" class=\"data row48 col3\" >548</td>\n",
       "                        <td id=\"T_947dc8d8_84df_11eb_8091_367dda9d9ea5row48_col4\" class=\"data row48 col4\" >43</td>\n",
       "                        <td id=\"T_947dc8d8_84df_11eb_8091_367dda9d9ea5row48_col5\" class=\"data row48 col5\" >41</td>\n",
       "                        <td id=\"T_947dc8d8_84df_11eb_8091_367dda9d9ea5row48_col6\" class=\"data row48 col6\" >p</td>\n",
       "                        <td id=\"T_947dc8d8_84df_11eb_8091_367dda9d9ea5row48_col7\" class=\"data row48 col7\" > CRYSTAL STRUCTURE OF THE TRITICUM XYLANSE INHIBITOR-I IN COMPLEX WITH BACILLUS SUBTILIS XYLANASE</td>\n",
       "            </tr>\n",
       "            <tr>\n",
       "                        <th id=\"T_947dc8d8_84df_11eb_8091_367dda9d9ea5level0_row49\" class=\"row_heading level0 row49\" >49</th>\n",
       "                        <td id=\"T_947dc8d8_84df_11eb_8091_367dda9d9ea5row49_col0\" class=\"data row49 col0\" >1I2M_AB</td>\n",
       "                        <td id=\"T_947dc8d8_84df_11eb_8091_367dda9d9ea5row49_col1\" class=\"data row49 col1\" >388</td>\n",
       "                        <td id=\"T_947dc8d8_84df_11eb_8091_367dda9d9ea5row49_col2\" class=\"data row49 col2\" >165</td>\n",
       "                        <td id=\"T_947dc8d8_84df_11eb_8091_367dda9d9ea5row49_col3\" class=\"data row49 col3\" >553</td>\n",
       "                        <td id=\"T_947dc8d8_84df_11eb_8091_367dda9d9ea5row49_col4\" class=\"data row49 col4\" >48</td>\n",
       "                        <td id=\"T_947dc8d8_84df_11eb_8091_367dda9d9ea5row49_col5\" class=\"data row49 col5\" >34</td>\n",
       "                        <td id=\"T_947dc8d8_84df_11eb_8091_367dda9d9ea5row49_col6\" class=\"data row49 col6\" >p</td>\n",
       "                        <td id=\"T_947dc8d8_84df_11eb_8091_367dda9d9ea5row49_col7\" class=\"data row49 col7\" > RAN-RCC1-SO4 COMPLEX</td>\n",
       "            </tr>\n",
       "            <tr>\n",
       "                        <th id=\"T_947dc8d8_84df_11eb_8091_367dda9d9ea5level0_row50\" class=\"row_heading level0 row50\" >50</th>\n",
       "                        <td id=\"T_947dc8d8_84df_11eb_8091_367dda9d9ea5row50_col0\" class=\"data row50 col0\" >1BVN_PT</td>\n",
       "                        <td id=\"T_947dc8d8_84df_11eb_8091_367dda9d9ea5row50_col1\" class=\"data row50 col1\" >71</td>\n",
       "                        <td id=\"T_947dc8d8_84df_11eb_8091_367dda9d9ea5row50_col2\" class=\"data row50 col2\" >496</td>\n",
       "                        <td id=\"T_947dc8d8_84df_11eb_8091_367dda9d9ea5row50_col3\" class=\"data row50 col3\" >567</td>\n",
       "                        <td id=\"T_947dc8d8_84df_11eb_8091_367dda9d9ea5row50_col4\" class=\"data row50 col4\" >28</td>\n",
       "                        <td id=\"T_947dc8d8_84df_11eb_8091_367dda9d9ea5row50_col5\" class=\"data row50 col5\" >44</td>\n",
       "                        <td id=\"T_947dc8d8_84df_11eb_8091_367dda9d9ea5row50_col6\" class=\"data row50 col6\" >p</td>\n",
       "                        <td id=\"T_947dc8d8_84df_11eb_8091_367dda9d9ea5row50_col7\" class=\"data row50 col7\" > PROTEIN (ALPHA-AMYLASE) (3.2.1.1)</td>\n",
       "            </tr>\n",
       "            <tr>\n",
       "                        <th id=\"T_947dc8d8_84df_11eb_8091_367dda9d9ea5level0_row51\" class=\"row_heading level0 row51\" >51</th>\n",
       "                        <td id=\"T_947dc8d8_84df_11eb_8091_367dda9d9ea5row51_col0\" class=\"data row51 col0\" >1JIW_IP</td>\n",
       "                        <td id=\"T_947dc8d8_84df_11eb_8091_367dda9d9ea5row51_col1\" class=\"data row51 col1\" >470</td>\n",
       "                        <td id=\"T_947dc8d8_84df_11eb_8091_367dda9d9ea5row51_col2\" class=\"data row51 col2\" >105</td>\n",
       "                        <td id=\"T_947dc8d8_84df_11eb_8091_367dda9d9ea5row51_col3\" class=\"data row51 col3\" >575</td>\n",
       "                        <td id=\"T_947dc8d8_84df_11eb_8091_367dda9d9ea5row51_col4\" class=\"data row51 col4\" >37</td>\n",
       "                        <td id=\"T_947dc8d8_84df_11eb_8091_367dda9d9ea5row51_col5\" class=\"data row51 col5\" >25</td>\n",
       "                        <td id=\"T_947dc8d8_84df_11eb_8091_367dda9d9ea5row51_col6\" class=\"data row51 col6\" >p</td>\n",
       "                        <td id=\"T_947dc8d8_84df_11eb_8091_367dda9d9ea5row51_col7\" class=\"data row51 col7\" > ALKALINE METALLOPROTEINASE, PROTEINASE INHIBITOR</td>\n",
       "            </tr>\n",
       "            <tr>\n",
       "                        <th id=\"T_947dc8d8_84df_11eb_8091_367dda9d9ea5level0_row52\" class=\"row_heading level0 row52\" >52</th>\n",
       "                        <td id=\"T_947dc8d8_84df_11eb_8091_367dda9d9ea5row52_col0\" class=\"data row52 col0\" >1DFJ_EI</td>\n",
       "                        <td id=\"T_947dc8d8_84df_11eb_8091_367dda9d9ea5row52_col1\" class=\"data row52 col1\" >456</td>\n",
       "                        <td id=\"T_947dc8d8_84df_11eb_8091_367dda9d9ea5row52_col2\" class=\"data row52 col2\" >124</td>\n",
       "                        <td id=\"T_947dc8d8_84df_11eb_8091_367dda9d9ea5row52_col3\" class=\"data row52 col3\" >580</td>\n",
       "                        <td id=\"T_947dc8d8_84df_11eb_8091_367dda9d9ea5row52_col4\" class=\"data row52 col4\" >50</td>\n",
       "                        <td id=\"T_947dc8d8_84df_11eb_8091_367dda9d9ea5row52_col5\" class=\"data row52 col5\" >40</td>\n",
       "                        <td id=\"T_947dc8d8_84df_11eb_8091_367dda9d9ea5row52_col6\" class=\"data row52 col6\" >p</td>\n",
       "                        <td id=\"T_947dc8d8_84df_11eb_8091_367dda9d9ea5row52_col7\" class=\"data row52 col7\" > RIBONUCLEASE A, RIBONUCLEASE INHIBITOR</td>\n",
       "            </tr>\n",
       "            <tr>\n",
       "                        <th id=\"T_947dc8d8_84df_11eb_8091_367dda9d9ea5level0_row53\" class=\"row_heading level0 row53\" >53</th>\n",
       "                        <td id=\"T_947dc8d8_84df_11eb_8091_367dda9d9ea5row53_col0\" class=\"data row53 col0\" >1OPH_AB</td>\n",
       "                        <td id=\"T_947dc8d8_84df_11eb_8091_367dda9d9ea5row53_col1\" class=\"data row53 col1\" >220</td>\n",
       "                        <td id=\"T_947dc8d8_84df_11eb_8091_367dda9d9ea5row53_col2\" class=\"data row53 col2\" >375</td>\n",
       "                        <td id=\"T_947dc8d8_84df_11eb_8091_367dda9d9ea5row53_col3\" class=\"data row53 col3\" >595</td>\n",
       "                        <td id=\"T_947dc8d8_84df_11eb_8091_367dda9d9ea5row53_col4\" class=\"data row53 col4\" >31</td>\n",
       "                        <td id=\"T_947dc8d8_84df_11eb_8091_367dda9d9ea5row53_col5\" class=\"data row53 col5\" >13</td>\n",
       "                        <td id=\"T_947dc8d8_84df_11eb_8091_367dda9d9ea5row53_col6\" class=\"data row53 col6\" >p</td>\n",
       "                        <td id=\"T_947dc8d8_84df_11eb_8091_367dda9d9ea5row53_col7\" class=\"data row53 col7\" > NON-COVALENT COMPLEX BETWEEN ALPHA-1-PI-PITTSBURGH AND S195A</td>\n",
       "            </tr>\n",
       "            <tr>\n",
       "                        <th id=\"T_947dc8d8_84df_11eb_8091_367dda9d9ea5level0_row54\" class=\"row_heading level0 row54\" >54</th>\n",
       "                        <td id=\"T_947dc8d8_84df_11eb_8091_367dda9d9ea5row54_col0\" class=\"data row54 col0\" >1WDW_AB</td>\n",
       "                        <td id=\"T_947dc8d8_84df_11eb_8091_367dda9d9ea5row54_col1\" class=\"data row54 col1\" >385</td>\n",
       "                        <td id=\"T_947dc8d8_84df_11eb_8091_367dda9d9ea5row54_col2\" class=\"data row54 col2\" >241</td>\n",
       "                        <td id=\"T_947dc8d8_84df_11eb_8091_367dda9d9ea5row54_col3\" class=\"data row54 col3\" >626</td>\n",
       "                        <td id=\"T_947dc8d8_84df_11eb_8091_367dda9d9ea5row54_col4\" class=\"data row54 col4\" >43</td>\n",
       "                        <td id=\"T_947dc8d8_84df_11eb_8091_367dda9d9ea5row54_col5\" class=\"data row54 col5\" >43</td>\n",
       "                        <td id=\"T_947dc8d8_84df_11eb_8091_367dda9d9ea5row54_col6\" class=\"data row54 col6\" >p</td>\n",
       "                        <td id=\"T_947dc8d8_84df_11eb_8091_367dda9d9ea5row54_col7\" class=\"data row54 col7\" > Tryptophan synthase alpha chain (E.C.4.2.1.20)/Tryptophan synthase beta chain 1 (E.C.4.2.1.20)</td>\n",
       "            </tr>\n",
       "            <tr>\n",
       "                        <th id=\"T_947dc8d8_84df_11eb_8091_367dda9d9ea5level0_row55\" class=\"row_heading level0 row55\" >55</th>\n",
       "                        <td id=\"T_947dc8d8_84df_11eb_8091_367dda9d9ea5row55_col0\" class=\"data row55 col0\" >1IBR_AB</td>\n",
       "                        <td id=\"T_947dc8d8_84df_11eb_8091_367dda9d9ea5row55_col1\" class=\"data row55 col1\" >458</td>\n",
       "                        <td id=\"T_947dc8d8_84df_11eb_8091_367dda9d9ea5row55_col2\" class=\"data row55 col2\" >169</td>\n",
       "                        <td id=\"T_947dc8d8_84df_11eb_8091_367dda9d9ea5row55_col3\" class=\"data row55 col3\" >627</td>\n",
       "                        <td id=\"T_947dc8d8_84df_11eb_8091_367dda9d9ea5row55_col4\" class=\"data row55 col4\" >54</td>\n",
       "                        <td id=\"T_947dc8d8_84df_11eb_8091_367dda9d9ea5row55_col5\" class=\"data row55 col5\" >45</td>\n",
       "                        <td id=\"T_947dc8d8_84df_11eb_8091_367dda9d9ea5row55_col6\" class=\"data row55 col6\" >p</td>\n",
       "                        <td id=\"T_947dc8d8_84df_11eb_8091_367dda9d9ea5row55_col7\" class=\"data row55 col7\" > RAN; IMPORTIN BETA SUBUNIT</td>\n",
       "            </tr>\n",
       "            <tr>\n",
       "                        <th id=\"T_947dc8d8_84df_11eb_8091_367dda9d9ea5level0_row56\" class=\"row_heading level0 row56\" >56</th>\n",
       "                        <td id=\"T_947dc8d8_84df_11eb_8091_367dda9d9ea5row56_col0\" class=\"data row56 col0\" >1ATN_DA</td>\n",
       "                        <td id=\"T_947dc8d8_84df_11eb_8091_367dda9d9ea5row56_col1\" class=\"data row56 col1\" >371</td>\n",
       "                        <td id=\"T_947dc8d8_84df_11eb_8091_367dda9d9ea5row56_col2\" class=\"data row56 col2\" >258</td>\n",
       "                        <td id=\"T_947dc8d8_84df_11eb_8091_367dda9d9ea5row56_col3\" class=\"data row56 col3\" >629</td>\n",
       "                        <td id=\"T_947dc8d8_84df_11eb_8091_367dda9d9ea5row56_col4\" class=\"data row56 col4\" >22</td>\n",
       "                        <td id=\"T_947dc8d8_84df_11eb_8091_367dda9d9ea5row56_col5\" class=\"data row56 col5\" >31</td>\n",
       "                        <td id=\"T_947dc8d8_84df_11eb_8091_367dda9d9ea5row56_col6\" class=\"data row56 col6\" >p</td>\n",
       "                        <td id=\"T_947dc8d8_84df_11eb_8091_367dda9d9ea5row56_col7\" class=\"data row56 col7\" > ATOMIC STRUCTURE OF THE ACTIN:DNASE I COMPLEX</td>\n",
       "            </tr>\n",
       "            <tr>\n",
       "                        <th id=\"T_947dc8d8_84df_11eb_8091_367dda9d9ea5level0_row57\" class=\"row_heading level0 row57\" >57</th>\n",
       "                        <td id=\"T_947dc8d8_84df_11eb_8091_367dda9d9ea5row57_col0\" class=\"data row57 col0\" >2OZA_AB</td>\n",
       "                        <td id=\"T_947dc8d8_84df_11eb_8091_367dda9d9ea5row57_col1\" class=\"data row57 col1\" >340</td>\n",
       "                        <td id=\"T_947dc8d8_84df_11eb_8091_367dda9d9ea5row57_col2\" class=\"data row57 col2\" >332</td>\n",
       "                        <td id=\"T_947dc8d8_84df_11eb_8091_367dda9d9ea5row57_col3\" class=\"data row57 col3\" >672</td>\n",
       "                        <td id=\"T_947dc8d8_84df_11eb_8091_367dda9d9ea5row57_col4\" class=\"data row57 col4\" >89</td>\n",
       "                        <td id=\"T_947dc8d8_84df_11eb_8091_367dda9d9ea5row57_col5\" class=\"data row57 col5\" >83</td>\n",
       "                        <td id=\"T_947dc8d8_84df_11eb_8091_367dda9d9ea5row57_col6\" class=\"data row57 col6\" >p</td>\n",
       "                        <td id=\"T_947dc8d8_84df_11eb_8091_367dda9d9ea5row57_col7\" class=\"data row57 col7\" > MAP kinase-activated protein kinase 2 (E.C.2.7.11.1) /Mitogen-activated protein kinase 14 (E.C.2.7.11.24)</td>\n",
       "            </tr>\n",
       "            <tr>\n",
       "                        <th id=\"T_947dc8d8_84df_11eb_8091_367dda9d9ea5level0_row58\" class=\"row_heading level0 row58\" >58</th>\n",
       "                        <td id=\"T_947dc8d8_84df_11eb_8091_367dda9d9ea5row58_col0\" class=\"data row58 col0\" >2NYZ_AB</td>\n",
       "                        <td id=\"T_947dc8d8_84df_11eb_8091_367dda9d9ea5row58_col1\" class=\"data row58 col1\" >371</td>\n",
       "                        <td id=\"T_947dc8d8_84df_11eb_8091_367dda9d9ea5row58_col2\" class=\"data row58 col2\" >371</td>\n",
       "                        <td id=\"T_947dc8d8_84df_11eb_8091_367dda9d9ea5row58_col3\" class=\"data row58 col3\" >742</td>\n",
       "                        <td id=\"T_947dc8d8_84df_11eb_8091_367dda9d9ea5row58_col4\" class=\"data row58 col4\" >46</td>\n",
       "                        <td id=\"T_947dc8d8_84df_11eb_8091_367dda9d9ea5row58_col5\" class=\"data row58 col5\" >45</td>\n",
       "                        <td id=\"T_947dc8d8_84df_11eb_8091_367dda9d9ea5row58_col6\" class=\"data row58 col6\" >p</td>\n",
       "                        <td id=\"T_947dc8d8_84df_11eb_8091_367dda9d9ea5row58_col7\" class=\"data row58 col7\" > Hypothetical protein GAMMAHV.M3, Lymphotactin</td>\n",
       "            </tr>\n",
       "            <tr>\n",
       "                        <th id=\"T_947dc8d8_84df_11eb_8091_367dda9d9ea5level0_row59\" class=\"row_heading level0 row59\" >59</th>\n",
       "                        <td id=\"T_947dc8d8_84df_11eb_8091_367dda9d9ea5row59_col0\" class=\"data row59 col0\" >3BP8_AB</td>\n",
       "                        <td id=\"T_947dc8d8_84df_11eb_8091_367dda9d9ea5row59_col1\" class=\"data row59 col1\" >380</td>\n",
       "                        <td id=\"T_947dc8d8_84df_11eb_8091_367dda9d9ea5row59_col2\" class=\"data row59 col2\" >381</td>\n",
       "                        <td id=\"T_947dc8d8_84df_11eb_8091_367dda9d9ea5row59_col3\" class=\"data row59 col3\" >761</td>\n",
       "                        <td id=\"T_947dc8d8_84df_11eb_8091_367dda9d9ea5row59_col4\" class=\"data row59 col4\" >51</td>\n",
       "                        <td id=\"T_947dc8d8_84df_11eb_8091_367dda9d9ea5row59_col5\" class=\"data row59 col5\" >50</td>\n",
       "                        <td id=\"T_947dc8d8_84df_11eb_8091_367dda9d9ea5row59_col6\" class=\"data row59 col6\" >p</td>\n",
       "                        <td id=\"T_947dc8d8_84df_11eb_8091_367dda9d9ea5row59_col7\" class=\"data row59 col7\" > Putative NAGC-like transcriptional regulator, PTS system glucose-specific EIICB component</td>\n",
       "            </tr>\n",
       "            <tr>\n",
       "                        <th id=\"T_947dc8d8_84df_11eb_8091_367dda9d9ea5level0_row60\" class=\"row_heading level0 row60\" >60</th>\n",
       "                        <td id=\"T_947dc8d8_84df_11eb_8091_367dda9d9ea5row60_col0\" class=\"data row60 col0\" >1GXD_AC</td>\n",
       "                        <td id=\"T_947dc8d8_84df_11eb_8091_367dda9d9ea5row60_col1\" class=\"data row60 col1\" >192</td>\n",
       "                        <td id=\"T_947dc8d8_84df_11eb_8091_367dda9d9ea5row60_col2\" class=\"data row60 col2\" >624</td>\n",
       "                        <td id=\"T_947dc8d8_84df_11eb_8091_367dda9d9ea5row60_col3\" class=\"data row60 col3\" >816</td>\n",
       "                        <td id=\"T_947dc8d8_84df_11eb_8091_367dda9d9ea5row60_col4\" class=\"data row60 col4\" >32</td>\n",
       "                        <td id=\"T_947dc8d8_84df_11eb_8091_367dda9d9ea5row60_col5\" class=\"data row60 col5\" >40</td>\n",
       "                        <td id=\"T_947dc8d8_84df_11eb_8091_367dda9d9ea5row60_col6\" class=\"data row60 col6\" >p</td>\n",
       "                        <td id=\"T_947dc8d8_84df_11eb_8091_367dda9d9ea5row60_col7\" class=\"data row60 col7\" > PROMMP-2/TIMP-2 COMPLEX</td>\n",
       "            </tr>\n",
       "            <tr>\n",
       "                        <th id=\"T_947dc8d8_84df_11eb_8091_367dda9d9ea5level0_row61\" class=\"row_heading level0 row61\" >61</th>\n",
       "                        <td id=\"T_947dc8d8_84df_11eb_8091_367dda9d9ea5row61_col0\" class=\"data row61 col0\" >1T6B_XY</td>\n",
       "                        <td id=\"T_947dc8d8_84df_11eb_8091_367dda9d9ea5row61_col1\" class=\"data row61 col1\" >170</td>\n",
       "                        <td id=\"T_947dc8d8_84df_11eb_8091_367dda9d9ea5row61_col2\" class=\"data row61 col2\" >676</td>\n",
       "                        <td id=\"T_947dc8d8_84df_11eb_8091_367dda9d9ea5row61_col3\" class=\"data row61 col3\" >846</td>\n",
       "                        <td id=\"T_947dc8d8_84df_11eb_8091_367dda9d9ea5row61_col4\" class=\"data row61 col4\" >26</td>\n",
       "                        <td id=\"T_947dc8d8_84df_11eb_8091_367dda9d9ea5row61_col5\" class=\"data row61 col5\" >34</td>\n",
       "                        <td id=\"T_947dc8d8_84df_11eb_8091_367dda9d9ea5row61_col6\" class=\"data row61 col6\" >p</td>\n",
       "                        <td id=\"T_947dc8d8_84df_11eb_8091_367dda9d9ea5row61_col7\" class=\"data row61 col7\" > Protective Antigen/Anthrax toxin receptor 2</td>\n",
       "            </tr>\n",
       "            <tr>\n",
       "                        <th id=\"T_947dc8d8_84df_11eb_8091_367dda9d9ea5level0_row62\" class=\"row_heading level0 row62\" >62</th>\n",
       "                        <td id=\"T_947dc8d8_84df_11eb_8091_367dda9d9ea5row62_col0\" class=\"data row62 col0\" >2FJU_AB</td>\n",
       "                        <td id=\"T_947dc8d8_84df_11eb_8091_367dda9d9ea5row62_col1\" class=\"data row62 col1\" >696</td>\n",
       "                        <td id=\"T_947dc8d8_84df_11eb_8091_367dda9d9ea5row62_col2\" class=\"data row62 col2\" >177</td>\n",
       "                        <td id=\"T_947dc8d8_84df_11eb_8091_367dda9d9ea5row62_col3\" class=\"data row62 col3\" >873</td>\n",
       "                        <td id=\"T_947dc8d8_84df_11eb_8091_367dda9d9ea5row62_col4\" class=\"data row62 col4\" >19</td>\n",
       "                        <td id=\"T_947dc8d8_84df_11eb_8091_367dda9d9ea5row62_col5\" class=\"data row62 col5\" >14</td>\n",
       "                        <td id=\"T_947dc8d8_84df_11eb_8091_367dda9d9ea5row62_col6\" class=\"data row62 col6\" >t</td>\n",
       "                        <td id=\"T_947dc8d8_84df_11eb_8091_367dda9d9ea5row62_col7\" class=\"data row62 col7\" > Ras-related C3 botulinum toxin substrate 1/1- phosphatidylinositol-4,5-bisphosphate phosphodiesterase beta 2 (E.C.3.1.4.11)</td>\n",
       "            </tr>\n",
       "            <tr>\n",
       "                        <th id=\"T_947dc8d8_84df_11eb_8091_367dda9d9ea5level0_row63\" class=\"row_heading level0 row63\" >63</th>\n",
       "                        <td id=\"T_947dc8d8_84df_11eb_8091_367dda9d9ea5row63_col0\" class=\"data row63 col0\" >1HE8_AB</td>\n",
       "                        <td id=\"T_947dc8d8_84df_11eb_8091_367dda9d9ea5row63_col1\" class=\"data row63 col1\" >166</td>\n",
       "                        <td id=\"T_947dc8d8_84df_11eb_8091_367dda9d9ea5row63_col2\" class=\"data row63 col2\" >749</td>\n",
       "                        <td id=\"T_947dc8d8_84df_11eb_8091_367dda9d9ea5row63_col3\" class=\"data row63 col3\" >915</td>\n",
       "                        <td id=\"T_947dc8d8_84df_11eb_8091_367dda9d9ea5row63_col4\" class=\"data row63 col4\" >20</td>\n",
       "                        <td id=\"T_947dc8d8_84df_11eb_8091_367dda9d9ea5row63_col5\" class=\"data row63 col5\" >22</td>\n",
       "                        <td id=\"T_947dc8d8_84df_11eb_8091_367dda9d9ea5row63_col6\" class=\"data row63 col6\" >t</td>\n",
       "                        <td id=\"T_947dc8d8_84df_11eb_8091_367dda9d9ea5row63_col7\" class=\"data row63 col7\" > RAS G12V - PI 3-KINASE GAMMA COMPLEX</td>\n",
       "            </tr>\n",
       "            <tr>\n",
       "                        <th id=\"T_947dc8d8_84df_11eb_8091_367dda9d9ea5level0_row64\" class=\"row_heading level0 row64\" >64</th>\n",
       "                        <td id=\"T_947dc8d8_84df_11eb_8091_367dda9d9ea5row64_col0\" class=\"data row64 col0\" >1ZM4_AB</td>\n",
       "                        <td id=\"T_947dc8d8_84df_11eb_8091_367dda9d9ea5row64_col1\" class=\"data row64 col1\" >207</td>\n",
       "                        <td id=\"T_947dc8d8_84df_11eb_8091_367dda9d9ea5row64_col2\" class=\"data row64 col2\" >822</td>\n",
       "                        <td id=\"T_947dc8d8_84df_11eb_8091_367dda9d9ea5row64_col3\" class=\"data row64 col3\" >1029</td>\n",
       "                        <td id=\"T_947dc8d8_84df_11eb_8091_367dda9d9ea5row64_col4\" class=\"data row64 col4\" >23</td>\n",
       "                        <td id=\"T_947dc8d8_84df_11eb_8091_367dda9d9ea5row64_col5\" class=\"data row64 col5\" >30</td>\n",
       "                        <td id=\"T_947dc8d8_84df_11eb_8091_367dda9d9ea5row64_col6\" class=\"data row64 col6\" >t</td>\n",
       "                        <td id=\"T_947dc8d8_84df_11eb_8091_367dda9d9ea5row64_col7\" class=\"data row64 col7\" > Elongation factor 2, exotoxin A (E.C.2.4.2.36)</td>\n",
       "            </tr>\n",
       "    </tbody></table>"
      ],
      "text/plain": [
       "<pandas.io.formats.style.Styler at 0x7f9bf9cf9fa0>"
      ]
     },
     "metadata": {},
     "output_type": "display_data"
    }
   ],
   "source": [
    "def _color_by_type(s):\n",
    "    return ['background-color: '+x for x in ['bisque' if s.type == \"t\" else 'azure' for val in s]]\n",
    "\n",
    "with pd.option_context('display.max_rows', None):\n",
    "    display(full_list.style.apply(_color_by_type, axis=1))"
   ]
  },
  {
   "cell_type": "code",
   "execution_count": 66,
   "metadata": {
    "ExecuteTime": {
     "end_time": "2021-03-10T12:18:09.003933Z",
     "start_time": "2021-03-10T12:18:08.996282Z"
    }
   },
   "outputs": [
    {
     "data": {
      "text/plain": [
       "['1A78_AB',\n",
       " '1AK4_AD',\n",
       " '1AKJ_AD',\n",
       " '1CDT_AB',\n",
       " '1EAW_AB',\n",
       " '1FFW_AB',\n",
       " '1I2M_AB',\n",
       " '1JTG_AB',\n",
       " '1M10_AB',\n",
       " '1WDW_AB',\n",
       " '1ZM4_AB',\n",
       " '2GOX_AB',\n",
       " '3BP8_AB',\n",
       " '3SGB_EI']"
      ]
     },
     "execution_count": 66,
     "metadata": {},
     "output_type": "execute_result"
    }
   ],
   "source": [
    "sorted(list(full_list.iloc[1::5,:].loc[:,\"PDB_chains\"].values))"
   ]
  },
  {
   "cell_type": "code",
   "execution_count": 760,
   "metadata": {
    "ExecuteTime": {
     "end_time": "2021-03-14T16:09:13.160071Z",
     "start_time": "2021-03-14T16:09:13.097767Z"
    }
   },
   "outputs": [
    {
     "data": {
      "text/plain": [
       "101182"
      ]
     },
     "execution_count": 760,
     "metadata": {},
     "output_type": "execute_result"
    }
   ],
   "source": [
    "open(\"../analysis/{}.html\".format(treated_family), 'w').write(full_list.style.apply(_color_by_type, axis=1).render())"
   ]
  },
  {
   "cell_type": "code",
   "execution_count": 22,
   "metadata": {
    "ExecuteTime": {
     "end_time": "2021-02-22T14:14:15.146429Z",
     "start_time": "2021-02-22T14:14:13.339139Z"
    }
   },
   "outputs": [],
   "source": [
    "## LOOK FOR NON-CANONICAL RESIDUES\n",
    "canonical = [\"VAL\",\"ILE\",\"LEU\",\"MET\",\"TYR\",\"PHE\",\"TRP\",\n",
    "             \"ARG\",\"LYS\",\"GLU\",\"ASP\",\n",
    "             \"SER\",\"THR\",\"ASN\",\"GLN\",\n",
    "             \"HIS\",\n",
    "             \"ALA\",\"CYS\",\"GLY\",\"PRO\"]\n",
    "\n",
    "def scream_non_canonical(pdblig):\n",
    "    for chain in pdblig['chains']:\n",
    "        for resi in pdblig[chain]['reslist']:\n",
    "            if pdblig[chain][resi]['resname'] not in canonical:\n",
    "                print(\"ARGH {} not canonical\".format(pdblig[chain][resi]['resname']))\n",
    "\n",
    "for i, row in full_list.iterrows():\n",
    "    pdbname = row.type + row.PDB_chains\n",
    "    rootname = \"../structures/{}/monomers/{}\".format(treated_family, pdbname)\n",
    "    ligname = rootname+\"_l_inter.pdb\"\n",
    "    recname = rootname+\"_r_inter.pdb\"\n",
    "    scream_non_canonical(StructureTools.PDB_parser(ligname))\n",
    "    scream_non_canonical(StructureTools.PDB_parser(recname))\n",
    "    "
   ]
  },
  {
   "cell_type": "code",
   "execution_count": null,
   "metadata": {},
   "outputs": [],
   "source": [
    "## LOOK FOR EXTRA ATOMS IN RESIDUES\n",
    "## XXX TODO"
   ]
  },
  {
   "cell_type": "code",
   "execution_count": 23,
   "metadata": {
    "ExecuteTime": {
     "end_time": "2021-02-22T14:14:15.604269Z",
     "start_time": "2021-02-22T14:14:15.597101Z"
    }
   },
   "outputs": [],
   "source": [
    "def show_complex(row):\n",
    "    pdbname = row.type + row.PDB_chains\n",
    "    rootname = \"../structures/{}/monomers/{}\".format(treated_family, pdbname)\n",
    "    ligname = rootname+\"_l_inter.pdb\"\n",
    "    recname = rootname+\"_r_inter.pdb\"\n",
    "    v = nv.NGLWidget()\n",
    "    v.add_component(ligname)\n",
    "    v.add_component(recname)\n",
    "    v.component_0.add_representation(\"ball+stick\", \" \".join(dico_inter_surf[pdbname][\"lig\"][\"inter\"]))\n",
    "    v.component_1.add_representation(\"ball+stick\", \" \".join(dico_inter_surf[pdbname][\"rec\"][\"inter\"]))\n",
    "    return(v)\n",
    "def show_complex_helper(i):\n",
    "    v = show_complex(full_list.iloc[i, :])\n",
    "    display(full_list.iloc[i, :].PDB_chains + \":\" + full_list.iloc[i, :].description)\n",
    "    display(v)"
   ]
  },
  {
   "cell_type": "code",
   "execution_count": 24,
   "metadata": {
    "ExecuteTime": {
     "end_time": "2021-02-22T14:14:16.601754Z",
     "start_time": "2021-02-22T14:14:16.541243Z"
    }
   },
   "outputs": [
    {
     "data": {
      "text/plain": [
       "'3SGB_EI: STRUCTURE OF THE COMPLEX OF STREPTOMYCES GRISEUS PROTEASE B AND THE THIRD DOMAIN OF THE TURKEY OVOMUCOID INHIBITOR AT 1.8 ANGSTROMS RESOLUTION'"
      ]
     },
     "metadata": {},
     "output_type": "display_data"
    },
    {
     "data": {
      "application/vnd.jupyter.widget-view+json": {
       "model_id": "ffe6c4777425416782fd24e64b098ab3",
       "version_major": 2,
       "version_minor": 0
      },
      "text/plain": [
       "NGLWidget()"
      ]
     },
     "metadata": {},
     "output_type": "display_data"
    }
   ],
   "source": [
    "show_complex_helper(11)"
   ]
  },
  {
   "cell_type": "markdown",
   "metadata": {
    "heading_collapsed": true
   },
   "source": [
    "# SASA max plot"
   ]
  },
  {
   "cell_type": "code",
   "execution_count": 47,
   "metadata": {
    "ExecuteTime": {
     "end_time": "2021-03-10T12:12:48.338374Z",
     "start_time": "2021-03-10T12:12:48.334714Z"
    },
    "hidden": true
   },
   "outputs": [],
   "source": [
    "from io import StringIO"
   ]
  },
  {
   "cell_type": "code",
   "execution_count": 12,
   "metadata": {
    "ExecuteTime": {
     "end_time": "2021-03-02T11:15:04.556522Z",
     "start_time": "2021-03-02T11:15:04.544492Z"
    },
    "hidden": true
   },
   "outputs": [],
   "source": [
    "sasa_max = pd.read_csv(StringIO(\"\"\"Alanine\t129.0\t121.0\t113.0\t118.1\n",
    "Arginine\t274.0\t265.0\t241.0\t256.0\n",
    "Asparagine\t195.0\t187.0\t158.0\t165.5\n",
    "Aspartate\t193.0\t187.0\t151.0\t158.7\n",
    "Cysteine\t167.0\t148.0\t140.0\t146.1\n",
    "Glutamate\t223.0\t214.0\t183.0\t186.2\n",
    "Glutamine\t225.0\t214.0\t189.0\t193.2\n",
    "Glycine\t104.0\t97.0\t85.0\t88.1\n",
    "Histidine\t224.0\t216.0\t194.0\t202.5\n",
    "Isoleucine\t197.0\t195.0\t182.0\t181.0\n",
    "Leucine\t201.0\t191.0\t180.0\t193.1\n",
    "Lysine\t236.0\t230.0\t211.0\t225.8\n",
    "Methionine\t224.0\t203.0\t204.0\t203.4\n",
    "Phenylalanine\t240.0\t228.0\t218.0\t222.8\n",
    "Proline\t159.0\t154.0\t143.0\t146.8\n",
    "Serine\t155.0\t143.0\t122.0\t129.8\n",
    "Threonine\t172.0\t163.0\t146.0\t152.5\n",
    "Tryptophan\t285.0\t264.0\t259.0\t266.3\n",
    "Tyrosine\t263.0\t255.0\t229.0\t236.8\n",
    "Valine\t174.0\t165.0\t160.0\t164.5\"\"\"), sep='\\t', header=None, index_col=0,\n",
    "                       names=\"Residue,Tian_theo,Tian_emp,Miller,Rose\".split(\",\"))\n"
   ]
  },
  {
   "cell_type": "code",
   "execution_count": 19,
   "metadata": {
    "ExecuteTime": {
     "end_time": "2021-03-02T11:17:53.035961Z",
     "start_time": "2021-03-02T11:17:53.025314Z"
    },
    "hidden": true
   },
   "outputs": [],
   "source": [
    "sasa_max.loc[:, \"Residue_code\"] = sasa_max.index.str[0]\n",
    "sasa_max.loc[\"Arginine\", \"Residue_code\"] = \"R\"\n",
    "sasa_max.loc[\"Asparagine\", \"Residue_code\"] = \"N\"\n",
    "sasa_max.loc[\"Aspartate\", \"Residue_code\"] = \"D\"\n",
    "sasa_max.loc[\"Glutamate\", \"Residue_code\"] = \"E\"\n",
    "sasa_max.loc[\"Glutamine\", \"Residue_code\"] = \"Q\"\n",
    "sasa_max.loc[\"Lysine\", \"Residue_code\"] = \"K\"\n",
    "sasa_max.loc[\"Phenylalanine\", \"Residue_code\"] = \"F\"\n",
    "sasa_max.loc[\"Tyrosine\", \"Residue_code\"] = \"Y\"\n",
    "sasa_max.loc[\"Tryptophan\", \"Residue_code\"] = \"W\""
   ]
  },
  {
   "cell_type": "code",
   "execution_count": 21,
   "metadata": {
    "ExecuteTime": {
     "end_time": "2021-03-02T11:18:14.177813Z",
     "start_time": "2021-03-02T11:18:14.170895Z"
    },
    "hidden": true
   },
   "outputs": [],
   "source": [
    "sasa_max.sort_values(by=\"Residue_code\", inplace=True)"
   ]
  },
  {
   "cell_type": "code",
   "execution_count": 39,
   "metadata": {
    "ExecuteTime": {
     "end_time": "2021-03-02T11:21:31.332117Z",
     "start_time": "2021-03-02T11:21:31.108657Z"
    },
    "hidden": true
   },
   "outputs": [
    {
     "data": {
      "text/plain": [
       "Text(0, 0.5, 'SASAmax ($\\\\AA^2$)')"
      ]
     },
     "execution_count": 39,
     "metadata": {},
     "output_type": "execute_result"
    },
    {
     "data": {
      "image/png": "[encoded data removed]",
      "text/plain": [
       "<Figure size 432x288 with 1 Axes>"
      ]
     },
     "metadata": {
      "needs_background": "light"
     },
     "output_type": "display_data"
    }
   ],
   "source": [
    "sasa_max.plot.bar(x=\"Residue_code\", y=\"Tian_emp\", rot=0, legend=None, color='g')\n",
    "plt.xlabel(\"Residue\")\n",
    "plt.ylabel(\"SASAmax ($\\AA^2$)\")"
   ]
  },
  {
   "cell_type": "markdown",
   "metadata": {
    "heading_collapsed": true
   },
   "source": [
    "# Pickle SASA results"
   ]
  },
  {
   "cell_type": "code",
   "execution_count": 113,
   "metadata": {
    "ExecuteTime": {
     "end_time": "2021-03-10T14:08:52.013253Z",
     "start_time": "2021-03-10T14:08:52.011226Z"
    },
    "hidden": true
   },
   "outputs": [],
   "source": [
    "import pickle\n",
    "import glob\n",
    "import freesasa"
   ]
  },
  {
   "cell_type": "code",
   "execution_count": 42,
   "metadata": {
    "ExecuteTime": {
     "end_time": "2021-03-13T12:55:27.150702Z",
     "start_time": "2021-03-13T12:55:27.138827Z"
    },
    "hidden": true
   },
   "outputs": [
    {
     "name": "stdout",
     "output_type": "stream",
     "text": [
      "[Errno 2] No such file or directory: 'structures/kihara/for_site/'\n",
      "/Users/marco/Dropbox/Mackup/Documents/00ENS/BIBS/BISII/repo/structures/kihara/for_site\n"
     ]
    }
   ],
   "source": [
    "cd structures/kihara/for_site/"
   ]
  },
  {
   "cell_type": "code",
   "execution_count": 43,
   "metadata": {
    "ExecuteTime": {
     "end_time": "2021-03-13T12:56:28.531720Z",
     "start_time": "2021-03-13T12:56:28.518491Z"
    },
    "hidden": true
   },
   "outputs": [],
   "source": [
    "def get_sasa(pdb):\n",
    "    \"\"\"Given a pdb file, get a SASA dict that doesn't depend on freesasa\"\"\"\n",
    "    strc = freesasa.Structure(pdb)\n",
    "    out = freesasa.calc(strc)\n",
    "    dasa = out.residueAreas()\n",
    "    for ch in dasa.keys():\n",
    "        for res in dasa[ch].keys():\n",
    "            tmp = dict()\n",
    "            tmp[\"relativeTotal\"] = dasa[ch][res].relativeTotal\n",
    "            tmp[\"total\"] = dasa[ch][res].total\n",
    "            dasa[ch][res] = tmp\n",
    "    return dasa\n",
    "\n",
    "def do_pickle(pdb):\n",
    "    \"\"\"Pickle the SASA dictionary for the given pdb file\"\"\"\n",
    "    pickle.dump(get_sasa(pdb), open(pdb.replace(\"pdb\",\"pkl\"), 'wb'))"
   ]
  },
  {
   "cell_type": "code",
   "execution_count": 32,
   "metadata": {
    "ExecuteTime": {
     "end_time": "2021-03-10T14:27:26.710688Z",
     "start_time": "2021-03-10T14:27:09.396137Z"
    },
    "hidden": true
   },
   "outputs": [],
   "source": [
    "for i in glob.glob(\"*.pdb\"):\n",
    "    do_pickle(i)"
   ]
  },
  {
   "cell_type": "code",
   "execution_count": 44,
   "metadata": {
    "ExecuteTime": {
     "end_time": "2021-03-13T12:56:48.921026Z",
     "start_time": "2021-03-13T12:56:48.899245Z"
    },
    "hidden": true
   },
   "outputs": [
    {
     "ename": "FileNotFoundError",
     "evalue": "[Errno 2] No such file or directory: '1BRS_AD_c.pkl'",
     "output_type": "error",
     "traceback": [
      "\u001b[0;31m---------------------------------------------------------------------------\u001b[0m",
      "\u001b[0;31mFileNotFoundError\u001b[0m                         Traceback (most recent call last)",
      "\u001b[0;32m<ipython-input-44-a17add17c515>\u001b[0m in \u001b[0;36m<module>\u001b[0;34m\u001b[0m\n\u001b[0;32m----> 1\u001b[0;31m \u001b[0mSASA\u001b[0m \u001b[0;34m=\u001b[0m \u001b[0mpickle\u001b[0m\u001b[0;34m.\u001b[0m\u001b[0mload\u001b[0m\u001b[0;34m(\u001b[0m\u001b[0mopen\u001b[0m\u001b[0;34m(\u001b[0m\u001b[0;34m\"1BRS_AD_c.pkl\"\u001b[0m\u001b[0;34m,\u001b[0m \u001b[0;34m'rb'\u001b[0m\u001b[0;34m)\u001b[0m\u001b[0;34m)\u001b[0m\u001b[0;34m\u001b[0m\u001b[0;34m\u001b[0m\u001b[0m\n\u001b[0m\u001b[1;32m      2\u001b[0m \u001b[0mSASAS\u001b[0m\u001b[0;34m[\u001b[0m\u001b[0;34m'A'\u001b[0m\u001b[0;34m]\u001b[0m\u001b[0;34m[\u001b[0m\u001b[0;34m'3'\u001b[0m\u001b[0;34m]\u001b[0m\u001b[0;34m[\u001b[0m\u001b[0;34m'total'\u001b[0m\u001b[0;34m]\u001b[0m\u001b[0;34m\u001b[0m\u001b[0;34m\u001b[0m\u001b[0m\n",
      "\u001b[0;31mFileNotFoundError\u001b[0m: [Errno 2] No such file or directory: '1BRS_AD_c.pkl'"
     ]
    }
   ],
   "source": [
    "SASA = pickle.load(open(\"1BRS_AD_c.pkl\", 'rb'))\n",
    "SASAS['A']['3']['total']"
   ]
  }
 ],
 "metadata": {
  "kernelspec": {
   "display_name": "sci3",
   "language": "python",
   "name": "sci3"
  },
  "language_info": {
   "codemirror_mode": {
    "name": "ipython",
    "version": 3
   },
   "file_extension": ".py",
   "mimetype": "text/x-python",
   "name": "python",
   "nbconvert_exporter": "python",
   "pygments_lexer": "ipython3",
   "version": "3.9.1"
  },
  "toc": {
   "base_numbering": 1,
   "nav_menu": {},
   "number_sections": true,
   "sideBar": true,
   "skip_h1_title": false,
   "title_cell": "Table of Contents",
   "title_sidebar": "Contents",
   "toc_cell": false,
   "toc_position": {},
   "toc_section_display": true,
   "toc_window_display": false
  }
 },
 "nbformat": 4,
 "nbformat_minor": 4
}
